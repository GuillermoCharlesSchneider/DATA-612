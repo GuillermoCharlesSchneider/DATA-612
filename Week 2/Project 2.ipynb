{
  "metadata": {
    "kernelspec": {
      "name": "python",
      "display_name": "Python (Pyodide)",
      "language": "python"
    },
    "language_info": {
      "codemirror_mode": {
        "name": "python",
        "version": 3
      },
      "file_extension": ".py",
      "mimetype": "text/x-python",
      "name": "python",
      "nbconvert_exporter": "python",
      "pygments_lexer": "ipython3",
      "version": "3.8"
    }
  },
  "nbformat_minor": 5,
  "nbformat": 4,
  "cells": [
    {
      "id": "d50be23e-1ee0-4f26-9f89-2df282e5435d",
      "cell_type": "code",
      "source": "import piplite\nawait piplite.install('seaborn')",
      "metadata": {
        "trusted": true
      },
      "outputs": [],
      "execution_count": 117
    },
    {
      "id": "ccfe05c1-dfca-4a86-9291-b437e105fb0f",
      "cell_type": "code",
      "source": "import pandas as pd\nfrom sklearn.model_selection import train_test_split\nimport numpy as np\nfrom sklearn.metrics import root_mean_squared_error\nfrom sklearn.metrics.pairwise import cosine_similarity\nimport seaborn as sns\nfrom sklearn.neighbors import NearestNeighbors\nfrom sklearn import preprocessing\nfrom sklearn.neighbors import KNeighborsRegressor",
      "metadata": {
        "trusted": true,
        "tags": [],
        "editable": true,
        "slideshow": {
          "slide_type": ""
        }
      },
      "outputs": [],
      "execution_count": 483
    },
    {
      "id": "9bf3781f-c448-46b9-974c-ec0d7fb61a83",
      "cell_type": "markdown",
      "source": "# Project 2 - Joke Recommendation System",
      "metadata": {}
    },
    {
      "id": "699d7b28-e85a-4741-8abd-2bd8c397c551",
      "cell_type": "markdown",
      "source": "## Jester Joke Data\n2.5 million anonymous ratings of jokes by users of the Jester Joke Recommender System (Ken Goldberg, AUTOLab, UC Berkeley).  Values from (-10.00 to +10.00) of 100 jokes collected between April 1999 - May 2003.  Data from 24,983 users who have rated 36 or more jokes, a matrix with dimensions 24983 X 101.",
      "metadata": {}
    },
    {
      "id": "5a86e153-76d3-4f1e-81cc-d28e7b9b3b8a",
      "cell_type": "markdown",
      "source": "## Jester Joke Recommendation\n1. User-based collaborative filtering (UBCF) predicts ratings by aggregating the\nratings of users who have a similar rating history to the active user, we will use this to predict ratings of jokes a user hasn't rated yet.\n\n2. Item-based collaborative filtering (IBCF) uses item-to-item similarity based on\nuser ratings to find items that are similar to the items the active user likes, we will use this to find similar jokes to ones that a user likes.",
      "metadata": {}
    },
    {
      "id": "d9f7be72-edc5-4f11-b292-e7360454e4bd",
      "cell_type": "code",
      "source": "original_df = pd.read_csv('jester-data-1.csv')",
      "metadata": {
        "trusted": true
      },
      "outputs": [],
      "execution_count": 119
    },
    {
      "id": "00299c88-1696-4168-8fd1-3890bbe650e3",
      "cell_type": "code",
      "source": "original_df",
      "metadata": {
        "trusted": true,
        "scrolled": true
      },
      "outputs": [
        {
          "execution_count": 120,
          "output_type": "execute_result",
          "data": {
            "text/plain": "        User  Number of Jokes Rated     1     2     3     4     5     6     7  \\\n0          1                   74.0 -7.82  8.79 -9.66 -8.16 -7.52 -8.50 -9.85   \n1          2                  100.0  4.08 -0.29  6.36  4.37 -2.38 -9.66 -0.73   \n2          3                   49.0   NaN   NaN   NaN   NaN  9.03  9.27  9.03   \n3          4                   48.0   NaN  8.35   NaN   NaN  1.80  8.16 -2.82   \n4          5                   91.0  8.50  4.61 -4.17 -5.39  1.36  1.60  7.04   \n...      ...                    ...   ...   ...   ...   ...   ...   ...   ...   \n24978  24979                  100.0  0.44  7.43  9.08  2.33  3.20  6.75 -8.79   \n24979  24980                   91.0  9.13 -8.16  8.59  9.08  0.87 -8.93 -3.50   \n24980  24981                   39.0   NaN   NaN   NaN   NaN -7.77   NaN  6.70   \n24981  24982                   37.0   NaN   NaN   NaN   NaN -9.71   NaN  4.56   \n24982  24983                   72.0  2.43  2.67 -3.98  4.27 -2.28  7.33  2.33   \n\n          8  ...    91    92    93    94    95    96    97    98    99   100  \n0      4.17  ...  2.82   NaN   NaN   NaN   NaN   NaN -5.63   NaN   NaN   NaN  \n1     -5.34  ...  2.82 -4.95 -0.29  7.86 -0.19 -2.14  3.06  0.34 -4.32  1.07  \n2      9.27  ...   NaN   NaN   NaN  9.08   NaN   NaN   NaN   NaN   NaN   NaN  \n3      6.21  ...   NaN   NaN   NaN  0.53   NaN   NaN   NaN   NaN   NaN   NaN  \n4      4.61  ...  5.19  5.58  4.27  5.19  5.73  1.55  3.11  6.55  1.80  1.60  \n...     ...  ...   ...   ...   ...   ...   ...   ...   ...   ...   ...   ...  \n24978 -0.53  ...  8.83 -1.21  9.22 -6.70  8.45  9.03  6.55  8.69  8.79  7.43  \n24979  5.78  ... -1.17 -5.73 -1.46  0.24  9.22 -8.20 -7.23 -8.59  9.13  8.45  \n24980 -6.75  ...   NaN   NaN   NaN   NaN   NaN   NaN   NaN   NaN   NaN   NaN  \n24981 -8.30  ...   NaN   NaN   NaN   NaN   NaN   NaN   NaN   NaN   NaN   NaN  \n24982  4.56  ...   NaN   NaN   NaN   NaN   NaN   NaN   NaN   NaN   NaN   NaN  \n\n[24983 rows x 102 columns]",
            "text/html": "<div>\n<style scoped>\n    .dataframe tbody tr th:only-of-type {\n        vertical-align: middle;\n    }\n\n    .dataframe tbody tr th {\n        vertical-align: top;\n    }\n\n    .dataframe thead th {\n        text-align: right;\n    }\n</style>\n<table border=\"1\" class=\"dataframe\">\n  <thead>\n    <tr style=\"text-align: right;\">\n      <th></th>\n      <th>User</th>\n      <th>Number of Jokes Rated</th>\n      <th>1</th>\n      <th>2</th>\n      <th>3</th>\n      <th>4</th>\n      <th>5</th>\n      <th>6</th>\n      <th>7</th>\n      <th>8</th>\n      <th>...</th>\n      <th>91</th>\n      <th>92</th>\n      <th>93</th>\n      <th>94</th>\n      <th>95</th>\n      <th>96</th>\n      <th>97</th>\n      <th>98</th>\n      <th>99</th>\n      <th>100</th>\n    </tr>\n  </thead>\n  <tbody>\n    <tr>\n      <th>0</th>\n      <td>1</td>\n      <td>74.0</td>\n      <td>-7.82</td>\n      <td>8.79</td>\n      <td>-9.66</td>\n      <td>-8.16</td>\n      <td>-7.52</td>\n      <td>-8.50</td>\n      <td>-9.85</td>\n      <td>4.17</td>\n      <td>...</td>\n      <td>2.82</td>\n      <td>NaN</td>\n      <td>NaN</td>\n      <td>NaN</td>\n      <td>NaN</td>\n      <td>NaN</td>\n      <td>-5.63</td>\n      <td>NaN</td>\n      <td>NaN</td>\n      <td>NaN</td>\n    </tr>\n    <tr>\n      <th>1</th>\n      <td>2</td>\n      <td>100.0</td>\n      <td>4.08</td>\n      <td>-0.29</td>\n      <td>6.36</td>\n      <td>4.37</td>\n      <td>-2.38</td>\n      <td>-9.66</td>\n      <td>-0.73</td>\n      <td>-5.34</td>\n      <td>...</td>\n      <td>2.82</td>\n      <td>-4.95</td>\n      <td>-0.29</td>\n      <td>7.86</td>\n      <td>-0.19</td>\n      <td>-2.14</td>\n      <td>3.06</td>\n      <td>0.34</td>\n      <td>-4.32</td>\n      <td>1.07</td>\n    </tr>\n    <tr>\n      <th>2</th>\n      <td>3</td>\n      <td>49.0</td>\n      <td>NaN</td>\n      <td>NaN</td>\n      <td>NaN</td>\n      <td>NaN</td>\n      <td>9.03</td>\n      <td>9.27</td>\n      <td>9.03</td>\n      <td>9.27</td>\n      <td>...</td>\n      <td>NaN</td>\n      <td>NaN</td>\n      <td>NaN</td>\n      <td>9.08</td>\n      <td>NaN</td>\n      <td>NaN</td>\n      <td>NaN</td>\n      <td>NaN</td>\n      <td>NaN</td>\n      <td>NaN</td>\n    </tr>\n    <tr>\n      <th>3</th>\n      <td>4</td>\n      <td>48.0</td>\n      <td>NaN</td>\n      <td>8.35</td>\n      <td>NaN</td>\n      <td>NaN</td>\n      <td>1.80</td>\n      <td>8.16</td>\n      <td>-2.82</td>\n      <td>6.21</td>\n      <td>...</td>\n      <td>NaN</td>\n      <td>NaN</td>\n      <td>NaN</td>\n      <td>0.53</td>\n      <td>NaN</td>\n      <td>NaN</td>\n      <td>NaN</td>\n      <td>NaN</td>\n      <td>NaN</td>\n      <td>NaN</td>\n    </tr>\n    <tr>\n      <th>4</th>\n      <td>5</td>\n      <td>91.0</td>\n      <td>8.50</td>\n      <td>4.61</td>\n      <td>-4.17</td>\n      <td>-5.39</td>\n      <td>1.36</td>\n      <td>1.60</td>\n      <td>7.04</td>\n      <td>4.61</td>\n      <td>...</td>\n      <td>5.19</td>\n      <td>5.58</td>\n      <td>4.27</td>\n      <td>5.19</td>\n      <td>5.73</td>\n      <td>1.55</td>\n      <td>3.11</td>\n      <td>6.55</td>\n      <td>1.80</td>\n      <td>1.60</td>\n    </tr>\n    <tr>\n      <th>...</th>\n      <td>...</td>\n      <td>...</td>\n      <td>...</td>\n      <td>...</td>\n      <td>...</td>\n      <td>...</td>\n      <td>...</td>\n      <td>...</td>\n      <td>...</td>\n      <td>...</td>\n      <td>...</td>\n      <td>...</td>\n      <td>...</td>\n      <td>...</td>\n      <td>...</td>\n      <td>...</td>\n      <td>...</td>\n      <td>...</td>\n      <td>...</td>\n      <td>...</td>\n      <td>...</td>\n    </tr>\n    <tr>\n      <th>24978</th>\n      <td>24979</td>\n      <td>100.0</td>\n      <td>0.44</td>\n      <td>7.43</td>\n      <td>9.08</td>\n      <td>2.33</td>\n      <td>3.20</td>\n      <td>6.75</td>\n      <td>-8.79</td>\n      <td>-0.53</td>\n      <td>...</td>\n      <td>8.83</td>\n      <td>-1.21</td>\n      <td>9.22</td>\n      <td>-6.70</td>\n      <td>8.45</td>\n      <td>9.03</td>\n      <td>6.55</td>\n      <td>8.69</td>\n      <td>8.79</td>\n      <td>7.43</td>\n    </tr>\n    <tr>\n      <th>24979</th>\n      <td>24980</td>\n      <td>91.0</td>\n      <td>9.13</td>\n      <td>-8.16</td>\n      <td>8.59</td>\n      <td>9.08</td>\n      <td>0.87</td>\n      <td>-8.93</td>\n      <td>-3.50</td>\n      <td>5.78</td>\n      <td>...</td>\n      <td>-1.17</td>\n      <td>-5.73</td>\n      <td>-1.46</td>\n      <td>0.24</td>\n      <td>9.22</td>\n      <td>-8.20</td>\n      <td>-7.23</td>\n      <td>-8.59</td>\n      <td>9.13</td>\n      <td>8.45</td>\n    </tr>\n    <tr>\n      <th>24980</th>\n      <td>24981</td>\n      <td>39.0</td>\n      <td>NaN</td>\n      <td>NaN</td>\n      <td>NaN</td>\n      <td>NaN</td>\n      <td>-7.77</td>\n      <td>NaN</td>\n      <td>6.70</td>\n      <td>-6.75</td>\n      <td>...</td>\n      <td>NaN</td>\n      <td>NaN</td>\n      <td>NaN</td>\n      <td>NaN</td>\n      <td>NaN</td>\n      <td>NaN</td>\n      <td>NaN</td>\n      <td>NaN</td>\n      <td>NaN</td>\n      <td>NaN</td>\n    </tr>\n    <tr>\n      <th>24981</th>\n      <td>24982</td>\n      <td>37.0</td>\n      <td>NaN</td>\n      <td>NaN</td>\n      <td>NaN</td>\n      <td>NaN</td>\n      <td>-9.71</td>\n      <td>NaN</td>\n      <td>4.56</td>\n      <td>-8.30</td>\n      <td>...</td>\n      <td>NaN</td>\n      <td>NaN</td>\n      <td>NaN</td>\n      <td>NaN</td>\n      <td>NaN</td>\n      <td>NaN</td>\n      <td>NaN</td>\n      <td>NaN</td>\n      <td>NaN</td>\n      <td>NaN</td>\n    </tr>\n    <tr>\n      <th>24982</th>\n      <td>24983</td>\n      <td>72.0</td>\n      <td>2.43</td>\n      <td>2.67</td>\n      <td>-3.98</td>\n      <td>4.27</td>\n      <td>-2.28</td>\n      <td>7.33</td>\n      <td>2.33</td>\n      <td>4.56</td>\n      <td>...</td>\n      <td>NaN</td>\n      <td>NaN</td>\n      <td>NaN</td>\n      <td>NaN</td>\n      <td>NaN</td>\n      <td>NaN</td>\n      <td>NaN</td>\n      <td>NaN</td>\n      <td>NaN</td>\n      <td>NaN</td>\n    </tr>\n  </tbody>\n</table>\n<p>24983 rows × 102 columns</p>\n</div>"
          },
          "metadata": {}
        }
      ],
      "execution_count": 120
    },
    {
      "id": "4e9dd4ad-ebf1-468d-acf0-5883710abb19",
      "cell_type": "code",
      "source": "#I was curious about the average highest and lowest rated jokes.\naverage_joke_rating = original_df.mean()\naverage_joke_rating.sort_values()",
      "metadata": {
        "trusted": true
      },
      "outputs": [
        {
          "execution_count": 273,
          "output_type": "execute_result",
          "data": {
            "text/plain": "58                          -3.829488\n16                          -3.102162\n44                          -2.110361\n57                          -1.988866\n13                          -1.761653\n                             ...     \n36                           3.305442\n89                           3.567784\n50                           3.659654\nNumber of Jokes Rated       72.381174\nUser                     12492.000000\nLength: 102, dtype: float64"
          },
          "metadata": {}
        }
      ],
      "execution_count": 273
    },
    {
      "id": "64731c07-f459-4c87-9908-0e87fffeaa65",
      "cell_type": "markdown",
      "source": "#### Highest Average Rated Joke 50 (3.659654):\n'A guy goes into confession and says to the priest, \"Father, I'm 80 years old, widower, with 11 grandchildren. Last night I met two beautiful flight attendants. They took me home and I made love to both of them. Twice.\"\nThe priest said: \"Well, my son, when was the last time you were in confession?\"\n\"Never Father, I'm Jewish.\"\n\"So then, why are you telling me?\"\n\"I'm telling everybody.\"'",
      "metadata": {}
    },
    {
      "id": "a210d68a-95ca-4cde-85ea-a27b6d45b94a",
      "cell_type": "markdown",
      "source": "#### Lowest Average Rated Joke 58 (-3.829488):\nHow many teddybears does it take to change a lightbulb?\nIt takes only one teddybear, but it takes a whole lot of lightbulbs.",
      "metadata": {}
    },
    {
      "id": "9f36afe8-2519-4583-8697-97e21e43cdcb",
      "cell_type": "markdown",
      "source": "## Part 1:  User-User Collaborative Filtering",
      "metadata": {}
    },
    {
      "id": "cf7d1e94-b763-4dad-a75e-750e4a0d94fb",
      "cell_type": "markdown",
      "source": "User-based collaborative filtering (UBCF) predicts ratings by aggregating the ratings of users who have a similar rating history to the active user, we will use this to predict ratings of jokes a user hasn't rated yet.",
      "metadata": {}
    },
    {
      "id": "ac346054-4130-400c-a417-29f25f9600e4",
      "cell_type": "markdown",
      "source": "## Dense Submatrix\nThe sub-matrix including only columns {5, 7, 8, 13, 15, 16, 17, 18, 19, 20} is dense. Almost all users have rated those jokes. We can use this subset of the data with no sparsness issues to find users that are most similar to each other with cosine similarity which doesn't work with the NANs in the rest of the dataset.",
      "metadata": {}
    },
    {
      "id": "3009435c-b077-4dd8-a24e-19d4e1d2bfc8",
      "cell_type": "code",
      "source": "dense = original_df[[\"5\",\"7\",\"8\",\"13\",\"15\",\"16\",\"17\",\"18\",\"19\",\"20\"]]\ndense = pd.DataFrame(dense.fillna(0))\ndense",
      "metadata": {
        "trusted": true
      },
      "outputs": [
        {
          "execution_count": 123,
          "output_type": "execute_result",
          "data": {
            "text/plain": "          5     7     8    13    15    16    17    18    19    20\n0     -7.52 -9.85  4.17 -7.18 -7.18 -7.52 -7.43 -9.81 -9.85 -9.85\n1     -2.38 -0.73 -5.34  4.42  4.56 -0.97  4.66 -0.68  3.30 -1.21\n2      9.03  9.03  9.27  9.37 -6.36 -6.89 -7.86  9.03  9.03  9.03\n3      1.80 -2.82  6.21  6.31 -7.23 -6.65  1.17 -6.60 -3.64 -2.09\n4      1.36  7.04  4.61 -3.93 -2.33 -9.66  2.72 -1.36  2.57  4.51\n...     ...   ...   ...   ...   ...   ...   ...   ...   ...   ...\n24978  3.20 -8.79 -0.53 -7.14 -3.50 -8.20 -3.98 -9.22 -0.15 -6.46\n24979  0.87 -3.50  5.78 -7.48 -1.75  6.60  3.54  1.50  7.67 -0.44\n24980 -7.77  6.70 -6.75 -6.46 -6.80 -6.41 -6.00  7.23  6.75 -6.00\n24981 -9.71  4.56 -8.30 -9.47  3.45 -0.92 -4.51 -4.13 -5.73 -9.51\n24982 -2.28  2.33  4.56 -8.20 -8.83 -7.77  5.49  1.36 -9.32  7.04\n\n[24983 rows x 10 columns]",
            "text/html": "<div>\n<style scoped>\n    .dataframe tbody tr th:only-of-type {\n        vertical-align: middle;\n    }\n\n    .dataframe tbody tr th {\n        vertical-align: top;\n    }\n\n    .dataframe thead th {\n        text-align: right;\n    }\n</style>\n<table border=\"1\" class=\"dataframe\">\n  <thead>\n    <tr style=\"text-align: right;\">\n      <th></th>\n      <th>5</th>\n      <th>7</th>\n      <th>8</th>\n      <th>13</th>\n      <th>15</th>\n      <th>16</th>\n      <th>17</th>\n      <th>18</th>\n      <th>19</th>\n      <th>20</th>\n    </tr>\n  </thead>\n  <tbody>\n    <tr>\n      <th>0</th>\n      <td>-7.52</td>\n      <td>-9.85</td>\n      <td>4.17</td>\n      <td>-7.18</td>\n      <td>-7.18</td>\n      <td>-7.52</td>\n      <td>-7.43</td>\n      <td>-9.81</td>\n      <td>-9.85</td>\n      <td>-9.85</td>\n    </tr>\n    <tr>\n      <th>1</th>\n      <td>-2.38</td>\n      <td>-0.73</td>\n      <td>-5.34</td>\n      <td>4.42</td>\n      <td>4.56</td>\n      <td>-0.97</td>\n      <td>4.66</td>\n      <td>-0.68</td>\n      <td>3.30</td>\n      <td>-1.21</td>\n    </tr>\n    <tr>\n      <th>2</th>\n      <td>9.03</td>\n      <td>9.03</td>\n      <td>9.27</td>\n      <td>9.37</td>\n      <td>-6.36</td>\n      <td>-6.89</td>\n      <td>-7.86</td>\n      <td>9.03</td>\n      <td>9.03</td>\n      <td>9.03</td>\n    </tr>\n    <tr>\n      <th>3</th>\n      <td>1.80</td>\n      <td>-2.82</td>\n      <td>6.21</td>\n      <td>6.31</td>\n      <td>-7.23</td>\n      <td>-6.65</td>\n      <td>1.17</td>\n      <td>-6.60</td>\n      <td>-3.64</td>\n      <td>-2.09</td>\n    </tr>\n    <tr>\n      <th>4</th>\n      <td>1.36</td>\n      <td>7.04</td>\n      <td>4.61</td>\n      <td>-3.93</td>\n      <td>-2.33</td>\n      <td>-9.66</td>\n      <td>2.72</td>\n      <td>-1.36</td>\n      <td>2.57</td>\n      <td>4.51</td>\n    </tr>\n    <tr>\n      <th>...</th>\n      <td>...</td>\n      <td>...</td>\n      <td>...</td>\n      <td>...</td>\n      <td>...</td>\n      <td>...</td>\n      <td>...</td>\n      <td>...</td>\n      <td>...</td>\n      <td>...</td>\n    </tr>\n    <tr>\n      <th>24978</th>\n      <td>3.20</td>\n      <td>-8.79</td>\n      <td>-0.53</td>\n      <td>-7.14</td>\n      <td>-3.50</td>\n      <td>-8.20</td>\n      <td>-3.98</td>\n      <td>-9.22</td>\n      <td>-0.15</td>\n      <td>-6.46</td>\n    </tr>\n    <tr>\n      <th>24979</th>\n      <td>0.87</td>\n      <td>-3.50</td>\n      <td>5.78</td>\n      <td>-7.48</td>\n      <td>-1.75</td>\n      <td>6.60</td>\n      <td>3.54</td>\n      <td>1.50</td>\n      <td>7.67</td>\n      <td>-0.44</td>\n    </tr>\n    <tr>\n      <th>24980</th>\n      <td>-7.77</td>\n      <td>6.70</td>\n      <td>-6.75</td>\n      <td>-6.46</td>\n      <td>-6.80</td>\n      <td>-6.41</td>\n      <td>-6.00</td>\n      <td>7.23</td>\n      <td>6.75</td>\n      <td>-6.00</td>\n    </tr>\n    <tr>\n      <th>24981</th>\n      <td>-9.71</td>\n      <td>4.56</td>\n      <td>-8.30</td>\n      <td>-9.47</td>\n      <td>3.45</td>\n      <td>-0.92</td>\n      <td>-4.51</td>\n      <td>-4.13</td>\n      <td>-5.73</td>\n      <td>-9.51</td>\n    </tr>\n    <tr>\n      <th>24982</th>\n      <td>-2.28</td>\n      <td>2.33</td>\n      <td>4.56</td>\n      <td>-8.20</td>\n      <td>-8.83</td>\n      <td>-7.77</td>\n      <td>5.49</td>\n      <td>1.36</td>\n      <td>-9.32</td>\n      <td>7.04</td>\n    </tr>\n  </tbody>\n</table>\n<p>24983 rows × 10 columns</p>\n</div>"
          },
          "metadata": {}
        }
      ],
      "execution_count": 123
    },
    {
      "id": "609a9393-8327-4df7-a477-5845840163d2",
      "cell_type": "markdown",
      "source": "We split the data into test and train not be able to test the model's performance after it has been trained, but also because the full 25k users was too large for the cosine similarity",
      "metadata": {}
    },
    {
      "id": "7e6ac50b-75ad-42f2-92e9-c82b69bf2560",
      "cell_type": "code",
      "source": "train_data, test_data = train_test_split(dense, test_size=0.2, random_state=30)",
      "metadata": {
        "trusted": true
      },
      "outputs": [],
      "execution_count": 124
    },
    {
      "id": "c6dc1c8d-a08f-4af3-8147-d18feb8e17c9",
      "cell_type": "code",
      "source": "df = pd.melt(original_df.drop(columns=['Number of Jokes Rated']), id_vars=['User'])\ndf = pd.DataFrame(df)\ndf = df.rename(columns={\"User\": \"user_id\", \"variable\": \"item_id\", \"value\":\"rating\"})\ndf",
      "metadata": {
        "trusted": true
      },
      "outputs": [
        {
          "execution_count": 125,
          "output_type": "execute_result",
          "data": {
            "text/plain": "         user_id item_id  rating\n0              1       1   -7.82\n1              2       1    4.08\n2              3       1     NaN\n3              4       1     NaN\n4              5       1    8.50\n...          ...     ...     ...\n2498295    24979     100    7.43\n2498296    24980     100    8.45\n2498297    24981     100     NaN\n2498298    24982     100     NaN\n2498299    24983     100     NaN\n\n[2498300 rows x 3 columns]",
            "text/html": "<div>\n<style scoped>\n    .dataframe tbody tr th:only-of-type {\n        vertical-align: middle;\n    }\n\n    .dataframe tbody tr th {\n        vertical-align: top;\n    }\n\n    .dataframe thead th {\n        text-align: right;\n    }\n</style>\n<table border=\"1\" class=\"dataframe\">\n  <thead>\n    <tr style=\"text-align: right;\">\n      <th></th>\n      <th>user_id</th>\n      <th>item_id</th>\n      <th>rating</th>\n    </tr>\n  </thead>\n  <tbody>\n    <tr>\n      <th>0</th>\n      <td>1</td>\n      <td>1</td>\n      <td>-7.82</td>\n    </tr>\n    <tr>\n      <th>1</th>\n      <td>2</td>\n      <td>1</td>\n      <td>4.08</td>\n    </tr>\n    <tr>\n      <th>2</th>\n      <td>3</td>\n      <td>1</td>\n      <td>NaN</td>\n    </tr>\n    <tr>\n      <th>3</th>\n      <td>4</td>\n      <td>1</td>\n      <td>NaN</td>\n    </tr>\n    <tr>\n      <th>4</th>\n      <td>5</td>\n      <td>1</td>\n      <td>8.50</td>\n    </tr>\n    <tr>\n      <th>...</th>\n      <td>...</td>\n      <td>...</td>\n      <td>...</td>\n    </tr>\n    <tr>\n      <th>2498295</th>\n      <td>24979</td>\n      <td>100</td>\n      <td>7.43</td>\n    </tr>\n    <tr>\n      <th>2498296</th>\n      <td>24980</td>\n      <td>100</td>\n      <td>8.45</td>\n    </tr>\n    <tr>\n      <th>2498297</th>\n      <td>24981</td>\n      <td>100</td>\n      <td>NaN</td>\n    </tr>\n    <tr>\n      <th>2498298</th>\n      <td>24982</td>\n      <td>100</td>\n      <td>NaN</td>\n    </tr>\n    <tr>\n      <th>2498299</th>\n      <td>24983</td>\n      <td>100</td>\n      <td>NaN</td>\n    </tr>\n  </tbody>\n</table>\n<p>2498300 rows × 3 columns</p>\n</div>"
          },
          "metadata": {}
        }
      ],
      "execution_count": 125
    },
    {
      "id": "4ee95c35-76c7-4f93-9eea-d5fdc62ca11a",
      "cell_type": "code",
      "source": "test_data",
      "metadata": {
        "trusted": true
      },
      "outputs": [
        {
          "execution_count": 126,
          "output_type": "execute_result",
          "data": {
            "text/plain": "          5     7     8    13    15    16    17    18    19    20\n20323 -7.28  1.31  1.84 -4.56 -4.51 -1.60 -4.90 -4.08 -7.91 -2.18\n13070 -1.17 -4.76 -3.30 -6.46 -5.49 -5.19 -7.14 -3.01 -2.57 -2.96\n9541   6.21  2.57 -9.32 -9.13 -9.03 -5.34 -1.17  0.00 -9.51 -0.58\n17507  4.17 -0.49 -7.77 -5.44 -8.98 -0.29 -5.15  1.46  0.63  4.22\n12453 -0.63  3.83  3.69 -1.17 -5.29 -5.29  2.14  0.97  5.68  8.20\n...     ...   ...   ...   ...   ...   ...   ...   ...   ...   ...\n21183 -3.20 -0.44  4.61 -0.29  1.02  4.17 -4.90  5.44  0.78  3.35\n3292  -0.34 -5.49 -3.98 -0.44  5.15 -6.21 -7.43  1.50  2.48 -7.62\n11461  0.10  0.39 -3.25  2.04 -6.02 -4.03  2.33 -0.29 -1.26 -4.27\n20883 -2.91  0.73  2.28 -3.74 -2.62  5.29 -7.28  8.74 -8.25 -8.40\n11427  0.97  1.07 -5.44 -5.53 -8.50 -6.36  1.94 -2.86 -0.53  2.18\n\n[4997 rows x 10 columns]",
            "text/html": "<div>\n<style scoped>\n    .dataframe tbody tr th:only-of-type {\n        vertical-align: middle;\n    }\n\n    .dataframe tbody tr th {\n        vertical-align: top;\n    }\n\n    .dataframe thead th {\n        text-align: right;\n    }\n</style>\n<table border=\"1\" class=\"dataframe\">\n  <thead>\n    <tr style=\"text-align: right;\">\n      <th></th>\n      <th>5</th>\n      <th>7</th>\n      <th>8</th>\n      <th>13</th>\n      <th>15</th>\n      <th>16</th>\n      <th>17</th>\n      <th>18</th>\n      <th>19</th>\n      <th>20</th>\n    </tr>\n  </thead>\n  <tbody>\n    <tr>\n      <th>20323</th>\n      <td>-7.28</td>\n      <td>1.31</td>\n      <td>1.84</td>\n      <td>-4.56</td>\n      <td>-4.51</td>\n      <td>-1.60</td>\n      <td>-4.90</td>\n      <td>-4.08</td>\n      <td>-7.91</td>\n      <td>-2.18</td>\n    </tr>\n    <tr>\n      <th>13070</th>\n      <td>-1.17</td>\n      <td>-4.76</td>\n      <td>-3.30</td>\n      <td>-6.46</td>\n      <td>-5.49</td>\n      <td>-5.19</td>\n      <td>-7.14</td>\n      <td>-3.01</td>\n      <td>-2.57</td>\n      <td>-2.96</td>\n    </tr>\n    <tr>\n      <th>9541</th>\n      <td>6.21</td>\n      <td>2.57</td>\n      <td>-9.32</td>\n      <td>-9.13</td>\n      <td>-9.03</td>\n      <td>-5.34</td>\n      <td>-1.17</td>\n      <td>0.00</td>\n      <td>-9.51</td>\n      <td>-0.58</td>\n    </tr>\n    <tr>\n      <th>17507</th>\n      <td>4.17</td>\n      <td>-0.49</td>\n      <td>-7.77</td>\n      <td>-5.44</td>\n      <td>-8.98</td>\n      <td>-0.29</td>\n      <td>-5.15</td>\n      <td>1.46</td>\n      <td>0.63</td>\n      <td>4.22</td>\n    </tr>\n    <tr>\n      <th>12453</th>\n      <td>-0.63</td>\n      <td>3.83</td>\n      <td>3.69</td>\n      <td>-1.17</td>\n      <td>-5.29</td>\n      <td>-5.29</td>\n      <td>2.14</td>\n      <td>0.97</td>\n      <td>5.68</td>\n      <td>8.20</td>\n    </tr>\n    <tr>\n      <th>...</th>\n      <td>...</td>\n      <td>...</td>\n      <td>...</td>\n      <td>...</td>\n      <td>...</td>\n      <td>...</td>\n      <td>...</td>\n      <td>...</td>\n      <td>...</td>\n      <td>...</td>\n    </tr>\n    <tr>\n      <th>21183</th>\n      <td>-3.20</td>\n      <td>-0.44</td>\n      <td>4.61</td>\n      <td>-0.29</td>\n      <td>1.02</td>\n      <td>4.17</td>\n      <td>-4.90</td>\n      <td>5.44</td>\n      <td>0.78</td>\n      <td>3.35</td>\n    </tr>\n    <tr>\n      <th>3292</th>\n      <td>-0.34</td>\n      <td>-5.49</td>\n      <td>-3.98</td>\n      <td>-0.44</td>\n      <td>5.15</td>\n      <td>-6.21</td>\n      <td>-7.43</td>\n      <td>1.50</td>\n      <td>2.48</td>\n      <td>-7.62</td>\n    </tr>\n    <tr>\n      <th>11461</th>\n      <td>0.10</td>\n      <td>0.39</td>\n      <td>-3.25</td>\n      <td>2.04</td>\n      <td>-6.02</td>\n      <td>-4.03</td>\n      <td>2.33</td>\n      <td>-0.29</td>\n      <td>-1.26</td>\n      <td>-4.27</td>\n    </tr>\n    <tr>\n      <th>20883</th>\n      <td>-2.91</td>\n      <td>0.73</td>\n      <td>2.28</td>\n      <td>-3.74</td>\n      <td>-2.62</td>\n      <td>5.29</td>\n      <td>-7.28</td>\n      <td>8.74</td>\n      <td>-8.25</td>\n      <td>-8.40</td>\n    </tr>\n    <tr>\n      <th>11427</th>\n      <td>0.97</td>\n      <td>1.07</td>\n      <td>-5.44</td>\n      <td>-5.53</td>\n      <td>-8.50</td>\n      <td>-6.36</td>\n      <td>1.94</td>\n      <td>-2.86</td>\n      <td>-0.53</td>\n      <td>2.18</td>\n    </tr>\n  </tbody>\n</table>\n<p>4997 rows × 10 columns</p>\n</div>"
          },
          "metadata": {}
        }
      ],
      "execution_count": 126
    },
    {
      "id": "134aa217-e9a4-4dbc-a750-bbdab8d8d4c8",
      "cell_type": "markdown",
      "source": "### Normalizing\nAn important operation for rating matrices is to normalize the entries to, e.g., centering to remove rating bias by subtracting the row mean from all ratings in the row. Normalization is used to remove\nindividual rating bias by users who consistently always use lower or higher ratings than other users.",
      "metadata": {}
    },
    {
      "id": "8b7675d5-1d37-4437-9d65-97967ba6f6e8",
      "cell_type": "code",
      "source": "normalized_test_data = test_data.sub(test_data.mean(axis=1), axis=0)",
      "metadata": {
        "trusted": true
      },
      "outputs": [],
      "execution_count": 363
    },
    {
      "id": "c89a6cc7-adab-4c62-9171-8727bad69659",
      "cell_type": "markdown",
      "source": "### Cosine Similairty:\nThe cosine of an angle is a function that decreases from 1 to -1 as the angle increases from 0 to 180. You can use the cosine of the angle to find the similarity between two users. The higher the angle, the lower will be the cosine and thus, the lower will be the similarity of the users. You can also inverse the value of the cosine of the angle to get the cosine distance between the users by subtracting it from 1.",
      "metadata": {}
    },
    {
      "id": "0c24a4e0-06c6-44a2-9555-12c1aac77365",
      "cell_type": "code",
      "source": "user_similarity = cosine_similarity(normalized_test_data)\nuser_similarity_df = pd.DataFrame(user_similarity)\n\n#reset the index's back to the tes data user_ids rather than 0-4996 that cosine defaults to\nuser_similarity_df.index = test_data.index\nuser_similarity_df.columns = test_data.index\n\nuser_similarity_df",
      "metadata": {
        "trusted": true
      },
      "outputs": [
        {
          "execution_count": 364,
          "output_type": "execute_result",
          "data": {
            "text/plain": "          20323     13070     9541      17507     12453     16257     10646  \\\n20323  1.000000 -0.174014 -0.032529 -0.245401  0.138158 -0.078647  0.270267   \n13070 -0.174014  1.000000  0.345352  0.654343  0.375232  0.464011  0.007803   \n9541  -0.032529  0.345352  1.000000  0.673484  0.175026  0.339046  0.402808   \n17507 -0.245401  0.654343  0.673484  1.000000  0.380638  0.354099 -0.170616   \n12453  0.138158  0.375232  0.175026  0.380638  1.000000 -0.055952 -0.075510   \n...         ...       ...       ...       ...       ...       ...       ...   \n21183  0.454403  0.279941 -0.338409  0.059289  0.030437  0.216374 -0.406622   \n3292  -0.544786  0.222041 -0.336580 -0.204289 -0.362291 -0.083880 -0.187829   \n11461 -0.255114 -0.213227  0.347260  0.108775  0.177472 -0.376513  0.525395   \n20883  0.444006  0.073349  0.090044 -0.027133 -0.431025  0.043227  0.238167   \n11427 -0.160591  0.296008  0.698239  0.642221  0.720544  0.030726  0.136311   \n\n          3928      1613      11631  ...     17133     734       22966  \\\n20323  0.456220 -0.293020 -0.510260  ...  0.266096  0.368027 -0.765907   \n13070 -0.232312  0.014889  0.073767  ...  0.217848  0.309122  0.438723   \n9541  -0.183547 -0.052201  0.300799  ...  0.345403  0.255020  0.182304   \n17507 -0.329160 -0.098483  0.481919  ...  0.107157 -0.221736  0.315055   \n12453  0.627140  0.184744  0.009841  ...  0.460636  0.154545 -0.153233   \n...         ...       ...       ...  ...       ...       ...       ...   \n21183 -0.156277 -0.200664 -0.463246  ... -0.108533 -0.071006 -0.219598   \n3292  -0.462486  0.605142 -0.259622  ... -0.554058  0.130248  0.660953   \n11461  0.082859  0.384894  0.471526  ...  0.094309  0.104933  0.188799   \n20883 -0.376502 -0.082150 -0.227286  ... -0.220622  0.240136 -0.176439   \n11427  0.339572  0.104938  0.460430  ...  0.422031  0.048432  0.030265   \n\n          4044      7022      21183     3292      11461     20883     11427  \n20323  0.084974 -0.243858  0.454403 -0.544786 -0.255114  0.444006 -0.160591  \n13070  0.478874  0.635508  0.279941  0.222041 -0.213227  0.073349  0.296008  \n9541   0.543859  0.409106 -0.338409 -0.336580  0.347260  0.090044  0.698239  \n17507  0.692172  0.362233  0.059289 -0.204289  0.108775 -0.027133  0.642221  \n12453  0.801147 -0.260990  0.030437 -0.362291  0.177472 -0.431025  0.720544  \n...         ...       ...       ...       ...       ...       ...       ...  \n21183  0.040452 -0.085715  1.000000  0.066554 -0.600922  0.591772 -0.465909  \n3292  -0.271847  0.310137  0.066554  1.000000 -0.142202  0.075324 -0.468433  \n11461  0.139791 -0.004969 -0.600922 -0.142202  1.000000 -0.113568  0.474407  \n20883 -0.178488  0.182832  0.591772  0.075324 -0.113568  1.000000 -0.464082  \n11427  0.794934 -0.028375 -0.465909 -0.468433  0.474407 -0.464082  1.000000  \n\n[4997 rows x 4997 columns]",
            "text/html": "<div>\n<style scoped>\n    .dataframe tbody tr th:only-of-type {\n        vertical-align: middle;\n    }\n\n    .dataframe tbody tr th {\n        vertical-align: top;\n    }\n\n    .dataframe thead th {\n        text-align: right;\n    }\n</style>\n<table border=\"1\" class=\"dataframe\">\n  <thead>\n    <tr style=\"text-align: right;\">\n      <th></th>\n      <th>20323</th>\n      <th>13070</th>\n      <th>9541</th>\n      <th>17507</th>\n      <th>12453</th>\n      <th>16257</th>\n      <th>10646</th>\n      <th>3928</th>\n      <th>1613</th>\n      <th>11631</th>\n      <th>...</th>\n      <th>17133</th>\n      <th>734</th>\n      <th>22966</th>\n      <th>4044</th>\n      <th>7022</th>\n      <th>21183</th>\n      <th>3292</th>\n      <th>11461</th>\n      <th>20883</th>\n      <th>11427</th>\n    </tr>\n  </thead>\n  <tbody>\n    <tr>\n      <th>20323</th>\n      <td>1.000000</td>\n      <td>-0.174014</td>\n      <td>-0.032529</td>\n      <td>-0.245401</td>\n      <td>0.138158</td>\n      <td>-0.078647</td>\n      <td>0.270267</td>\n      <td>0.456220</td>\n      <td>-0.293020</td>\n      <td>-0.510260</td>\n      <td>...</td>\n      <td>0.266096</td>\n      <td>0.368027</td>\n      <td>-0.765907</td>\n      <td>0.084974</td>\n      <td>-0.243858</td>\n      <td>0.454403</td>\n      <td>-0.544786</td>\n      <td>-0.255114</td>\n      <td>0.444006</td>\n      <td>-0.160591</td>\n    </tr>\n    <tr>\n      <th>13070</th>\n      <td>-0.174014</td>\n      <td>1.000000</td>\n      <td>0.345352</td>\n      <td>0.654343</td>\n      <td>0.375232</td>\n      <td>0.464011</td>\n      <td>0.007803</td>\n      <td>-0.232312</td>\n      <td>0.014889</td>\n      <td>0.073767</td>\n      <td>...</td>\n      <td>0.217848</td>\n      <td>0.309122</td>\n      <td>0.438723</td>\n      <td>0.478874</td>\n      <td>0.635508</td>\n      <td>0.279941</td>\n      <td>0.222041</td>\n      <td>-0.213227</td>\n      <td>0.073349</td>\n      <td>0.296008</td>\n    </tr>\n    <tr>\n      <th>9541</th>\n      <td>-0.032529</td>\n      <td>0.345352</td>\n      <td>1.000000</td>\n      <td>0.673484</td>\n      <td>0.175026</td>\n      <td>0.339046</td>\n      <td>0.402808</td>\n      <td>-0.183547</td>\n      <td>-0.052201</td>\n      <td>0.300799</td>\n      <td>...</td>\n      <td>0.345403</td>\n      <td>0.255020</td>\n      <td>0.182304</td>\n      <td>0.543859</td>\n      <td>0.409106</td>\n      <td>-0.338409</td>\n      <td>-0.336580</td>\n      <td>0.347260</td>\n      <td>0.090044</td>\n      <td>0.698239</td>\n    </tr>\n    <tr>\n      <th>17507</th>\n      <td>-0.245401</td>\n      <td>0.654343</td>\n      <td>0.673484</td>\n      <td>1.000000</td>\n      <td>0.380638</td>\n      <td>0.354099</td>\n      <td>-0.170616</td>\n      <td>-0.329160</td>\n      <td>-0.098483</td>\n      <td>0.481919</td>\n      <td>...</td>\n      <td>0.107157</td>\n      <td>-0.221736</td>\n      <td>0.315055</td>\n      <td>0.692172</td>\n      <td>0.362233</td>\n      <td>0.059289</td>\n      <td>-0.204289</td>\n      <td>0.108775</td>\n      <td>-0.027133</td>\n      <td>0.642221</td>\n    </tr>\n    <tr>\n      <th>12453</th>\n      <td>0.138158</td>\n      <td>0.375232</td>\n      <td>0.175026</td>\n      <td>0.380638</td>\n      <td>1.000000</td>\n      <td>-0.055952</td>\n      <td>-0.075510</td>\n      <td>0.627140</td>\n      <td>0.184744</td>\n      <td>0.009841</td>\n      <td>...</td>\n      <td>0.460636</td>\n      <td>0.154545</td>\n      <td>-0.153233</td>\n      <td>0.801147</td>\n      <td>-0.260990</td>\n      <td>0.030437</td>\n      <td>-0.362291</td>\n      <td>0.177472</td>\n      <td>-0.431025</td>\n      <td>0.720544</td>\n    </tr>\n    <tr>\n      <th>...</th>\n      <td>...</td>\n      <td>...</td>\n      <td>...</td>\n      <td>...</td>\n      <td>...</td>\n      <td>...</td>\n      <td>...</td>\n      <td>...</td>\n      <td>...</td>\n      <td>...</td>\n      <td>...</td>\n      <td>...</td>\n      <td>...</td>\n      <td>...</td>\n      <td>...</td>\n      <td>...</td>\n      <td>...</td>\n      <td>...</td>\n      <td>...</td>\n      <td>...</td>\n      <td>...</td>\n    </tr>\n    <tr>\n      <th>21183</th>\n      <td>0.454403</td>\n      <td>0.279941</td>\n      <td>-0.338409</td>\n      <td>0.059289</td>\n      <td>0.030437</td>\n      <td>0.216374</td>\n      <td>-0.406622</td>\n      <td>-0.156277</td>\n      <td>-0.200664</td>\n      <td>-0.463246</td>\n      <td>...</td>\n      <td>-0.108533</td>\n      <td>-0.071006</td>\n      <td>-0.219598</td>\n      <td>0.040452</td>\n      <td>-0.085715</td>\n      <td>1.000000</td>\n      <td>0.066554</td>\n      <td>-0.600922</td>\n      <td>0.591772</td>\n      <td>-0.465909</td>\n    </tr>\n    <tr>\n      <th>3292</th>\n      <td>-0.544786</td>\n      <td>0.222041</td>\n      <td>-0.336580</td>\n      <td>-0.204289</td>\n      <td>-0.362291</td>\n      <td>-0.083880</td>\n      <td>-0.187829</td>\n      <td>-0.462486</td>\n      <td>0.605142</td>\n      <td>-0.259622</td>\n      <td>...</td>\n      <td>-0.554058</td>\n      <td>0.130248</td>\n      <td>0.660953</td>\n      <td>-0.271847</td>\n      <td>0.310137</td>\n      <td>0.066554</td>\n      <td>1.000000</td>\n      <td>-0.142202</td>\n      <td>0.075324</td>\n      <td>-0.468433</td>\n    </tr>\n    <tr>\n      <th>11461</th>\n      <td>-0.255114</td>\n      <td>-0.213227</td>\n      <td>0.347260</td>\n      <td>0.108775</td>\n      <td>0.177472</td>\n      <td>-0.376513</td>\n      <td>0.525395</td>\n      <td>0.082859</td>\n      <td>0.384894</td>\n      <td>0.471526</td>\n      <td>...</td>\n      <td>0.094309</td>\n      <td>0.104933</td>\n      <td>0.188799</td>\n      <td>0.139791</td>\n      <td>-0.004969</td>\n      <td>-0.600922</td>\n      <td>-0.142202</td>\n      <td>1.000000</td>\n      <td>-0.113568</td>\n      <td>0.474407</td>\n    </tr>\n    <tr>\n      <th>20883</th>\n      <td>0.444006</td>\n      <td>0.073349</td>\n      <td>0.090044</td>\n      <td>-0.027133</td>\n      <td>-0.431025</td>\n      <td>0.043227</td>\n      <td>0.238167</td>\n      <td>-0.376502</td>\n      <td>-0.082150</td>\n      <td>-0.227286</td>\n      <td>...</td>\n      <td>-0.220622</td>\n      <td>0.240136</td>\n      <td>-0.176439</td>\n      <td>-0.178488</td>\n      <td>0.182832</td>\n      <td>0.591772</td>\n      <td>0.075324</td>\n      <td>-0.113568</td>\n      <td>1.000000</td>\n      <td>-0.464082</td>\n    </tr>\n    <tr>\n      <th>11427</th>\n      <td>-0.160591</td>\n      <td>0.296008</td>\n      <td>0.698239</td>\n      <td>0.642221</td>\n      <td>0.720544</td>\n      <td>0.030726</td>\n      <td>0.136311</td>\n      <td>0.339572</td>\n      <td>0.104938</td>\n      <td>0.460430</td>\n      <td>...</td>\n      <td>0.422031</td>\n      <td>0.048432</td>\n      <td>0.030265</td>\n      <td>0.794934</td>\n      <td>-0.028375</td>\n      <td>-0.465909</td>\n      <td>-0.468433</td>\n      <td>0.474407</td>\n      <td>-0.464082</td>\n      <td>1.000000</td>\n    </tr>\n  </tbody>\n</table>\n<p>4997 rows × 4997 columns</p>\n</div>"
          },
          "metadata": {}
        }
      ],
      "execution_count": 364
    },
    {
      "id": "1f560cf3-dbe0-4d59-9290-5f995cda9e6a",
      "cell_type": "markdown",
      "source": "### Heat Map of the First 10 user cosine similarities\nGreen is closer to 1, there is more similarity among their joke ratings. Red is closer to -1, there is less similarity among their joke ratings. I tried to create it for the whole df but the visual was not very readable. ",
      "metadata": {}
    },
    {
      "id": "b048cb06-a448-4089-a072-7a58b0b7f0af",
      "cell_type": "code",
      "source": "heatmap_sns = sns.heatmap(user_similarity_df.iloc[:,:10].head(10),cmap='RdYlGn')",
      "metadata": {
        "trusted": true,
        "tags": [],
        "editable": true,
        "slideshow": {
          "slide_type": ""
        }
      },
      "outputs": [
        {
          "output_type": "display_data",
          "data": {
            "text/plain": "<Figure size 640x480 with 2 Axes>",
            "image/png": "[encoded data removed]"
          },
          "metadata": {}
        }
      ],
      "execution_count": 365
    },
    {
      "id": "30050045-2ae7-4c65-91a1-e3c0fd7b79e8",
      "cell_type": "markdown",
      "source": "### Closest Cosine Similarity Neighbors\nSorting and showing the users with the closest top 10 cosine similarity of each user. We can assume these are users that rate jokes similarily.",
      "metadata": {}
    },
    {
      "id": "1b3ab6d2-ffcd-4bcd-bf1b-04171165c97b",
      "cell_type": "code",
      "source": "def find_n_neighbours(df,n):\n    order = np.argsort(df.values, axis=1)[:, :n]\n    df = df.apply(lambda x: pd.Series(x.sort_values(ascending=False)\n           .iloc[1:n+1].index, \n          index=['top{}'.format(i) for i in range(1, n+1)]), axis=1)\n    return df",
      "metadata": {
        "trusted": true
      },
      "outputs": [],
      "execution_count": 454
    },
    {
      "id": "54184853-1660-4afa-8a9b-41796aa3d527",
      "cell_type": "code",
      "source": "# top 10 neighbours for each user\ntop_10_user_similarity = find_n_neighbours(user_similarity_df,10)\ntop_10_user_similarity.head()",
      "metadata": {
        "trusted": true
      },
      "outputs": [
        {
          "execution_count": 455,
          "output_type": "execute_result",
          "data": {
            "text/plain": "        top1   top2   top3   top4   top5   top6   top7   top8   top9  top10\n20323   8802   2504   5045  22213   9955   2532  22551   5351  11268    775\n13070   5603  10139  17703  19778  16442  23423  10677  16180   8750  10877\n9541   23027     98  11666  21792   8233  15310  16917  17927   2682  20200\n17507  15148  12785   6702   5575  22875   5817  14974   9109  20304  13409\n12453  13355  16432   4705   5329  11890   2342  10016  14055   9556    794",
            "text/html": "<div>\n<style scoped>\n    .dataframe tbody tr th:only-of-type {\n        vertical-align: middle;\n    }\n\n    .dataframe tbody tr th {\n        vertical-align: top;\n    }\n\n    .dataframe thead th {\n        text-align: right;\n    }\n</style>\n<table border=\"1\" class=\"dataframe\">\n  <thead>\n    <tr style=\"text-align: right;\">\n      <th></th>\n      <th>top1</th>\n      <th>top2</th>\n      <th>top3</th>\n      <th>top4</th>\n      <th>top5</th>\n      <th>top6</th>\n      <th>top7</th>\n      <th>top8</th>\n      <th>top9</th>\n      <th>top10</th>\n    </tr>\n  </thead>\n  <tbody>\n    <tr>\n      <th>20323</th>\n      <td>8802</td>\n      <td>2504</td>\n      <td>5045</td>\n      <td>22213</td>\n      <td>9955</td>\n      <td>2532</td>\n      <td>22551</td>\n      <td>5351</td>\n      <td>11268</td>\n      <td>775</td>\n    </tr>\n    <tr>\n      <th>13070</th>\n      <td>5603</td>\n      <td>10139</td>\n      <td>17703</td>\n      <td>19778</td>\n      <td>16442</td>\n      <td>23423</td>\n      <td>10677</td>\n      <td>16180</td>\n      <td>8750</td>\n      <td>10877</td>\n    </tr>\n    <tr>\n      <th>9541</th>\n      <td>23027</td>\n      <td>98</td>\n      <td>11666</td>\n      <td>21792</td>\n      <td>8233</td>\n      <td>15310</td>\n      <td>16917</td>\n      <td>17927</td>\n      <td>2682</td>\n      <td>20200</td>\n    </tr>\n    <tr>\n      <th>17507</th>\n      <td>15148</td>\n      <td>12785</td>\n      <td>6702</td>\n      <td>5575</td>\n      <td>22875</td>\n      <td>5817</td>\n      <td>14974</td>\n      <td>9109</td>\n      <td>20304</td>\n      <td>13409</td>\n    </tr>\n    <tr>\n      <th>12453</th>\n      <td>13355</td>\n      <td>16432</td>\n      <td>4705</td>\n      <td>5329</td>\n      <td>11890</td>\n      <td>2342</td>\n      <td>10016</td>\n      <td>14055</td>\n      <td>9556</td>\n      <td>794</td>\n    </tr>\n  </tbody>\n</table>\n</div>"
          },
          "metadata": {}
        }
      ],
      "execution_count": 455
    },
    {
      "id": "fe862538-78bb-4509-a088-aded88a8e5d3",
      "cell_type": "markdown",
      "source": "## Column wise average for our closest group of neighbors\nWe grab the average ratings for the jokes, for just the users that are the cloest neighbors to our test user # 20323",
      "metadata": {}
    },
    {
      "id": "d9c77381-b042-4d14-82e6-9865b3d78d50",
      "cell_type": "code",
      "source": "def column_wise_average(df, selected_users):\n    # Select rows by user IDs\n    subset = df.loc[selected_users]\n    \n    # Compute column-wise mean\n    return subset.mean()",
      "metadata": {
        "trusted": true
      },
      "outputs": [],
      "execution_count": 456
    },
    {
      "id": "90b90a30-96cd-4996-afb1-3adb8b9cbb4c",
      "cell_type": "code",
      "source": "train_data1, test_data1 = train_test_split(original_df, test_size=0.2, random_state=30)\ntest_data1 = test_data1.drop(columns=['Number of Jokes Rated'])\ntest_data1",
      "metadata": {
        "trusted": true
      },
      "outputs": [
        {
          "execution_count": 457,
          "output_type": "execute_result",
          "data": {
            "text/plain": "        User     1     2     3     4     5     6     7     8     9  ...    91  \\\n20323  20324  8.54  3.54 -6.41 -5.68 -7.28  4.76  1.31  1.84  3.93  ...   NaN   \n13070  13071  2.14  1.80  2.52 -1.65 -1.17 -1.26 -4.76 -3.30  2.86  ...   NaN   \n9541    9542 -8.69 -8.69 -0.24 -8.93  6.21  2.14  2.57 -9.32 -8.93  ...   NaN   \n17507  17508  3.11 -2.38  8.01 -5.19  4.17  4.76 -0.49 -7.77 -2.91  ...  6.41   \n12453  12454 -5.87 -8.20  5.34  8.83 -0.63  7.67  3.83  3.69 -0.10  ...  7.48   \n...      ...   ...   ...   ...   ...   ...   ...   ...   ...   ...  ...   ...   \n21183  21184   NaN   NaN   NaN   NaN -3.20   NaN -0.44  4.61   NaN  ...   NaN   \n3292    3293 -4.08 -9.66 -0.63 -5.87 -0.34 -5.44 -5.49 -3.98 -4.95  ...   NaN   \n11461  11462   NaN   NaN   NaN   NaN  0.10 -1.02  0.39 -3.25   NaN  ... -3.35   \n20883  20884  8.35 -2.91 -9.71 -9.56 -2.91  4.56  0.73  2.28  1.02  ...   NaN   \n11427  11428 -6.89  8.16  8.20  0.83  0.97  6.17  1.07 -5.44 -8.16  ...   NaN   \n\n         92    93    94    95    96    97    98    99   100  \n20323  3.40  7.72  9.37  0.29  3.98  7.18  1.41 -7.23  5.78  \n13070   NaN  1.65   NaN   NaN   NaN   NaN   NaN   NaN   NaN  \n9541    NaN   NaN   NaN   NaN -4.95   NaN   NaN   NaN   NaN  \n17507  5.29  5.29  4.76  5.34  5.58 -4.32  5.24 -2.18 -6.02  \n12453  8.50  7.18  3.50  3.59  3.30 -0.15 -1.17 -0.49  6.94  \n...     ...   ...   ...   ...   ...   ...   ...   ...   ...  \n21183   NaN   NaN   NaN   NaN   NaN   NaN   NaN   NaN   NaN  \n3292    NaN   NaN   NaN   NaN   NaN   NaN   NaN   NaN   NaN  \n11461   NaN   NaN   NaN   NaN -3.40   NaN   NaN   NaN   NaN  \n20883   NaN   NaN   NaN   NaN   NaN   NaN   NaN   NaN   NaN  \n11427   NaN   NaN   NaN   NaN   NaN   NaN   NaN   NaN   NaN  \n\n[4997 rows x 101 columns]",
            "text/html": "<div>\n<style scoped>\n    .dataframe tbody tr th:only-of-type {\n        vertical-align: middle;\n    }\n\n    .dataframe tbody tr th {\n        vertical-align: top;\n    }\n\n    .dataframe thead th {\n        text-align: right;\n    }\n</style>\n<table border=\"1\" class=\"dataframe\">\n  <thead>\n    <tr style=\"text-align: right;\">\n      <th></th>\n      <th>User</th>\n      <th>1</th>\n      <th>2</th>\n      <th>3</th>\n      <th>4</th>\n      <th>5</th>\n      <th>6</th>\n      <th>7</th>\n      <th>8</th>\n      <th>9</th>\n      <th>...</th>\n      <th>91</th>\n      <th>92</th>\n      <th>93</th>\n      <th>94</th>\n      <th>95</th>\n      <th>96</th>\n      <th>97</th>\n      <th>98</th>\n      <th>99</th>\n      <th>100</th>\n    </tr>\n  </thead>\n  <tbody>\n    <tr>\n      <th>20323</th>\n      <td>20324</td>\n      <td>8.54</td>\n      <td>3.54</td>\n      <td>-6.41</td>\n      <td>-5.68</td>\n      <td>-7.28</td>\n      <td>4.76</td>\n      <td>1.31</td>\n      <td>1.84</td>\n      <td>3.93</td>\n      <td>...</td>\n      <td>NaN</td>\n      <td>3.40</td>\n      <td>7.72</td>\n      <td>9.37</td>\n      <td>0.29</td>\n      <td>3.98</td>\n      <td>7.18</td>\n      <td>1.41</td>\n      <td>-7.23</td>\n      <td>5.78</td>\n    </tr>\n    <tr>\n      <th>13070</th>\n      <td>13071</td>\n      <td>2.14</td>\n      <td>1.80</td>\n      <td>2.52</td>\n      <td>-1.65</td>\n      <td>-1.17</td>\n      <td>-1.26</td>\n      <td>-4.76</td>\n      <td>-3.30</td>\n      <td>2.86</td>\n      <td>...</td>\n      <td>NaN</td>\n      <td>NaN</td>\n      <td>1.65</td>\n      <td>NaN</td>\n      <td>NaN</td>\n      <td>NaN</td>\n      <td>NaN</td>\n      <td>NaN</td>\n      <td>NaN</td>\n      <td>NaN</td>\n    </tr>\n    <tr>\n      <th>9541</th>\n      <td>9542</td>\n      <td>-8.69</td>\n      <td>-8.69</td>\n      <td>-0.24</td>\n      <td>-8.93</td>\n      <td>6.21</td>\n      <td>2.14</td>\n      <td>2.57</td>\n      <td>-9.32</td>\n      <td>-8.93</td>\n      <td>...</td>\n      <td>NaN</td>\n      <td>NaN</td>\n      <td>NaN</td>\n      <td>NaN</td>\n      <td>NaN</td>\n      <td>-4.95</td>\n      <td>NaN</td>\n      <td>NaN</td>\n      <td>NaN</td>\n      <td>NaN</td>\n    </tr>\n    <tr>\n      <th>17507</th>\n      <td>17508</td>\n      <td>3.11</td>\n      <td>-2.38</td>\n      <td>8.01</td>\n      <td>-5.19</td>\n      <td>4.17</td>\n      <td>4.76</td>\n      <td>-0.49</td>\n      <td>-7.77</td>\n      <td>-2.91</td>\n      <td>...</td>\n      <td>6.41</td>\n      <td>5.29</td>\n      <td>5.29</td>\n      <td>4.76</td>\n      <td>5.34</td>\n      <td>5.58</td>\n      <td>-4.32</td>\n      <td>5.24</td>\n      <td>-2.18</td>\n      <td>-6.02</td>\n    </tr>\n    <tr>\n      <th>12453</th>\n      <td>12454</td>\n      <td>-5.87</td>\n      <td>-8.20</td>\n      <td>5.34</td>\n      <td>8.83</td>\n      <td>-0.63</td>\n      <td>7.67</td>\n      <td>3.83</td>\n      <td>3.69</td>\n      <td>-0.10</td>\n      <td>...</td>\n      <td>7.48</td>\n      <td>8.50</td>\n      <td>7.18</td>\n      <td>3.50</td>\n      <td>3.59</td>\n      <td>3.30</td>\n      <td>-0.15</td>\n      <td>-1.17</td>\n      <td>-0.49</td>\n      <td>6.94</td>\n    </tr>\n    <tr>\n      <th>...</th>\n      <td>...</td>\n      <td>...</td>\n      <td>...</td>\n      <td>...</td>\n      <td>...</td>\n      <td>...</td>\n      <td>...</td>\n      <td>...</td>\n      <td>...</td>\n      <td>...</td>\n      <td>...</td>\n      <td>...</td>\n      <td>...</td>\n      <td>...</td>\n      <td>...</td>\n      <td>...</td>\n      <td>...</td>\n      <td>...</td>\n      <td>...</td>\n      <td>...</td>\n      <td>...</td>\n    </tr>\n    <tr>\n      <th>21183</th>\n      <td>21184</td>\n      <td>NaN</td>\n      <td>NaN</td>\n      <td>NaN</td>\n      <td>NaN</td>\n      <td>-3.20</td>\n      <td>NaN</td>\n      <td>-0.44</td>\n      <td>4.61</td>\n      <td>NaN</td>\n      <td>...</td>\n      <td>NaN</td>\n      <td>NaN</td>\n      <td>NaN</td>\n      <td>NaN</td>\n      <td>NaN</td>\n      <td>NaN</td>\n      <td>NaN</td>\n      <td>NaN</td>\n      <td>NaN</td>\n      <td>NaN</td>\n    </tr>\n    <tr>\n      <th>3292</th>\n      <td>3293</td>\n      <td>-4.08</td>\n      <td>-9.66</td>\n      <td>-0.63</td>\n      <td>-5.87</td>\n      <td>-0.34</td>\n      <td>-5.44</td>\n      <td>-5.49</td>\n      <td>-3.98</td>\n      <td>-4.95</td>\n      <td>...</td>\n      <td>NaN</td>\n      <td>NaN</td>\n      <td>NaN</td>\n      <td>NaN</td>\n      <td>NaN</td>\n      <td>NaN</td>\n      <td>NaN</td>\n      <td>NaN</td>\n      <td>NaN</td>\n      <td>NaN</td>\n    </tr>\n    <tr>\n      <th>11461</th>\n      <td>11462</td>\n      <td>NaN</td>\n      <td>NaN</td>\n      <td>NaN</td>\n      <td>NaN</td>\n      <td>0.10</td>\n      <td>-1.02</td>\n      <td>0.39</td>\n      <td>-3.25</td>\n      <td>NaN</td>\n      <td>...</td>\n      <td>-3.35</td>\n      <td>NaN</td>\n      <td>NaN</td>\n      <td>NaN</td>\n      <td>NaN</td>\n      <td>-3.40</td>\n      <td>NaN</td>\n      <td>NaN</td>\n      <td>NaN</td>\n      <td>NaN</td>\n    </tr>\n    <tr>\n      <th>20883</th>\n      <td>20884</td>\n      <td>8.35</td>\n      <td>-2.91</td>\n      <td>-9.71</td>\n      <td>-9.56</td>\n      <td>-2.91</td>\n      <td>4.56</td>\n      <td>0.73</td>\n      <td>2.28</td>\n      <td>1.02</td>\n      <td>...</td>\n      <td>NaN</td>\n      <td>NaN</td>\n      <td>NaN</td>\n      <td>NaN</td>\n      <td>NaN</td>\n      <td>NaN</td>\n      <td>NaN</td>\n      <td>NaN</td>\n      <td>NaN</td>\n      <td>NaN</td>\n    </tr>\n    <tr>\n      <th>11427</th>\n      <td>11428</td>\n      <td>-6.89</td>\n      <td>8.16</td>\n      <td>8.20</td>\n      <td>0.83</td>\n      <td>0.97</td>\n      <td>6.17</td>\n      <td>1.07</td>\n      <td>-5.44</td>\n      <td>-8.16</td>\n      <td>...</td>\n      <td>NaN</td>\n      <td>NaN</td>\n      <td>NaN</td>\n      <td>NaN</td>\n      <td>NaN</td>\n      <td>NaN</td>\n      <td>NaN</td>\n      <td>NaN</td>\n      <td>NaN</td>\n      <td>NaN</td>\n    </tr>\n  </tbody>\n</table>\n<p>4997 rows × 101 columns</p>\n</div>"
          },
          "metadata": {}
        }
      ],
      "execution_count": 457
    },
    {
      "id": "fff5bde1-ab93-4a9f-b768-6a3451ca53ff",
      "cell_type": "code",
      "source": "df_2 = pd.melt(test_data1, id_vars=['User'])\ndf_2 = pd.DataFrame(df_2)\ndf_2 = df_2.rename(columns={\"User\": \"user_id\", \"variable\": \"item_id\", \"value\":\"rating\"})\ndf_2",
      "metadata": {
        "trusted": true
      },
      "outputs": [
        {
          "execution_count": 458,
          "output_type": "execute_result",
          "data": {
            "text/plain": "        user_id item_id  rating\n0         20324       1    8.54\n1         13071       1    2.14\n2          9542       1   -8.69\n3         17508       1    3.11\n4         12454       1   -5.87\n...         ...     ...     ...\n499695    21184     100     NaN\n499696     3293     100     NaN\n499697    11462     100     NaN\n499698    20884     100     NaN\n499699    11428     100     NaN\n\n[499700 rows x 3 columns]",
            "text/html": "<div>\n<style scoped>\n    .dataframe tbody tr th:only-of-type {\n        vertical-align: middle;\n    }\n\n    .dataframe tbody tr th {\n        vertical-align: top;\n    }\n\n    .dataframe thead th {\n        text-align: right;\n    }\n</style>\n<table border=\"1\" class=\"dataframe\">\n  <thead>\n    <tr style=\"text-align: right;\">\n      <th></th>\n      <th>user_id</th>\n      <th>item_id</th>\n      <th>rating</th>\n    </tr>\n  </thead>\n  <tbody>\n    <tr>\n      <th>0</th>\n      <td>20324</td>\n      <td>1</td>\n      <td>8.54</td>\n    </tr>\n    <tr>\n      <th>1</th>\n      <td>13071</td>\n      <td>1</td>\n      <td>2.14</td>\n    </tr>\n    <tr>\n      <th>2</th>\n      <td>9542</td>\n      <td>1</td>\n      <td>-8.69</td>\n    </tr>\n    <tr>\n      <th>3</th>\n      <td>17508</td>\n      <td>1</td>\n      <td>3.11</td>\n    </tr>\n    <tr>\n      <th>4</th>\n      <td>12454</td>\n      <td>1</td>\n      <td>-5.87</td>\n    </tr>\n    <tr>\n      <th>...</th>\n      <td>...</td>\n      <td>...</td>\n      <td>...</td>\n    </tr>\n    <tr>\n      <th>499695</th>\n      <td>21184</td>\n      <td>100</td>\n      <td>NaN</td>\n    </tr>\n    <tr>\n      <th>499696</th>\n      <td>3293</td>\n      <td>100</td>\n      <td>NaN</td>\n    </tr>\n    <tr>\n      <th>499697</th>\n      <td>11462</td>\n      <td>100</td>\n      <td>NaN</td>\n    </tr>\n    <tr>\n      <th>499698</th>\n      <td>20884</td>\n      <td>100</td>\n      <td>NaN</td>\n    </tr>\n    <tr>\n      <th>499699</th>\n      <td>11428</td>\n      <td>100</td>\n      <td>NaN</td>\n    </tr>\n  </tbody>\n</table>\n<p>499700 rows × 3 columns</p>\n</div>"
          },
          "metadata": {}
        }
      ],
      "execution_count": 458
    },
    {
      "id": "d20af014-7cf1-4d71-9936-7d646eb25613",
      "cell_type": "markdown",
      "source": "##### These are the average ratings for all 100 jokes for the 10 users closest to user # 20323",
      "metadata": {}
    },
    {
      "id": "94285081-01bf-47a6-93c2-2064aae2f729",
      "cell_type": "code",
      "source": "selected_users = top_10_user_similarity.iloc[0]\nclosest_user_average_ratings = column_wise_average(test_data1,selected_users)\nclosest_user_average_ratings = closest_user_average_ratings.iloc[1:]\nclosest_user_average_ratings",
      "metadata": {
        "trusted": true
      },
      "outputs": [
        {
          "execution_count": 459,
          "output_type": "execute_result",
          "data": {
            "text/plain": "1      1.301667\n2     -2.881667\n3     -1.504000\n4     -1.814000\n5     -5.996000\n         ...   \n96     0.464000\n97    -2.647500\n98     0.000000\n99     0.972500\n100    1.650000\nLength: 100, dtype: float64"
          },
          "metadata": {}
        }
      ],
      "execution_count": 459
    },
    {
      "id": "d2a31b0f-3dd7-44eb-95d8-b47c58b62dd5",
      "cell_type": "code",
      "source": "closest_user_average_ratings_series = pd.Series(closest_user_average_ratings_series)",
      "metadata": {
        "trusted": true,
        "tags": [],
        "editable": true,
        "slideshow": {
          "slide_type": ""
        }
      },
      "outputs": [],
      "execution_count": 460
    },
    {
      "id": "1a7ad3c6-62ee-4c1c-9ae5-913bab4cc516",
      "cell_type": "markdown",
      "source": "I have a df of closest cosine similarity neighbors. I want to get those users average scores from. average of those for the unrated. take df of closest neighbors and get their ratings, average for a jokes. ",
      "metadata": {}
    },
    {
      "id": "f38959fc-6696-43da-9f0a-4dd8f130c4d5",
      "cell_type": "code",
      "source": "df_filled = df_2[df_2['user_id'] == 20324].copy()",
      "metadata": {
        "trusted": true
      },
      "outputs": [],
      "execution_count": 461
    },
    {
      "id": "6e02d6cb-c346-4474-b2eb-0dd62caedcc2",
      "cell_type": "code",
      "source": "df_filled['newrating'] = df_filled['item_id'].map(closest_user_average_ratings)",
      "metadata": {
        "trusted": true
      },
      "outputs": [],
      "execution_count": 462
    },
    {
      "id": "7061b8d2-4d71-49df-9d83-7fec9b347731",
      "cell_type": "code",
      "source": "df_filled",
      "metadata": {
        "trusted": true
      },
      "outputs": [
        {
          "execution_count": 463,
          "output_type": "execute_result",
          "data": {
            "text/plain": "        user_id item_id  rating  newrating\n0         20324       1    8.54   1.301667\n4997      20324       2    3.54  -2.881667\n9994      20324       3   -6.41  -1.504000\n14991     20324       4   -5.68  -1.814000\n19988     20324       5   -7.28  -5.996000\n...         ...     ...     ...        ...\n474715    20324      96    3.98   0.464000\n479712    20324      97    7.18  -2.647500\n484709    20324      98    1.41   0.000000\n489706    20324      99   -7.23   0.972500\n494703    20324     100    5.78   1.650000\n\n[100 rows x 4 columns]",
            "text/html": "<div>\n<style scoped>\n    .dataframe tbody tr th:only-of-type {\n        vertical-align: middle;\n    }\n\n    .dataframe tbody tr th {\n        vertical-align: top;\n    }\n\n    .dataframe thead th {\n        text-align: right;\n    }\n</style>\n<table border=\"1\" class=\"dataframe\">\n  <thead>\n    <tr style=\"text-align: right;\">\n      <th></th>\n      <th>user_id</th>\n      <th>item_id</th>\n      <th>rating</th>\n      <th>newrating</th>\n    </tr>\n  </thead>\n  <tbody>\n    <tr>\n      <th>0</th>\n      <td>20324</td>\n      <td>1</td>\n      <td>8.54</td>\n      <td>1.301667</td>\n    </tr>\n    <tr>\n      <th>4997</th>\n      <td>20324</td>\n      <td>2</td>\n      <td>3.54</td>\n      <td>-2.881667</td>\n    </tr>\n    <tr>\n      <th>9994</th>\n      <td>20324</td>\n      <td>3</td>\n      <td>-6.41</td>\n      <td>-1.504000</td>\n    </tr>\n    <tr>\n      <th>14991</th>\n      <td>20324</td>\n      <td>4</td>\n      <td>-5.68</td>\n      <td>-1.814000</td>\n    </tr>\n    <tr>\n      <th>19988</th>\n      <td>20324</td>\n      <td>5</td>\n      <td>-7.28</td>\n      <td>-5.996000</td>\n    </tr>\n    <tr>\n      <th>...</th>\n      <td>...</td>\n      <td>...</td>\n      <td>...</td>\n      <td>...</td>\n    </tr>\n    <tr>\n      <th>474715</th>\n      <td>20324</td>\n      <td>96</td>\n      <td>3.98</td>\n      <td>0.464000</td>\n    </tr>\n    <tr>\n      <th>479712</th>\n      <td>20324</td>\n      <td>97</td>\n      <td>7.18</td>\n      <td>-2.647500</td>\n    </tr>\n    <tr>\n      <th>484709</th>\n      <td>20324</td>\n      <td>98</td>\n      <td>1.41</td>\n      <td>0.000000</td>\n    </tr>\n    <tr>\n      <th>489706</th>\n      <td>20324</td>\n      <td>99</td>\n      <td>-7.23</td>\n      <td>0.972500</td>\n    </tr>\n    <tr>\n      <th>494703</th>\n      <td>20324</td>\n      <td>100</td>\n      <td>5.78</td>\n      <td>1.650000</td>\n    </tr>\n  </tbody>\n</table>\n<p>100 rows × 4 columns</p>\n</div>"
          },
          "metadata": {}
        }
      ],
      "execution_count": 463
    },
    {
      "id": "469a8bf0-f94d-42f7-873f-725f878c0699",
      "cell_type": "markdown",
      "source": "Here are jokes that user 20324 had not rated. We gave them a predicted rating based on our 30 closest ratings our that user. User 20324 probably would like joke 89.",
      "metadata": {}
    },
    {
      "id": "9af9cf6a-20b2-4672-ac3c-ef70d1280fc4",
      "cell_type": "code",
      "source": "df_filled[(df_filled['user_id'] == 20324) & (df_filled['rating'].isna())]",
      "metadata": {
        "trusted": true,
        "tags": [],
        "editable": true,
        "slideshow": {
          "slide_type": ""
        }
      },
      "outputs": [
        {
          "execution_count": 464,
          "output_type": "execute_result",
          "data": {
            "text/plain": "        user_id item_id  rating  newrating\n349790    20324      71     NaN  -1.473333\n354787    20324      72     NaN  -0.170000\n359784    20324      73     NaN   1.700000\n364781    20324      74     NaN   0.810000\n374775    20324      76     NaN   3.885000\n379772    20324      77     NaN  -2.283333\n384769    20324      78     NaN   0.205000\n389766    20324      79     NaN  -2.476667\n394763    20324      80     NaN   0.244000\n399760    20324      81     NaN  -4.297500\n404757    20324      82     NaN  -2.040000\n414751    20324      84     NaN  -4.392500\n419748    20324      85     NaN  -3.060000\n424745    20324      86     NaN  -2.643333\n429742    20324      87     NaN   1.417500\n434739    20324      88     NaN   2.216667\n439736    20324      89     NaN   5.840000\n444733    20324      90     NaN  -3.312500\n449730    20324      91     NaN   2.200000",
            "text/html": "<div>\n<style scoped>\n    .dataframe tbody tr th:only-of-type {\n        vertical-align: middle;\n    }\n\n    .dataframe tbody tr th {\n        vertical-align: top;\n    }\n\n    .dataframe thead th {\n        text-align: right;\n    }\n</style>\n<table border=\"1\" class=\"dataframe\">\n  <thead>\n    <tr style=\"text-align: right;\">\n      <th></th>\n      <th>user_id</th>\n      <th>item_id</th>\n      <th>rating</th>\n      <th>newrating</th>\n    </tr>\n  </thead>\n  <tbody>\n    <tr>\n      <th>349790</th>\n      <td>20324</td>\n      <td>71</td>\n      <td>NaN</td>\n      <td>-1.473333</td>\n    </tr>\n    <tr>\n      <th>354787</th>\n      <td>20324</td>\n      <td>72</td>\n      <td>NaN</td>\n      <td>-0.170000</td>\n    </tr>\n    <tr>\n      <th>359784</th>\n      <td>20324</td>\n      <td>73</td>\n      <td>NaN</td>\n      <td>1.700000</td>\n    </tr>\n    <tr>\n      <th>364781</th>\n      <td>20324</td>\n      <td>74</td>\n      <td>NaN</td>\n      <td>0.810000</td>\n    </tr>\n    <tr>\n      <th>374775</th>\n      <td>20324</td>\n      <td>76</td>\n      <td>NaN</td>\n      <td>3.885000</td>\n    </tr>\n    <tr>\n      <th>379772</th>\n      <td>20324</td>\n      <td>77</td>\n      <td>NaN</td>\n      <td>-2.283333</td>\n    </tr>\n    <tr>\n      <th>384769</th>\n      <td>20324</td>\n      <td>78</td>\n      <td>NaN</td>\n      <td>0.205000</td>\n    </tr>\n    <tr>\n      <th>389766</th>\n      <td>20324</td>\n      <td>79</td>\n      <td>NaN</td>\n      <td>-2.476667</td>\n    </tr>\n    <tr>\n      <th>394763</th>\n      <td>20324</td>\n      <td>80</td>\n      <td>NaN</td>\n      <td>0.244000</td>\n    </tr>\n    <tr>\n      <th>399760</th>\n      <td>20324</td>\n      <td>81</td>\n      <td>NaN</td>\n      <td>-4.297500</td>\n    </tr>\n    <tr>\n      <th>404757</th>\n      <td>20324</td>\n      <td>82</td>\n      <td>NaN</td>\n      <td>-2.040000</td>\n    </tr>\n    <tr>\n      <th>414751</th>\n      <td>20324</td>\n      <td>84</td>\n      <td>NaN</td>\n      <td>-4.392500</td>\n    </tr>\n    <tr>\n      <th>419748</th>\n      <td>20324</td>\n      <td>85</td>\n      <td>NaN</td>\n      <td>-3.060000</td>\n    </tr>\n    <tr>\n      <th>424745</th>\n      <td>20324</td>\n      <td>86</td>\n      <td>NaN</td>\n      <td>-2.643333</td>\n    </tr>\n    <tr>\n      <th>429742</th>\n      <td>20324</td>\n      <td>87</td>\n      <td>NaN</td>\n      <td>1.417500</td>\n    </tr>\n    <tr>\n      <th>434739</th>\n      <td>20324</td>\n      <td>88</td>\n      <td>NaN</td>\n      <td>2.216667</td>\n    </tr>\n    <tr>\n      <th>439736</th>\n      <td>20324</td>\n      <td>89</td>\n      <td>NaN</td>\n      <td>5.840000</td>\n    </tr>\n    <tr>\n      <th>444733</th>\n      <td>20324</td>\n      <td>90</td>\n      <td>NaN</td>\n      <td>-3.312500</td>\n    </tr>\n    <tr>\n      <th>449730</th>\n      <td>20324</td>\n      <td>91</td>\n      <td>NaN</td>\n      <td>2.200000</td>\n    </tr>\n  </tbody>\n</table>\n</div>"
          },
          "metadata": {}
        }
      ],
      "execution_count": 464
    },
    {
      "id": "3ea93a98-d9fa-4ee2-8f81-1b36a915af5b",
      "cell_type": "markdown",
      "source": "The RMSE (Root Mean Squared Error) measures the average difference between the observed values, and the predicted ones. For this case we are comparing our actual ratings from user 20324, compared the predicted average of the 30 closest cosine similarity raters to our that users ratings of the jokes in the dense group. Our RMSE being 4.6 suggests that our predicted ratings are on average within 4.6 rating points from the actual scores. Our model is pretty inaccurate.",
      "metadata": {}
    },
    {
      "id": "83d36909-eac2-4686-a9d0-f45945366721",
      "cell_type": "code",
      "source": "RMSE = root_mean_squared_error(df_filled.rating[df_filled['rating'].notnull()],df_filled.newrating[df_filled['rating'].notnull()])\nRMSE",
      "metadata": {
        "trusted": true,
        "tags": [],
        "editable": true,
        "slideshow": {
          "slide_type": ""
        }
      },
      "outputs": [
        {
          "execution_count": 465,
          "output_type": "execute_result",
          "data": {
            "text/plain": "4.609270239754419"
          },
          "metadata": {}
        }
      ],
      "execution_count": 465
    },
    {
      "id": "652d7967-a412-47eb-8ed1-8faefd2e465d",
      "cell_type": "markdown",
      "source": "### Possible Problems:\nThe biggest problem is if our closest users, also havent rated that joke. I had hoped that starting with the dense df would give us the most accurate similaritys. It seems possible that the way the users rated the dense group of jokes, is different than the way they would rate the rest of the jokes, we would be grouping users incorrectly then. ",
      "metadata": {}
    },
    {
      "id": "b6cafc89-dd6f-4be4-825c-0559f7097191",
      "cell_type": "markdown",
      "source": "## Part 2: Item-Item Collaborative Filtering",
      "metadata": {}
    },
    {
      "id": "51fab6f1-be21-43c8-b4dd-a585f2929ccc",
      "cell_type": "markdown",
      "source": "Item-based collaborative filtering (IBCF) uses item-to-item similarity based on user ratings to find items that are similar to the items the active user likes, we will use this to find similar jokes to ones that a user likes.",
      "metadata": {}
    },
    {
      "id": "5726cd27-cb2b-4b85-89d2-a400eadfb296",
      "cell_type": "code",
      "source": "item_rec = original_df.drop(columns=['Number of Jokes Rated'])",
      "metadata": {
        "trusted": true
      },
      "outputs": [],
      "execution_count": 393
    },
    {
      "id": "8c5e74ca-58fc-4427-a137-e869ec6ee746",
      "cell_type": "code",
      "source": "item_rec = item_rec.set_index('User')",
      "metadata": {
        "trusted": true
      },
      "outputs": [],
      "execution_count": 394
    },
    {
      "id": "6f0aeaf1-9bdc-4a67-8eaa-28f9f0b2a3a8",
      "cell_type": "markdown",
      "source": "### Normalize\nAn important operation for rating matrices is to normalize the entries to, e.g., centering to remove rating bias by subtracting the row mean from all ratings in the row. Normalization is used to remove individual rating bias by users who consistently always use lower or higher ratings than other users. We also set the unrated jokes to 0 so we can perform similarities on them.",
      "metadata": {}
    },
    {
      "id": "de2330ae-b1a4-4301-bb2e-664a51e99a53",
      "cell_type": "code",
      "source": "normalized_item_rec = item_rec.sub(item_rec.mean(axis=1), axis=0)\nnormalized_item_rec = normalized_item_rec.fillna(0)",
      "metadata": {
        "trusted": true
      },
      "outputs": [],
      "execution_count": 401
    },
    {
      "id": "7130273f-324a-4dd1-90b3-d63b7e15abaf",
      "cell_type": "markdown",
      "source": "We transpose the df to get the jokes as the index",
      "metadata": {}
    },
    {
      "id": "87297176-72c6-41bb-8d8c-bec9436e6439",
      "cell_type": "code",
      "source": "normalized_item_rec = normalized_item_rec.T",
      "metadata": {
        "trusted": true
      },
      "outputs": [],
      "execution_count": 409
    },
    {
      "id": "00145f1a-b4dd-419b-b638-bef910804fd3",
      "cell_type": "code",
      "source": "normalized_item_rec",
      "metadata": {
        "trusted": true
      },
      "outputs": [
        {
          "execution_count": 410,
          "output_type": "execute_result",
          "data": {
            "text/plain": "User     1         2         3         4         5         6         7      \\\n1    -8.721625  3.178375  0.000000  0.000000  7.598375 -7.071625  0.000000   \n2     8.583391 -0.496609  0.000000  8.143391  4.403391 -3.746609  0.000000   \n3    -9.975385  6.044615  0.000000  0.000000 -4.485385  0.124615  0.000000   \n4    -6.713487  5.816513  0.000000  0.000000 -3.943487 -7.053487  0.000000   \n5    -7.921139 -2.781139  8.628861  1.398861  0.958861 -7.491139  8.188861   \n..         ...       ...       ...       ...       ...       ...       ...   \n96    0.000000 -3.663802  0.000000  0.000000  0.026198 -4.873802  0.806198   \n97   -7.298856  1.391144  0.000000  0.000000  1.441144 -1.618856  0.000000   \n98    0.000000 -0.424536  0.000000  0.000000  5.785464 -9.844536  0.000000   \n99    0.000000 -4.287395  0.000000  0.000000  1.832605 -5.017395  0.000000   \n100   0.000000 -0.280629  0.000000  0.000000  0.249371 -4.800629  0.000000   \n\nUser     8         9         10     ...     24974     24975     24976  \\\n1     5.938375 -4.691625  2.108375  ...  0.898375  0.000000  0.000000   \n2     2.953391 -3.746609  4.943391  ... -9.626609 -9.426609  7.993391   \n3     8.854615 -9.735385  4.834615  ... -8.515385  0.000000  0.000000   \n4    -4.763487 -5.443487  4.456513  ...  0.000000  0.000000  0.000000   \n5    -8.561139 -9.141139  6.008861  ... -8.941139  5.568861  8.388861   \n..         ...       ...       ...  ...       ...       ...       ...   \n96   -4.873802 -1.813802  0.000000  ...  0.000000  0.000000  7.406198   \n97    0.471144 -1.958856  0.000000  ...  0.000000  0.000000  0.000000   \n98   -0.814536 -1.054536  0.000000  ...  0.000000  0.000000  8.365464   \n99    1.342605 -3.367395  0.000000  ... -3.707395  0.000000  0.000000   \n100  -1.350629 -6.300629  0.000000  ...  0.000000  0.000000  0.000000   \n\nUser     24977     24978     24979      24980     24981      24982     24983  \n1     0.458375  0.000000 -0.461625   8.228375  0.000000   0.000000  1.528375  \n2     1.543391  0.000000  7.223391  -8.366609  0.000000   0.000000  2.463391  \n3     2.064615  0.000000  8.764615   8.274615  0.000000   0.000000 -4.295385  \n4     3.286513  0.000000  3.776513  10.526513  0.000000   0.000000  5.716513  \n5     4.258861  7.268861  2.798861   0.468861 -8.171139 -10.111139 -2.681139  \n..         ...       ...       ...        ...       ...        ...       ...  \n96   -1.863802  0.000000  7.506198  -9.723802  0.000000   0.000000  0.000000  \n97    7.651144  0.000000  4.881144  -8.898856  0.000000   0.000000  0.000000  \n98    8.405464  0.000000  7.925464  -9.354536  0.000000   0.000000  0.000000  \n99    8.912605  0.000000  8.822605   9.162605  0.000000   0.000000  0.000000  \n100   7.919371  0.000000  6.079371   7.099371  0.000000   0.000000  0.000000  \n\n[100 rows x 24983 columns]",
            "text/html": "<div>\n<style scoped>\n    .dataframe tbody tr th:only-of-type {\n        vertical-align: middle;\n    }\n\n    .dataframe tbody tr th {\n        vertical-align: top;\n    }\n\n    .dataframe thead th {\n        text-align: right;\n    }\n</style>\n<table border=\"1\" class=\"dataframe\">\n  <thead>\n    <tr style=\"text-align: right;\">\n      <th>User</th>\n      <th>1</th>\n      <th>2</th>\n      <th>3</th>\n      <th>4</th>\n      <th>5</th>\n      <th>6</th>\n      <th>7</th>\n      <th>8</th>\n      <th>9</th>\n      <th>10</th>\n      <th>...</th>\n      <th>24974</th>\n      <th>24975</th>\n      <th>24976</th>\n      <th>24977</th>\n      <th>24978</th>\n      <th>24979</th>\n      <th>24980</th>\n      <th>24981</th>\n      <th>24982</th>\n      <th>24983</th>\n    </tr>\n  </thead>\n  <tbody>\n    <tr>\n      <th>1</th>\n      <td>-8.721625</td>\n      <td>3.178375</td>\n      <td>0.000000</td>\n      <td>0.000000</td>\n      <td>7.598375</td>\n      <td>-7.071625</td>\n      <td>0.000000</td>\n      <td>5.938375</td>\n      <td>-4.691625</td>\n      <td>2.108375</td>\n      <td>...</td>\n      <td>0.898375</td>\n      <td>0.000000</td>\n      <td>0.000000</td>\n      <td>0.458375</td>\n      <td>0.000000</td>\n      <td>-0.461625</td>\n      <td>8.228375</td>\n      <td>0.000000</td>\n      <td>0.000000</td>\n      <td>1.528375</td>\n    </tr>\n    <tr>\n      <th>2</th>\n      <td>8.583391</td>\n      <td>-0.496609</td>\n      <td>0.000000</td>\n      <td>8.143391</td>\n      <td>4.403391</td>\n      <td>-3.746609</td>\n      <td>0.000000</td>\n      <td>2.953391</td>\n      <td>-3.746609</td>\n      <td>4.943391</td>\n      <td>...</td>\n      <td>-9.626609</td>\n      <td>-9.426609</td>\n      <td>7.993391</td>\n      <td>1.543391</td>\n      <td>0.000000</td>\n      <td>7.223391</td>\n      <td>-8.366609</td>\n      <td>0.000000</td>\n      <td>0.000000</td>\n      <td>2.463391</td>\n    </tr>\n    <tr>\n      <th>3</th>\n      <td>-9.975385</td>\n      <td>6.044615</td>\n      <td>0.000000</td>\n      <td>0.000000</td>\n      <td>-4.485385</td>\n      <td>0.124615</td>\n      <td>0.000000</td>\n      <td>8.854615</td>\n      <td>-9.735385</td>\n      <td>4.834615</td>\n      <td>...</td>\n      <td>-8.515385</td>\n      <td>0.000000</td>\n      <td>0.000000</td>\n      <td>2.064615</td>\n      <td>0.000000</td>\n      <td>8.764615</td>\n      <td>8.274615</td>\n      <td>0.000000</td>\n      <td>0.000000</td>\n      <td>-4.295385</td>\n    </tr>\n    <tr>\n      <th>4</th>\n      <td>-6.713487</td>\n      <td>5.816513</td>\n      <td>0.000000</td>\n      <td>0.000000</td>\n      <td>-3.943487</td>\n      <td>-7.053487</td>\n      <td>0.000000</td>\n      <td>-4.763487</td>\n      <td>-5.443487</td>\n      <td>4.456513</td>\n      <td>...</td>\n      <td>0.000000</td>\n      <td>0.000000</td>\n      <td>0.000000</td>\n      <td>3.286513</td>\n      <td>0.000000</td>\n      <td>3.776513</td>\n      <td>10.526513</td>\n      <td>0.000000</td>\n      <td>0.000000</td>\n      <td>5.716513</td>\n    </tr>\n    <tr>\n      <th>5</th>\n      <td>-7.921139</td>\n      <td>-2.781139</td>\n      <td>8.628861</td>\n      <td>1.398861</td>\n      <td>0.958861</td>\n      <td>-7.491139</td>\n      <td>8.188861</td>\n      <td>-8.561139</td>\n      <td>-9.141139</td>\n      <td>6.008861</td>\n      <td>...</td>\n      <td>-8.941139</td>\n      <td>5.568861</td>\n      <td>8.388861</td>\n      <td>4.258861</td>\n      <td>7.268861</td>\n      <td>2.798861</td>\n      <td>0.468861</td>\n      <td>-8.171139</td>\n      <td>-10.111139</td>\n      <td>-2.681139</td>\n    </tr>\n    <tr>\n      <th>...</th>\n      <td>...</td>\n      <td>...</td>\n      <td>...</td>\n      <td>...</td>\n      <td>...</td>\n      <td>...</td>\n      <td>...</td>\n      <td>...</td>\n      <td>...</td>\n      <td>...</td>\n      <td>...</td>\n      <td>...</td>\n      <td>...</td>\n      <td>...</td>\n      <td>...</td>\n      <td>...</td>\n      <td>...</td>\n      <td>...</td>\n      <td>...</td>\n      <td>...</td>\n      <td>...</td>\n    </tr>\n    <tr>\n      <th>96</th>\n      <td>0.000000</td>\n      <td>-3.663802</td>\n      <td>0.000000</td>\n      <td>0.000000</td>\n      <td>0.026198</td>\n      <td>-4.873802</td>\n      <td>0.806198</td>\n      <td>-4.873802</td>\n      <td>-1.813802</td>\n      <td>0.000000</td>\n      <td>...</td>\n      <td>0.000000</td>\n      <td>0.000000</td>\n      <td>7.406198</td>\n      <td>-1.863802</td>\n      <td>0.000000</td>\n      <td>7.506198</td>\n      <td>-9.723802</td>\n      <td>0.000000</td>\n      <td>0.000000</td>\n      <td>0.000000</td>\n    </tr>\n    <tr>\n      <th>97</th>\n      <td>-7.298856</td>\n      <td>1.391144</td>\n      <td>0.000000</td>\n      <td>0.000000</td>\n      <td>1.441144</td>\n      <td>-1.618856</td>\n      <td>0.000000</td>\n      <td>0.471144</td>\n      <td>-1.958856</td>\n      <td>0.000000</td>\n      <td>...</td>\n      <td>0.000000</td>\n      <td>0.000000</td>\n      <td>0.000000</td>\n      <td>7.651144</td>\n      <td>0.000000</td>\n      <td>4.881144</td>\n      <td>-8.898856</td>\n      <td>0.000000</td>\n      <td>0.000000</td>\n      <td>0.000000</td>\n    </tr>\n    <tr>\n      <th>98</th>\n      <td>0.000000</td>\n      <td>-0.424536</td>\n      <td>0.000000</td>\n      <td>0.000000</td>\n      <td>5.785464</td>\n      <td>-9.844536</td>\n      <td>0.000000</td>\n      <td>-0.814536</td>\n      <td>-1.054536</td>\n      <td>0.000000</td>\n      <td>...</td>\n      <td>0.000000</td>\n      <td>0.000000</td>\n      <td>8.365464</td>\n      <td>8.405464</td>\n      <td>0.000000</td>\n      <td>7.925464</td>\n      <td>-9.354536</td>\n      <td>0.000000</td>\n      <td>0.000000</td>\n      <td>0.000000</td>\n    </tr>\n    <tr>\n      <th>99</th>\n      <td>0.000000</td>\n      <td>-4.287395</td>\n      <td>0.000000</td>\n      <td>0.000000</td>\n      <td>1.832605</td>\n      <td>-5.017395</td>\n      <td>0.000000</td>\n      <td>1.342605</td>\n      <td>-3.367395</td>\n      <td>0.000000</td>\n      <td>...</td>\n      <td>-3.707395</td>\n      <td>0.000000</td>\n      <td>0.000000</td>\n      <td>8.912605</td>\n      <td>0.000000</td>\n      <td>8.822605</td>\n      <td>9.162605</td>\n      <td>0.000000</td>\n      <td>0.000000</td>\n      <td>0.000000</td>\n    </tr>\n    <tr>\n      <th>100</th>\n      <td>0.000000</td>\n      <td>-0.280629</td>\n      <td>0.000000</td>\n      <td>0.000000</td>\n      <td>0.249371</td>\n      <td>-4.800629</td>\n      <td>0.000000</td>\n      <td>-1.350629</td>\n      <td>-6.300629</td>\n      <td>0.000000</td>\n      <td>...</td>\n      <td>0.000000</td>\n      <td>0.000000</td>\n      <td>0.000000</td>\n      <td>7.919371</td>\n      <td>0.000000</td>\n      <td>6.079371</td>\n      <td>7.099371</td>\n      <td>0.000000</td>\n      <td>0.000000</td>\n      <td>0.000000</td>\n    </tr>\n  </tbody>\n</table>\n<p>100 rows × 24983 columns</p>\n</div>"
          },
          "metadata": {}
        }
      ],
      "execution_count": 410
    },
    {
      "id": "512ed75a-ab2b-49c8-9b4d-8b3222aac324",
      "cell_type": "markdown",
      "source": "### Cosine Similairty (Joke Rating Similarity):\nThe cosine of an angle is a function that decreases from 1 to -1 as the angle increases from 0 to 180. You can use the cosine of the angle to find the similarity between two users. The higher the angle, the lower will be the cosine and thus, the lower will be the similarity of the users. You can also inverse the value of the cosine of the angle to get the cosine distance between the users by subtracting it from 1. This should group jokes that are similar in rating.",
      "metadata": {}
    },
    {
      "id": "1c246c5c-c027-498c-b5e8-94a3ed8716d5",
      "cell_type": "code",
      "source": "joke_similarity = cosine_similarity(normalized_item_rec)",
      "metadata": {
        "trusted": true
      },
      "outputs": [],
      "execution_count": 419
    },
    {
      "id": "f8fdd3d9-f1a3-42fa-a951-ba99c56b1847",
      "cell_type": "code",
      "source": "joke_similarity",
      "metadata": {
        "trusted": true
      },
      "outputs": [
        {
          "execution_count": 420,
          "output_type": "execute_result",
          "data": {
            "text/plain": "array([[1.        , 0.36269036, 0.35614004, ..., 0.12581767, 0.1251231 ,\n        0.14609155],\n       [0.36269036, 1.        , 0.27931069, ..., 0.19306961, 0.10502736,\n        0.20832425],\n       [0.35614004, 0.27931069, 1.        , ..., 0.15580797, 0.1442891 ,\n        0.2324058 ],\n       ...,\n       [0.12581767, 0.19306961, 0.15580797, ..., 1.        , 0.28362382,\n        0.40954574],\n       [0.1251231 , 0.10502736, 0.1442891 , ..., 0.28362382, 1.        ,\n        0.287647  ],\n       [0.14609155, 0.20832425, 0.2324058 , ..., 0.40954574, 0.287647  ,\n        1.        ]])"
          },
          "metadata": {}
        }
      ],
      "execution_count": 420
    },
    {
      "id": "43e5864f-048d-415a-96cf-e98f8f6829d3",
      "cell_type": "markdown",
      "source": "##### This is cosine similarity between the 100 jokes:",
      "metadata": {}
    },
    {
      "id": "0647036b-2816-4199-a640-b4fd2a786bc9",
      "cell_type": "code",
      "source": "joke_similarity_df = pd.DataFrame(joke_similarity)\n\n#reset the index's back to the tes data user_ids rather than 0-4996 that cosine defaults to\njoke_similarity_df.index = normalized_item_rec.index\njoke_similarity_df.columns = normalized_item_rec.index\n\njoke_similarity_df ",
      "metadata": {
        "trusted": true
      },
      "outputs": [
        {
          "execution_count": 421,
          "output_type": "execute_result",
          "data": {
            "text/plain": "            1         2         3         4         5         6         7  \\\n1    1.000000  0.362690  0.356140  0.284144  0.141452  0.184682  0.161738   \n2    0.362690  1.000000  0.279311  0.300435  0.175442  0.208779  0.170889   \n3    0.356140  0.279311  1.000000  0.362129  0.176821  0.244189  0.147014   \n4    0.284144  0.300435  0.362129  1.000000  0.165173  0.284782  0.159111   \n5    0.141452  0.175442  0.176821  0.165173  1.000000  0.171833  0.200219   \n..        ...       ...       ...       ...       ...       ...       ...   \n96   0.142739  0.105985  0.122739  0.186137  0.067977  0.208857  0.087052   \n97   0.140995  0.120094  0.123745  0.167439  0.069648  0.170656  0.113062   \n98   0.125818  0.193070  0.155808  0.262802  0.138641  0.173184  0.099702   \n99   0.125123  0.105027  0.144289  0.228524  0.095656  0.193678  0.090010   \n100  0.146092  0.208324  0.232406  0.302148  0.170821  0.235053  0.098332   \n\n            8         9        10  ...        91        92        93  \\\n1    0.153847  0.318997  0.304383  ...  0.117984  0.102573  0.137465   \n2    0.104768  0.233495  0.255307  ...  0.105521  0.099920  0.121203   \n3    0.149409  0.306989  0.278348  ...  0.124190  0.124636  0.144655   \n4    0.074049  0.358951  0.230463  ...  0.147791  0.195804  0.187727   \n5    0.161630  0.091734  0.147446  ...  0.081577  0.072984  0.089255   \n..        ...       ...       ...  ...       ...       ...       ...   \n96   0.051866  0.248113  0.128344  ...  0.311552  0.361497  0.350092   \n97   0.079377  0.206695  0.112472  ...  0.293352  0.283874  0.328870   \n98  -0.003684  0.115984  0.084101  ...  0.195641  0.232003  0.251530   \n99   0.064581  0.220191  0.124980  ...  0.275241  0.311675  0.296950   \n100  0.044325  0.149690  0.111381  ...  0.170418  0.204755  0.235809   \n\n           94        95        96        97        98        99       100  \n1    0.160817  0.148895  0.142739  0.140995  0.125818  0.125123  0.146092  \n2    0.098861  0.100820  0.105985  0.120094  0.193070  0.105027  0.208324  \n3    0.129085  0.152242  0.122739  0.123745  0.155808  0.144289  0.232406  \n4    0.160339  0.182468  0.186137  0.167439  0.262802  0.228524  0.302148  \n5    0.072582  0.081793  0.067977  0.069648  0.138641  0.095656  0.170821  \n..        ...       ...       ...       ...       ...       ...       ...  \n96   0.391696  0.398235  1.000000  0.418522  0.223271  0.366638  0.221916  \n97   0.349606  0.318327  0.418522  1.000000  0.232303  0.348921  0.181949  \n98   0.161958  0.195323  0.223271  0.232303  1.000000  0.283624  0.409546  \n99   0.324578  0.321561  0.366638  0.348921  0.283624  1.000000  0.287647  \n100  0.150371  0.170081  0.221916  0.181949  0.409546  0.287647  1.000000  \n\n[100 rows x 100 columns]",
            "text/html": "<div>\n<style scoped>\n    .dataframe tbody tr th:only-of-type {\n        vertical-align: middle;\n    }\n\n    .dataframe tbody tr th {\n        vertical-align: top;\n    }\n\n    .dataframe thead th {\n        text-align: right;\n    }\n</style>\n<table border=\"1\" class=\"dataframe\">\n  <thead>\n    <tr style=\"text-align: right;\">\n      <th></th>\n      <th>1</th>\n      <th>2</th>\n      <th>3</th>\n      <th>4</th>\n      <th>5</th>\n      <th>6</th>\n      <th>7</th>\n      <th>8</th>\n      <th>9</th>\n      <th>10</th>\n      <th>...</th>\n      <th>91</th>\n      <th>92</th>\n      <th>93</th>\n      <th>94</th>\n      <th>95</th>\n      <th>96</th>\n      <th>97</th>\n      <th>98</th>\n      <th>99</th>\n      <th>100</th>\n    </tr>\n  </thead>\n  <tbody>\n    <tr>\n      <th>1</th>\n      <td>1.000000</td>\n      <td>0.362690</td>\n      <td>0.356140</td>\n      <td>0.284144</td>\n      <td>0.141452</td>\n      <td>0.184682</td>\n      <td>0.161738</td>\n      <td>0.153847</td>\n      <td>0.318997</td>\n      <td>0.304383</td>\n      <td>...</td>\n      <td>0.117984</td>\n      <td>0.102573</td>\n      <td>0.137465</td>\n      <td>0.160817</td>\n      <td>0.148895</td>\n      <td>0.142739</td>\n      <td>0.140995</td>\n      <td>0.125818</td>\n      <td>0.125123</td>\n      <td>0.146092</td>\n    </tr>\n    <tr>\n      <th>2</th>\n      <td>0.362690</td>\n      <td>1.000000</td>\n      <td>0.279311</td>\n      <td>0.300435</td>\n      <td>0.175442</td>\n      <td>0.208779</td>\n      <td>0.170889</td>\n      <td>0.104768</td>\n      <td>0.233495</td>\n      <td>0.255307</td>\n      <td>...</td>\n      <td>0.105521</td>\n      <td>0.099920</td>\n      <td>0.121203</td>\n      <td>0.098861</td>\n      <td>0.100820</td>\n      <td>0.105985</td>\n      <td>0.120094</td>\n      <td>0.193070</td>\n      <td>0.105027</td>\n      <td>0.208324</td>\n    </tr>\n    <tr>\n      <th>3</th>\n      <td>0.356140</td>\n      <td>0.279311</td>\n      <td>1.000000</td>\n      <td>0.362129</td>\n      <td>0.176821</td>\n      <td>0.244189</td>\n      <td>0.147014</td>\n      <td>0.149409</td>\n      <td>0.306989</td>\n      <td>0.278348</td>\n      <td>...</td>\n      <td>0.124190</td>\n      <td>0.124636</td>\n      <td>0.144655</td>\n      <td>0.129085</td>\n      <td>0.152242</td>\n      <td>0.122739</td>\n      <td>0.123745</td>\n      <td>0.155808</td>\n      <td>0.144289</td>\n      <td>0.232406</td>\n    </tr>\n    <tr>\n      <th>4</th>\n      <td>0.284144</td>\n      <td>0.300435</td>\n      <td>0.362129</td>\n      <td>1.000000</td>\n      <td>0.165173</td>\n      <td>0.284782</td>\n      <td>0.159111</td>\n      <td>0.074049</td>\n      <td>0.358951</td>\n      <td>0.230463</td>\n      <td>...</td>\n      <td>0.147791</td>\n      <td>0.195804</td>\n      <td>0.187727</td>\n      <td>0.160339</td>\n      <td>0.182468</td>\n      <td>0.186137</td>\n      <td>0.167439</td>\n      <td>0.262802</td>\n      <td>0.228524</td>\n      <td>0.302148</td>\n    </tr>\n    <tr>\n      <th>5</th>\n      <td>0.141452</td>\n      <td>0.175442</td>\n      <td>0.176821</td>\n      <td>0.165173</td>\n      <td>1.000000</td>\n      <td>0.171833</td>\n      <td>0.200219</td>\n      <td>0.161630</td>\n      <td>0.091734</td>\n      <td>0.147446</td>\n      <td>...</td>\n      <td>0.081577</td>\n      <td>0.072984</td>\n      <td>0.089255</td>\n      <td>0.072582</td>\n      <td>0.081793</td>\n      <td>0.067977</td>\n      <td>0.069648</td>\n      <td>0.138641</td>\n      <td>0.095656</td>\n      <td>0.170821</td>\n    </tr>\n    <tr>\n      <th>...</th>\n      <td>...</td>\n      <td>...</td>\n      <td>...</td>\n      <td>...</td>\n      <td>...</td>\n      <td>...</td>\n      <td>...</td>\n      <td>...</td>\n      <td>...</td>\n      <td>...</td>\n      <td>...</td>\n      <td>...</td>\n      <td>...</td>\n      <td>...</td>\n      <td>...</td>\n      <td>...</td>\n      <td>...</td>\n      <td>...</td>\n      <td>...</td>\n      <td>...</td>\n      <td>...</td>\n    </tr>\n    <tr>\n      <th>96</th>\n      <td>0.142739</td>\n      <td>0.105985</td>\n      <td>0.122739</td>\n      <td>0.186137</td>\n      <td>0.067977</td>\n      <td>0.208857</td>\n      <td>0.087052</td>\n      <td>0.051866</td>\n      <td>0.248113</td>\n      <td>0.128344</td>\n      <td>...</td>\n      <td>0.311552</td>\n      <td>0.361497</td>\n      <td>0.350092</td>\n      <td>0.391696</td>\n      <td>0.398235</td>\n      <td>1.000000</td>\n      <td>0.418522</td>\n      <td>0.223271</td>\n      <td>0.366638</td>\n      <td>0.221916</td>\n    </tr>\n    <tr>\n      <th>97</th>\n      <td>0.140995</td>\n      <td>0.120094</td>\n      <td>0.123745</td>\n      <td>0.167439</td>\n      <td>0.069648</td>\n      <td>0.170656</td>\n      <td>0.113062</td>\n      <td>0.079377</td>\n      <td>0.206695</td>\n      <td>0.112472</td>\n      <td>...</td>\n      <td>0.293352</td>\n      <td>0.283874</td>\n      <td>0.328870</td>\n      <td>0.349606</td>\n      <td>0.318327</td>\n      <td>0.418522</td>\n      <td>1.000000</td>\n      <td>0.232303</td>\n      <td>0.348921</td>\n      <td>0.181949</td>\n    </tr>\n    <tr>\n      <th>98</th>\n      <td>0.125818</td>\n      <td>0.193070</td>\n      <td>0.155808</td>\n      <td>0.262802</td>\n      <td>0.138641</td>\n      <td>0.173184</td>\n      <td>0.099702</td>\n      <td>-0.003684</td>\n      <td>0.115984</td>\n      <td>0.084101</td>\n      <td>...</td>\n      <td>0.195641</td>\n      <td>0.232003</td>\n      <td>0.251530</td>\n      <td>0.161958</td>\n      <td>0.195323</td>\n      <td>0.223271</td>\n      <td>0.232303</td>\n      <td>1.000000</td>\n      <td>0.283624</td>\n      <td>0.409546</td>\n    </tr>\n    <tr>\n      <th>99</th>\n      <td>0.125123</td>\n      <td>0.105027</td>\n      <td>0.144289</td>\n      <td>0.228524</td>\n      <td>0.095656</td>\n      <td>0.193678</td>\n      <td>0.090010</td>\n      <td>0.064581</td>\n      <td>0.220191</td>\n      <td>0.124980</td>\n      <td>...</td>\n      <td>0.275241</td>\n      <td>0.311675</td>\n      <td>0.296950</td>\n      <td>0.324578</td>\n      <td>0.321561</td>\n      <td>0.366638</td>\n      <td>0.348921</td>\n      <td>0.283624</td>\n      <td>1.000000</td>\n      <td>0.287647</td>\n    </tr>\n    <tr>\n      <th>100</th>\n      <td>0.146092</td>\n      <td>0.208324</td>\n      <td>0.232406</td>\n      <td>0.302148</td>\n      <td>0.170821</td>\n      <td>0.235053</td>\n      <td>0.098332</td>\n      <td>0.044325</td>\n      <td>0.149690</td>\n      <td>0.111381</td>\n      <td>...</td>\n      <td>0.170418</td>\n      <td>0.204755</td>\n      <td>0.235809</td>\n      <td>0.150371</td>\n      <td>0.170081</td>\n      <td>0.221916</td>\n      <td>0.181949</td>\n      <td>0.409546</td>\n      <td>0.287647</td>\n      <td>1.000000</td>\n    </tr>\n  </tbody>\n</table>\n<p>100 rows × 100 columns</p>\n</div>"
          },
          "metadata": {}
        }
      ],
      "execution_count": 421
    },
    {
      "id": "e74b5dd1-00d9-4c06-9931-217f6204e0ae",
      "cell_type": "markdown",
      "source": "As an example, here are the similarly rated jokes to Joke 16:",
      "metadata": {}
    },
    {
      "id": "48f13354-402b-4aab-8a70-4248b53a5dfe",
      "cell_type": "code",
      "source": "joke_similarity_df.loc[\"10\"].sort_values(ascending=False)",
      "metadata": {
        "trusted": true
      },
      "outputs": [
        {
          "execution_count": 589,
          "output_type": "execute_result",
          "data": {
            "text/plain": "10    1.000000\n38    0.361532\n23    0.353488\n22    0.346321\n44    0.339317\n        ...   \n80    0.078767\n83    0.076237\n73    0.073737\n71    0.071469\n89    0.069534\nName: 10, Length: 100, dtype: float64"
          },
          "metadata": {}
        }
      ],
      "execution_count": 589
    },
    {
      "id": "e61b51ac-c62c-4370-8441-b0924e80f27b",
      "cell_type": "code",
      "source": "jokes_rating_copy = original_df.drop(columns=['Number of Jokes Rated',\"User\"]).copy().T\njokes_rating_copy",
      "metadata": {
        "trusted": true
      },
      "outputs": [
        {
          "execution_count": 590,
          "output_type": "execute_result",
          "data": {
            "text/plain": "     0      1      2      3      4      5      6      7      8      9      \\\n1    -7.82   4.08    NaN    NaN   8.50  -6.17    NaN   6.84  -3.79   3.01   \n2     8.79  -0.29    NaN   8.35   4.61  -3.54    NaN   3.16  -3.54   5.15   \n3    -9.66   6.36    NaN    NaN  -4.17   0.44    NaN   9.17  -9.42   5.15   \n4    -8.16   4.37    NaN    NaN  -5.39  -8.50    NaN  -6.21  -6.89   3.01   \n5    -7.52  -2.38   9.03   1.80   1.36  -7.09   8.59  -8.16  -8.74   6.41   \n..     ...    ...    ...    ...    ...    ...    ...    ...    ...    ...   \n96     NaN  -2.14    NaN    NaN   1.55  -3.35   2.33  -3.35  -0.29    NaN   \n97   -5.63   3.06    NaN    NaN   3.11   0.05    NaN   2.14  -0.29    NaN   \n98     NaN   0.34    NaN    NaN   6.55  -9.08    NaN  -0.05  -0.29    NaN   \n99     NaN  -4.32    NaN    NaN   1.80  -5.05    NaN   1.31  -3.40    NaN   \n100    NaN   1.07    NaN    NaN   1.60  -3.45    NaN   0.00  -4.95    NaN   \n\n     ...  24973  24974  24975  24976  24977  24978  24979  24980  24981  24982  \n1    ...   1.80    NaN    NaN   1.36    NaN   0.44   9.13    NaN    NaN   2.43  \n2    ...  -9.42  -9.22   8.20   1.75    NaN   7.43  -8.16    NaN    NaN   2.67  \n3    ...  -8.20    NaN    NaN   2.38    NaN   9.08   8.59    NaN    NaN  -3.98  \n4    ...    NaN    NaN    NaN   1.84    NaN   2.33   9.08    NaN    NaN   4.27  \n5    ...  -8.54   5.97   8.79   4.66   7.67   3.20   0.87  -7.77  -9.71  -2.28  \n..   ...    ...    ...    ...    ...    ...    ...    ...    ...    ...    ...  \n96   ...    NaN    NaN   8.93  -0.34    NaN   9.03  -8.20    NaN    NaN    NaN  \n97   ...    NaN    NaN    NaN   9.32    NaN   6.55  -7.23    NaN    NaN    NaN  \n98   ...    NaN    NaN   9.13   9.17    NaN   8.69  -8.59    NaN    NaN    NaN  \n99   ...  -3.74    NaN    NaN   8.88    NaN   8.79   9.13    NaN    NaN    NaN  \n100  ...    NaN    NaN    NaN   9.27    NaN   7.43   8.45    NaN    NaN    NaN  \n\n[100 rows x 24983 columns]",
            "text/html": "<div>\n<style scoped>\n    .dataframe tbody tr th:only-of-type {\n        vertical-align: middle;\n    }\n\n    .dataframe tbody tr th {\n        vertical-align: top;\n    }\n\n    .dataframe thead th {\n        text-align: right;\n    }\n</style>\n<table border=\"1\" class=\"dataframe\">\n  <thead>\n    <tr style=\"text-align: right;\">\n      <th></th>\n      <th>0</th>\n      <th>1</th>\n      <th>2</th>\n      <th>3</th>\n      <th>4</th>\n      <th>5</th>\n      <th>6</th>\n      <th>7</th>\n      <th>8</th>\n      <th>9</th>\n      <th>...</th>\n      <th>24973</th>\n      <th>24974</th>\n      <th>24975</th>\n      <th>24976</th>\n      <th>24977</th>\n      <th>24978</th>\n      <th>24979</th>\n      <th>24980</th>\n      <th>24981</th>\n      <th>24982</th>\n    </tr>\n  </thead>\n  <tbody>\n    <tr>\n      <th>1</th>\n      <td>-7.82</td>\n      <td>4.08</td>\n      <td>NaN</td>\n      <td>NaN</td>\n      <td>8.50</td>\n      <td>-6.17</td>\n      <td>NaN</td>\n      <td>6.84</td>\n      <td>-3.79</td>\n      <td>3.01</td>\n      <td>...</td>\n      <td>1.80</td>\n      <td>NaN</td>\n      <td>NaN</td>\n      <td>1.36</td>\n      <td>NaN</td>\n      <td>0.44</td>\n      <td>9.13</td>\n      <td>NaN</td>\n      <td>NaN</td>\n      <td>2.43</td>\n    </tr>\n    <tr>\n      <th>2</th>\n      <td>8.79</td>\n      <td>-0.29</td>\n      <td>NaN</td>\n      <td>8.35</td>\n      <td>4.61</td>\n      <td>-3.54</td>\n      <td>NaN</td>\n      <td>3.16</td>\n      <td>-3.54</td>\n      <td>5.15</td>\n      <td>...</td>\n      <td>-9.42</td>\n      <td>-9.22</td>\n      <td>8.20</td>\n      <td>1.75</td>\n      <td>NaN</td>\n      <td>7.43</td>\n      <td>-8.16</td>\n      <td>NaN</td>\n      <td>NaN</td>\n      <td>2.67</td>\n    </tr>\n    <tr>\n      <th>3</th>\n      <td>-9.66</td>\n      <td>6.36</td>\n      <td>NaN</td>\n      <td>NaN</td>\n      <td>-4.17</td>\n      <td>0.44</td>\n      <td>NaN</td>\n      <td>9.17</td>\n      <td>-9.42</td>\n      <td>5.15</td>\n      <td>...</td>\n      <td>-8.20</td>\n      <td>NaN</td>\n      <td>NaN</td>\n      <td>2.38</td>\n      <td>NaN</td>\n      <td>9.08</td>\n      <td>8.59</td>\n      <td>NaN</td>\n      <td>NaN</td>\n      <td>-3.98</td>\n    </tr>\n    <tr>\n      <th>4</th>\n      <td>-8.16</td>\n      <td>4.37</td>\n      <td>NaN</td>\n      <td>NaN</td>\n      <td>-5.39</td>\n      <td>-8.50</td>\n      <td>NaN</td>\n      <td>-6.21</td>\n      <td>-6.89</td>\n      <td>3.01</td>\n      <td>...</td>\n      <td>NaN</td>\n      <td>NaN</td>\n      <td>NaN</td>\n      <td>1.84</td>\n      <td>NaN</td>\n      <td>2.33</td>\n      <td>9.08</td>\n      <td>NaN</td>\n      <td>NaN</td>\n      <td>4.27</td>\n    </tr>\n    <tr>\n      <th>5</th>\n      <td>-7.52</td>\n      <td>-2.38</td>\n      <td>9.03</td>\n      <td>1.80</td>\n      <td>1.36</td>\n      <td>-7.09</td>\n      <td>8.59</td>\n      <td>-8.16</td>\n      <td>-8.74</td>\n      <td>6.41</td>\n      <td>...</td>\n      <td>-8.54</td>\n      <td>5.97</td>\n      <td>8.79</td>\n      <td>4.66</td>\n      <td>7.67</td>\n      <td>3.20</td>\n      <td>0.87</td>\n      <td>-7.77</td>\n      <td>-9.71</td>\n      <td>-2.28</td>\n    </tr>\n    <tr>\n      <th>...</th>\n      <td>...</td>\n      <td>...</td>\n      <td>...</td>\n      <td>...</td>\n      <td>...</td>\n      <td>...</td>\n      <td>...</td>\n      <td>...</td>\n      <td>...</td>\n      <td>...</td>\n      <td>...</td>\n      <td>...</td>\n      <td>...</td>\n      <td>...</td>\n      <td>...</td>\n      <td>...</td>\n      <td>...</td>\n      <td>...</td>\n      <td>...</td>\n      <td>...</td>\n      <td>...</td>\n    </tr>\n    <tr>\n      <th>96</th>\n      <td>NaN</td>\n      <td>-2.14</td>\n      <td>NaN</td>\n      <td>NaN</td>\n      <td>1.55</td>\n      <td>-3.35</td>\n      <td>2.33</td>\n      <td>-3.35</td>\n      <td>-0.29</td>\n      <td>NaN</td>\n      <td>...</td>\n      <td>NaN</td>\n      <td>NaN</td>\n      <td>8.93</td>\n      <td>-0.34</td>\n      <td>NaN</td>\n      <td>9.03</td>\n      <td>-8.20</td>\n      <td>NaN</td>\n      <td>NaN</td>\n      <td>NaN</td>\n    </tr>\n    <tr>\n      <th>97</th>\n      <td>-5.63</td>\n      <td>3.06</td>\n      <td>NaN</td>\n      <td>NaN</td>\n      <td>3.11</td>\n      <td>0.05</td>\n      <td>NaN</td>\n      <td>2.14</td>\n      <td>-0.29</td>\n      <td>NaN</td>\n      <td>...</td>\n      <td>NaN</td>\n      <td>NaN</td>\n      <td>NaN</td>\n      <td>9.32</td>\n      <td>NaN</td>\n      <td>6.55</td>\n      <td>-7.23</td>\n      <td>NaN</td>\n      <td>NaN</td>\n      <td>NaN</td>\n    </tr>\n    <tr>\n      <th>98</th>\n      <td>NaN</td>\n      <td>0.34</td>\n      <td>NaN</td>\n      <td>NaN</td>\n      <td>6.55</td>\n      <td>-9.08</td>\n      <td>NaN</td>\n      <td>-0.05</td>\n      <td>-0.29</td>\n      <td>NaN</td>\n      <td>...</td>\n      <td>NaN</td>\n      <td>NaN</td>\n      <td>9.13</td>\n      <td>9.17</td>\n      <td>NaN</td>\n      <td>8.69</td>\n      <td>-8.59</td>\n      <td>NaN</td>\n      <td>NaN</td>\n      <td>NaN</td>\n    </tr>\n    <tr>\n      <th>99</th>\n      <td>NaN</td>\n      <td>-4.32</td>\n      <td>NaN</td>\n      <td>NaN</td>\n      <td>1.80</td>\n      <td>-5.05</td>\n      <td>NaN</td>\n      <td>1.31</td>\n      <td>-3.40</td>\n      <td>NaN</td>\n      <td>...</td>\n      <td>-3.74</td>\n      <td>NaN</td>\n      <td>NaN</td>\n      <td>8.88</td>\n      <td>NaN</td>\n      <td>8.79</td>\n      <td>9.13</td>\n      <td>NaN</td>\n      <td>NaN</td>\n      <td>NaN</td>\n    </tr>\n    <tr>\n      <th>100</th>\n      <td>NaN</td>\n      <td>1.07</td>\n      <td>NaN</td>\n      <td>NaN</td>\n      <td>1.60</td>\n      <td>-3.45</td>\n      <td>NaN</td>\n      <td>0.00</td>\n      <td>-4.95</td>\n      <td>NaN</td>\n      <td>...</td>\n      <td>NaN</td>\n      <td>NaN</td>\n      <td>NaN</td>\n      <td>9.27</td>\n      <td>NaN</td>\n      <td>7.43</td>\n      <td>8.45</td>\n      <td>NaN</td>\n      <td>NaN</td>\n      <td>NaN</td>\n    </tr>\n  </tbody>\n</table>\n<p>100 rows × 24983 columns</p>\n</div>"
          },
          "metadata": {}
        }
      ],
      "execution_count": 590
    },
    {
      "id": "1ba74062-fa32-4b45-9817-d4a7f0e73ee7",
      "cell_type": "markdown",
      "source": "We previously predicted with our user-user recommendatiom, that User 20324 probably would like joke 89.",
      "metadata": {}
    },
    {
      "id": "52d25884-e01e-48bd-ad4d-77bd3835985b",
      "cell_type": "code",
      "source": "joke_89 = jokes_rating_copy.loc[['89']]\njoke_89 = joke_89.fillna(0)\njoke_89",
      "metadata": {
        "trusted": true
      },
      "outputs": [
        {
          "execution_count": 632,
          "output_type": "execute_result",
          "data": {
            "text/plain": "    0      1      2      3      4      5      6      7      8      9      ...  \\\n89    0.0   4.56    0.0    0.0   2.82  -5.68    0.0  -0.24   4.56    0.0  ...   \n\n    24973  24974  24975  24976  24977  24978  24979  24980  24981  24982  \n89    0.0    0.0    0.0    0.0    0.0   9.13  -1.36    0.0    0.0    0.0  \n\n[1 rows x 24983 columns]",
            "text/html": "<div>\n<style scoped>\n    .dataframe tbody tr th:only-of-type {\n        vertical-align: middle;\n    }\n\n    .dataframe tbody tr th {\n        vertical-align: top;\n    }\n\n    .dataframe thead th {\n        text-align: right;\n    }\n</style>\n<table border=\"1\" class=\"dataframe\">\n  <thead>\n    <tr style=\"text-align: right;\">\n      <th></th>\n      <th>0</th>\n      <th>1</th>\n      <th>2</th>\n      <th>3</th>\n      <th>4</th>\n      <th>5</th>\n      <th>6</th>\n      <th>7</th>\n      <th>8</th>\n      <th>9</th>\n      <th>...</th>\n      <th>24973</th>\n      <th>24974</th>\n      <th>24975</th>\n      <th>24976</th>\n      <th>24977</th>\n      <th>24978</th>\n      <th>24979</th>\n      <th>24980</th>\n      <th>24981</th>\n      <th>24982</th>\n    </tr>\n  </thead>\n  <tbody>\n    <tr>\n      <th>89</th>\n      <td>0.0</td>\n      <td>4.56</td>\n      <td>0.0</td>\n      <td>0.0</td>\n      <td>2.82</td>\n      <td>-5.68</td>\n      <td>0.0</td>\n      <td>-0.24</td>\n      <td>4.56</td>\n      <td>0.0</td>\n      <td>...</td>\n      <td>0.0</td>\n      <td>0.0</td>\n      <td>0.0</td>\n      <td>0.0</td>\n      <td>0.0</td>\n      <td>9.13</td>\n      <td>-1.36</td>\n      <td>0.0</td>\n      <td>0.0</td>\n      <td>0.0</td>\n    </tr>\n  </tbody>\n</table>\n<p>1 rows × 24983 columns</p>\n</div>"
          },
          "metadata": {}
        }
      ],
      "execution_count": 632
    },
    {
      "id": "12e5e0d5-8cec-4575-8a37-ac4158ef21a9",
      "cell_type": "markdown",
      "source": "User 20323's joke ratings:",
      "metadata": {}
    },
    {
      "id": "0ba1b725-98a7-4abb-93bc-5b394dede355",
      "cell_type": "code",
      "source": "#training_data_y_jokes\nuser_20323 = jokes_rating_copy[20323]\nuser_20323",
      "metadata": {
        "trusted": true
      },
      "outputs": [
        {
          "execution_count": 622,
          "output_type": "execute_result",
          "data": {
            "text/plain": "1      8.54\n2      3.54\n3     -6.41\n4     -5.68\n5     -7.28\n       ... \n96     3.98\n97     7.18\n98     1.41\n99    -7.23\n100    5.78\nName: 20323, Length: 100, dtype: float64"
          },
          "metadata": {}
        }
      ],
      "execution_count": 622
    },
    {
      "id": "99595a92-85f5-4d98-b062-7d0d1e36c796",
      "cell_type": "markdown",
      "source": "Including just the users who rated the jokes our user did",
      "metadata": {}
    },
    {
      "id": "d477141f-6951-4d87-af93-129f6e2a9eb6",
      "cell_type": "code",
      "source": "#training_data_x_jokes\ntraining_data_x_jokes = jokes_rating_copy[user_20323.notnull()]\ntraining_data_x_jokes = training_data_x_jokes.fillna(0)\ntraining_data_x_jokes",
      "metadata": {
        "trusted": true,
        "scrolled": true
      },
      "outputs": [
        {
          "execution_count": 623,
          "output_type": "execute_result",
          "data": {
            "text/plain": "     0      1      2      3      4      5      6      7      8      9      \\\n1    -7.82   4.08   0.00   0.00   8.50  -6.17   0.00   6.84  -3.79   3.01   \n2     8.79  -0.29   0.00   8.35   4.61  -3.54   0.00   3.16  -3.54   5.15   \n3    -9.66   6.36   0.00   0.00  -4.17   0.44   0.00   9.17  -9.42   5.15   \n4    -8.16   4.37   0.00   0.00  -5.39  -8.50   0.00  -6.21  -6.89   3.01   \n5    -7.52  -2.38   9.03   1.80   1.36  -7.09   8.59  -8.16  -8.74   6.41   \n..     ...    ...    ...    ...    ...    ...    ...    ...    ...    ...   \n96    0.00  -2.14   0.00   0.00   1.55  -3.35   2.33  -3.35  -0.29   0.00   \n97   -5.63   3.06   0.00   0.00   3.11   0.05   0.00   2.14  -0.29   0.00   \n98    0.00   0.34   0.00   0.00   6.55  -9.08   0.00  -0.05  -0.29   0.00   \n99    0.00  -4.32   0.00   0.00   1.80  -5.05   0.00   1.31  -3.40   0.00   \n100   0.00   1.07   0.00   0.00   1.60  -3.45   0.00   0.00  -4.95   0.00   \n\n     ...  24973  24974  24975  24976  24977  24978  24979  24980  24981  24982  \n1    ...   1.80   0.00   0.00   1.36   0.00   0.44   9.13   0.00   0.00   2.43  \n2    ...  -9.42  -9.22   8.20   1.75   0.00   7.43  -8.16   0.00   0.00   2.67  \n3    ...  -8.20   0.00   0.00   2.38   0.00   9.08   8.59   0.00   0.00  -3.98  \n4    ...   0.00   0.00   0.00   1.84   0.00   2.33   9.08   0.00   0.00   4.27  \n5    ...  -8.54   5.97   8.79   4.66   7.67   3.20   0.87  -7.77  -9.71  -2.28  \n..   ...    ...    ...    ...    ...    ...    ...    ...    ...    ...    ...  \n96   ...   0.00   0.00   8.93  -0.34   0.00   9.03  -8.20   0.00   0.00   0.00  \n97   ...   0.00   0.00   0.00   9.32   0.00   6.55  -7.23   0.00   0.00   0.00  \n98   ...   0.00   0.00   9.13   9.17   0.00   8.69  -8.59   0.00   0.00   0.00  \n99   ...  -3.74   0.00   0.00   8.88   0.00   8.79   9.13   0.00   0.00   0.00  \n100  ...   0.00   0.00   0.00   9.27   0.00   7.43   8.45   0.00   0.00   0.00  \n\n[81 rows x 24983 columns]",
            "text/html": "<div>\n<style scoped>\n    .dataframe tbody tr th:only-of-type {\n        vertical-align: middle;\n    }\n\n    .dataframe tbody tr th {\n        vertical-align: top;\n    }\n\n    .dataframe thead th {\n        text-align: right;\n    }\n</style>\n<table border=\"1\" class=\"dataframe\">\n  <thead>\n    <tr style=\"text-align: right;\">\n      <th></th>\n      <th>0</th>\n      <th>1</th>\n      <th>2</th>\n      <th>3</th>\n      <th>4</th>\n      <th>5</th>\n      <th>6</th>\n      <th>7</th>\n      <th>8</th>\n      <th>9</th>\n      <th>...</th>\n      <th>24973</th>\n      <th>24974</th>\n      <th>24975</th>\n      <th>24976</th>\n      <th>24977</th>\n      <th>24978</th>\n      <th>24979</th>\n      <th>24980</th>\n      <th>24981</th>\n      <th>24982</th>\n    </tr>\n  </thead>\n  <tbody>\n    <tr>\n      <th>1</th>\n      <td>-7.82</td>\n      <td>4.08</td>\n      <td>0.00</td>\n      <td>0.00</td>\n      <td>8.50</td>\n      <td>-6.17</td>\n      <td>0.00</td>\n      <td>6.84</td>\n      <td>-3.79</td>\n      <td>3.01</td>\n      <td>...</td>\n      <td>1.80</td>\n      <td>0.00</td>\n      <td>0.00</td>\n      <td>1.36</td>\n      <td>0.00</td>\n      <td>0.44</td>\n      <td>9.13</td>\n      <td>0.00</td>\n      <td>0.00</td>\n      <td>2.43</td>\n    </tr>\n    <tr>\n      <th>2</th>\n      <td>8.79</td>\n      <td>-0.29</td>\n      <td>0.00</td>\n      <td>8.35</td>\n      <td>4.61</td>\n      <td>-3.54</td>\n      <td>0.00</td>\n      <td>3.16</td>\n      <td>-3.54</td>\n      <td>5.15</td>\n      <td>...</td>\n      <td>-9.42</td>\n      <td>-9.22</td>\n      <td>8.20</td>\n      <td>1.75</td>\n      <td>0.00</td>\n      <td>7.43</td>\n      <td>-8.16</td>\n      <td>0.00</td>\n      <td>0.00</td>\n      <td>2.67</td>\n    </tr>\n    <tr>\n      <th>3</th>\n      <td>-9.66</td>\n      <td>6.36</td>\n      <td>0.00</td>\n      <td>0.00</td>\n      <td>-4.17</td>\n      <td>0.44</td>\n      <td>0.00</td>\n      <td>9.17</td>\n      <td>-9.42</td>\n      <td>5.15</td>\n      <td>...</td>\n      <td>-8.20</td>\n      <td>0.00</td>\n      <td>0.00</td>\n      <td>2.38</td>\n      <td>0.00</td>\n      <td>9.08</td>\n      <td>8.59</td>\n      <td>0.00</td>\n      <td>0.00</td>\n      <td>-3.98</td>\n    </tr>\n    <tr>\n      <th>4</th>\n      <td>-8.16</td>\n      <td>4.37</td>\n      <td>0.00</td>\n      <td>0.00</td>\n      <td>-5.39</td>\n      <td>-8.50</td>\n      <td>0.00</td>\n      <td>-6.21</td>\n      <td>-6.89</td>\n      <td>3.01</td>\n      <td>...</td>\n      <td>0.00</td>\n      <td>0.00</td>\n      <td>0.00</td>\n      <td>1.84</td>\n      <td>0.00</td>\n      <td>2.33</td>\n      <td>9.08</td>\n      <td>0.00</td>\n      <td>0.00</td>\n      <td>4.27</td>\n    </tr>\n    <tr>\n      <th>5</th>\n      <td>-7.52</td>\n      <td>-2.38</td>\n      <td>9.03</td>\n      <td>1.80</td>\n      <td>1.36</td>\n      <td>-7.09</td>\n      <td>8.59</td>\n      <td>-8.16</td>\n      <td>-8.74</td>\n      <td>6.41</td>\n      <td>...</td>\n      <td>-8.54</td>\n      <td>5.97</td>\n      <td>8.79</td>\n      <td>4.66</td>\n      <td>7.67</td>\n      <td>3.20</td>\n      <td>0.87</td>\n      <td>-7.77</td>\n      <td>-9.71</td>\n      <td>-2.28</td>\n    </tr>\n    <tr>\n      <th>...</th>\n      <td>...</td>\n      <td>...</td>\n      <td>...</td>\n      <td>...</td>\n      <td>...</td>\n      <td>...</td>\n      <td>...</td>\n      <td>...</td>\n      <td>...</td>\n      <td>...</td>\n      <td>...</td>\n      <td>...</td>\n      <td>...</td>\n      <td>...</td>\n      <td>...</td>\n      <td>...</td>\n      <td>...</td>\n      <td>...</td>\n      <td>...</td>\n      <td>...</td>\n      <td>...</td>\n    </tr>\n    <tr>\n      <th>96</th>\n      <td>0.00</td>\n      <td>-2.14</td>\n      <td>0.00</td>\n      <td>0.00</td>\n      <td>1.55</td>\n      <td>-3.35</td>\n      <td>2.33</td>\n      <td>-3.35</td>\n      <td>-0.29</td>\n      <td>0.00</td>\n      <td>...</td>\n      <td>0.00</td>\n      <td>0.00</td>\n      <td>8.93</td>\n      <td>-0.34</td>\n      <td>0.00</td>\n      <td>9.03</td>\n      <td>-8.20</td>\n      <td>0.00</td>\n      <td>0.00</td>\n      <td>0.00</td>\n    </tr>\n    <tr>\n      <th>97</th>\n      <td>-5.63</td>\n      <td>3.06</td>\n      <td>0.00</td>\n      <td>0.00</td>\n      <td>3.11</td>\n      <td>0.05</td>\n      <td>0.00</td>\n      <td>2.14</td>\n      <td>-0.29</td>\n      <td>0.00</td>\n      <td>...</td>\n      <td>0.00</td>\n      <td>0.00</td>\n      <td>0.00</td>\n      <td>9.32</td>\n      <td>0.00</td>\n      <td>6.55</td>\n      <td>-7.23</td>\n      <td>0.00</td>\n      <td>0.00</td>\n      <td>0.00</td>\n    </tr>\n    <tr>\n      <th>98</th>\n      <td>0.00</td>\n      <td>0.34</td>\n      <td>0.00</td>\n      <td>0.00</td>\n      <td>6.55</td>\n      <td>-9.08</td>\n      <td>0.00</td>\n      <td>-0.05</td>\n      <td>-0.29</td>\n      <td>0.00</td>\n      <td>...</td>\n      <td>0.00</td>\n      <td>0.00</td>\n      <td>9.13</td>\n      <td>9.17</td>\n      <td>0.00</td>\n      <td>8.69</td>\n      <td>-8.59</td>\n      <td>0.00</td>\n      <td>0.00</td>\n      <td>0.00</td>\n    </tr>\n    <tr>\n      <th>99</th>\n      <td>0.00</td>\n      <td>-4.32</td>\n      <td>0.00</td>\n      <td>0.00</td>\n      <td>1.80</td>\n      <td>-5.05</td>\n      <td>0.00</td>\n      <td>1.31</td>\n      <td>-3.40</td>\n      <td>0.00</td>\n      <td>...</td>\n      <td>-3.74</td>\n      <td>0.00</td>\n      <td>0.00</td>\n      <td>8.88</td>\n      <td>0.00</td>\n      <td>8.79</td>\n      <td>9.13</td>\n      <td>0.00</td>\n      <td>0.00</td>\n      <td>0.00</td>\n    </tr>\n    <tr>\n      <th>100</th>\n      <td>0.00</td>\n      <td>1.07</td>\n      <td>0.00</td>\n      <td>0.00</td>\n      <td>1.60</td>\n      <td>-3.45</td>\n      <td>0.00</td>\n      <td>0.00</td>\n      <td>-4.95</td>\n      <td>0.00</td>\n      <td>...</td>\n      <td>0.00</td>\n      <td>0.00</td>\n      <td>0.00</td>\n      <td>9.27</td>\n      <td>0.00</td>\n      <td>7.43</td>\n      <td>8.45</td>\n      <td>0.00</td>\n      <td>0.00</td>\n      <td>0.00</td>\n    </tr>\n  </tbody>\n</table>\n<p>81 rows × 24983 columns</p>\n</div>"
          },
          "metadata": {}
        }
      ],
      "execution_count": 623
    },
    {
      "id": "0eb8d210-e060-489f-b5d2-8fbf557e480e",
      "cell_type": "markdown",
      "source": "Remove the user 20323 unrated jokes ",
      "metadata": {}
    },
    {
      "id": "cd15cfbc-37fe-46d2-9f73-ed1455cf2cdf",
      "cell_type": "code",
      "source": "user_20323.dropna(inplace=True)\nuser_20323",
      "metadata": {
        "trusted": true
      },
      "outputs": [
        {
          "execution_count": 624,
          "output_type": "execute_result",
          "data": {
            "text/plain": "1      8.54\n2      3.54\n3     -6.41\n4     -5.68\n5     -7.28\n       ... \n96     3.98\n97     7.18\n98     1.41\n99    -7.23\n100    5.78\nName: 20323, Length: 81, dtype: float64"
          },
          "metadata": {}
        }
      ],
      "execution_count": 624
    },
    {
      "id": "853287c0-f38e-4c2c-ae5f-cec14fb3932a",
      "cell_type": "code",
      "source": "jokes_knn = KNeighborsRegressor(metric='cosine', n_neighbors=10)",
      "metadata": {
        "trusted": true
      },
      "outputs": [],
      "execution_count": 625
    },
    {
      "id": "c78b63c1-a8e2-48c9-8e43-756fb3cedf7d",
      "cell_type": "code",
      "source": "jokes_knn.fit(training_data_x_jokes,user_20323)",
      "metadata": {
        "trusted": true
      },
      "outputs": [
        {
          "execution_count": 626,
          "output_type": "execute_result",
          "data": {
            "text/plain": "KNeighborsRegressor(metric='cosine', n_neighbors=10)",
            "text/html": "<style>#sk-container-id-5 {\n  /* Definition of color scheme common for light and dark mode */\n  --sklearn-color-text: #000;\n  --sklearn-color-text-muted: #666;\n  --sklearn-color-line: gray;\n  /* Definition of color scheme for unfitted estimators */\n  --sklearn-color-unfitted-level-0: #fff5e6;\n  --sklearn-color-unfitted-level-1: #f6e4d2;\n  --sklearn-color-unfitted-level-2: #ffe0b3;\n  --sklearn-color-unfitted-level-3: chocolate;\n  /* Definition of color scheme for fitted estimators */\n  --sklearn-color-fitted-level-0: #f0f8ff;\n  --sklearn-color-fitted-level-1: #d4ebff;\n  --sklearn-color-fitted-level-2: #b3dbfd;\n  --sklearn-color-fitted-level-3: cornflowerblue;\n\n  /* Specific color for light theme */\n  --sklearn-color-text-on-default-background: var(--sg-text-color, var(--theme-code-foreground, var(--jp-content-font-color1, black)));\n  --sklearn-color-background: var(--sg-background-color, var(--theme-background, var(--jp-layout-color0, white)));\n  --sklearn-color-border-box: var(--sg-text-color, var(--theme-code-foreground, var(--jp-content-font-color1, black)));\n  --sklearn-color-icon: #696969;\n\n  @media (prefers-color-scheme: dark) {\n    /* Redefinition of color scheme for dark theme */\n    --sklearn-color-text-on-default-background: var(--sg-text-color, var(--theme-code-foreground, var(--jp-content-font-color1, white)));\n    --sklearn-color-background: var(--sg-background-color, var(--theme-background, var(--jp-layout-color0, #111)));\n    --sklearn-color-border-box: var(--sg-text-color, var(--theme-code-foreground, var(--jp-content-font-color1, white)));\n    --sklearn-color-icon: #878787;\n  }\n}\n\n#sk-container-id-5 {\n  color: var(--sklearn-color-text);\n}\n\n#sk-container-id-5 pre {\n  padding: 0;\n}\n\n#sk-container-id-5 input.sk-hidden--visually {\n  border: 0;\n  clip: rect(1px 1px 1px 1px);\n  clip: rect(1px, 1px, 1px, 1px);\n  height: 1px;\n  margin: -1px;\n  overflow: hidden;\n  padding: 0;\n  position: absolute;\n  width: 1px;\n}\n\n#sk-container-id-5 div.sk-dashed-wrapped {\n  border: 1px dashed var(--sklearn-color-line);\n  margin: 0 0.4em 0.5em 0.4em;\n  box-sizing: border-box;\n  padding-bottom: 0.4em;\n  background-color: var(--sklearn-color-background);\n}\n\n#sk-container-id-5 div.sk-container {\n  /* jupyter's `normalize.less` sets `[hidden] { display: none; }`\n     but bootstrap.min.css set `[hidden] { display: none !important; }`\n     so we also need the `!important` here to be able to override the\n     default hidden behavior on the sphinx rendered scikit-learn.org.\n     See: https://github.com/scikit-learn/scikit-learn/issues/21755 */\n  display: inline-block !important;\n  position: relative;\n}\n\n#sk-container-id-5 div.sk-text-repr-fallback {\n  display: none;\n}\n\ndiv.sk-parallel-item,\ndiv.sk-serial,\ndiv.sk-item {\n  /* draw centered vertical line to link estimators */\n  background-image: linear-gradient(var(--sklearn-color-text-on-default-background), var(--sklearn-color-text-on-default-background));\n  background-size: 2px 100%;\n  background-repeat: no-repeat;\n  background-position: center center;\n}\n\n/* Parallel-specific style estimator block */\n\n#sk-container-id-5 div.sk-parallel-item::after {\n  content: \"\";\n  width: 100%;\n  border-bottom: 2px solid var(--sklearn-color-text-on-default-background);\n  flex-grow: 1;\n}\n\n#sk-container-id-5 div.sk-parallel {\n  display: flex;\n  align-items: stretch;\n  justify-content: center;\n  background-color: var(--sklearn-color-background);\n  position: relative;\n}\n\n#sk-container-id-5 div.sk-parallel-item {\n  display: flex;\n  flex-direction: column;\n}\n\n#sk-container-id-5 div.sk-parallel-item:first-child::after {\n  align-self: flex-end;\n  width: 50%;\n}\n\n#sk-container-id-5 div.sk-parallel-item:last-child::after {\n  align-self: flex-start;\n  width: 50%;\n}\n\n#sk-container-id-5 div.sk-parallel-item:only-child::after {\n  width: 0;\n}\n\n/* Serial-specific style estimator block */\n\n#sk-container-id-5 div.sk-serial {\n  display: flex;\n  flex-direction: column;\n  align-items: center;\n  background-color: var(--sklearn-color-background);\n  padding-right: 1em;\n  padding-left: 1em;\n}\n\n\n/* Toggleable style: style used for estimator/Pipeline/ColumnTransformer box that is\nclickable and can be expanded/collapsed.\n- Pipeline and ColumnTransformer use this feature and define the default style\n- Estimators will overwrite some part of the style using the `sk-estimator` class\n*/\n\n/* Pipeline and ColumnTransformer style (default) */\n\n#sk-container-id-5 div.sk-toggleable {\n  /* Default theme specific background. It is overwritten whether we have a\n  specific estimator or a Pipeline/ColumnTransformer */\n  background-color: var(--sklearn-color-background);\n}\n\n/* Toggleable label */\n#sk-container-id-5 label.sk-toggleable__label {\n  cursor: pointer;\n  display: flex;\n  width: 100%;\n  margin-bottom: 0;\n  padding: 0.5em;\n  box-sizing: border-box;\n  text-align: center;\n  align-items: start;\n  justify-content: space-between;\n  gap: 0.5em;\n}\n\n#sk-container-id-5 label.sk-toggleable__label .caption {\n  font-size: 0.6rem;\n  font-weight: lighter;\n  color: var(--sklearn-color-text-muted);\n}\n\n#sk-container-id-5 label.sk-toggleable__label-arrow:before {\n  /* Arrow on the left of the label */\n  content: \"▸\";\n  float: left;\n  margin-right: 0.25em;\n  color: var(--sklearn-color-icon);\n}\n\n#sk-container-id-5 label.sk-toggleable__label-arrow:hover:before {\n  color: var(--sklearn-color-text);\n}\n\n/* Toggleable content - dropdown */\n\n#sk-container-id-5 div.sk-toggleable__content {\n  max-height: 0;\n  max-width: 0;\n  overflow: hidden;\n  text-align: left;\n  /* unfitted */\n  background-color: var(--sklearn-color-unfitted-level-0);\n}\n\n#sk-container-id-5 div.sk-toggleable__content.fitted {\n  /* fitted */\n  background-color: var(--sklearn-color-fitted-level-0);\n}\n\n#sk-container-id-5 div.sk-toggleable__content pre {\n  margin: 0.2em;\n  border-radius: 0.25em;\n  color: var(--sklearn-color-text);\n  /* unfitted */\n  background-color: var(--sklearn-color-unfitted-level-0);\n}\n\n#sk-container-id-5 div.sk-toggleable__content.fitted pre {\n  /* unfitted */\n  background-color: var(--sklearn-color-fitted-level-0);\n}\n\n#sk-container-id-5 input.sk-toggleable__control:checked~div.sk-toggleable__content {\n  /* Expand drop-down */\n  max-height: 200px;\n  max-width: 100%;\n  overflow: auto;\n}\n\n#sk-container-id-5 input.sk-toggleable__control:checked~label.sk-toggleable__label-arrow:before {\n  content: \"▾\";\n}\n\n/* Pipeline/ColumnTransformer-specific style */\n\n#sk-container-id-5 div.sk-label input.sk-toggleable__control:checked~label.sk-toggleable__label {\n  color: var(--sklearn-color-text);\n  background-color: var(--sklearn-color-unfitted-level-2);\n}\n\n#sk-container-id-5 div.sk-label.fitted input.sk-toggleable__control:checked~label.sk-toggleable__label {\n  background-color: var(--sklearn-color-fitted-level-2);\n}\n\n/* Estimator-specific style */\n\n/* Colorize estimator box */\n#sk-container-id-5 div.sk-estimator input.sk-toggleable__control:checked~label.sk-toggleable__label {\n  /* unfitted */\n  background-color: var(--sklearn-color-unfitted-level-2);\n}\n\n#sk-container-id-5 div.sk-estimator.fitted input.sk-toggleable__control:checked~label.sk-toggleable__label {\n  /* fitted */\n  background-color: var(--sklearn-color-fitted-level-2);\n}\n\n#sk-container-id-5 div.sk-label label.sk-toggleable__label,\n#sk-container-id-5 div.sk-label label {\n  /* The background is the default theme color */\n  color: var(--sklearn-color-text-on-default-background);\n}\n\n/* On hover, darken the color of the background */\n#sk-container-id-5 div.sk-label:hover label.sk-toggleable__label {\n  color: var(--sklearn-color-text);\n  background-color: var(--sklearn-color-unfitted-level-2);\n}\n\n/* Label box, darken color on hover, fitted */\n#sk-container-id-5 div.sk-label.fitted:hover label.sk-toggleable__label.fitted {\n  color: var(--sklearn-color-text);\n  background-color: var(--sklearn-color-fitted-level-2);\n}\n\n/* Estimator label */\n\n#sk-container-id-5 div.sk-label label {\n  font-family: monospace;\n  font-weight: bold;\n  display: inline-block;\n  line-height: 1.2em;\n}\n\n#sk-container-id-5 div.sk-label-container {\n  text-align: center;\n}\n\n/* Estimator-specific */\n#sk-container-id-5 div.sk-estimator {\n  font-family: monospace;\n  border: 1px dotted var(--sklearn-color-border-box);\n  border-radius: 0.25em;\n  box-sizing: border-box;\n  margin-bottom: 0.5em;\n  /* unfitted */\n  background-color: var(--sklearn-color-unfitted-level-0);\n}\n\n#sk-container-id-5 div.sk-estimator.fitted {\n  /* fitted */\n  background-color: var(--sklearn-color-fitted-level-0);\n}\n\n/* on hover */\n#sk-container-id-5 div.sk-estimator:hover {\n  /* unfitted */\n  background-color: var(--sklearn-color-unfitted-level-2);\n}\n\n#sk-container-id-5 div.sk-estimator.fitted:hover {\n  /* fitted */\n  background-color: var(--sklearn-color-fitted-level-2);\n}\n\n/* Specification for estimator info (e.g. \"i\" and \"?\") */\n\n/* Common style for \"i\" and \"?\" */\n\n.sk-estimator-doc-link,\na:link.sk-estimator-doc-link,\na:visited.sk-estimator-doc-link {\n  float: right;\n  font-size: smaller;\n  line-height: 1em;\n  font-family: monospace;\n  background-color: var(--sklearn-color-background);\n  border-radius: 1em;\n  height: 1em;\n  width: 1em;\n  text-decoration: none !important;\n  margin-left: 0.5em;\n  text-align: center;\n  /* unfitted */\n  border: var(--sklearn-color-unfitted-level-1) 1pt solid;\n  color: var(--sklearn-color-unfitted-level-1);\n}\n\n.sk-estimator-doc-link.fitted,\na:link.sk-estimator-doc-link.fitted,\na:visited.sk-estimator-doc-link.fitted {\n  /* fitted */\n  border: var(--sklearn-color-fitted-level-1) 1pt solid;\n  color: var(--sklearn-color-fitted-level-1);\n}\n\n/* On hover */\ndiv.sk-estimator:hover .sk-estimator-doc-link:hover,\n.sk-estimator-doc-link:hover,\ndiv.sk-label-container:hover .sk-estimator-doc-link:hover,\n.sk-estimator-doc-link:hover {\n  /* unfitted */\n  background-color: var(--sklearn-color-unfitted-level-3);\n  color: var(--sklearn-color-background);\n  text-decoration: none;\n}\n\ndiv.sk-estimator.fitted:hover .sk-estimator-doc-link.fitted:hover,\n.sk-estimator-doc-link.fitted:hover,\ndiv.sk-label-container:hover .sk-estimator-doc-link.fitted:hover,\n.sk-estimator-doc-link.fitted:hover {\n  /* fitted */\n  background-color: var(--sklearn-color-fitted-level-3);\n  color: var(--sklearn-color-background);\n  text-decoration: none;\n}\n\n/* Span, style for the box shown on hovering the info icon */\n.sk-estimator-doc-link span {\n  display: none;\n  z-index: 9999;\n  position: relative;\n  font-weight: normal;\n  right: .2ex;\n  padding: .5ex;\n  margin: .5ex;\n  width: min-content;\n  min-width: 20ex;\n  max-width: 50ex;\n  color: var(--sklearn-color-text);\n  box-shadow: 2pt 2pt 4pt #999;\n  /* unfitted */\n  background: var(--sklearn-color-unfitted-level-0);\n  border: .5pt solid var(--sklearn-color-unfitted-level-3);\n}\n\n.sk-estimator-doc-link.fitted span {\n  /* fitted */\n  background: var(--sklearn-color-fitted-level-0);\n  border: var(--sklearn-color-fitted-level-3);\n}\n\n.sk-estimator-doc-link:hover span {\n  display: block;\n}\n\n/* \"?\"-specific style due to the `<a>` HTML tag */\n\n#sk-container-id-5 a.estimator_doc_link {\n  float: right;\n  font-size: 1rem;\n  line-height: 1em;\n  font-family: monospace;\n  background-color: var(--sklearn-color-background);\n  border-radius: 1rem;\n  height: 1rem;\n  width: 1rem;\n  text-decoration: none;\n  /* unfitted */\n  color: var(--sklearn-color-unfitted-level-1);\n  border: var(--sklearn-color-unfitted-level-1) 1pt solid;\n}\n\n#sk-container-id-5 a.estimator_doc_link.fitted {\n  /* fitted */\n  border: var(--sklearn-color-fitted-level-1) 1pt solid;\n  color: var(--sklearn-color-fitted-level-1);\n}\n\n/* On hover */\n#sk-container-id-5 a.estimator_doc_link:hover {\n  /* unfitted */\n  background-color: var(--sklearn-color-unfitted-level-3);\n  color: var(--sklearn-color-background);\n  text-decoration: none;\n}\n\n#sk-container-id-5 a.estimator_doc_link.fitted:hover {\n  /* fitted */\n  background-color: var(--sklearn-color-fitted-level-3);\n}\n</style><div id=\"sk-container-id-5\" class=\"sk-top-container\"><div class=\"sk-text-repr-fallback\"><pre>KNeighborsRegressor(metric=&#x27;cosine&#x27;, n_neighbors=10)</pre><b>In a Jupyter environment, please rerun this cell to show the HTML representation or trust the notebook. <br />On GitHub, the HTML representation is unable to render, please try loading this page with nbviewer.org.</b></div><div class=\"sk-container\" hidden><div class=\"sk-item\"><div class=\"sk-estimator fitted sk-toggleable\"><input class=\"sk-toggleable__control sk-hidden--visually\" id=\"sk-estimator-id-5\" type=\"checkbox\" checked><label for=\"sk-estimator-id-5\" class=\"sk-toggleable__label fitted sk-toggleable__label-arrow\"><div><div>KNeighborsRegressor</div></div><div><a class=\"sk-estimator-doc-link fitted\" rel=\"noreferrer\" target=\"_blank\" href=\"https://scikit-learn.org/1.6/modules/generated/sklearn.neighbors.KNeighborsRegressor.html\">?<span>Documentation for KNeighborsRegressor</span></a><span class=\"sk-estimator-doc-link fitted\">i<span>Fitted</span></span></div></label><div class=\"sk-toggleable__content fitted\"><pre>KNeighborsRegressor(metric=&#x27;cosine&#x27;, n_neighbors=10)</pre></div> </div></div></div></div>"
          },
          "metadata": {}
        }
      ],
      "execution_count": 626
    },
    {
      "id": "5bb286b0-bd60-4abc-97e8-4a1957147142",
      "cell_type": "code",
      "source": "prediction = jokes_knn.predict(joke_89)",
      "metadata": {
        "trusted": true
      },
      "outputs": [],
      "execution_count": 633
    },
    {
      "id": "ed28522e-48de-403f-9036-4f9cdc8ebf75",
      "cell_type": "markdown",
      "source": "Predicted our user 20323 would rate joke 89 as 4.311",
      "metadata": {}
    },
    {
      "id": "cb62467d-b40a-4ddb-b70b-e2ad86d416e1",
      "cell_type": "code",
      "source": "prediction[0]",
      "metadata": {
        "trusted": true
      },
      "outputs": [
        {
          "execution_count": 634,
          "output_type": "execute_result",
          "data": {
            "text/plain": "np.float64(4.311)"
          },
          "metadata": {}
        }
      ],
      "execution_count": 634
    }
  ]
}