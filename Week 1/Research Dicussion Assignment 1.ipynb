{
  "metadata": {
    "kernelspec": {
      "name": "python",
      "display_name": "Python (Pyodide)",
      "language": "python"
    },
    "language_info": {
      "codemirror_mode": {
        "name": "python",
        "version": 3
      },
      "file_extension": ".py",
      "mimetype": "text/x-python",
      "name": "python",
      "nbconvert_exporter": "python",
      "pygments_lexer": "ipython3",
      "version": "3.8"
    }
  },
  "nbformat_minor": 5,
  "nbformat": 4,
  "cells": [
    {
      "id": "6398e388-9e5f-4fc2-9415-e9945e7e0b72",
      "cell_type": "markdown",
      "source": "Part 1: IMDB Review\n\nSpotify has a hybrid recommendation model. As you listen, and interact by liking or skipping songs on their platform they use that info to give you further songs that are similar or match what you like. This is an example of content based filtering. They also consider trends to group users that are listening to a certain genres or specific songs, and suggest songs that similar users listened to. This is an example of collaborative filtering. I think Spotify has great recommendations, I make sure to like songs and artists that i want to hear more of.\n\nI like the release radio playlist which is created with all recently released music, including a good mix of artists i already follow, and new artists that they predict i will like.One critique I have of their recommendations system, is that some spotify generated playlists can feel \"same-y\". I find my liked songs will often appear on multiple playlists with similar genres. I already know i like that song, it doesn't need to appear on each one.\n\nSource: https://www.spotify.com/us/safetyandprivacy/understanding-recommendations\n\nPart 2: Attacks on Recommender System \n\nRead the article below and consider how to handle attacks on recommender systems. Can you think of a similar example where a collective effort to alter the workings of content recommendations have been successful? How would you design a system to prevent this kind of abuse?\n\n\nAmazon is filled with fake or incentivized reviews, giving 5 stars and successfully falsely boosting the items to be recommended to users. Unfortunately there monetary benefit for both the seller, and also for Amazon as a platform for these reviews to create the appearance of great merchandise. It's become such a problem that the UK's Competition and Markets Authority (CMA) has been investigating Amazon since 2021 for not doing enough to combat these issues. Currently, Amazon says they're using machine learning models to detect fake reviews. They cite that they're taking into account things like whether the seller has invested in ads, their review history, customer reports, review sign ins, and relationship with other reviewers, and other suspicious behavior.\n\nOne goal of these false reviews is to get the \"Best Seller\" badge on Amazon. This can act as a snowball effect of legitimization for the item, and continue to keep it on the top recommended items as more users buy it. To prevent this, its possible Amazon should give less weight to the \"Best Seller\" badge in recommendations to users, or give a boost to other products to forcefully rotate those recommended items more quickly? This could create other issues, but it could stop the flow of real users, and make it easier to detect the mostly fake reviews.\n\n\nSources: \nhttps://www.theguardian.com/technology/2025/jun/06/amazon-promises-fake-reviews-crackdown-after-investigation-by-uk-watchdog\nhttps://www.wired.com/story/how-to-spot-fake-reviews-amazon/\n\n",
      "metadata": {}
    }
  ]
}
