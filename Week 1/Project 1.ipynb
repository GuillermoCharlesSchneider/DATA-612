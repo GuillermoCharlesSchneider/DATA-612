{
  "metadata": {
    "kernelspec": {
      "name": "python",
      "display_name": "Python (Pyodide)",
      "language": "python"
    },
    "language_info": {
      "codemirror_mode": {
        "name": "python",
        "version": 3
      },
      "file_extension": ".py",
      "mimetype": "text/x-python",
      "name": "python",
      "nbconvert_exporter": "python",
      "pygments_lexer": "ipython3",
      "version": "3.8"
    }
  },
  "nbformat_minor": 5,
  "nbformat": 4,
  "cells": [
    {
      "id": "714e5f48-7db2-4a56-b703-8d0d74408f96",
      "cell_type": "code",
      "source": "import pandas as pd\nfrom sklearn.model_selection import train_test_split\nimport numpy as np\nfrom sklearn.metrics import root_mean_squared_error",
      "metadata": {
        "trusted": true
      },
      "outputs": [],
      "execution_count": 30
    },
    {
      "id": "7e409991-6254-476b-b7fd-ab294ed10128",
      "cell_type": "markdown",
      "source": "# Project 1 | Global Baseline Predictors and RMSE\nThis jupyter notebook uses a global baseline bias recommender system of Van Leeuwen Ice Cream flavors ratings from coworkers to predict if they will like flavors they havent tasted (and rated) before using user and item biases",
      "metadata": {}
    },
    {
      "id": "33a8fe64-2222-4e07-abf1-f9c53783863f",
      "cell_type": "markdown",
      "source": "### Find a dataset, or build out your own toy dataset. As a minimum requirement for complexity, please include numeric ratings for at least five users, across at least five items, with some missing data.",
      "metadata": {}
    },
    {
      "id": "3441bdfa-c8cf-42fb-b052-bd8963f96d11",
      "cell_type": "code",
      "source": "df = pd.read_csv('VanLeeuwen.csv')",
      "metadata": {
        "trusted": true
      },
      "outputs": [],
      "execution_count": 31
    },
    {
      "id": "2dba466e-7ba8-44e3-8e87-a676af8f3a33",
      "cell_type": "code",
      "source": "df",
      "metadata": {
        "trusted": true
      },
      "outputs": [
        {
          "execution_count": 32,
          "output_type": "execute_result",
          "data": {
            "text/plain": "   Tasters  Black Cherry Chip  Cookies & Cream  Marionberry Cheesecake  \\\n0      Sam                  5              NaN                     4.0   \n1     Nina                  4              3.0                     5.0   \n2    Nancy                  4              2.0                     NaN   \n3    Aditi                  2              2.0                     3.0   \n4  Yerlene                  4              NaN                     5.0   \n5     Jose                  4              2.0                     5.0   \n\n   Honeycomb  Mint Chip  \n0        NaN          4  \n1        3.0          4  \n2        NaN          3  \n3        1.0          2  \n4        4.0          5  \n5        4.0          4  ",
            "text/html": "<div>\n<style scoped>\n    .dataframe tbody tr th:only-of-type {\n        vertical-align: middle;\n    }\n\n    .dataframe tbody tr th {\n        vertical-align: top;\n    }\n\n    .dataframe thead th {\n        text-align: right;\n    }\n</style>\n<table border=\"1\" class=\"dataframe\">\n  <thead>\n    <tr style=\"text-align: right;\">\n      <th></th>\n      <th>Tasters</th>\n      <th>Black Cherry Chip</th>\n      <th>Cookies &amp; Cream</th>\n      <th>Marionberry Cheesecake</th>\n      <th>Honeycomb</th>\n      <th>Mint Chip</th>\n    </tr>\n  </thead>\n  <tbody>\n    <tr>\n      <th>0</th>\n      <td>Sam</td>\n      <td>5</td>\n      <td>NaN</td>\n      <td>4.0</td>\n      <td>NaN</td>\n      <td>4</td>\n    </tr>\n    <tr>\n      <th>1</th>\n      <td>Nina</td>\n      <td>4</td>\n      <td>3.0</td>\n      <td>5.0</td>\n      <td>3.0</td>\n      <td>4</td>\n    </tr>\n    <tr>\n      <th>2</th>\n      <td>Nancy</td>\n      <td>4</td>\n      <td>2.0</td>\n      <td>NaN</td>\n      <td>NaN</td>\n      <td>3</td>\n    </tr>\n    <tr>\n      <th>3</th>\n      <td>Aditi</td>\n      <td>2</td>\n      <td>2.0</td>\n      <td>3.0</td>\n      <td>1.0</td>\n      <td>2</td>\n    </tr>\n    <tr>\n      <th>4</th>\n      <td>Yerlene</td>\n      <td>4</td>\n      <td>NaN</td>\n      <td>5.0</td>\n      <td>4.0</td>\n      <td>5</td>\n    </tr>\n    <tr>\n      <th>5</th>\n      <td>Jose</td>\n      <td>4</td>\n      <td>2.0</td>\n      <td>5.0</td>\n      <td>4.0</td>\n      <td>4</td>\n    </tr>\n  </tbody>\n</table>\n</div>"
          },
          "metadata": {}
        }
      ],
      "execution_count": 32
    },
    {
      "id": "7cb5aaad-ec19-465b-a043-489cf707799d",
      "cell_type": "code",
      "source": "df['Mint Chip'] = df['Mint Chip'].astype(float)\ndf['Black Cherry Chip'] = df['Black Cherry Chip'].astype(float)",
      "metadata": {
        "trusted": true
      },
      "outputs": [],
      "execution_count": 33
    },
    {
      "id": "f5831f05-b7ad-4f65-ba6d-dce8cdb7708c",
      "cell_type": "code",
      "source": "df.dtypes",
      "metadata": {
        "trusted": true
      },
      "outputs": [
        {
          "execution_count": 34,
          "output_type": "execute_result",
          "data": {
            "text/plain": "Tasters                    object\nBlack Cherry Chip         float64\nCookies & Cream           float64\nMarionberry Cheesecake    float64\nHoneycomb                 float64\nMint Chip                 float64\ndtype: object"
          },
          "metadata": {}
        }
      ],
      "execution_count": 34
    },
    {
      "id": "de8269b5-c40a-4827-ae56-9b33fcf4bc8f",
      "cell_type": "markdown",
      "source": "### Load your data into (for example) an R or pandas dataframe, a Python dictionary or list of lists, (or another data structure of your choosing). From there, create a user-item matrix.",
      "metadata": {}
    },
    {
      "id": "22499ce2-81aa-485b-990f-617ec97df4aa",
      "cell_type": "code",
      "source": "#tidy-ify\nuser_item_matrix = pd.melt(df, id_vars=['Tasters'], value_vars=['Black Cherry Chip','Cookies & Cream', 'Marionberry Cheesecake','Honeycomb','Mint Chip'])\nuser_item_matrix.head()",
      "metadata": {
        "trusted": true
      },
      "outputs": [
        {
          "execution_count": 35,
          "output_type": "execute_result",
          "data": {
            "text/plain": "   Tasters           variable  value\n0      Sam  Black Cherry Chip    5.0\n1     Nina  Black Cherry Chip    4.0\n2    Nancy  Black Cherry Chip    4.0\n3    Aditi  Black Cherry Chip    2.0\n4  Yerlene  Black Cherry Chip    4.0",
            "text/html": "<div>\n<style scoped>\n    .dataframe tbody tr th:only-of-type {\n        vertical-align: middle;\n    }\n\n    .dataframe tbody tr th {\n        vertical-align: top;\n    }\n\n    .dataframe thead th {\n        text-align: right;\n    }\n</style>\n<table border=\"1\" class=\"dataframe\">\n  <thead>\n    <tr style=\"text-align: right;\">\n      <th></th>\n      <th>Tasters</th>\n      <th>variable</th>\n      <th>value</th>\n    </tr>\n  </thead>\n  <tbody>\n    <tr>\n      <th>0</th>\n      <td>Sam</td>\n      <td>Black Cherry Chip</td>\n      <td>5.0</td>\n    </tr>\n    <tr>\n      <th>1</th>\n      <td>Nina</td>\n      <td>Black Cherry Chip</td>\n      <td>4.0</td>\n    </tr>\n    <tr>\n      <th>2</th>\n      <td>Nancy</td>\n      <td>Black Cherry Chip</td>\n      <td>4.0</td>\n    </tr>\n    <tr>\n      <th>3</th>\n      <td>Aditi</td>\n      <td>Black Cherry Chip</td>\n      <td>2.0</td>\n    </tr>\n    <tr>\n      <th>4</th>\n      <td>Yerlene</td>\n      <td>Black Cherry Chip</td>\n      <td>4.0</td>\n    </tr>\n  </tbody>\n</table>\n</div>"
          },
          "metadata": {}
        }
      ],
      "execution_count": 35
    },
    {
      "id": "4f64d681-410a-4166-9395-42febda0c1f5",
      "cell_type": "markdown",
      "source": "### Break your ratings into separate training and test datasets.",
      "metadata": {}
    },
    {
      "id": "93c9edb5-a416-4a93-9239-d186a7a3a6a7",
      "cell_type": "code",
      "source": "train_data, test_data = train_test_split(user_item_matrix, test_size=0.2, random_state=30)",
      "metadata": {
        "trusted": true
      },
      "outputs": [],
      "execution_count": 36
    },
    {
      "id": "2d132918-75fb-47df-a0ba-72d2b2e0e37f",
      "cell_type": "markdown",
      "source": "### Using your training data, calculate the raw average (mean) rating for every user-item combination.",
      "metadata": {}
    },
    {
      "id": "79784010-8c57-4310-b974-6b5b0e7f1d94",
      "cell_type": "code",
      "source": "train_data.head()",
      "metadata": {
        "trusted": true
      },
      "outputs": [
        {
          "execution_count": 37,
          "output_type": "execute_result",
          "data": {
            "text/plain": "    Tasters           variable  value\n8     Nancy    Cookies & Cream    2.0\n6       Sam    Cookies & Cream    NaN\n25     Nina          Mint Chip    4.0\n4   Yerlene  Black Cherry Chip    4.0\n11     Jose    Cookies & Cream    2.0",
            "text/html": "<div>\n<style scoped>\n    .dataframe tbody tr th:only-of-type {\n        vertical-align: middle;\n    }\n\n    .dataframe tbody tr th {\n        vertical-align: top;\n    }\n\n    .dataframe thead th {\n        text-align: right;\n    }\n</style>\n<table border=\"1\" class=\"dataframe\">\n  <thead>\n    <tr style=\"text-align: right;\">\n      <th></th>\n      <th>Tasters</th>\n      <th>variable</th>\n      <th>value</th>\n    </tr>\n  </thead>\n  <tbody>\n    <tr>\n      <th>8</th>\n      <td>Nancy</td>\n      <td>Cookies &amp; Cream</td>\n      <td>2.0</td>\n    </tr>\n    <tr>\n      <th>6</th>\n      <td>Sam</td>\n      <td>Cookies &amp; Cream</td>\n      <td>NaN</td>\n    </tr>\n    <tr>\n      <th>25</th>\n      <td>Nina</td>\n      <td>Mint Chip</td>\n      <td>4.0</td>\n    </tr>\n    <tr>\n      <th>4</th>\n      <td>Yerlene</td>\n      <td>Black Cherry Chip</td>\n      <td>4.0</td>\n    </tr>\n    <tr>\n      <th>11</th>\n      <td>Jose</td>\n      <td>Cookies &amp; Cream</td>\n      <td>2.0</td>\n    </tr>\n  </tbody>\n</table>\n</div>"
          },
          "metadata": {}
        }
      ],
      "execution_count": 37
    },
    {
      "id": "a1717838-6221-4d9f-b093-e961bb75221e",
      "cell_type": "code",
      "source": "raw_avg = train_data['value'].copy().mean()\nraw_avg",
      "metadata": {
        "trusted": true
      },
      "outputs": [
        {
          "execution_count": 38,
          "output_type": "execute_result",
          "data": {
            "text/plain": "np.float64(3.4)"
          },
          "metadata": {}
        }
      ],
      "execution_count": 38
    },
    {
      "id": "663b9c7a-aa72-42b4-bcc3-6562357378c4",
      "cell_type": "code",
      "source": "raw_avg_train = train_data.value[train_data['value'].notnull()].copy()\nraw_avg_train[:] = raw_avg\nraw_avg_train = np.array(raw_avg_train, dtype = 'float')",
      "metadata": {
        "trusted": true
      },
      "outputs": [],
      "execution_count": 39
    },
    {
      "id": "7f181c6d-02f2-4af4-9704-3975a5ab8ec1",
      "cell_type": "code",
      "source": "raw_avg_test = test_data.value[test_data['value'].notnull()].copy()\nraw_avg_test[:] = raw_avg\nraw_avg_test = np.array(raw_avg_test, dtype = 'float')",
      "metadata": {
        "trusted": true
      },
      "outputs": [],
      "execution_count": 40
    },
    {
      "id": "8a363aa5-30fc-47cf-b5c4-d4ba56892e6b",
      "cell_type": "code",
      "source": "raw_avg_train",
      "metadata": {
        "trusted": true
      },
      "outputs": [
        {
          "execution_count": 41,
          "output_type": "execute_result",
          "data": {
            "text/plain": "array([3.4, 3.4, 3.4, 3.4, 3.4, 3.4, 3.4, 3.4, 3.4, 3.4, 3.4, 3.4, 3.4,\n       3.4, 3.4, 3.4, 3.4, 3.4, 3.4, 3.4])"
          },
          "metadata": {}
        }
      ],
      "execution_count": 41
    },
    {
      "id": "611fc1cf-7cf8-408f-8012-0da11d1faf93",
      "cell_type": "code",
      "source": "raw_avg_test",
      "metadata": {
        "trusted": true
      },
      "outputs": [
        {
          "execution_count": 42,
          "output_type": "execute_result",
          "data": {
            "text/plain": "array([3.4, 3.4, 3.4, 3.4, 3.4])"
          },
          "metadata": {}
        }
      ],
      "execution_count": 42
    },
    {
      "id": "cf046991-1167-4ad5-84af-1f5c5a7c4fa2",
      "cell_type": "markdown",
      "source": "### Calculate the RMSE for raw average for both your training data and your test data.",
      "metadata": {}
    },
    {
      "id": "54361a4a-1064-4a01-a71e-e1df9bef8aec",
      "cell_type": "markdown",
      "source": "The RMSE (Root Mean Squared Error) measures the average difference between the observed values, and the predicted ones. For this case we are using 3.4 as our global average prediction. Our RMSE being ~1 for our training and test data suggests that our prediction of 3.4 is on average within 1 rating point from the actual scores. Our test set RMSE of 1.07 ratings are slighty closer to the average score than the RMSE of 1.15 of the train data.",
      "metadata": {}
    },
    {
      "id": "53352ef0-e05a-4259-b266-31521603b9b5",
      "cell_type": "code",
      "source": "root_mean_squared_error(train_data.value[train_data['value'].notnull()],raw_avg_train)",
      "metadata": {
        "trusted": true
      },
      "outputs": [
        {
          "execution_count": 43,
          "output_type": "execute_result",
          "data": {
            "text/plain": "1.1575836902790226"
          },
          "metadata": {}
        }
      ],
      "execution_count": 43
    },
    {
      "id": "06b58bac-a3f7-4dfb-870c-5d5a5636b9b1",
      "cell_type": "code",
      "source": "root_mean_squared_error(test_data.value[test_data['value'].notnull()],raw_avg_test)",
      "metadata": {
        "trusted": true
      },
      "outputs": [
        {
          "execution_count": 44,
          "output_type": "execute_result",
          "data": {
            "text/plain": "1.077032961426901"
          },
          "metadata": {}
        }
      ],
      "execution_count": 44
    },
    {
      "id": "2b5a765b-c8e9-4e4b-9a55-33cda90bfa13",
      "cell_type": "markdown",
      "source": "### Using your training data, calculate the bias for each user and each item.",
      "metadata": {}
    },
    {
      "id": "64f6d91d-6a73-4620-b894-377c5f52924c",
      "cell_type": "markdown",
      "source": "#### Taster (User) Bias:\nis how different that user tends to rate the ice cream versus the average user. An \"ice cream lover\" would probably have a positive Taster Bias number. For example Yerlene below has a 0.93 user bias, suggesting she rates all ice cream flavors almost ~1 point on average higher than the average taster. ",
      "metadata": {}
    },
    {
      "id": "7d9092fc-0a8f-49e2-b1a6-2d230d70728f",
      "cell_type": "code",
      "source": "#taster bias\ntaster_bias = train_data.groupby('Tasters')['value'].mean()\ntaster_bias = pd.DataFrame(taster_bias)\ntaster_bias.value = taster_bias.value - raw_avg\ntaster_bias",
      "metadata": {
        "trusted": true
      },
      "outputs": [
        {
          "execution_count": 45,
          "output_type": "execute_result",
          "data": {
            "text/plain": "            value\nTasters          \nAditi   -1.650000\nJose     0.400000\nNancy   -0.400000\nNina     0.400000\nSam      0.600000\nYerlene  0.933333",
            "text/html": "<div>\n<style scoped>\n    .dataframe tbody tr th:only-of-type {\n        vertical-align: middle;\n    }\n\n    .dataframe tbody tr th {\n        vertical-align: top;\n    }\n\n    .dataframe thead th {\n        text-align: right;\n    }\n</style>\n<table border=\"1\" class=\"dataframe\">\n  <thead>\n    <tr style=\"text-align: right;\">\n      <th></th>\n      <th>value</th>\n    </tr>\n    <tr>\n      <th>Tasters</th>\n      <th></th>\n    </tr>\n  </thead>\n  <tbody>\n    <tr>\n      <th>Aditi</th>\n      <td>-1.650000</td>\n    </tr>\n    <tr>\n      <th>Jose</th>\n      <td>0.400000</td>\n    </tr>\n    <tr>\n      <th>Nancy</th>\n      <td>-0.400000</td>\n    </tr>\n    <tr>\n      <th>Nina</th>\n      <td>0.400000</td>\n    </tr>\n    <tr>\n      <th>Sam</th>\n      <td>0.600000</td>\n    </tr>\n    <tr>\n      <th>Yerlene</th>\n      <td>0.933333</td>\n    </tr>\n  </tbody>\n</table>\n</div>"
          },
          "metadata": {}
        }
      ],
      "execution_count": 45
    },
    {
      "id": "bf07f66e-eaa1-4b2a-bd8b-067bf7d49c01",
      "cell_type": "markdown",
      "source": "#### Flavor (Item) Bias:\nis how different that flavor tends to be rated versus the average flavor. A \"tasty flavor\" would probably have a positive Flavor Bias number. For example Marionberry Cheesecake below has a 1.35 item bias, suggesting it's being rated by everyone 1.35 points on average higher than the average flavor.",
      "metadata": {}
    },
    {
      "id": "123618a9-04a6-47da-8bcb-cda57727b254",
      "cell_type": "code",
      "source": "#flavor bias\nflavor_bias = train_data.groupby('variable')['value'].mean()\nflavor_bias = pd.DataFrame(flavor_bias)\nflavor_bias.value = flavor_bias.value - raw_avg\nflavor_bias",
      "metadata": {
        "trusted": true
      },
      "outputs": [
        {
          "execution_count": 46,
          "output_type": "execute_result",
          "data": {
            "text/plain": "                           value\nvariable                        \nBlack Cherry Chip       0.200000\nCookies & Cream        -1.150000\nHoneycomb              -0.400000\nMarionberry Cheesecake  1.350000\nMint Chip              -0.066667",
            "text/html": "<div>\n<style scoped>\n    .dataframe tbody tr th:only-of-type {\n        vertical-align: middle;\n    }\n\n    .dataframe tbody tr th {\n        vertical-align: top;\n    }\n\n    .dataframe thead th {\n        text-align: right;\n    }\n</style>\n<table border=\"1\" class=\"dataframe\">\n  <thead>\n    <tr style=\"text-align: right;\">\n      <th></th>\n      <th>value</th>\n    </tr>\n    <tr>\n      <th>variable</th>\n      <th></th>\n    </tr>\n  </thead>\n  <tbody>\n    <tr>\n      <th>Black Cherry Chip</th>\n      <td>0.200000</td>\n    </tr>\n    <tr>\n      <th>Cookies &amp; Cream</th>\n      <td>-1.150000</td>\n    </tr>\n    <tr>\n      <th>Honeycomb</th>\n      <td>-0.400000</td>\n    </tr>\n    <tr>\n      <th>Marionberry Cheesecake</th>\n      <td>1.350000</td>\n    </tr>\n    <tr>\n      <th>Mint Chip</th>\n      <td>-0.066667</td>\n    </tr>\n  </tbody>\n</table>\n</div>"
          },
          "metadata": {}
        }
      ],
      "execution_count": 46
    },
    {
      "id": "40edd33f-48fb-4dd1-a10a-492567d2808b",
      "cell_type": "markdown",
      "source": "### From the raw average, and the appropriate user and item biases, calculate the baseline predictors for every user-item combination.",
      "metadata": {}
    },
    {
      "id": "2e16faec-a556-48eb-af90-6578f374c8c3",
      "cell_type": "markdown",
      "source": "Our baseline predictor starts with the 3.4 average rating, and adds the individual item bias, and then the taster bias to end up with a rating that takes into account how tasty an ice cream flavor is and if our raters are more strict or forgiving raters. ",
      "metadata": {}
    },
    {
      "id": "1d12c9e8-3688-4eed-a536-ff6f916e260b",
      "cell_type": "code",
      "source": "#append avg\nbase_line_predictors = user_item_matrix.copy()\nbase_line_predictors['raw_avg'] = raw_avg\nbase_line_predictors",
      "metadata": {
        "trusted": true
      },
      "outputs": [
        {
          "execution_count": 47,
          "output_type": "execute_result",
          "data": {
            "text/plain": "    Tasters                variable  value  raw_avg\n0       Sam       Black Cherry Chip    5.0      3.4\n1      Nina       Black Cherry Chip    4.0      3.4\n2     Nancy       Black Cherry Chip    4.0      3.4\n3     Aditi       Black Cherry Chip    2.0      3.4\n4   Yerlene       Black Cherry Chip    4.0      3.4\n5      Jose       Black Cherry Chip    4.0      3.4\n6       Sam         Cookies & Cream    NaN      3.4\n7      Nina         Cookies & Cream    3.0      3.4\n8     Nancy         Cookies & Cream    2.0      3.4\n9     Aditi         Cookies & Cream    2.0      3.4\n10  Yerlene         Cookies & Cream    NaN      3.4\n11     Jose         Cookies & Cream    2.0      3.4\n12      Sam  Marionberry Cheesecake    4.0      3.4\n13     Nina  Marionberry Cheesecake    5.0      3.4\n14    Nancy  Marionberry Cheesecake    NaN      3.4\n15    Aditi  Marionberry Cheesecake    3.0      3.4\n16  Yerlene  Marionberry Cheesecake    5.0      3.4\n17     Jose  Marionberry Cheesecake    5.0      3.4\n18      Sam               Honeycomb    NaN      3.4\n19     Nina               Honeycomb    3.0      3.4\n20    Nancy               Honeycomb    NaN      3.4\n21    Aditi               Honeycomb    1.0      3.4\n22  Yerlene               Honeycomb    4.0      3.4\n23     Jose               Honeycomb    4.0      3.4\n24      Sam               Mint Chip    4.0      3.4\n25     Nina               Mint Chip    4.0      3.4\n26    Nancy               Mint Chip    3.0      3.4\n27    Aditi               Mint Chip    2.0      3.4\n28  Yerlene               Mint Chip    5.0      3.4\n29     Jose               Mint Chip    4.0      3.4",
            "text/html": "<div>\n<style scoped>\n    .dataframe tbody tr th:only-of-type {\n        vertical-align: middle;\n    }\n\n    .dataframe tbody tr th {\n        vertical-align: top;\n    }\n\n    .dataframe thead th {\n        text-align: right;\n    }\n</style>\n<table border=\"1\" class=\"dataframe\">\n  <thead>\n    <tr style=\"text-align: right;\">\n      <th></th>\n      <th>Tasters</th>\n      <th>variable</th>\n      <th>value</th>\n      <th>raw_avg</th>\n    </tr>\n  </thead>\n  <tbody>\n    <tr>\n      <th>0</th>\n      <td>Sam</td>\n      <td>Black Cherry Chip</td>\n      <td>5.0</td>\n      <td>3.4</td>\n    </tr>\n    <tr>\n      <th>1</th>\n      <td>Nina</td>\n      <td>Black Cherry Chip</td>\n      <td>4.0</td>\n      <td>3.4</td>\n    </tr>\n    <tr>\n      <th>2</th>\n      <td>Nancy</td>\n      <td>Black Cherry Chip</td>\n      <td>4.0</td>\n      <td>3.4</td>\n    </tr>\n    <tr>\n      <th>3</th>\n      <td>Aditi</td>\n      <td>Black Cherry Chip</td>\n      <td>2.0</td>\n      <td>3.4</td>\n    </tr>\n    <tr>\n      <th>4</th>\n      <td>Yerlene</td>\n      <td>Black Cherry Chip</td>\n      <td>4.0</td>\n      <td>3.4</td>\n    </tr>\n    <tr>\n      <th>5</th>\n      <td>Jose</td>\n      <td>Black Cherry Chip</td>\n      <td>4.0</td>\n      <td>3.4</td>\n    </tr>\n    <tr>\n      <th>6</th>\n      <td>Sam</td>\n      <td>Cookies &amp; Cream</td>\n      <td>NaN</td>\n      <td>3.4</td>\n    </tr>\n    <tr>\n      <th>7</th>\n      <td>Nina</td>\n      <td>Cookies &amp; Cream</td>\n      <td>3.0</td>\n      <td>3.4</td>\n    </tr>\n    <tr>\n      <th>8</th>\n      <td>Nancy</td>\n      <td>Cookies &amp; Cream</td>\n      <td>2.0</td>\n      <td>3.4</td>\n    </tr>\n    <tr>\n      <th>9</th>\n      <td>Aditi</td>\n      <td>Cookies &amp; Cream</td>\n      <td>2.0</td>\n      <td>3.4</td>\n    </tr>\n    <tr>\n      <th>10</th>\n      <td>Yerlene</td>\n      <td>Cookies &amp; Cream</td>\n      <td>NaN</td>\n      <td>3.4</td>\n    </tr>\n    <tr>\n      <th>11</th>\n      <td>Jose</td>\n      <td>Cookies &amp; Cream</td>\n      <td>2.0</td>\n      <td>3.4</td>\n    </tr>\n    <tr>\n      <th>12</th>\n      <td>Sam</td>\n      <td>Marionberry Cheesecake</td>\n      <td>4.0</td>\n      <td>3.4</td>\n    </tr>\n    <tr>\n      <th>13</th>\n      <td>Nina</td>\n      <td>Marionberry Cheesecake</td>\n      <td>5.0</td>\n      <td>3.4</td>\n    </tr>\n    <tr>\n      <th>14</th>\n      <td>Nancy</td>\n      <td>Marionberry Cheesecake</td>\n      <td>NaN</td>\n      <td>3.4</td>\n    </tr>\n    <tr>\n      <th>15</th>\n      <td>Aditi</td>\n      <td>Marionberry Cheesecake</td>\n      <td>3.0</td>\n      <td>3.4</td>\n    </tr>\n    <tr>\n      <th>16</th>\n      <td>Yerlene</td>\n      <td>Marionberry Cheesecake</td>\n      <td>5.0</td>\n      <td>3.4</td>\n    </tr>\n    <tr>\n      <th>17</th>\n      <td>Jose</td>\n      <td>Marionberry Cheesecake</td>\n      <td>5.0</td>\n      <td>3.4</td>\n    </tr>\n    <tr>\n      <th>18</th>\n      <td>Sam</td>\n      <td>Honeycomb</td>\n      <td>NaN</td>\n      <td>3.4</td>\n    </tr>\n    <tr>\n      <th>19</th>\n      <td>Nina</td>\n      <td>Honeycomb</td>\n      <td>3.0</td>\n      <td>3.4</td>\n    </tr>\n    <tr>\n      <th>20</th>\n      <td>Nancy</td>\n      <td>Honeycomb</td>\n      <td>NaN</td>\n      <td>3.4</td>\n    </tr>\n    <tr>\n      <th>21</th>\n      <td>Aditi</td>\n      <td>Honeycomb</td>\n      <td>1.0</td>\n      <td>3.4</td>\n    </tr>\n    <tr>\n      <th>22</th>\n      <td>Yerlene</td>\n      <td>Honeycomb</td>\n      <td>4.0</td>\n      <td>3.4</td>\n    </tr>\n    <tr>\n      <th>23</th>\n      <td>Jose</td>\n      <td>Honeycomb</td>\n      <td>4.0</td>\n      <td>3.4</td>\n    </tr>\n    <tr>\n      <th>24</th>\n      <td>Sam</td>\n      <td>Mint Chip</td>\n      <td>4.0</td>\n      <td>3.4</td>\n    </tr>\n    <tr>\n      <th>25</th>\n      <td>Nina</td>\n      <td>Mint Chip</td>\n      <td>4.0</td>\n      <td>3.4</td>\n    </tr>\n    <tr>\n      <th>26</th>\n      <td>Nancy</td>\n      <td>Mint Chip</td>\n      <td>3.0</td>\n      <td>3.4</td>\n    </tr>\n    <tr>\n      <th>27</th>\n      <td>Aditi</td>\n      <td>Mint Chip</td>\n      <td>2.0</td>\n      <td>3.4</td>\n    </tr>\n    <tr>\n      <th>28</th>\n      <td>Yerlene</td>\n      <td>Mint Chip</td>\n      <td>5.0</td>\n      <td>3.4</td>\n    </tr>\n    <tr>\n      <th>29</th>\n      <td>Jose</td>\n      <td>Mint Chip</td>\n      <td>4.0</td>\n      <td>3.4</td>\n    </tr>\n  </tbody>\n</table>\n</div>"
          },
          "metadata": {}
        }
      ],
      "execution_count": 47
    },
    {
      "id": "c7972caa-ce82-4597-ba4d-1370710cc71c",
      "cell_type": "code",
      "source": "#append biases\nbase_line_predictors = base_line_predictors.merge(flavor_bias, left_on='variable', right_on='variable', suffixes=(None, '_flavor_bias'))\nbase_line_predictors = base_line_predictors.merge(taster_bias, left_on='Tasters', right_on='Tasters',suffixes=(None,'_taster_bias'))",
      "metadata": {
        "trusted": true
      },
      "outputs": [],
      "execution_count": 48
    },
    {
      "id": "1b55a1b6-818c-4827-8c58-7caeaaec4004",
      "cell_type": "code",
      "source": "#create predicted \nbase_line_predictors['predicted'] = base_line_predictors['raw_avg'] + base_line_predictors['value_flavor_bias'] + base_line_predictors['value_taster_bias']",
      "metadata": {
        "trusted": true
      },
      "outputs": [],
      "execution_count": 49
    },
    {
      "id": "a8d89875-5a41-49e4-bf9d-e05f39a93f35",
      "cell_type": "code",
      "source": "#above 5 or below 1, assumed to be 5 or 1\nbase_line_predictors.predicted = base_line_predictors.predicted.clip(1, 5)",
      "metadata": {
        "trusted": true
      },
      "outputs": [],
      "execution_count": 50
    },
    {
      "id": "08fa95b4-b10a-4e9b-b78b-351d9184ad87",
      "cell_type": "code",
      "source": "base_line_predictors = pd.DataFrame(base_line_predictors)",
      "metadata": {
        "trusted": true
      },
      "outputs": [],
      "execution_count": 64
    },
    {
      "id": "8164faf1-08a7-48c8-8e7a-128fd09d6b9e",
      "cell_type": "code",
      "source": "base_line_predictors",
      "metadata": {
        "trusted": true
      },
      "outputs": [
        {
          "execution_count": 65,
          "output_type": "execute_result",
          "data": {
            "text/plain": "    Tasters                variable  value  raw_avg  value_flavor_bias  \\\n0       Sam       Black Cherry Chip    5.0      3.4           0.200000   \n1      Nina       Black Cherry Chip    4.0      3.4           0.200000   \n2     Nancy       Black Cherry Chip    4.0      3.4           0.200000   \n3     Aditi       Black Cherry Chip    2.0      3.4           0.200000   \n4   Yerlene       Black Cherry Chip    4.0      3.4           0.200000   \n5      Jose       Black Cherry Chip    4.0      3.4           0.200000   \n6       Sam         Cookies & Cream    NaN      3.4          -1.150000   \n7      Nina         Cookies & Cream    3.0      3.4          -1.150000   \n8     Nancy         Cookies & Cream    2.0      3.4          -1.150000   \n9     Aditi         Cookies & Cream    2.0      3.4          -1.150000   \n10  Yerlene         Cookies & Cream    NaN      3.4          -1.150000   \n11     Jose         Cookies & Cream    2.0      3.4          -1.150000   \n12      Sam  Marionberry Cheesecake    4.0      3.4           1.350000   \n13     Nina  Marionberry Cheesecake    5.0      3.4           1.350000   \n14    Nancy  Marionberry Cheesecake    NaN      3.4           1.350000   \n15    Aditi  Marionberry Cheesecake    3.0      3.4           1.350000   \n16  Yerlene  Marionberry Cheesecake    5.0      3.4           1.350000   \n17     Jose  Marionberry Cheesecake    5.0      3.4           1.350000   \n18      Sam               Honeycomb    NaN      3.4          -0.400000   \n19     Nina               Honeycomb    3.0      3.4          -0.400000   \n20    Nancy               Honeycomb    NaN      3.4          -0.400000   \n21    Aditi               Honeycomb    1.0      3.4          -0.400000   \n22  Yerlene               Honeycomb    4.0      3.4          -0.400000   \n23     Jose               Honeycomb    4.0      3.4          -0.400000   \n24      Sam               Mint Chip    4.0      3.4          -0.066667   \n25     Nina               Mint Chip    4.0      3.4          -0.066667   \n26    Nancy               Mint Chip    3.0      3.4          -0.066667   \n27    Aditi               Mint Chip    2.0      3.4          -0.066667   \n28  Yerlene               Mint Chip    5.0      3.4          -0.066667   \n29     Jose               Mint Chip    4.0      3.4          -0.066667   \n\n    value_taster_bias  predicted  \n0            0.600000   4.200000  \n1            0.400000   4.000000  \n2           -0.400000   3.200000  \n3           -1.650000   1.950000  \n4            0.933333   4.533333  \n5            0.400000   4.000000  \n6            0.600000   2.850000  \n7            0.400000   2.650000  \n8           -0.400000   1.850000  \n9           -1.650000   1.000000  \n10           0.933333   3.183333  \n11           0.400000   2.650000  \n12           0.600000   5.000000  \n13           0.400000   5.000000  \n14          -0.400000   4.350000  \n15          -1.650000   3.100000  \n16           0.933333   5.000000  \n17           0.400000   5.000000  \n18           0.600000   3.600000  \n19           0.400000   3.400000  \n20          -0.400000   2.600000  \n21          -1.650000   1.350000  \n22           0.933333   3.933333  \n23           0.400000   3.400000  \n24           0.600000   3.933333  \n25           0.400000   3.733333  \n26          -0.400000   2.933333  \n27          -1.650000   1.683333  \n28           0.933333   4.266667  \n29           0.400000   3.733333  ",
            "text/html": "<div>\n<style scoped>\n    .dataframe tbody tr th:only-of-type {\n        vertical-align: middle;\n    }\n\n    .dataframe tbody tr th {\n        vertical-align: top;\n    }\n\n    .dataframe thead th {\n        text-align: right;\n    }\n</style>\n<table border=\"1\" class=\"dataframe\">\n  <thead>\n    <tr style=\"text-align: right;\">\n      <th></th>\n      <th>Tasters</th>\n      <th>variable</th>\n      <th>value</th>\n      <th>raw_avg</th>\n      <th>value_flavor_bias</th>\n      <th>value_taster_bias</th>\n      <th>predicted</th>\n    </tr>\n  </thead>\n  <tbody>\n    <tr>\n      <th>0</th>\n      <td>Sam</td>\n      <td>Black Cherry Chip</td>\n      <td>5.0</td>\n      <td>3.4</td>\n      <td>0.200000</td>\n      <td>0.600000</td>\n      <td>4.200000</td>\n    </tr>\n    <tr>\n      <th>1</th>\n      <td>Nina</td>\n      <td>Black Cherry Chip</td>\n      <td>4.0</td>\n      <td>3.4</td>\n      <td>0.200000</td>\n      <td>0.400000</td>\n      <td>4.000000</td>\n    </tr>\n    <tr>\n      <th>2</th>\n      <td>Nancy</td>\n      <td>Black Cherry Chip</td>\n      <td>4.0</td>\n      <td>3.4</td>\n      <td>0.200000</td>\n      <td>-0.400000</td>\n      <td>3.200000</td>\n    </tr>\n    <tr>\n      <th>3</th>\n      <td>Aditi</td>\n      <td>Black Cherry Chip</td>\n      <td>2.0</td>\n      <td>3.4</td>\n      <td>0.200000</td>\n      <td>-1.650000</td>\n      <td>1.950000</td>\n    </tr>\n    <tr>\n      <th>4</th>\n      <td>Yerlene</td>\n      <td>Black Cherry Chip</td>\n      <td>4.0</td>\n      <td>3.4</td>\n      <td>0.200000</td>\n      <td>0.933333</td>\n      <td>4.533333</td>\n    </tr>\n    <tr>\n      <th>5</th>\n      <td>Jose</td>\n      <td>Black Cherry Chip</td>\n      <td>4.0</td>\n      <td>3.4</td>\n      <td>0.200000</td>\n      <td>0.400000</td>\n      <td>4.000000</td>\n    </tr>\n    <tr>\n      <th>6</th>\n      <td>Sam</td>\n      <td>Cookies &amp; Cream</td>\n      <td>NaN</td>\n      <td>3.4</td>\n      <td>-1.150000</td>\n      <td>0.600000</td>\n      <td>2.850000</td>\n    </tr>\n    <tr>\n      <th>7</th>\n      <td>Nina</td>\n      <td>Cookies &amp; Cream</td>\n      <td>3.0</td>\n      <td>3.4</td>\n      <td>-1.150000</td>\n      <td>0.400000</td>\n      <td>2.650000</td>\n    </tr>\n    <tr>\n      <th>8</th>\n      <td>Nancy</td>\n      <td>Cookies &amp; Cream</td>\n      <td>2.0</td>\n      <td>3.4</td>\n      <td>-1.150000</td>\n      <td>-0.400000</td>\n      <td>1.850000</td>\n    </tr>\n    <tr>\n      <th>9</th>\n      <td>Aditi</td>\n      <td>Cookies &amp; Cream</td>\n      <td>2.0</td>\n      <td>3.4</td>\n      <td>-1.150000</td>\n      <td>-1.650000</td>\n      <td>1.000000</td>\n    </tr>\n    <tr>\n      <th>10</th>\n      <td>Yerlene</td>\n      <td>Cookies &amp; Cream</td>\n      <td>NaN</td>\n      <td>3.4</td>\n      <td>-1.150000</td>\n      <td>0.933333</td>\n      <td>3.183333</td>\n    </tr>\n    <tr>\n      <th>11</th>\n      <td>Jose</td>\n      <td>Cookies &amp; Cream</td>\n      <td>2.0</td>\n      <td>3.4</td>\n      <td>-1.150000</td>\n      <td>0.400000</td>\n      <td>2.650000</td>\n    </tr>\n    <tr>\n      <th>12</th>\n      <td>Sam</td>\n      <td>Marionberry Cheesecake</td>\n      <td>4.0</td>\n      <td>3.4</td>\n      <td>1.350000</td>\n      <td>0.600000</td>\n      <td>5.000000</td>\n    </tr>\n    <tr>\n      <th>13</th>\n      <td>Nina</td>\n      <td>Marionberry Cheesecake</td>\n      <td>5.0</td>\n      <td>3.4</td>\n      <td>1.350000</td>\n      <td>0.400000</td>\n      <td>5.000000</td>\n    </tr>\n    <tr>\n      <th>14</th>\n      <td>Nancy</td>\n      <td>Marionberry Cheesecake</td>\n      <td>NaN</td>\n      <td>3.4</td>\n      <td>1.350000</td>\n      <td>-0.400000</td>\n      <td>4.350000</td>\n    </tr>\n    <tr>\n      <th>15</th>\n      <td>Aditi</td>\n      <td>Marionberry Cheesecake</td>\n      <td>3.0</td>\n      <td>3.4</td>\n      <td>1.350000</td>\n      <td>-1.650000</td>\n      <td>3.100000</td>\n    </tr>\n    <tr>\n      <th>16</th>\n      <td>Yerlene</td>\n      <td>Marionberry Cheesecake</td>\n      <td>5.0</td>\n      <td>3.4</td>\n      <td>1.350000</td>\n      <td>0.933333</td>\n      <td>5.000000</td>\n    </tr>\n    <tr>\n      <th>17</th>\n      <td>Jose</td>\n      <td>Marionberry Cheesecake</td>\n      <td>5.0</td>\n      <td>3.4</td>\n      <td>1.350000</td>\n      <td>0.400000</td>\n      <td>5.000000</td>\n    </tr>\n    <tr>\n      <th>18</th>\n      <td>Sam</td>\n      <td>Honeycomb</td>\n      <td>NaN</td>\n      <td>3.4</td>\n      <td>-0.400000</td>\n      <td>0.600000</td>\n      <td>3.600000</td>\n    </tr>\n    <tr>\n      <th>19</th>\n      <td>Nina</td>\n      <td>Honeycomb</td>\n      <td>3.0</td>\n      <td>3.4</td>\n      <td>-0.400000</td>\n      <td>0.400000</td>\n      <td>3.400000</td>\n    </tr>\n    <tr>\n      <th>20</th>\n      <td>Nancy</td>\n      <td>Honeycomb</td>\n      <td>NaN</td>\n      <td>3.4</td>\n      <td>-0.400000</td>\n      <td>-0.400000</td>\n      <td>2.600000</td>\n    </tr>\n    <tr>\n      <th>21</th>\n      <td>Aditi</td>\n      <td>Honeycomb</td>\n      <td>1.0</td>\n      <td>3.4</td>\n      <td>-0.400000</td>\n      <td>-1.650000</td>\n      <td>1.350000</td>\n    </tr>\n    <tr>\n      <th>22</th>\n      <td>Yerlene</td>\n      <td>Honeycomb</td>\n      <td>4.0</td>\n      <td>3.4</td>\n      <td>-0.400000</td>\n      <td>0.933333</td>\n      <td>3.933333</td>\n    </tr>\n    <tr>\n      <th>23</th>\n      <td>Jose</td>\n      <td>Honeycomb</td>\n      <td>4.0</td>\n      <td>3.4</td>\n      <td>-0.400000</td>\n      <td>0.400000</td>\n      <td>3.400000</td>\n    </tr>\n    <tr>\n      <th>24</th>\n      <td>Sam</td>\n      <td>Mint Chip</td>\n      <td>4.0</td>\n      <td>3.4</td>\n      <td>-0.066667</td>\n      <td>0.600000</td>\n      <td>3.933333</td>\n    </tr>\n    <tr>\n      <th>25</th>\n      <td>Nina</td>\n      <td>Mint Chip</td>\n      <td>4.0</td>\n      <td>3.4</td>\n      <td>-0.066667</td>\n      <td>0.400000</td>\n      <td>3.733333</td>\n    </tr>\n    <tr>\n      <th>26</th>\n      <td>Nancy</td>\n      <td>Mint Chip</td>\n      <td>3.0</td>\n      <td>3.4</td>\n      <td>-0.066667</td>\n      <td>-0.400000</td>\n      <td>2.933333</td>\n    </tr>\n    <tr>\n      <th>27</th>\n      <td>Aditi</td>\n      <td>Mint Chip</td>\n      <td>2.0</td>\n      <td>3.4</td>\n      <td>-0.066667</td>\n      <td>-1.650000</td>\n      <td>1.683333</td>\n    </tr>\n    <tr>\n      <th>28</th>\n      <td>Yerlene</td>\n      <td>Mint Chip</td>\n      <td>5.0</td>\n      <td>3.4</td>\n      <td>-0.066667</td>\n      <td>0.933333</td>\n      <td>4.266667</td>\n    </tr>\n    <tr>\n      <th>29</th>\n      <td>Jose</td>\n      <td>Mint Chip</td>\n      <td>4.0</td>\n      <td>3.4</td>\n      <td>-0.066667</td>\n      <td>0.400000</td>\n      <td>3.733333</td>\n    </tr>\n  </tbody>\n</table>\n</div>"
          },
          "metadata": {}
        }
      ],
      "execution_count": 65
    },
    {
      "id": "8b61aa0e-708a-4a3c-bae6-2e9586170946",
      "cell_type": "markdown",
      "source": "### Calculate the RMSE for the baseline predictors for both your training data and your test data.",
      "metadata": {}
    },
    {
      "id": "20b66b9a-8aa4-4cff-b82a-0581f6c39118",
      "cell_type": "markdown",
      "source": "The RMSE (Root Mean Squared Error) measures the average difference between the observed values, and the predicted ones. For this case we are using our baseline predictors (3.4 + user_bias + item_bias). Our RMSE being ~0.5 for our training and test data suggests that our baseline predictions are on average within 0.5 rating points from the actual scores. Our model has gotten more accurate as we added the user and item biases. Our training set RMSE of 0.47 ratings are slighty closer to the average score than the RMSE of 0.49 of the train data. ",
      "metadata": {}
    },
    {
      "id": "6f59a706-4905-4198-b2d7-f5c3b22e5f2f",
      "cell_type": "code",
      "source": "train_data1, test_data1 = train_test_split(base_line_predictors, test_size=0.2, random_state=30)",
      "metadata": {
        "trusted": true
      },
      "outputs": [],
      "execution_count": 52
    },
    {
      "id": "e54010e9-1890-4173-b806-1e099592598f",
      "cell_type": "code",
      "source": "predicted_train1 = train_data1.predicted[train_data1['value'].notnull()].copy()",
      "metadata": {
        "trusted": true
      },
      "outputs": [],
      "execution_count": 53
    },
    {
      "id": "36565fcc-6250-46ca-ab79-5bae21820f75",
      "cell_type": "code",
      "source": "predicted_test1 = test_data1.predicted[test_data1['value'].notnull()].copy()",
      "metadata": {
        "trusted": true
      },
      "outputs": [],
      "execution_count": 54
    },
    {
      "id": "5bd0edc4-194b-472a-8323-e2165c969c4e",
      "cell_type": "markdown",
      "source": "Our testing RMSE went down to 0.47 from the global avg RMSE of 1.08",
      "metadata": {}
    },
    {
      "id": "0ada255a-873e-4707-a787-a39256fd6a9b",
      "cell_type": "code",
      "source": "RMSE_train = root_mean_squared_error(train_data1.value[train_data1['value'].notnull()],predicted_train1)\nRMSE_train",
      "metadata": {
        "trusted": true
      },
      "outputs": [
        {
          "execution_count": 55,
          "output_type": "execute_result",
          "data": {
            "text/plain": "0.468182063351902"
          },
          "metadata": {}
        }
      ],
      "execution_count": 55
    },
    {
      "id": "d9e15ec4-b2aa-44eb-800d-c36fd4e72502",
      "cell_type": "markdown",
      "source": "Our training RMSE went down to 0.49 from the global avg RMSE of 1.16 ",
      "metadata": {}
    },
    {
      "id": "567fbd05-76aa-42f9-9abc-678c60344c1e",
      "cell_type": "code",
      "source": "RMSE_test = root_mean_squared_error(test_data1.value[test_data1['value'].notnull()],predicted_test1)\nRMSE_test",
      "metadata": {
        "trusted": true
      },
      "outputs": [
        {
          "execution_count": 56,
          "output_type": "execute_result",
          "data": {
            "text/plain": "0.4892170615721954"
          },
          "metadata": {}
        }
      ],
      "execution_count": 56
    },
    {
      "id": "9177e412-0dc4-4849-a85a-b1bf9b91a696",
      "cell_type": "markdown",
      "source": "### Using our recommender to get predicted scores for untasted flavors\nOur RMSE tells us the recommender system is relatively accurate, we see the predicted scores within 0.5 of the actual scores. This hopefully should mean that the scores for flavors our tasters haven't tasted yet should also fall within 0.5 our of predicted scores. These are the flavors that our tasters hadnt tried. It looks like we should really recommend Nancy to try Marionberry Cheesecake with a predicted score of 4.35. Inversely, Nancy should probably avoid Honeycomb with a predicted score of 2.6.",
      "metadata": {}
    },
    {
      "id": "48aa07d6-ed17-41e7-9631-0e33f7b47d5a",
      "cell_type": "code",
      "source": "base_line_predictors[base_line_predictors.value.isnull()]",
      "metadata": {
        "trusted": true
      },
      "outputs": [
        {
          "execution_count": 68,
          "output_type": "execute_result",
          "data": {
            "text/plain": "    Tasters                variable  value  raw_avg  value_flavor_bias  \\\n6       Sam         Cookies & Cream    NaN      3.4              -1.15   \n10  Yerlene         Cookies & Cream    NaN      3.4              -1.15   \n14    Nancy  Marionberry Cheesecake    NaN      3.4               1.35   \n18      Sam               Honeycomb    NaN      3.4              -0.40   \n20    Nancy               Honeycomb    NaN      3.4              -0.40   \n\n    value_taster_bias  predicted  \n6            0.600000   2.850000  \n10           0.933333   3.183333  \n14          -0.400000   4.350000  \n18           0.600000   3.600000  \n20          -0.400000   2.600000  ",
            "text/html": "<div>\n<style scoped>\n    .dataframe tbody tr th:only-of-type {\n        vertical-align: middle;\n    }\n\n    .dataframe tbody tr th {\n        vertical-align: top;\n    }\n\n    .dataframe thead th {\n        text-align: right;\n    }\n</style>\n<table border=\"1\" class=\"dataframe\">\n  <thead>\n    <tr style=\"text-align: right;\">\n      <th></th>\n      <th>Tasters</th>\n      <th>variable</th>\n      <th>value</th>\n      <th>raw_avg</th>\n      <th>value_flavor_bias</th>\n      <th>value_taster_bias</th>\n      <th>predicted</th>\n    </tr>\n  </thead>\n  <tbody>\n    <tr>\n      <th>6</th>\n      <td>Sam</td>\n      <td>Cookies &amp; Cream</td>\n      <td>NaN</td>\n      <td>3.4</td>\n      <td>-1.15</td>\n      <td>0.600000</td>\n      <td>2.850000</td>\n    </tr>\n    <tr>\n      <th>10</th>\n      <td>Yerlene</td>\n      <td>Cookies &amp; Cream</td>\n      <td>NaN</td>\n      <td>3.4</td>\n      <td>-1.15</td>\n      <td>0.933333</td>\n      <td>3.183333</td>\n    </tr>\n    <tr>\n      <th>14</th>\n      <td>Nancy</td>\n      <td>Marionberry Cheesecake</td>\n      <td>NaN</td>\n      <td>3.4</td>\n      <td>1.35</td>\n      <td>-0.400000</td>\n      <td>4.350000</td>\n    </tr>\n    <tr>\n      <th>18</th>\n      <td>Sam</td>\n      <td>Honeycomb</td>\n      <td>NaN</td>\n      <td>3.4</td>\n      <td>-0.40</td>\n      <td>0.600000</td>\n      <td>3.600000</td>\n    </tr>\n    <tr>\n      <th>20</th>\n      <td>Nancy</td>\n      <td>Honeycomb</td>\n      <td>NaN</td>\n      <td>3.4</td>\n      <td>-0.40</td>\n      <td>-0.400000</td>\n      <td>2.600000</td>\n    </tr>\n  </tbody>\n</table>\n</div>"
          },
          "metadata": {}
        }
      ],
      "execution_count": 68
    },
    {
      "id": "41d4d84b-e9ea-4fcd-9e4f-81f4a5531e61",
      "cell_type": "markdown",
      "source": "### Summarize your results.\nI created a global baseline bias recommender system of Van Leeuwen Ice Cream flavors ratings from coworkers to predict if they will like flavors they havent tasted (and rated) before using user and item biases. \n\nThe average rating was 3.4. Yerlene was our most positive taster with a +0.93 bias. Aditi was our most negative taster with a bias of -1.65. Marionberry Cheesecake seems like an excellent flavor with a +1.35 bias. Cookies & Cream is least loved with a bias\tof -1.15. \n\nOur RMSE being ~0.5 for our training and test data suggests that our baseline predictions are on average within 0.5 rating points from the actual scores. Our RMSE tells us the recommender system is relatively accurate, we see the predicted scores within 0.5 of the actual scores.\n\nUsing our recommender to get predicted scores for untasted flavors. We should really recommend Nancy to try Marionberry Cheesecake with a predicted score of 4.35. ",
      "metadata": {}
    }
  ]
}