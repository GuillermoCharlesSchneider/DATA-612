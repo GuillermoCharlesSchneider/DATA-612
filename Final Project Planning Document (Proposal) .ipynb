{
  "metadata": {
    "kernelspec": {
      "name": "python",
      "display_name": "Python (Pyodide)",
      "language": "python"
    },
    "language_info": {
      "codemirror_mode": {
        "name": "python",
        "version": 3
      },
      "file_extension": ".py",
      "mimetype": "text/x-python",
      "name": "python",
      "nbconvert_exporter": "python",
      "pygments_lexer": "ipython3",
      "version": "3.8"
    }
  },
  "nbformat_minor": 5,
  "nbformat": 4,
  "cells": [
    {
      "id": "ac540a87-447d-427e-8394-29b6ffef302a",
      "cell_type": "markdown",
      "source": "# Final Project Planning Document (Proposal) ",
      "metadata": {}
    },
    {
      "id": "c0091baa-dabb-482f-8545-345218fbe6e7",
      "cell_type": "markdown",
      "source": "### BookCrossing Dataset\nThe BookCrossing (BX) dataset was collected by Cai-Nicolas Ziegler in a 4-week crawl (August / September 2004) from the Book-Crossing community with kind permission from Ron Hornbaker, CTO of Humankind Systems. It contains 278,858 users (anonymized but with demographic information) providing 1,149,780 ratings (explicit / implicit) about 271,379 books. Ratings are between 1 - 10. Implicit feedback is represented by 0, it was a bit unclear but i think the implicit data is representing books that users looked at on the website but did not rate which could indicate future interest even if they have not read it yet.\n\nSource: https://grouplens.org/datasets/book-crossing/",
      "metadata": {}
    },
    {
      "id": "c40b0a91-7a1e-4593-a28e-b3639d8dc5ac",
      "cell_type": "markdown",
      "source": "### First Look at the  Data \nThere are alot of books that are only rated once, and similarly there are alot of users who only rated one book, creating lots of sparseness. There's a pretty large positive skewing distribution in the nonzero responses towards 10, requiring some normalization and recentering. I suppose it makes some sense that people will are likely to rate good books\n\n##### A worry about Books series novelty\nI'm worried that users who have read a popular series, for example Harry Potter or Lord of the Rings, would also have probably read and rated the rest of the series, and then users with similar tastes to them might end up with a top recommendations list of all of the same author which wouldn't be exciting. I need to make sure to check for novelty or reduce the same authors in the top N reccommendations.",
      "metadata": {}
    },
    {
      "id": "2e077b40-a76b-4864-b89d-f124edc81816",
      "cell_type": "markdown",
      "source": "### Trying Two Models:\n**1. Broader Weighted Matrix Factorization:** This model will keep all the data, including the implicit data, and gives the implicit data a lesser weight in the matrix factorization (trreating this like assigning confidence weights). There is more info with the implicit data in this model, but it remains to be seen if its adding good info or just more noise. \n\n**2. Specific IBCF:** This model will remove the implicit data, and also removes all users with less than 20 ratings and items who had less than 10 ratings to reduce noise. We're hoping to find similar users and suggest books using their books.",
      "metadata": {},
      "attachments": {}
    },
    {
      "id": "d2a2259b-c2d7-4667-9372-f78b9b10498c",
      "cell_type": "markdown",
      "source": "### Data Storage\nI stored the Book Crossing dataset CSVs into Azure Blob Storage. I've used Azure databricks as the compute resource and loaded data from the Azure Blob to Azure databricks Catalog using a fivetran connection\n\n",
      "metadata": {},
      "attachments": {}
    }
  ]
}