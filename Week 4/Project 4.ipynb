{
  "metadata": {
    "kernelspec": {
      "name": "xpython",
      "display_name": "Python 3.13 (XPython)",
      "language": "python"
    },
    "language_info": {
      "file_extension": ".py",
      "mimetype": "text/x-python",
      "name": "python",
      "version": "3.13.1"
    }
  },
  "nbformat_minor": 5,
  "nbformat": 4,
  "cells": [
    {
      "id": "1eabd2da-ddd6-4d0e-abc5-f81dcaa5936a",
      "cell_type": "markdown",
      "source": "# DATA 612 Project 4 | Accuracy and Beyond ",
      "metadata": {}
    },
    {
      "id": "155df1f9-3b61-4ada-be2f-49b454be60ab",
      "cell_type": "markdown",
      "source": "### Choose a different dataset to work with from your previous projects",
      "metadata": {}
    },
    {
      "id": "bfa33dca-2d1f-48f7-9908-53a4ab03065a",
      "cell_type": "code",
      "source": "",
      "metadata": {
        "trusted": true
      },
      "outputs": [],
      "execution_count": null
    },
    {
      "id": "92a09420-afd6-4969-8b61-859a0a28118d",
      "cell_type": "markdown",
      "source": "### 1. Compare the accuracy of at least two recommender system algorithms against your offline data. Choose two recommenders, then pick a metric. you can look at RMSE and MEA, but pick something recommender specific like novelty, diversity, serendipity. compare between the three metrics, be critical, address why that recommender is best. offline data is data not used for training",
      "metadata": {}
    },
    {
      "id": "9bea717d-3c7a-49f9-b9ee-604595623db7",
      "cell_type": "code",
      "source": "",
      "metadata": {
        "trusted": true
      },
      "outputs": [],
      "execution_count": null
    },
    {
      "id": "a93df9ff-2490-4aee-917a-73386d7144cd",
      "cell_type": "markdown",
      "source": "### 2. Implement support for at least one business or user experience goal such as increased serendipity, novelty, or diversity. look beyond the model but its use. Example: if using a content base filtering and user keep watching action movies, you will reach a point when your exhsaus t your action movie libaries and user has nothing to new to watch. what can you do to avoid this, and find a way to explore if te user also likes other gemres  without just suggestin  a random different genre, just percieved as noise",
      "metadata": {},
      "attachments": {}
    },
    {
      "id": "0150a38a-b902-46dd-ab77-98e1cca10456",
      "cell_type": "code",
      "source": "",
      "metadata": {
        "trusted": true
      },
      "outputs": [],
      "execution_count": null
    },
    {
      "id": "221e5731-5961-4c2f-8d19-c5af4d7d3beb",
      "cell_type": "markdown",
      "source": "### 3. Compare and report on any change in accuracy before and after you’ve made the change in #2.",
      "metadata": {}
    },
    {
      "id": "5dd6cade-7230-4095-b579-23a8d58bff36",
      "cell_type": "code",
      "source": "",
      "metadata": {
        "trusted": true
      },
      "outputs": [],
      "execution_count": null
    },
    {
      "id": "fad3cc42-ed76-496b-b862-d4e03ec50bc1",
      "cell_type": "markdown",
      "source": "### 4. As part of your textual conclusion, discuss one or more additional experiments that could be performed and/or metrics that could be evaluated only if online evaluation was possible. Also, briefly propose how you would design a reasonable online evaluation environment.",
      "metadata": {}
    },
    {
      "id": "19c66883-4c18-4f66-97c3-203ecdb765d0",
      "cell_type": "code",
      "source": "",
      "metadata": {
        "trusted": true
      },
      "outputs": [],
      "execution_count": null
    },
    {
      "id": "3e237f3c-b103-4e8b-adc9-78a088306e66",
      "cell_type": "markdown",
      "source": "Compare the accuracy of at least two recommender algorithms using offline data and metrics\nsuch as RMSE, precision, or recall to evaluate the performance of each model",
      "metadata": {}
    },
    {
      "id": "72beb48f-1ebe-4f64-bbbd-6df7acd00c94",
      "cell_type": "code",
      "source": "Implement and evaluate business or user experience goals (e.g., increased serendipity, novelty,\nor diversity) within a recommender system, and assess the impact of these factors on user\nsatisfaction and system performance.",
      "metadata": {
        "trusted": true
      },
      "outputs": [],
      "execution_count": null
    },
    {
      "id": "820a3539-9a74-4f28-8b9e-e899f175954e",
      "cell_type": "markdown",
      "source": "Analyze and report on changes in accuracy after implementing enhancements related to busi\u0002ness goals, comparing the performance of the recommender system before and after modifica\u0002tions",
      "metadata": {}
    },
    {
      "id": "646e3867-fded-4200-ad45-f0bce1a5dc93",
      "cell_type": "markdown",
      "source": "Design and propose experiments for online evaluation, outlining how online metrics could be\nused to assess the real-world effectiveness of recommender systems, including user engagement,\nconversion rates, or retention.",
      "metadata": {}
    },
    {
      "id": "baf3193d-c86f-48a4-841e-248cf15f4302",
      "cell_type": "markdown",
      "source": "Explore the limitations of offline evaluation metrics and explain the importance of online\nevaluation for assessing a recommender system’s real-world performance and relevance.",
      "metadata": {}
    },
    {
      "id": "3d71721e-e942-4c9c-8b1a-1a625c38c6ee",
      "cell_type": "markdown",
      "source": "Propose a framework for online evaluation, including how to set up an A/B testing environ\u0002ment, handle user interactions, and gather real-time data to further optimize and validate\nrecommender algorithms.",
      "metadata": {}
    },
    {
      "id": "b140f398-c6e5-4b48-9139-84c0f6070a34",
      "cell_type": "markdown",
      "source": "By completing this module, students will gain practical experience in fine-tuning recommender\nsystems to align with business goals and user preferences, and learn how to move beyond\ntraditional accuracy metrics to evaluate the success of their systems in a more holistic, real\u0002world contex",
      "metadata": {}
    }
  ]
}