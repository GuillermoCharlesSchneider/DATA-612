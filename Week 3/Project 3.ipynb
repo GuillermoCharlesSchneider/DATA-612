{
  "metadata": {
    "kernelspec": {
      "name": "python",
      "display_name": "Python (Pyodide)",
      "language": "python"
    },
    "language_info": {
      "codemirror_mode": {
        "name": "python",
        "version": 3
      },
      "file_extension": ".py",
      "mimetype": "text/x-python",
      "name": "python",
      "nbconvert_exporter": "python",
      "pygments_lexer": "ipython3",
      "version": "3.8"
    }
  },
  "nbformat_minor": 5,
  "nbformat": 4,
  "cells": [
    {
      "id": "769cb6ed-ddc8-484f-8373-2dd91622d0bd",
      "cell_type": "code",
      "source": "#imports\nimport pandas as pd\nimport numpy as np\nfrom sklearn.model_selection import train_test_split\nfrom scipy import sparse\nfrom pandas.api.types import CategoricalDtype\nfrom tqdm import tqdm \nfrom sklearn.metrics import mean_squared_error\nimport matplotlib.pyplot as plt",
      "metadata": {
        "trusted": true
      },
      "outputs": [
        {
          "name": "stderr",
          "output_type": "stream",
          "text": "Matplotlib is building the font cache; this may take a moment.\n"
        }
      ],
      "execution_count": 220
    },
    {
      "id": "5c7bd62d-51ee-4c34-834a-18b5bb28ef76",
      "cell_type": "markdown",
      "source": "# Project 3 | Matrix Factorization Methods ",
      "metadata": {}
    },
    {
      "id": "b5a4f632-d13f-48eb-a4b4-016bce4413f5",
      "cell_type": "markdown",
      "source": "## Jester Joke Data\n2.5 million anonymous ratings of jokes by users of the Jester Joke Recommender System (Ken Goldberg, AUTOLab, UC Berkeley).  Values from (-10.00 to +10.00) of 100 jokes collected between April 1999 - May 2003.  Data from 24,983 users who have rated 36 or more jokes, a matrix with dimensions 24983 X 101. ",
      "metadata": {}
    },
    {
      "id": "f05e9037-cd39-4da2-a768-b632286a6021",
      "cell_type": "code",
      "source": "#import joke data\noriginal_jokes_df = pd.read_csv('jester-data-1.csv')",
      "metadata": {
        "trusted": true
      },
      "outputs": [],
      "execution_count": 2
    },
    {
      "id": "492c7da8-7a49-4e5f-a400-f59461f03248",
      "cell_type": "code",
      "source": "original_jokes_df",
      "metadata": {
        "trusted": true
      },
      "outputs": [
        {
          "execution_count": 3,
          "output_type": "execute_result",
          "data": {
            "text/plain": "        User  Number of Jokes Rated     1     2     3     4     5     6     7  \\\n0          1                   74.0 -7.82  8.79 -9.66 -8.16 -7.52 -8.50 -9.85   \n1          2                  100.0  4.08 -0.29  6.36  4.37 -2.38 -9.66 -0.73   \n2          3                   49.0   NaN   NaN   NaN   NaN  9.03  9.27  9.03   \n3          4                   48.0   NaN  8.35   NaN   NaN  1.80  8.16 -2.82   \n4          5                   91.0  8.50  4.61 -4.17 -5.39  1.36  1.60  7.04   \n...      ...                    ...   ...   ...   ...   ...   ...   ...   ...   \n24978  24979                  100.0  0.44  7.43  9.08  2.33  3.20  6.75 -8.79   \n24979  24980                   91.0  9.13 -8.16  8.59  9.08  0.87 -8.93 -3.50   \n24980  24981                   39.0   NaN   NaN   NaN   NaN -7.77   NaN  6.70   \n24981  24982                   37.0   NaN   NaN   NaN   NaN -9.71   NaN  4.56   \n24982  24983                   72.0  2.43  2.67 -3.98  4.27 -2.28  7.33  2.33   \n\n          8  ...    91    92    93    94    95    96    97    98    99   100  \n0      4.17  ...  2.82   NaN   NaN   NaN   NaN   NaN -5.63   NaN   NaN   NaN  \n1     -5.34  ...  2.82 -4.95 -0.29  7.86 -0.19 -2.14  3.06  0.34 -4.32  1.07  \n2      9.27  ...   NaN   NaN   NaN  9.08   NaN   NaN   NaN   NaN   NaN   NaN  \n3      6.21  ...   NaN   NaN   NaN  0.53   NaN   NaN   NaN   NaN   NaN   NaN  \n4      4.61  ...  5.19  5.58  4.27  5.19  5.73  1.55  3.11  6.55  1.80  1.60  \n...     ...  ...   ...   ...   ...   ...   ...   ...   ...   ...   ...   ...  \n24978 -0.53  ...  8.83 -1.21  9.22 -6.70  8.45  9.03  6.55  8.69  8.79  7.43  \n24979  5.78  ... -1.17 -5.73 -1.46  0.24  9.22 -8.20 -7.23 -8.59  9.13  8.45  \n24980 -6.75  ...   NaN   NaN   NaN   NaN   NaN   NaN   NaN   NaN   NaN   NaN  \n24981 -8.30  ...   NaN   NaN   NaN   NaN   NaN   NaN   NaN   NaN   NaN   NaN  \n24982  4.56  ...   NaN   NaN   NaN   NaN   NaN   NaN   NaN   NaN   NaN   NaN  \n\n[24983 rows x 102 columns]",
            "text/html": "<div>\n<style scoped>\n    .dataframe tbody tr th:only-of-type {\n        vertical-align: middle;\n    }\n\n    .dataframe tbody tr th {\n        vertical-align: top;\n    }\n\n    .dataframe thead th {\n        text-align: right;\n    }\n</style>\n<table border=\"1\" class=\"dataframe\">\n  <thead>\n    <tr style=\"text-align: right;\">\n      <th></th>\n      <th>User</th>\n      <th>Number of Jokes Rated</th>\n      <th>1</th>\n      <th>2</th>\n      <th>3</th>\n      <th>4</th>\n      <th>5</th>\n      <th>6</th>\n      <th>7</th>\n      <th>8</th>\n      <th>...</th>\n      <th>91</th>\n      <th>92</th>\n      <th>93</th>\n      <th>94</th>\n      <th>95</th>\n      <th>96</th>\n      <th>97</th>\n      <th>98</th>\n      <th>99</th>\n      <th>100</th>\n    </tr>\n  </thead>\n  <tbody>\n    <tr>\n      <th>0</th>\n      <td>1</td>\n      <td>74.0</td>\n      <td>-7.82</td>\n      <td>8.79</td>\n      <td>-9.66</td>\n      <td>-8.16</td>\n      <td>-7.52</td>\n      <td>-8.50</td>\n      <td>-9.85</td>\n      <td>4.17</td>\n      <td>...</td>\n      <td>2.82</td>\n      <td>NaN</td>\n      <td>NaN</td>\n      <td>NaN</td>\n      <td>NaN</td>\n      <td>NaN</td>\n      <td>-5.63</td>\n      <td>NaN</td>\n      <td>NaN</td>\n      <td>NaN</td>\n    </tr>\n    <tr>\n      <th>1</th>\n      <td>2</td>\n      <td>100.0</td>\n      <td>4.08</td>\n      <td>-0.29</td>\n      <td>6.36</td>\n      <td>4.37</td>\n      <td>-2.38</td>\n      <td>-9.66</td>\n      <td>-0.73</td>\n      <td>-5.34</td>\n      <td>...</td>\n      <td>2.82</td>\n      <td>-4.95</td>\n      <td>-0.29</td>\n      <td>7.86</td>\n      <td>-0.19</td>\n      <td>-2.14</td>\n      <td>3.06</td>\n      <td>0.34</td>\n      <td>-4.32</td>\n      <td>1.07</td>\n    </tr>\n    <tr>\n      <th>2</th>\n      <td>3</td>\n      <td>49.0</td>\n      <td>NaN</td>\n      <td>NaN</td>\n      <td>NaN</td>\n      <td>NaN</td>\n      <td>9.03</td>\n      <td>9.27</td>\n      <td>9.03</td>\n      <td>9.27</td>\n      <td>...</td>\n      <td>NaN</td>\n      <td>NaN</td>\n      <td>NaN</td>\n      <td>9.08</td>\n      <td>NaN</td>\n      <td>NaN</td>\n      <td>NaN</td>\n      <td>NaN</td>\n      <td>NaN</td>\n      <td>NaN</td>\n    </tr>\n    <tr>\n      <th>3</th>\n      <td>4</td>\n      <td>48.0</td>\n      <td>NaN</td>\n      <td>8.35</td>\n      <td>NaN</td>\n      <td>NaN</td>\n      <td>1.80</td>\n      <td>8.16</td>\n      <td>-2.82</td>\n      <td>6.21</td>\n      <td>...</td>\n      <td>NaN</td>\n      <td>NaN</td>\n      <td>NaN</td>\n      <td>0.53</td>\n      <td>NaN</td>\n      <td>NaN</td>\n      <td>NaN</td>\n      <td>NaN</td>\n      <td>NaN</td>\n      <td>NaN</td>\n    </tr>\n    <tr>\n      <th>4</th>\n      <td>5</td>\n      <td>91.0</td>\n      <td>8.50</td>\n      <td>4.61</td>\n      <td>-4.17</td>\n      <td>-5.39</td>\n      <td>1.36</td>\n      <td>1.60</td>\n      <td>7.04</td>\n      <td>4.61</td>\n      <td>...</td>\n      <td>5.19</td>\n      <td>5.58</td>\n      <td>4.27</td>\n      <td>5.19</td>\n      <td>5.73</td>\n      <td>1.55</td>\n      <td>3.11</td>\n      <td>6.55</td>\n      <td>1.80</td>\n      <td>1.60</td>\n    </tr>\n    <tr>\n      <th>...</th>\n      <td>...</td>\n      <td>...</td>\n      <td>...</td>\n      <td>...</td>\n      <td>...</td>\n      <td>...</td>\n      <td>...</td>\n      <td>...</td>\n      <td>...</td>\n      <td>...</td>\n      <td>...</td>\n      <td>...</td>\n      <td>...</td>\n      <td>...</td>\n      <td>...</td>\n      <td>...</td>\n      <td>...</td>\n      <td>...</td>\n      <td>...</td>\n      <td>...</td>\n      <td>...</td>\n    </tr>\n    <tr>\n      <th>24978</th>\n      <td>24979</td>\n      <td>100.0</td>\n      <td>0.44</td>\n      <td>7.43</td>\n      <td>9.08</td>\n      <td>2.33</td>\n      <td>3.20</td>\n      <td>6.75</td>\n      <td>-8.79</td>\n      <td>-0.53</td>\n      <td>...</td>\n      <td>8.83</td>\n      <td>-1.21</td>\n      <td>9.22</td>\n      <td>-6.70</td>\n      <td>8.45</td>\n      <td>9.03</td>\n      <td>6.55</td>\n      <td>8.69</td>\n      <td>8.79</td>\n      <td>7.43</td>\n    </tr>\n    <tr>\n      <th>24979</th>\n      <td>24980</td>\n      <td>91.0</td>\n      <td>9.13</td>\n      <td>-8.16</td>\n      <td>8.59</td>\n      <td>9.08</td>\n      <td>0.87</td>\n      <td>-8.93</td>\n      <td>-3.50</td>\n      <td>5.78</td>\n      <td>...</td>\n      <td>-1.17</td>\n      <td>-5.73</td>\n      <td>-1.46</td>\n      <td>0.24</td>\n      <td>9.22</td>\n      <td>-8.20</td>\n      <td>-7.23</td>\n      <td>-8.59</td>\n      <td>9.13</td>\n      <td>8.45</td>\n    </tr>\n    <tr>\n      <th>24980</th>\n      <td>24981</td>\n      <td>39.0</td>\n      <td>NaN</td>\n      <td>NaN</td>\n      <td>NaN</td>\n      <td>NaN</td>\n      <td>-7.77</td>\n      <td>NaN</td>\n      <td>6.70</td>\n      <td>-6.75</td>\n      <td>...</td>\n      <td>NaN</td>\n      <td>NaN</td>\n      <td>NaN</td>\n      <td>NaN</td>\n      <td>NaN</td>\n      <td>NaN</td>\n      <td>NaN</td>\n      <td>NaN</td>\n      <td>NaN</td>\n      <td>NaN</td>\n    </tr>\n    <tr>\n      <th>24981</th>\n      <td>24982</td>\n      <td>37.0</td>\n      <td>NaN</td>\n      <td>NaN</td>\n      <td>NaN</td>\n      <td>NaN</td>\n      <td>-9.71</td>\n      <td>NaN</td>\n      <td>4.56</td>\n      <td>-8.30</td>\n      <td>...</td>\n      <td>NaN</td>\n      <td>NaN</td>\n      <td>NaN</td>\n      <td>NaN</td>\n      <td>NaN</td>\n      <td>NaN</td>\n      <td>NaN</td>\n      <td>NaN</td>\n      <td>NaN</td>\n      <td>NaN</td>\n    </tr>\n    <tr>\n      <th>24982</th>\n      <td>24983</td>\n      <td>72.0</td>\n      <td>2.43</td>\n      <td>2.67</td>\n      <td>-3.98</td>\n      <td>4.27</td>\n      <td>-2.28</td>\n      <td>7.33</td>\n      <td>2.33</td>\n      <td>4.56</td>\n      <td>...</td>\n      <td>NaN</td>\n      <td>NaN</td>\n      <td>NaN</td>\n      <td>NaN</td>\n      <td>NaN</td>\n      <td>NaN</td>\n      <td>NaN</td>\n      <td>NaN</td>\n      <td>NaN</td>\n      <td>NaN</td>\n    </tr>\n  </tbody>\n</table>\n<p>24983 rows × 102 columns</p>\n</div>"
          },
          "metadata": {}
        }
      ],
      "execution_count": 3
    },
    {
      "id": "85bfd04b-ebdb-4a60-9341-0bdb24b656b1",
      "cell_type": "code",
      "source": "jokes_long_df = pd.melt(original_jokes_df.drop(columns=['Number of Jokes Rated']), id_vars=['User'])\njokes_long_df = jokes_df.rename(columns={\"User\": \"user_id\", \"variable\": \"item_id\", \"value\":\"rating\"})\njokes_long_df",
      "metadata": {
        "trusted": true
      },
      "outputs": [
        {
          "execution_count": 96,
          "output_type": "execute_result",
          "data": {
            "text/plain": "         user_id item_id  rating\n0              1       1   -7.82\n1              2       1    4.08\n2              3       1     NaN\n3              4       1     NaN\n4              5       1    8.50\n...          ...     ...     ...\n2498295    24979     100    7.43\n2498296    24980     100    8.45\n2498297    24981     100     NaN\n2498298    24982     100     NaN\n2498299    24983     100     NaN\n\n[2498300 rows x 3 columns]",
            "text/html": "<div>\n<style scoped>\n    .dataframe tbody tr th:only-of-type {\n        vertical-align: middle;\n    }\n\n    .dataframe tbody tr th {\n        vertical-align: top;\n    }\n\n    .dataframe thead th {\n        text-align: right;\n    }\n</style>\n<table border=\"1\" class=\"dataframe\">\n  <thead>\n    <tr style=\"text-align: right;\">\n      <th></th>\n      <th>user_id</th>\n      <th>item_id</th>\n      <th>rating</th>\n    </tr>\n  </thead>\n  <tbody>\n    <tr>\n      <th>0</th>\n      <td>1</td>\n      <td>1</td>\n      <td>-7.82</td>\n    </tr>\n    <tr>\n      <th>1</th>\n      <td>2</td>\n      <td>1</td>\n      <td>4.08</td>\n    </tr>\n    <tr>\n      <th>2</th>\n      <td>3</td>\n      <td>1</td>\n      <td>NaN</td>\n    </tr>\n    <tr>\n      <th>3</th>\n      <td>4</td>\n      <td>1</td>\n      <td>NaN</td>\n    </tr>\n    <tr>\n      <th>4</th>\n      <td>5</td>\n      <td>1</td>\n      <td>8.50</td>\n    </tr>\n    <tr>\n      <th>...</th>\n      <td>...</td>\n      <td>...</td>\n      <td>...</td>\n    </tr>\n    <tr>\n      <th>2498295</th>\n      <td>24979</td>\n      <td>100</td>\n      <td>7.43</td>\n    </tr>\n    <tr>\n      <th>2498296</th>\n      <td>24980</td>\n      <td>100</td>\n      <td>8.45</td>\n    </tr>\n    <tr>\n      <th>2498297</th>\n      <td>24981</td>\n      <td>100</td>\n      <td>NaN</td>\n    </tr>\n    <tr>\n      <th>2498298</th>\n      <td>24982</td>\n      <td>100</td>\n      <td>NaN</td>\n    </tr>\n    <tr>\n      <th>2498299</th>\n      <td>24983</td>\n      <td>100</td>\n      <td>NaN</td>\n    </tr>\n  </tbody>\n</table>\n<p>2498300 rows × 3 columns</p>\n</div>"
          },
          "metadata": {}
        }
      ],
      "execution_count": 98
    },
    {
      "id": "a5c501a3-d6d6-4e5e-adc5-29d94f22249b",
      "cell_type": "markdown",
      "source": "### Sparseness \nThis dataset is relatively sparse. There are alot of jokes that users did not rate. High portion of missing values caused by sparseness in the user-item ratings matrix. Carelessly addressing only the relatively few known entries is highly prone to overfitting. Previously, I had used a dense subcluster to approximate user similarity. SVD requires that there are no missing values. ALS can handle missing values.",
      "metadata": {}
    },
    {
      "id": "2c367468-e7bb-474f-a874-b7616e03e6ea",
      "cell_type": "markdown",
      "source": "#### Rescaled to a 1 to 10 scale, so that i turn my nans into 0s so i can use the CSR matrix",
      "metadata": {}
    },
    {
      "id": "49cbfa28-a310-4f96-b1da-c97867ec61d7",
      "cell_type": "code",
      "source": "jokes_df = original_jokes_df.drop(columns=['Number of Jokes Rated']).copy()",
      "metadata": {
        "trusted": true
      },
      "outputs": [],
      "execution_count": 126
    },
    {
      "id": "adc69c20-aaf5-4a3a-b782-9ffd6786a729",
      "cell_type": "code",
      "source": "min_rating = jokes_df.drop(columns=['User']).min().min()\nmax_rating = jokes_df.drop(columns=['User']).max().max()\n\ndef rescale(x):\n    return 1 + 9 * (x - min_rating) / (max_rating - min_rating)\n\ndf_rescaled = jokes_df.drop(columns=['User']).apply(lambda row: 1 + 9 * (row - row.min()) / (row.max() - row.min()), axis=1)\n\ndf_rescaled = df_rescaled.fillna(0)",
      "metadata": {
        "trusted": true
      },
      "outputs": [],
      "execution_count": 127
    },
    {
      "id": "22109171-a141-43d3-9c8c-9e751565a2da",
      "cell_type": "code",
      "source": "df_rescaled",
      "metadata": {
        "trusted": true
      },
      "outputs": [
        {
          "execution_count": 183,
          "output_type": "execute_result",
          "data": {
            "text/plain": "              1          2         3         4         5         6         7  \\\n0      1.962592   9.838778  1.090095  1.801370  2.104847  1.640148  1.000000   \n1      7.549788   5.466631  8.636653  7.688030  4.470339  1.000000  5.256886   \n2      0.000000   0.000000  0.000000  0.000000  9.822403  9.947766  9.822403   \n3      0.000000  10.000000  0.000000  0.000000  6.459459  9.897297  3.962162   \n4      9.791824   7.908553  3.657881  3.067240  6.335126  6.451318  9.084992   \n...         ...        ...       ...       ...       ...       ...       ...   \n24978  5.865245   9.138398  9.911030  6.750260  7.157648  8.819979  1.543184   \n24979  9.931670   1.492950  9.668113  9.907267  5.900217  1.117137  3.767354   \n24980  0.000000   0.000000  0.000000  0.000000  1.053150  0.000000  9.598425   \n24981  0.000000   0.000000  0.000000  0.000000  1.000000  0.000000  8.131038   \n24982  6.747283   6.864674  3.611957  7.647283  4.443478  9.144022  6.698370   \n\n              8         9         10  ...        91        92        93  \\\n0      7.648051  1.412540   3.413593  ...  7.007903  0.000000  0.000000   \n1      3.059322  9.837924  10.000000  ...  6.949153  3.245233  5.466631   \n2      9.947766  0.000000   0.000000  ...  0.000000  0.000000  0.000000   \n3      8.843243  0.000000   6.481081  ...  0.000000  0.000000  0.000000   \n4      7.908553  5.463690   8.450780  ...  8.189349  8.378160  7.743948   \n...         ...       ...        ...  ...       ...       ...       ...   \n24978  5.411030  1.566597   9.044745  ...  9.793965  5.092612  9.976587   \n24979  8.296638  1.517354   7.867137  ...  4.904555  2.678959  4.763015   \n24980  1.655512  0.000000   0.000000  ...  0.000000  0.000000  0.000000   \n24981  1.704609  0.000000   0.000000  ...  0.000000  0.000000  0.000000   \n24982  7.789130  8.860326   7.813587  ...  0.000000  0.000000  0.000000   \n\n             94        95        96        97        98        99       100  \n0      0.000000  0.000000  0.000000  3.001054  0.000000  0.000000  0.000000  \n1      9.351695  5.514301  4.584746  7.063559  5.766949  3.545551  6.114936  \n2      9.848520  0.000000  0.000000  0.000000  0.000000  0.000000  0.000000  \n3      5.772973  0.000000  0.000000  0.000000  0.000000  0.000000  0.000000  \n4      8.189349  8.450780  6.427111  7.182356  8.847768  6.548144  6.451318  \n...         ...       ...       ...       ...       ...       ...       ...  \n24978  2.521852  9.616025  9.887617  8.726327  9.728408  9.775234  9.138398  \n24979  5.592733  9.975597  1.473427  1.946855  1.283080  9.931670  9.599783  \n24980  0.000000  0.000000  0.000000  0.000000  0.000000  0.000000  0.000000  \n24981  0.000000  0.000000  0.000000  0.000000  0.000000  0.000000  0.000000  \n24982  0.000000  0.000000  0.000000  0.000000  0.000000  0.000000  0.000000  \n\n[24983 rows x 100 columns]",
            "text/html": "<div>\n<style scoped>\n    .dataframe tbody tr th:only-of-type {\n        vertical-align: middle;\n    }\n\n    .dataframe tbody tr th {\n        vertical-align: top;\n    }\n\n    .dataframe thead th {\n        text-align: right;\n    }\n</style>\n<table border=\"1\" class=\"dataframe\">\n  <thead>\n    <tr style=\"text-align: right;\">\n      <th></th>\n      <th>1</th>\n      <th>2</th>\n      <th>3</th>\n      <th>4</th>\n      <th>5</th>\n      <th>6</th>\n      <th>7</th>\n      <th>8</th>\n      <th>9</th>\n      <th>10</th>\n      <th>...</th>\n      <th>91</th>\n      <th>92</th>\n      <th>93</th>\n      <th>94</th>\n      <th>95</th>\n      <th>96</th>\n      <th>97</th>\n      <th>98</th>\n      <th>99</th>\n      <th>100</th>\n    </tr>\n  </thead>\n  <tbody>\n    <tr>\n      <th>0</th>\n      <td>1.962592</td>\n      <td>9.838778</td>\n      <td>1.090095</td>\n      <td>1.801370</td>\n      <td>2.104847</td>\n      <td>1.640148</td>\n      <td>1.000000</td>\n      <td>7.648051</td>\n      <td>1.412540</td>\n      <td>3.413593</td>\n      <td>...</td>\n      <td>7.007903</td>\n      <td>0.000000</td>\n      <td>0.000000</td>\n      <td>0.000000</td>\n      <td>0.000000</td>\n      <td>0.000000</td>\n      <td>3.001054</td>\n      <td>0.000000</td>\n      <td>0.000000</td>\n      <td>0.000000</td>\n    </tr>\n    <tr>\n      <th>1</th>\n      <td>7.549788</td>\n      <td>5.466631</td>\n      <td>8.636653</td>\n      <td>7.688030</td>\n      <td>4.470339</td>\n      <td>1.000000</td>\n      <td>5.256886</td>\n      <td>3.059322</td>\n      <td>9.837924</td>\n      <td>10.000000</td>\n      <td>...</td>\n      <td>6.949153</td>\n      <td>3.245233</td>\n      <td>5.466631</td>\n      <td>9.351695</td>\n      <td>5.514301</td>\n      <td>4.584746</td>\n      <td>7.063559</td>\n      <td>5.766949</td>\n      <td>3.545551</td>\n      <td>6.114936</td>\n    </tr>\n    <tr>\n      <th>2</th>\n      <td>0.000000</td>\n      <td>0.000000</td>\n      <td>0.000000</td>\n      <td>0.000000</td>\n      <td>9.822403</td>\n      <td>9.947766</td>\n      <td>9.822403</td>\n      <td>9.947766</td>\n      <td>0.000000</td>\n      <td>0.000000</td>\n      <td>...</td>\n      <td>0.000000</td>\n      <td>0.000000</td>\n      <td>0.000000</td>\n      <td>9.848520</td>\n      <td>0.000000</td>\n      <td>0.000000</td>\n      <td>0.000000</td>\n      <td>0.000000</td>\n      <td>0.000000</td>\n      <td>0.000000</td>\n    </tr>\n    <tr>\n      <th>3</th>\n      <td>0.000000</td>\n      <td>10.000000</td>\n      <td>0.000000</td>\n      <td>0.000000</td>\n      <td>6.459459</td>\n      <td>9.897297</td>\n      <td>3.962162</td>\n      <td>8.843243</td>\n      <td>0.000000</td>\n      <td>6.481081</td>\n      <td>...</td>\n      <td>0.000000</td>\n      <td>0.000000</td>\n      <td>0.000000</td>\n      <td>5.772973</td>\n      <td>0.000000</td>\n      <td>0.000000</td>\n      <td>0.000000</td>\n      <td>0.000000</td>\n      <td>0.000000</td>\n      <td>0.000000</td>\n    </tr>\n    <tr>\n      <th>4</th>\n      <td>9.791824</td>\n      <td>7.908553</td>\n      <td>3.657881</td>\n      <td>3.067240</td>\n      <td>6.335126</td>\n      <td>6.451318</td>\n      <td>9.084992</td>\n      <td>7.908553</td>\n      <td>5.463690</td>\n      <td>8.450780</td>\n      <td>...</td>\n      <td>8.189349</td>\n      <td>8.378160</td>\n      <td>7.743948</td>\n      <td>8.189349</td>\n      <td>8.450780</td>\n      <td>6.427111</td>\n      <td>7.182356</td>\n      <td>8.847768</td>\n      <td>6.548144</td>\n      <td>6.451318</td>\n    </tr>\n    <tr>\n      <th>...</th>\n      <td>...</td>\n      <td>...</td>\n      <td>...</td>\n      <td>...</td>\n      <td>...</td>\n      <td>...</td>\n      <td>...</td>\n      <td>...</td>\n      <td>...</td>\n      <td>...</td>\n      <td>...</td>\n      <td>...</td>\n      <td>...</td>\n      <td>...</td>\n      <td>...</td>\n      <td>...</td>\n      <td>...</td>\n      <td>...</td>\n      <td>...</td>\n      <td>...</td>\n      <td>...</td>\n    </tr>\n    <tr>\n      <th>24978</th>\n      <td>5.865245</td>\n      <td>9.138398</td>\n      <td>9.911030</td>\n      <td>6.750260</td>\n      <td>7.157648</td>\n      <td>8.819979</td>\n      <td>1.543184</td>\n      <td>5.411030</td>\n      <td>1.566597</td>\n      <td>9.044745</td>\n      <td>...</td>\n      <td>9.793965</td>\n      <td>5.092612</td>\n      <td>9.976587</td>\n      <td>2.521852</td>\n      <td>9.616025</td>\n      <td>9.887617</td>\n      <td>8.726327</td>\n      <td>9.728408</td>\n      <td>9.775234</td>\n      <td>9.138398</td>\n    </tr>\n    <tr>\n      <th>24979</th>\n      <td>9.931670</td>\n      <td>1.492950</td>\n      <td>9.668113</td>\n      <td>9.907267</td>\n      <td>5.900217</td>\n      <td>1.117137</td>\n      <td>3.767354</td>\n      <td>8.296638</td>\n      <td>1.517354</td>\n      <td>7.867137</td>\n      <td>...</td>\n      <td>4.904555</td>\n      <td>2.678959</td>\n      <td>4.763015</td>\n      <td>5.592733</td>\n      <td>9.975597</td>\n      <td>1.473427</td>\n      <td>1.946855</td>\n      <td>1.283080</td>\n      <td>9.931670</td>\n      <td>9.599783</td>\n    </tr>\n    <tr>\n      <th>24980</th>\n      <td>0.000000</td>\n      <td>0.000000</td>\n      <td>0.000000</td>\n      <td>0.000000</td>\n      <td>1.053150</td>\n      <td>0.000000</td>\n      <td>9.598425</td>\n      <td>1.655512</td>\n      <td>0.000000</td>\n      <td>0.000000</td>\n      <td>...</td>\n      <td>0.000000</td>\n      <td>0.000000</td>\n      <td>0.000000</td>\n      <td>0.000000</td>\n      <td>0.000000</td>\n      <td>0.000000</td>\n      <td>0.000000</td>\n      <td>0.000000</td>\n      <td>0.000000</td>\n      <td>0.000000</td>\n    </tr>\n    <tr>\n      <th>24981</th>\n      <td>0.000000</td>\n      <td>0.000000</td>\n      <td>0.000000</td>\n      <td>0.000000</td>\n      <td>1.000000</td>\n      <td>0.000000</td>\n      <td>8.131038</td>\n      <td>1.704609</td>\n      <td>0.000000</td>\n      <td>0.000000</td>\n      <td>...</td>\n      <td>0.000000</td>\n      <td>0.000000</td>\n      <td>0.000000</td>\n      <td>0.000000</td>\n      <td>0.000000</td>\n      <td>0.000000</td>\n      <td>0.000000</td>\n      <td>0.000000</td>\n      <td>0.000000</td>\n      <td>0.000000</td>\n    </tr>\n    <tr>\n      <th>24982</th>\n      <td>6.747283</td>\n      <td>6.864674</td>\n      <td>3.611957</td>\n      <td>7.647283</td>\n      <td>4.443478</td>\n      <td>9.144022</td>\n      <td>6.698370</td>\n      <td>7.789130</td>\n      <td>8.860326</td>\n      <td>7.813587</td>\n      <td>...</td>\n      <td>0.000000</td>\n      <td>0.000000</td>\n      <td>0.000000</td>\n      <td>0.000000</td>\n      <td>0.000000</td>\n      <td>0.000000</td>\n      <td>0.000000</td>\n      <td>0.000000</td>\n      <td>0.000000</td>\n      <td>0.000000</td>\n    </tr>\n  </tbody>\n</table>\n<p>24983 rows × 100 columns</p>\n</div>"
          },
          "metadata": {}
        }
      ],
      "execution_count": 185
    },
    {
      "id": "3071ae5e-051a-4c83-8ec3-aed5c66836e2",
      "cell_type": "code",
      "source": "sparse_matrix = csr_matrix(df_rescaled.values)",
      "metadata": {
        "trusted": true
      },
      "outputs": [],
      "execution_count": 150
    },
    {
      "id": "05da9bbb-da87-4918-be94-6296df8dc2bd",
      "cell_type": "code",
      "source": "df_rescaled.values",
      "metadata": {
        "trusted": true
      },
      "outputs": [
        {
          "execution_count": 153,
          "output_type": "execute_result",
          "data": {
            "text/plain": "array([[1.9625922 , 9.83877766, 1.09009484, ..., 0.        , 0.        ,\n        0.        ],\n       [7.54978814, 5.46663136, 8.63665254, ..., 5.76694915, 3.54555085,\n        6.11493644],\n       [0.        , 0.        , 0.        , ..., 0.        , 0.        ,\n        0.        ],\n       ...,\n       [0.        , 0.        , 0.        , ..., 0.        , 0.        ,\n        0.        ],\n       [0.        , 0.        , 0.        , ..., 0.        , 0.        ,\n        0.        ],\n       [6.74728261, 6.86467391, 3.61195652, ..., 0.        , 0.        ,\n        0.        ]])"
          },
          "metadata": {}
        }
      ],
      "execution_count": 155
    },
    {
      "id": "e30f6e73-bdc7-4d4b-8ffc-9e36af8f5c4e",
      "cell_type": "code",
      "source": "sparse_matrix",
      "metadata": {
        "trusted": true
      },
      "outputs": [
        {
          "execution_count": 149,
          "output_type": "execute_result",
          "data": {
            "text/plain": "<Compressed Sparse Row sparse matrix of dtype 'float64'\n\twith 1810172 stored elements and shape (24983, 100)>"
          },
          "metadata": {}
        }
      ],
      "execution_count": 151
    },
    {
      "id": "cc876008-7bf7-4901-922d-9f01c60110fa",
      "cell_type": "code",
      "source": "print(\"\\ndata:\", sparse_matrix.data)\nprint(\"indices:\", sparse_matrix.indices)\nprint(\"indptr:\", sparse_matrix.indptr)",
      "metadata": {
        "trusted": true
      },
      "outputs": [
        {
          "name": "stdout",
          "output_type": "stream",
          "text": "\ndata: [1.9625922  9.83877766 1.09009484 ... 7.12391304 8.62065217 9.0951087 ]\nindices: [ 0  1  2 ... 69 70 86]\nindptr: [      0      74     174 ... 1810063 1810100 1810172]\n"
        }
      ],
      "execution_count": 152
    },
    {
      "id": "4970a738-a66d-4c0a-8c34-f71f507264e4",
      "cell_type": "code",
      "source": "# sparse memory usage (in bytes)\noriginal = df_rescaled.memory_usage(deep=True).sum()\n\n# CSR memory usage\nnnz = sparse_matrix.nnz  # number of non-zero elements\ncsr_data_mem = nnz * 8         # float64\ncsr_indices_mem = nnz * 4      # int32\ncsr_indptr_mem = (sparse_matrix.shape[0] + 1) * 4  # int32\ncsr_mem = csr_data_mem + csr_indices_mem + csr_indptr_mem\n\n# Calculate storage reduction\nreduction = 1 - (csr_mem / original)",
      "metadata": {
        "trusted": true
      },
      "outputs": [],
      "execution_count": 153
    },
    {
      "id": "080b75d6-67aa-4ffc-9978-01cb053dec50",
      "cell_type": "markdown",
      "source": "#### Storage Reduction:\nI'm surprised my storage usage is somehow worse using CSR? I guess the jokes df is less sparse than i had expected, and CSR added space w/ extra added reference indexes? It looks like CSR is not worth it in this case for memory saving uses?",
      "metadata": {}
    },
    {
      "id": "86d80be4-56fa-4274-9eb6-814de1f47188",
      "cell_type": "code",
      "source": "# Print results\nprint(f\"Original memory usage: {original / 1024**2:.2f} MB\")\nprint(f\"CSR memory usage:   {csr_mem / 1024**2:.2f} MB\")\nprint(f\"Storage reduction:  {reduction * 100:.2f}%\")",
      "metadata": {
        "trusted": true
      },
      "outputs": [
        {
          "name": "stdout",
          "output_type": "stream",
          "text": "Original memory usage: 19.06 MB\nCSR memory usage:   20.81 MB\nStorage reduction:  -9.18%\n"
        }
      ],
      "execution_count": 156
    },
    {
      "id": "eed6bd60-e1c7-4a79-895a-d670b88bfd79",
      "cell_type": "code",
      "source": "# Total number of elements\ntotal_elements = df_rescaled.size\n# Count number of explicit zeros\nnum_zeros = (df_rescaled == 0).sum().sum()\n# Count of non-sparse (stored) values (i.e. not NaN and not 0)\nnum_non_sparse = total_elements - num_zeros\n# Calculate sparsity\nsparsity = num_zeros / total_elements\ndensity = num_non_sparse / total_elements\n\nprint(f\"Total elements: {total_elements}\")\nprint(f\"Zero values: {num_zeros}\")\nprint(f\"Sparsity: {sparsity:.2%}\")\nprint(f\"Density (non-sparse): {density:.2%}\")",
      "metadata": {
        "trusted": true
      },
      "outputs": [
        {
          "name": "stdout",
          "output_type": "stream",
          "text": "Total elements: 2498300\nZero values: 688128\nSparsity: 27.54%\nDensity (non-sparse): 72.46%\n"
        }
      ],
      "execution_count": 160
    },
    {
      "id": "08ae178c-d07d-4113-99d1-4ef18de4cbfd",
      "cell_type": "markdown",
      "source": "## Alternating Least Squares \nAlternating Least Squares (ALS) is a matrix factorization algorithm used primarily in recommendation systems to uncover hidden (latent) patterns between users and items, even when many ratings are missing. In this case, ALS works by fixing the user matrix, then solving for the joke matrix, then fixing the other, solving again, and repeating until both sides converge. This minimizes the regularized squared error on the set of known rating. ",
      "metadata": {},
      "attachments": {}
    },
    {
      "id": "42792ddc-ff24-494c-b539-fa6ac731f8ea",
      "cell_type": "code",
      "source": "def matrix_factorization_als(R, k=10, max_iter=100, reg=0.1, tol=1e-6):\n        \"\"\"\n        Perform matrix factorization using Alternating Least Squares\n        R: ratings matrix (sparse, 0 means missing)\n        k: number of latent factors\n        \"\"\"\n        n_users, n_jokes = R.shape\n        \n        # Initialize factors randomly\n        U = np.random.normal(0, 0.1, (n_users, k))\n        V = np.random.normal(0, 0.1, (n_jokes, k))\n        \n        # Get positions of known ratings\n        known_ratings = R != 0\n        \n        prev_error = float('inf')\n    \n        for iteration in range(max_iter):\n            # Update U (user factors)\n            for i in range(n_users):\n                rated_jokes = known_ratings[i, :]\n                if np.any(rated_jokes):\n                    V_rated = V[rated_jokes, :]\n                    ratings = R[i, rated_jokes]\n                    \n                    # Solve: U[i] = argmin ||ratings - U[i] @ V_rated.T||^2 + reg * ||U[i]||^2\n                    A = V_rated.T @ V_rated + reg * np.eye(k)\n                    b = V_rated.T @ ratings\n                    U[i, :] = np.linalg.solve(A, b)\n            \n            # Update V (movie factors)\n            for j in range(n_jokes):\n                rating_users = known_ratings[:, j]\n                if np.any(rating_users):\n                    U_rating = U[rating_users, :]\n                    ratings = R[rating_users, j]\n                    \n                    # Solve: V[j] = argmin ||ratings - U_rating @ V[j]||^2 + reg * ||V[j]||^2\n                    A = U_rating.T @ U_rating + reg * np.eye(k)\n                    b = U_rating.T @ ratings\n                    V[j, :] = np.linalg.solve(A, b)\n            \n            # Calculate error on known ratings\n            predicted = U @ V.T\n            error = np.mean((R[known_ratings] - predicted[known_ratings])**2)\n            \n            if iteration % 20 == 0:\n                print(f\"  Iteration {iteration}: RMSE = {np.sqrt(error):.4f}\")\n            \n            if abs(prev_error - error) < tol:\n                print(f\"  Converged after {iteration} iterations\")\n                break\n            \n            prev_error = error\n        \n        return U, V, predicted, prev_error",
      "metadata": {
        "trusted": true
      },
      "outputs": [],
      "execution_count": 230
    },
    {
      "id": "2f03b78e-3ff7-45c5-b641-de711753682e",
      "cell_type": "code",
      "source": "U_als, V_als, predicted_als = matrix_factorization_als(df_rescaled.head(1000).values, k=10, max_iter=101)",
      "metadata": {
        "trusted": true
      },
      "outputs": [
        {
          "name": "stdout",
          "output_type": "stream",
          "text": "  Iteration 0: RMSE = 2.2664\n  Iteration 10: RMSE = 1.8561\n  Iteration 20: RMSE = 1.8505\n  Iteration 30: RMSE = 1.8488\n  Iteration 40: RMSE = 1.8477\n  Iteration 50: RMSE = 1.8468\n  Iteration 60: RMSE = 1.8464\n  Iteration 70: RMSE = 1.8463\n  Iteration 80: RMSE = 1.8463\n  Iteration 90: RMSE = 1.8463\n  Iteration 100: RMSE = 1.8462\n"
        }
      ],
      "execution_count": 205
    },
    {
      "id": "5f4a030c-3f9c-4fc0-a1a4-8ff2b78f7ab6",
      "cell_type": "code",
      "source": "predicted_als",
      "metadata": {
        "trusted": true
      },
      "outputs": [
        {
          "execution_count": 195,
          "output_type": "execute_result",
          "data": {
            "text/plain": "array([[ 4.79221366,  6.43944177,  0.62007048, ...,  4.0472152 ,\n         2.62950896,  3.23958452],\n       [ 7.38173046,  5.38366328,  9.54874573, ...,  6.18243653,\n         5.4271954 ,  8.48065572],\n       [11.46102867,  9.85343536, 11.4048486 , ...,  8.36477267,\n         9.04364887,  9.03258766],\n       ...,\n       [ 9.08050687,  7.69678793,  9.3062668 , ...,  5.19807932,\n         4.16269152,  7.13443578],\n       [ 1.60577536,  1.78084589,  0.9207565 , ...,  3.02549563,\n         1.87029264,  3.59890195],\n       [ 5.38992124,  5.58252489,  2.81495227, ...,  6.01944348,\n         7.40664854,  5.75430949]])"
          },
          "metadata": {}
        }
      ],
      "execution_count": 197
    },
    {
      "id": "5c0cb03b-095a-4917-976a-9b2d6e0df2e8",
      "cell_type": "markdown",
      "source": "### Trying different k values:\nk is the number of latent features.\nLarger k is a more expressive model (can capture more nuance).\nSmaller k is a simpler model (less prone to overfitting, faster).\n\nCalculating the matrices can be computationally expensive, although calculating ratings once the factorization is completed is very fast. You may need to create a subset of your data for calculations to be successfully performed, especially on a machine with a small RAM footprint",
      "metadata": {}
    },
    {
      "id": "4773cba7-cfae-4748-a9d2-42def47d3075",
      "cell_type": "code",
      "source": "#df\nR = df_rescaled.head(1000).values\nmask = ~np.isnan(R)\n\n# List of k values to try\nk_values = [2, 5, 10, 20, 50, 100]\nrmses = []\n\nfor k in tqdm(k_values, desc=\"Trying different k values\"):\n    U, V, predicted, prev_error = matrix_factorization_als(true_values, k=k, max_iter=101)\n    rmses.append(prev_error)",
      "metadata": {
        "trusted": true
      },
      "outputs": [
        {
          "name": "stderr",
          "output_type": "stream",
          "text": "Trying different k values:   0%|          | 0/6 [00:00<?, ?it/s]"
        },
        {
          "name": "stdout",
          "output_type": "stream",
          "text": "  Iteration 0: RMSE = 3.2468\n  Iteration 10: RMSE = 2.1928\n  Iteration 20: RMSE = 2.1927\n  Iteration 30: RMSE = 2.1926\n  Iteration 40: RMSE = 2.1926\n  Iteration 50: RMSE = 2.1926\n  Iteration 60: RMSE = 2.1926\n  Iteration 70: RMSE = 2.1926\n  Converged after 70 iterations\n"
        },
        {
          "name": "stderr",
          "output_type": "stream",
          "text": "Trying different k values:  17%|█▋        | 1/6 [00:06<00:31,  6.20s/it]"
        },
        {
          "name": "stdout",
          "output_type": "stream",
          "text": "  Iteration 0: RMSE = 2.6644\n  Iteration 10: RMSE = 2.0203\n  Iteration 20: RMSE = 2.0201\n  Iteration 30: RMSE = 2.0201\n  Iteration 40: RMSE = 2.0201\n  Iteration 50: RMSE = 2.0200\n  Iteration 60: RMSE = 2.0200\n  Iteration 70: RMSE = 2.0200\n  Iteration 80: RMSE = 2.0200\n  Iteration 90: RMSE = 2.0200\n  Iteration 100: RMSE = 2.0200\n"
        },
        {
          "name": "stderr",
          "output_type": "stream",
          "text": "Trying different k values:  33%|███▎      | 2/6 [00:15<00:33,  8.28s/it]"
        },
        {
          "name": "stdout",
          "output_type": "stream",
          "text": "  Iteration 0: RMSE = 2.3711\n  Iteration 10: RMSE = 1.8508\n  Iteration 20: RMSE = 1.8474\n  Iteration 30: RMSE = 1.8467\n  Iteration 40: RMSE = 1.8465\n  Iteration 50: RMSE = 1.8464\n  Iteration 60: RMSE = 1.8463\n  Iteration 70: RMSE = 1.8463\n  Iteration 80: RMSE = 1.8463\n  Iteration 90: RMSE = 1.8462\n  Iteration 100: RMSE = 1.8462\n"
        },
        {
          "name": "stderr",
          "output_type": "stream",
          "text": "Trying different k values:  50%|█████     | 3/6 [00:28<00:30, 10.06s/it]"
        },
        {
          "name": "stdout",
          "output_type": "stream",
          "text": "  Iteration 0: RMSE = 2.1204\n  Iteration 10: RMSE = 1.5793\n  Iteration 20: RMSE = 1.5700\n  Iteration 30: RMSE = 1.5656\n  Iteration 40: RMSE = 1.5634\n  Iteration 50: RMSE = 1.5620\n  Iteration 60: RMSE = 1.5609\n  Iteration 70: RMSE = 1.5601\n  Iteration 80: RMSE = 1.5595\n  Iteration 90: RMSE = 1.5590\n  Iteration 100: RMSE = 1.5587\n"
        },
        {
          "name": "stderr",
          "output_type": "stream",
          "text": "Trying different k values:  67%|██████▋   | 4/6 [01:11<00:46, 23.17s/it]"
        },
        {
          "name": "stdout",
          "output_type": "stream",
          "text": "  Iteration 0: RMSE = 1.4207\n  Iteration 10: RMSE = 0.8933\n  Iteration 20: RMSE = 0.8646\n  Iteration 30: RMSE = 0.8526\n  Iteration 40: RMSE = 0.8460\n  Iteration 50: RMSE = 0.8418\n  Iteration 60: RMSE = 0.8388\n  Iteration 70: RMSE = 0.8367\n  Iteration 80: RMSE = 0.8351\n  Iteration 90: RMSE = 0.8337\n  Iteration 100: RMSE = 0.8327\n"
        },
        {
          "name": "stderr",
          "output_type": "stream",
          "text": "Trying different k values:  83%|████████▎ | 5/6 [02:32<00:44, 44.08s/it]"
        },
        {
          "name": "stdout",
          "output_type": "stream",
          "text": "  Iteration 0: RMSE = 0.0770\n  Iteration 10: RMSE = 0.0082\n  Iteration 20: RMSE = 0.0049\n  Converged after 27 iterations\n"
        },
        {
          "name": "stderr",
          "output_type": "stream",
          "text": "Trying different k values: 100%|██████████| 6/6 [03:53<00:00, 38.95s/it]\n"
        }
      ],
      "execution_count": 223
    },
    {
      "id": "37030218-6daa-4115-a817-81598b222c35",
      "cell_type": "markdown",
      "source": "## Evaluate the effectiveness of the matrix factorization model:\nBy assessing the quality of predictions using performance metrics such as RMSE, and comparing these results with those from\nbaseline models.  \n\nRoot-Mean-Square Error\n\t\t○ While we can pick among several measures of how close the product UV is to M, the typical choice is the root-mean-square error (RMSE), where we\n\t\t\ti. Sum, over all nonblank entries in M the square of the difference between that entry and the corresponding entry in the product UV .\n\t\t\tii. Take the mean (average) of these squares by dividing by the number of terms in the sum (i.e., the number of nonblank entries in M).\n\t\t\tiii. Take the square root of the mean\n\nLocal Minima:\n\t\t○ Matrices U and V such that no allowable adjustment reduces the RMSE\n\t\t○ Global Minimum – Unfortunately, only one of these local minima will be the matrices U and V that produce the least possible RMSE\nThere is never a guarantee that our best local minimum will be the global minimum.",
      "metadata": {}
    },
    {
      "id": "f0493e27-f1c2-4f32-b1dc-e0cdc62d5214",
      "cell_type": "markdown",
      "source": "### Avoiding Overfitting\nAlthough the RMSE may be small on the given data, it doesn’t mean it will do well predicting future data. UV-decomposition is that we arrive at one of the many local minima that conform well to the given data, but picks up values in the data that don’t reflect well the underlying process that gives rise to the data. We want to stop revisiting elements of U and V well before the process has converged with early stopping to prevent this.",
      "metadata": {}
    },
    {
      "id": "2a587929-939f-4be7-beac-8e321ca51cea",
      "cell_type": "code",
      "source": "# Plotting RMSE vs k\nplt.figure(figsize=(8,5))\nplt.plot(k_values, rmses, marker='o')\nplt.title('ALS: RMSE vs Number of Latent Factors (k)')\nplt.xlabel('Number of latent factors (k)')\nplt.ylabel('RMSE')\nplt.grid(True)\nplt.show()",
      "metadata": {
        "trusted": true
      },
      "outputs": [
        {
          "output_type": "display_data",
          "data": {
            "text/plain": "<Figure size 800x500 with 1 Axes>",
            "image/png": "[encoded data removed]"
          },
          "metadata": {}
        }
      ],
      "execution_count": 224
    },
    {
      "id": "f5d68e2a-e506-4876-b1e9-0a36bce362e3",
      "cell_type": "code",
      "source": "U_als, V_als, predicted_als, prev_error  = matrix_factorization_als(df_rescaled.head(1000).values, k=40, max_iter=41)",
      "metadata": {
        "trusted": true
      },
      "outputs": [
        {
          "name": "stdout",
          "output_type": "stream",
          "text": "  Iteration 0: RMSE = 1.6071\n  Iteration 20: RMSE = 1.0835\n  Iteration 40: RMSE = 1.0665\n"
        }
      ],
      "execution_count": 255
    },
    {
      "id": "d1170689-e6d9-4892-97cb-92dc23d2d1f6",
      "cell_type": "code",
      "source": "df_rescaled.head(1000).values",
      "metadata": {
        "trusted": true
      },
      "outputs": [
        {
          "execution_count": 242,
          "output_type": "execute_result",
          "data": {
            "text/plain": "array([[ 1.9625922 ,  9.83877766,  1.09009484, ...,  0.        ,\n         0.        ,  0.        ],\n       [ 7.54978814,  5.46663136,  8.63665254, ...,  5.76694915,\n         3.54555085,  6.11493644],\n       [ 0.        ,  0.        ,  0.        , ...,  0.        ,\n         0.        ,  0.        ],\n       ...,\n       [ 9.96577947, 10.        ,  9.4661597 , ...,  0.        ,\n         0.        ,  0.        ],\n       [ 1.42752741,  2.28258222,  1.42752741, ...,  1.53714982,\n         1.53714982,  1.        ],\n       [ 3.59048362,  4.88923557,  3.0850234 , ...,  0.        ,\n         0.        ,  0.        ]])"
          },
          "metadata": {}
        }
      ],
      "execution_count": 244
    },
    {
      "id": "e0efe542-f843-40a5-a2f2-cf2dbae4f2c4",
      "cell_type": "code",
      "source": "df_rescaled.head(1000)",
      "metadata": {
        "trusted": true
      },
      "outputs": [
        {
          "execution_count": 258,
          "output_type": "execute_result",
          "data": {
            "text/plain": "            1          2         3         4         5         6         7  \\\n0    1.962592   9.838778  1.090095  1.801370  2.104847  1.640148  1.000000   \n1    7.549788   5.466631  8.636653  7.688030  4.470339  1.000000  5.256886   \n2    0.000000   0.000000  0.000000  0.000000  9.822403  9.947766  9.822403   \n3    0.000000  10.000000  0.000000  0.000000  6.459459  9.897297  3.962162   \n4    9.791824   7.908553  3.657881  3.067240  6.335126  6.451318  9.084992   \n..        ...        ...       ...       ...       ...       ...       ...   \n995  7.112767   2.755671  9.008425  2.779002  3.601426  4.511342  7.847699   \n996  7.843902   5.951220  8.390244  3.014634  4.009756  8.482927  6.331707   \n997  9.965779  10.000000  9.466160  4.018251  8.473764  5.284411  8.569582   \n998  1.427527   2.282582  1.427527  1.427527  7.708892  5.790499  1.635810   \n999  3.590484   4.889236  3.085023  3.323713  6.145866  5.127925  6.833853   \n\n            8         9         10  ...        91        92        93  \\\n0    7.648051  1.412540   3.413593  ...  7.007903  0.000000  0.000000   \n1    3.059322  9.837924  10.000000  ...  6.949153  3.245233  5.466631   \n2    9.947766  0.000000   0.000000  ...  0.000000  0.000000  0.000000   \n3    8.843243  0.000000   6.481081  ...  0.000000  0.000000  0.000000   \n4    7.908553  5.463690   8.450780  ...  8.189349  8.378160  7.743948   \n..        ...       ...        ...  ...       ...       ...       ...   \n995  8.215165  2.469864   7.707712  ...  3.403111  5.357097  8.530136   \n996  1.780488  2.897561   2.492683  ...  0.000000  0.000000  0.000000   \n997  7.611407  2.957414   6.680608  ...  0.000000  0.000000  0.000000   \n998  2.227771  1.427527   2.808770  ...  1.591961  4.935445  4.935445   \n999  5.057722  5.977379   4.854134  ...  0.000000  0.000000  0.000000   \n\n           94        95        96        97        98        99       100  \n0    0.000000  0.000000  0.000000  3.001054  0.000000  0.000000  0.000000  \n1    9.351695  5.514301  4.584746  7.063559  5.766949  3.545551  6.114936  \n2    9.848520  0.000000  0.000000  0.000000  0.000000  0.000000  0.000000  \n3    5.772973  0.000000  0.000000  0.000000  0.000000  0.000000  0.000000  \n4    8.189349  8.450780  6.427111  7.182356  8.847768  6.548144  6.451318  \n..        ...       ...       ...       ...       ...       ...       ...  \n995  4.167207  7.567725  3.572262  7.281918  2.755671  8.046014  7.369410  \n996  0.000000  3.604878  0.000000  0.000000  0.000000  0.000000  0.000000  \n997  0.000000  0.000000  0.000000  0.000000  0.000000  0.000000  0.000000  \n998  1.537150  1.537150  1.537150  1.537150  1.537150  1.537150  1.000000  \n999  0.000000  5.163027  0.000000  0.000000  0.000000  0.000000  0.000000  \n\n[1000 rows x 100 columns]",
            "text/html": "<div>\n<style scoped>\n    .dataframe tbody tr th:only-of-type {\n        vertical-align: middle;\n    }\n\n    .dataframe tbody tr th {\n        vertical-align: top;\n    }\n\n    .dataframe thead th {\n        text-align: right;\n    }\n</style>\n<table border=\"1\" class=\"dataframe\">\n  <thead>\n    <tr style=\"text-align: right;\">\n      <th></th>\n      <th>1</th>\n      <th>2</th>\n      <th>3</th>\n      <th>4</th>\n      <th>5</th>\n      <th>6</th>\n      <th>7</th>\n      <th>8</th>\n      <th>9</th>\n      <th>10</th>\n      <th>...</th>\n      <th>91</th>\n      <th>92</th>\n      <th>93</th>\n      <th>94</th>\n      <th>95</th>\n      <th>96</th>\n      <th>97</th>\n      <th>98</th>\n      <th>99</th>\n      <th>100</th>\n    </tr>\n  </thead>\n  <tbody>\n    <tr>\n      <th>0</th>\n      <td>1.962592</td>\n      <td>9.838778</td>\n      <td>1.090095</td>\n      <td>1.801370</td>\n      <td>2.104847</td>\n      <td>1.640148</td>\n      <td>1.000000</td>\n      <td>7.648051</td>\n      <td>1.412540</td>\n      <td>3.413593</td>\n      <td>...</td>\n      <td>7.007903</td>\n      <td>0.000000</td>\n      <td>0.000000</td>\n      <td>0.000000</td>\n      <td>0.000000</td>\n      <td>0.000000</td>\n      <td>3.001054</td>\n      <td>0.000000</td>\n      <td>0.000000</td>\n      <td>0.000000</td>\n    </tr>\n    <tr>\n      <th>1</th>\n      <td>7.549788</td>\n      <td>5.466631</td>\n      <td>8.636653</td>\n      <td>7.688030</td>\n      <td>4.470339</td>\n      <td>1.000000</td>\n      <td>5.256886</td>\n      <td>3.059322</td>\n      <td>9.837924</td>\n      <td>10.000000</td>\n      <td>...</td>\n      <td>6.949153</td>\n      <td>3.245233</td>\n      <td>5.466631</td>\n      <td>9.351695</td>\n      <td>5.514301</td>\n      <td>4.584746</td>\n      <td>7.063559</td>\n      <td>5.766949</td>\n      <td>3.545551</td>\n      <td>6.114936</td>\n    </tr>\n    <tr>\n      <th>2</th>\n      <td>0.000000</td>\n      <td>0.000000</td>\n      <td>0.000000</td>\n      <td>0.000000</td>\n      <td>9.822403</td>\n      <td>9.947766</td>\n      <td>9.822403</td>\n      <td>9.947766</td>\n      <td>0.000000</td>\n      <td>0.000000</td>\n      <td>...</td>\n      <td>0.000000</td>\n      <td>0.000000</td>\n      <td>0.000000</td>\n      <td>9.848520</td>\n      <td>0.000000</td>\n      <td>0.000000</td>\n      <td>0.000000</td>\n      <td>0.000000</td>\n      <td>0.000000</td>\n      <td>0.000000</td>\n    </tr>\n    <tr>\n      <th>3</th>\n      <td>0.000000</td>\n      <td>10.000000</td>\n      <td>0.000000</td>\n      <td>0.000000</td>\n      <td>6.459459</td>\n      <td>9.897297</td>\n      <td>3.962162</td>\n      <td>8.843243</td>\n      <td>0.000000</td>\n      <td>6.481081</td>\n      <td>...</td>\n      <td>0.000000</td>\n      <td>0.000000</td>\n      <td>0.000000</td>\n      <td>5.772973</td>\n      <td>0.000000</td>\n      <td>0.000000</td>\n      <td>0.000000</td>\n      <td>0.000000</td>\n      <td>0.000000</td>\n      <td>0.000000</td>\n    </tr>\n    <tr>\n      <th>4</th>\n      <td>9.791824</td>\n      <td>7.908553</td>\n      <td>3.657881</td>\n      <td>3.067240</td>\n      <td>6.335126</td>\n      <td>6.451318</td>\n      <td>9.084992</td>\n      <td>7.908553</td>\n      <td>5.463690</td>\n      <td>8.450780</td>\n      <td>...</td>\n      <td>8.189349</td>\n      <td>8.378160</td>\n      <td>7.743948</td>\n      <td>8.189349</td>\n      <td>8.450780</td>\n      <td>6.427111</td>\n      <td>7.182356</td>\n      <td>8.847768</td>\n      <td>6.548144</td>\n      <td>6.451318</td>\n    </tr>\n    <tr>\n      <th>...</th>\n      <td>...</td>\n      <td>...</td>\n      <td>...</td>\n      <td>...</td>\n      <td>...</td>\n      <td>...</td>\n      <td>...</td>\n      <td>...</td>\n      <td>...</td>\n      <td>...</td>\n      <td>...</td>\n      <td>...</td>\n      <td>...</td>\n      <td>...</td>\n      <td>...</td>\n      <td>...</td>\n      <td>...</td>\n      <td>...</td>\n      <td>...</td>\n      <td>...</td>\n      <td>...</td>\n    </tr>\n    <tr>\n      <th>995</th>\n      <td>7.112767</td>\n      <td>2.755671</td>\n      <td>9.008425</td>\n      <td>2.779002</td>\n      <td>3.601426</td>\n      <td>4.511342</td>\n      <td>7.847699</td>\n      <td>8.215165</td>\n      <td>2.469864</td>\n      <td>7.707712</td>\n      <td>...</td>\n      <td>3.403111</td>\n      <td>5.357097</td>\n      <td>8.530136</td>\n      <td>4.167207</td>\n      <td>7.567725</td>\n      <td>3.572262</td>\n      <td>7.281918</td>\n      <td>2.755671</td>\n      <td>8.046014</td>\n      <td>7.369410</td>\n    </tr>\n    <tr>\n      <th>996</th>\n      <td>7.843902</td>\n      <td>5.951220</td>\n      <td>8.390244</td>\n      <td>3.014634</td>\n      <td>4.009756</td>\n      <td>8.482927</td>\n      <td>6.331707</td>\n      <td>1.780488</td>\n      <td>2.897561</td>\n      <td>2.492683</td>\n      <td>...</td>\n      <td>0.000000</td>\n      <td>0.000000</td>\n      <td>0.000000</td>\n      <td>0.000000</td>\n      <td>3.604878</td>\n      <td>0.000000</td>\n      <td>0.000000</td>\n      <td>0.000000</td>\n      <td>0.000000</td>\n      <td>0.000000</td>\n    </tr>\n    <tr>\n      <th>997</th>\n      <td>9.965779</td>\n      <td>10.000000</td>\n      <td>9.466160</td>\n      <td>4.018251</td>\n      <td>8.473764</td>\n      <td>5.284411</td>\n      <td>8.569582</td>\n      <td>7.611407</td>\n      <td>2.957414</td>\n      <td>6.680608</td>\n      <td>...</td>\n      <td>0.000000</td>\n      <td>0.000000</td>\n      <td>0.000000</td>\n      <td>0.000000</td>\n      <td>0.000000</td>\n      <td>0.000000</td>\n      <td>0.000000</td>\n      <td>0.000000</td>\n      <td>0.000000</td>\n      <td>0.000000</td>\n    </tr>\n    <tr>\n      <th>998</th>\n      <td>1.427527</td>\n      <td>2.282582</td>\n      <td>1.427527</td>\n      <td>1.427527</td>\n      <td>7.708892</td>\n      <td>5.790499</td>\n      <td>1.635810</td>\n      <td>2.227771</td>\n      <td>1.427527</td>\n      <td>2.808770</td>\n      <td>...</td>\n      <td>1.591961</td>\n      <td>4.935445</td>\n      <td>4.935445</td>\n      <td>1.537150</td>\n      <td>1.537150</td>\n      <td>1.537150</td>\n      <td>1.537150</td>\n      <td>1.537150</td>\n      <td>1.537150</td>\n      <td>1.000000</td>\n    </tr>\n    <tr>\n      <th>999</th>\n      <td>3.590484</td>\n      <td>4.889236</td>\n      <td>3.085023</td>\n      <td>3.323713</td>\n      <td>6.145866</td>\n      <td>5.127925</td>\n      <td>6.833853</td>\n      <td>5.057722</td>\n      <td>5.977379</td>\n      <td>4.854134</td>\n      <td>...</td>\n      <td>0.000000</td>\n      <td>0.000000</td>\n      <td>0.000000</td>\n      <td>0.000000</td>\n      <td>5.163027</td>\n      <td>0.000000</td>\n      <td>0.000000</td>\n      <td>0.000000</td>\n      <td>0.000000</td>\n      <td>0.000000</td>\n    </tr>\n  </tbody>\n</table>\n<p>1000 rows × 100 columns</p>\n</div>"
          },
          "metadata": {}
        }
      ],
      "execution_count": 260
    },
    {
      "id": "af81e485-fb22-4d99-af94-a5f13c5374f3",
      "cell_type": "markdown",
      "source": "### Top 5 Jokes User 2 hasn't rated:",
      "metadata": {}
    },
    {
      "id": "1fc6c0e3-cd45-4d42-b302-0e610d1a5e05",
      "cell_type": "code",
      "source": "# Pick a user index (e.g., 0 for the first user)\nuser_id = 2\n\n# Get the user's predicted ratings\nuser_pred_ratings = predicted_als[user_id]\n\n# Get the items the user has already rated\nrated_items_mask = ~np.isnan(df_rescaled.head(1000).iloc[user_id].values)\n\n# Get indices of top 5 recommended items\ntop5_item_indices = np.argsort(user_pred_ratings)[-5:][::-1]\n\n# Map indices back to item names (column labels)\ntop5_item_names = df_rescaled.columns[top5_item_indices]\n\n# Print results\nprint(f\"Top 5 recommended items for user {user_id}:\")\nfor i, item in enumerate(top5_item_names, 1):\n    print(f\"{i}. {item} (predicted rating: {predicted_als[user_id, df_rescaled.columns.get_loc(item)]:.2f})\")",
      "metadata": {
        "trusted": true
      },
      "outputs": [
        {
          "name": "stdout",
          "output_type": "stream",
          "text": "Top 5 recommended items for user 2:\n1. 71 (predicted rating: 18.82)\n2. 2 (predicted rating: 17.60)\n3. 59 (predicted rating: 14.92)\n4. 93 (predicted rating: 14.81)\n5. 73 (predicted rating: 14.23)\n"
        }
      ],
      "execution_count": 261
    },
    {
      "id": "c6743191-cdfb-4d0a-b8f7-e3775fd85500",
      "cell_type": "markdown",
      "source": "\n## Limitations and trade-offs of ALS",
      "metadata": {}
    },
    {
      "id": "a6951f39-3522-493e-a35c-c52a23b0813c",
      "cell_type": "markdown",
      "source": "##### Hyperparameter Sensitivity\nPerformance heavily depends on: Number of latent factors (k). Regularization parameter (λ), Number of iterations. We need to tune it carefully, or it will underfit or overfit.",
      "metadata": {}
    },
    {
      "id": "cf3b6acd-6ff2-4340-8c32-6162f9b2a55c",
      "cell_type": "markdown",
      "source": "##### Lack of Interpretability\nThe latent factors learned by ALS are abstract, they don’t map directly to real-world concepts (like “dad jokes” or “dark  humor”).",
      "metadata": {}
    },
    {
      "id": "3b7729c4-dbc1-4378-adb2-3f75b0409e7e",
      "cell_type": "markdown",
      "source": "##### Cold Start issues\nOften a system must deal with the cold start problem, where in many users supply very few ratings. This dataset every user rated atleast 36 or more jokes, so it is less of an issue, but other datasets with less ratings per user may havw to find a way to incorporate additional sources of information about the users. ",
      "metadata": {}
    }
  ]
}