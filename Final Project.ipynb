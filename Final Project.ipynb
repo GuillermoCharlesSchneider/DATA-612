{
 "cells": [
  {
   "cell_type": "code",
   "execution_count": 0,
   "metadata": {
    "application/vnd.databricks.v1+cell": {
     "cellMetadata": {
      "byteLimit": 2048000,
      "rowLimit": 10000
     },
     "inputWidgets": {},
     "nuid": "f4132fdf-bbeb-47d6-a31f-9551758aef16",
     "showTitle": false,
     "tableResultSettingsMap": {},
     "title": ""
    }
   },
   "outputs": [],
   "source": [
    "#imports\n",
    "from pyspark.sql.functions import count\n",
    "import matplotlib.pyplot as plt\n",
    "from pyspark.sql.functions import avg, col\n",
    "from pyspark.sql.functions import collect_set, size, explode, lit, count, col, avg, when, log2, round\n",
    "import numpy as np\n",
    "from pyspark.sql import functions as F\n",
    "from pyspark.sql.types import FloatType, StringType\n",
    "from pyspark.sql.functions import pandas_udf\n",
    "from pyspark.sql.types import StructType, StructField, IntegerType, ArrayType, FloatType\n",
    "from pyspark.sql.functions import pandas_udf, PandasUDFType"
   ]
  },
  {
   "cell_type": "markdown",
   "metadata": {
    "application/vnd.databricks.v1+cell": {
     "cellMetadata": {
      "byteLimit": 2048000,
      "rowLimit": 10000
     },
     "inputWidgets": {},
     "nuid": "6dde640d-7d2c-440b-9ab4-feaf25b63c32",
     "showTitle": false,
     "tableResultSettingsMap": {},
     "title": ""
    }
   },
   "source": [
    "# Final Project"
   ]
  },
  {
   "cell_type": "markdown",
   "metadata": {
    "application/vnd.databricks.v1+cell": {
     "cellMetadata": {
      "byteLimit": 2048000,
      "rowLimit": 10000
     },
     "inputWidgets": {},
     "nuid": "c8b631f0-2ed0-400e-85ac-6e588b071a2f",
     "showTitle": false,
     "tableResultSettingsMap": {},
     "title": ""
    }
   },
   "source": [
    "### BookCrossing Dataset\n",
    "The BookCrossing (BX) dataset was collected by Cai-Nicolas Ziegler in a 4-week crawl (August / September 2004) from the Book-Crossing community with kind permission from Ron Hornbaker, CTO of Humankind Systems. It contains 278,858 users (anonymized but with demographic information) providing 1,149,780 ratings (explicit / implicit) about 271,379 books. Ratings are between 1 - 10. Implicit feedback is represented by 0, it was a bit unclear but i think its representing books that users looked at on the website but did not rate which could indicate future interest even if they have not read it yet."
   ]
  },
  {
   "cell_type": "markdown",
   "metadata": {
    "application/vnd.databricks.v1+cell": {
     "cellMetadata": {
      "byteLimit": 2048000,
      "rowLimit": 10000
     },
     "inputWidgets": {},
     "nuid": "071d0289-b03d-412c-ac2d-9be3db2b65c1",
     "showTitle": false,
     "tableResultSettingsMap": {},
     "title": ""
    }
   },
   "source": [
    "## Trying Two Models:\n",
    "**1. Broader Weighted Matrix Factorization:** Keeps all the data, including the implicit data, and gives the implicit data a lesser weight \n",
    "\n",
    "**2. Specific IBCF:** Removes the implicit data, and  removes all users with less than 20 ratings and items who had less than 10 ratings to reduce noise"
   ]
  },
  {
   "cell_type": "markdown",
   "metadata": {
    "application/vnd.databricks.v1+cell": {
     "cellMetadata": {
      "byteLimit": 2048000,
      "rowLimit": 10000
     },
     "inputWidgets": {},
     "nuid": "ebef7b00-c7ea-455d-a9f5-1b80db1ce220",
     "showTitle": false,
     "tableResultSettingsMap": {},
     "title": ""
    }
   },
   "source": [
    "## Load Data\n",
    "Grab our data from the databricks Catalog. Our CSVs are stored in Azure Blob Storage, and then synced to Azure DataBricks by Fivetran"
   ]
  },
  {
   "cell_type": "code",
   "execution_count": 0,
   "metadata": {
    "application/vnd.databricks.v1+cell": {
     "cellMetadata": {
      "byteLimit": 2048000,
      "rowLimit": 10000
     },
     "inputWidgets": {},
     "nuid": "5d53d048-0d0f-4149-b661-4a35db18c760",
     "showTitle": false,
     "tableResultSettingsMap": {},
     "title": ""
    }
   },
   "outputs": [],
   "source": [
    "df = spark.table(\"gschneiderproject6.default.project_6\")"
   ]
  },
  {
   "cell_type": "markdown",
   "metadata": {
    "application/vnd.databricks.v1+cell": {
     "cellMetadata": {
      "byteLimit": 2048000,
      "rowLimit": 10000
     },
     "inputWidgets": {},
     "nuid": "4335cca8-ae18-42c5-ba8b-17782ce062c0",
     "showTitle": false,
     "tableResultSettingsMap": {},
     "title": ""
    }
   },
   "source": [
    "Seperating out the 3 datasets, somehow they were all merged while bringing them over from the Azure Blob"
   ]
  },
  {
   "cell_type": "markdown",
   "metadata": {
    "application/vnd.databricks.v1+cell": {
     "cellMetadata": {},
     "inputWidgets": {},
     "nuid": "d94b99d5-c5df-4e9a-abdf-9667b07b6aa6",
     "showTitle": false,
     "tableResultSettingsMap": {},
     "title": ""
    }
   },
   "source": [
    "#### Books df"
   ]
  },
  {
   "cell_type": "code",
   "execution_count": 0,
   "metadata": {
    "application/vnd.databricks.v1+cell": {
     "cellMetadata": {
      "byteLimit": 2048000,
      "rowLimit": 10000
     },
     "inputWidgets": {},
     "nuid": "2dfdc464-48cc-4230-b639-8191888180b6",
     "showTitle": false,
     "tableResultSettingsMap": {},
     "title": ""
    }
   },
   "outputs": [
    {
     "output_type": "display_data",
     "data": {
      "text/html": [
       "<style scoped>\n",
       "  .table-result-container {\n",
       "    max-height: 300px;\n",
       "    overflow: auto;\n",
       "  }\n",
       "  table, th, td {\n",
       "    border: 1px solid black;\n",
       "    border-collapse: collapse;\n",
       "  }\n",
       "  th, td {\n",
       "    padding: 5px;\n",
       "  }\n",
       "  th {\n",
       "    text-align: left;\n",
       "  }\n",
       "</style><div class='table-result-container'><table class='table-result'><thead style='background-color: white'><tr><th>isbn</th><th>book_title</th><th>book_author</th><th>year_of_publication</th><th>publisher</th><th>image_url_l</th></tr></thead><tbody><tr><td>9026601190</td><td>Pijn, een teer punt: Een fundamenteel geneeskundig onderzoek</td><td>Willem Metz</td><td>1977</td><td>Callenbach</td><td>http://images.amazon.com/images/P/9026601190.01.LZZZZZZZ.jpg</td></tr><tr><td>0679412956</td><td>Lasher</td><td>Anne Rice</td><td>1993</td><td>Alfred A. Knopf</td><td>http://images.amazon.com/images/P/0679412956.01.LZZZZZZZ.jpg</td></tr><tr><td>2207306038</td><td>Le faiseur de veuves. Renaissance</td><td>Mike Resnick</td><td>1998</td><td>Deno�?«l</td><td>http://images.amazon.com/images/P/2207306038.01.LZZZZZZZ.jpg</td></tr><tr><td>0679762892</td><td>The Catcher Was a Spy: The Mysterious Life of Moe Berg</td><td>N. Dawidoff</td><td>1995</td><td>Vintage Books USA</td><td>http://images.amazon.com/images/P/0679762892.01.LZZZZZZZ.jpg</td></tr><tr><td>0449202623</td><td>Banker</td><td>Dick Francis</td><td>1984</td><td>Fawcett Books</td><td>http://images.amazon.com/images/P/0449202623.01.LZZZZZZZ.jpg</td></tr><tr><td>0156010879</td><td>Words Fail  Me: What Everyone Who Writes     Should Know about Writing</td><td>Patricia T. O'Conner</td><td>2000</td><td>Harvest Books</td><td>http://images.amazon.com/images/P/0156010879.01.LZZZZZZZ.jpg</td></tr><tr><td>0395489334</td><td>The Two Towers (The Lord of the Rings, Part 2)</td><td>J. R. R. Tolkien</td><td>1988</td><td>Houghton Mifflin Company</td><td>http://images.amazon.com/images/P/0395489334.01.LZZZZZZZ.jpg</td></tr><tr><td>0399207880</td><td>Anno's Magical ABC</td><td>Mitsumasa Anno</td><td>1981</td><td>Putnam Pub Group</td><td>http://images.amazon.com/images/P/0399207880.01.LZZZZZZZ.jpg</td></tr><tr><td>0515134678</td><td>Reinventing the Woman</td><td>Patty Rice</td><td>2003</td><td>Jove Books</td><td>http://images.amazon.com/images/P/0515134678.01.LZZZZZZZ.jpg</td></tr><tr><td>0373059159</td><td>One Stubborn Cowboy (Silhouette Desire, No 915)</td><td>Barbara McMahon</td><td>1995</td><td>Silhouette</td><td>http://images.amazon.com/images/P/0373059159.01.LZZZZZZZ.jpg</td></tr></tbody></table></div>"
      ]
     },
     "metadata": {
      "application/vnd.databricks.v1+output": {
       "addedWidgets": {},
       "aggData": [],
       "aggError": "",
       "aggOverflow": false,
       "aggSchema": [],
       "aggSeriesLimitReached": false,
       "aggType": "",
       "arguments": {},
       "columnCustomDisplayInfos": {},
       "data": [
        [
         "9026601190",
         "Pijn, een teer punt: Een fundamenteel geneeskundig onderzoek",
         "Willem Metz",
         1977,
         "Callenbach",
         "http://images.amazon.com/images/P/9026601190.01.LZZZZZZZ.jpg"
        ],
        [
         "0679412956",
         "Lasher",
         "Anne Rice",
         1993,
         "Alfred A. Knopf",
         "http://images.amazon.com/images/P/0679412956.01.LZZZZZZZ.jpg"
        ],
        [
         "2207306038",
         "Le faiseur de veuves. Renaissance",
         "Mike Resnick",
         1998,
         "Deno�?«l",
         "http://images.amazon.com/images/P/2207306038.01.LZZZZZZZ.jpg"
        ],
        [
         "0679762892",
         "The Catcher Was a Spy: The Mysterious Life of Moe Berg",
         "N. Dawidoff",
         1995,
         "Vintage Books USA",
         "http://images.amazon.com/images/P/0679762892.01.LZZZZZZZ.jpg"
        ],
        [
         "0449202623",
         "Banker",
         "Dick Francis",
         1984,
         "Fawcett Books",
         "http://images.amazon.com/images/P/0449202623.01.LZZZZZZZ.jpg"
        ],
        [
         "0156010879",
         "Words Fail  Me: What Everyone Who Writes     Should Know about Writing",
         "Patricia T. O'Conner",
         2000,
         "Harvest Books",
         "http://images.amazon.com/images/P/0156010879.01.LZZZZZZZ.jpg"
        ],
        [
         "0395489334",
         "The Two Towers (The Lord of the Rings, Part 2)",
         "J. R. R. Tolkien",
         1988,
         "Houghton Mifflin Company",
         "http://images.amazon.com/images/P/0395489334.01.LZZZZZZZ.jpg"
        ],
        [
         "0399207880",
         "Anno's Magical ABC",
         "Mitsumasa Anno",
         1981,
         "Putnam Pub Group",
         "http://images.amazon.com/images/P/0399207880.01.LZZZZZZZ.jpg"
        ],
        [
         "0515134678",
         "Reinventing the Woman",
         "Patty Rice",
         2003,
         "Jove Books",
         "http://images.amazon.com/images/P/0515134678.01.LZZZZZZZ.jpg"
        ],
        [
         "0373059159",
         "One Stubborn Cowboy (Silhouette Desire, No 915)",
         "Barbara McMahon",
         1995,
         "Silhouette",
         "http://images.amazon.com/images/P/0373059159.01.LZZZZZZZ.jpg"
        ]
       ],
       "datasetInfos": [],
       "dbfsResultPath": null,
       "isJsonSchema": true,
       "metadata": {},
       "overflow": false,
       "plotOptions": {
        "customPlotOptions": {},
        "displayType": "table",
        "pivotAggregation": null,
        "pivotColumns": null,
        "xColumns": null,
        "yColumns": null
       },
       "removedWidgets": [],
       "schema": [
        {
         "metadata": "{}",
         "name": "isbn",
         "type": "\"string\""
        },
        {
         "metadata": "{}",
         "name": "book_title",
         "type": "\"string\""
        },
        {
         "metadata": "{}",
         "name": "book_author",
         "type": "\"string\""
        },
        {
         "metadata": "{}",
         "name": "year_of_publication",
         "type": "\"long\""
        },
        {
         "metadata": "{}",
         "name": "publisher",
         "type": "\"string\""
        },
        {
         "metadata": "{}",
         "name": "image_url_l",
         "type": "\"string\""
        }
       ],
       "type": "table"
      }
     },
     "output_type": "display_data"
    }
   ],
   "source": [
    "books = df.filter(df._file == \"Books.csv\").select(\n",
    "    \"isbn\", \"book_title\", \"book_author\", \"year_of_publication\", \"publisher\", \"image_url_l\"\n",
    ")\n",
    "display(books.limit(10))"
   ]
  },
  {
   "cell_type": "markdown",
   "metadata": {
    "application/vnd.databricks.v1+cell": {
     "cellMetadata": {},
     "inputWidgets": {},
     "nuid": "bcfd4c43-cac1-4584-a072-27895786b1dc",
     "showTitle": false,
     "tableResultSettingsMap": {},
     "title": ""
    }
   },
   "source": [
    "#### User df"
   ]
  },
  {
   "cell_type": "code",
   "execution_count": 0,
   "metadata": {
    "application/vnd.databricks.v1+cell": {
     "cellMetadata": {
      "byteLimit": 2048000,
      "rowLimit": 10000
     },
     "inputWidgets": {},
     "nuid": "30d0779a-5292-484e-a887-0d5b9f9829df",
     "showTitle": false,
     "tableResultSettingsMap": {},
     "title": ""
    }
   },
   "outputs": [
    {
     "output_type": "display_data",
     "data": {
      "text/html": [
       "<style scoped>\n",
       "  .table-result-container {\n",
       "    max-height: 300px;\n",
       "    overflow: auto;\n",
       "  }\n",
       "  table, th, td {\n",
       "    border: 1px solid black;\n",
       "    border-collapse: collapse;\n",
       "  }\n",
       "  th, td {\n",
       "    padding: 5px;\n",
       "  }\n",
       "  th {\n",
       "    text-align: left;\n",
       "  }\n",
       "</style><div class='table-result-container'><table class='table-result'><thead style='background-color: white'><tr><th>user_id</th><th>location</th><th>age</th></tr></thead><tbody><tr><td>197161</td><td>sherwood park, alberta, canada</td><td>67</td></tr><tr><td>205096</td><td>monticello, new york, usa</td><td>55</td></tr><tr><td>213031</td><td>melbourne, victoria, australia</td><td>52</td></tr><tr><td>220966</td><td>el cajon, california, usa</td><td>14</td></tr><tr><td>228901</td><td>massillon, ohio, usa</td><td>NULL</td></tr><tr><td>230957</td><td>olathe, kansas, usa</td><td>NULL</td></tr><tr><td>238892</td><td>austin, texas, usa</td><td>NULL</td></tr><tr><td>246827</td><td>des moines, washington, usa</td><td>16</td></tr><tr><td>254762</td><td>tofino, british columbia, canada</td><td>NULL</td></tr><tr><td>133018</td><td>n/a, n/a, antarctica</td><td>NULL</td></tr></tbody></table></div>"
      ]
     },
     "metadata": {
      "application/vnd.databricks.v1+output": {
       "addedWidgets": {},
       "aggData": [],
       "aggError": "",
       "aggOverflow": false,
       "aggSchema": [],
       "aggSeriesLimitReached": false,
       "aggType": "",
       "arguments": {},
       "columnCustomDisplayInfos": {},
       "data": [
        [
         197161,
         "sherwood park, alberta, canada",
         "67"
        ],
        [
         205096,
         "monticello, new york, usa",
         "55"
        ],
        [
         213031,
         "melbourne, victoria, australia",
         "52"
        ],
        [
         220966,
         "el cajon, california, usa",
         "14"
        ],
        [
         228901,
         "massillon, ohio, usa",
         "NULL"
        ],
        [
         230957,
         "olathe, kansas, usa",
         "NULL"
        ],
        [
         238892,
         "austin, texas, usa",
         "NULL"
        ],
        [
         246827,
         "des moines, washington, usa",
         "16"
        ],
        [
         254762,
         "tofino, british columbia, canada",
         "NULL"
        ],
        [
         133018,
         "n/a, n/a, antarctica",
         "NULL"
        ]
       ],
       "datasetInfos": [],
       "dbfsResultPath": null,
       "isJsonSchema": true,
       "metadata": {},
       "overflow": false,
       "plotOptions": {
        "customPlotOptions": {},
        "displayType": "table",
        "pivotAggregation": null,
        "pivotColumns": null,
        "xColumns": null,
        "yColumns": null
       },
       "removedWidgets": [],
       "schema": [
        {
         "metadata": "{}",
         "name": "user_id",
         "type": "\"long\""
        },
        {
         "metadata": "{}",
         "name": "location",
         "type": "\"string\""
        },
        {
         "metadata": "{}",
         "name": "age",
         "type": "\"string\""
        }
       ],
       "type": "table"
      }
     },
     "output_type": "display_data"
    }
   ],
   "source": [
    "users = df.filter(df._file == \"Users.csv\").select(\"user_id\", \"location\", 'age')\n",
    "display(users.limit(10))"
   ]
  },
  {
   "cell_type": "markdown",
   "metadata": {
    "application/vnd.databricks.v1+cell": {
     "cellMetadata": {},
     "inputWidgets": {},
     "nuid": "6f67d43a-6828-47b7-ad0f-82f89c224764",
     "showTitle": false,
     "tableResultSettingsMap": {},
     "title": ""
    }
   },
   "source": [
    "#### Rating df"
   ]
  },
  {
   "cell_type": "code",
   "execution_count": 0,
   "metadata": {
    "application/vnd.databricks.v1+cell": {
     "cellMetadata": {
      "byteLimit": 2048000,
      "rowLimit": 10000
     },
     "inputWidgets": {},
     "nuid": "16d85fb8-cc2d-4ee9-8917-2cedd2aa6692",
     "showTitle": false,
     "tableResultSettingsMap": {},
     "title": ""
    }
   },
   "outputs": [
    {
     "output_type": "display_data",
     "data": {
      "text/html": [
       "<style scoped>\n",
       "  .table-result-container {\n",
       "    max-height: 300px;\n",
       "    overflow: auto;\n",
       "  }\n",
       "  table, th, td {\n",
       "    border: 1px solid black;\n",
       "    border-collapse: collapse;\n",
       "  }\n",
       "  th, td {\n",
       "    padding: 5px;\n",
       "  }\n",
       "  th {\n",
       "    text-align: left;\n",
       "  }\n",
       "</style><div class='table-result-container'><table class='table-result'><thead style='background-color: white'><tr><th>user_id</th><th>isbn</th><th>book_rating</th></tr></thead><tbody><tr><td>207782</td><td>014028009X</td><td>8</td></tr><tr><td>209754</td><td>0553209671</td><td>0</td></tr><tr><td>211880</td><td>009173505X</td><td>4</td></tr><tr><td>212923</td><td>0446512362</td><td>0</td></tr><tr><td>213316</td><td>0679722408</td><td>8</td></tr><tr><td>215829</td><td>0380978482</td><td>7</td></tr><tr><td>217986</td><td>0805023828</td><td>0</td></tr><tr><td>220911</td><td>0743418204</td><td>0</td></tr><tr><td>223386</td><td>2277221678</td><td>0</td></tr><tr><td>143211</td><td>0553582526</td><td>0</td></tr></tbody></table></div>"
      ]
     },
     "metadata": {
      "application/vnd.databricks.v1+output": {
       "addedWidgets": {},
       "aggData": [],
       "aggError": "",
       "aggOverflow": false,
       "aggSchema": [],
       "aggSeriesLimitReached": false,
       "aggType": "",
       "arguments": {},
       "columnCustomDisplayInfos": {},
       "data": [
        [
         207782,
         "014028009X",
         8
        ],
        [
         209754,
         "0553209671",
         0
        ],
        [
         211880,
         "009173505X",
         4
        ],
        [
         212923,
         "0446512362",
         0
        ],
        [
         213316,
         "0679722408",
         8
        ],
        [
         215829,
         "0380978482",
         7
        ],
        [
         217986,
         "0805023828",
         0
        ],
        [
         220911,
         "0743418204",
         0
        ],
        [
         223386,
         "2277221678",
         0
        ],
        [
         143211,
         "0553582526",
         0
        ]
       ],
       "datasetInfos": [],
       "dbfsResultPath": null,
       "isJsonSchema": true,
       "metadata": {},
       "overflow": false,
       "plotOptions": {
        "customPlotOptions": {},
        "displayType": "table",
        "pivotAggregation": null,
        "pivotColumns": null,
        "xColumns": null,
        "yColumns": null
       },
       "removedWidgets": [],
       "schema": [
        {
         "metadata": "{}",
         "name": "user_id",
         "type": "\"long\""
        },
        {
         "metadata": "{}",
         "name": "isbn",
         "type": "\"string\""
        },
        {
         "metadata": "{}",
         "name": "book_rating",
         "type": "\"long\""
        }
       ],
       "type": "table"
      }
     },
     "output_type": "display_data"
    }
   ],
   "source": [
    "ratings = df.filter(df._file == \"Ratings.csv\").select(\"user_id\", \"isbn\", \"book_rating\")\n",
    "display(ratings.limit(10))"
   ]
  },
  {
   "cell_type": "markdown",
   "metadata": {
    "application/vnd.databricks.v1+cell": {
     "cellMetadata": {
      "byteLimit": 2048000,
      "rowLimit": 10000
     },
     "inputWidgets": {},
     "nuid": "70ca9803-fb91-4c06-a51a-8a7e0e6b224a",
     "showTitle": false,
     "tableResultSettingsMap": {},
     "title": ""
    }
   },
   "source": [
    "## I got my coworkers to rate some books!"
   ]
  },
  {
   "cell_type": "code",
   "execution_count": 0,
   "metadata": {
    "application/vnd.databricks.v1+cell": {
     "cellMetadata": {
      "byteLimit": 2048000,
      "rowLimit": 10000
     },
     "inputWidgets": {},
     "nuid": "a5923f3e-8c9b-47ca-8cc5-2780dfe1bcdf",
     "showTitle": false,
     "tableResultSettingsMap": {},
     "title": ""
    }
   },
   "outputs": [
    {
     "output_type": "display_data",
     "data": {
      "text/html": [
       "<style scoped>\n",
       "  .table-result-container {\n",
       "    max-height: 300px;\n",
       "    overflow: auto;\n",
       "  }\n",
       "  table, th, td {\n",
       "    border: 1px solid black;\n",
       "    border-collapse: collapse;\n",
       "  }\n",
       "  th, td {\n",
       "    padding: 5px;\n",
       "  }\n",
       "  th {\n",
       "    text-align: left;\n",
       "  }\n",
       "</style><div class='table-result-container'><table class='table-result'><thead style='background-color: white'><tr><th>user_id</th><th>User</th><th>ISBN</th><th>Book-Title</th><th>book_rating</th></tr></thead><tbody><tr><td>1</td><td>Aditi</td><td>0441003613</td><td>The Book of Atrix Wolfe</td><td>10</td></tr><tr><td>1</td><td>Aditi</td><td>055321313X</td><td>Anne of Green Gables</td><td>9</td></tr><tr><td>1</td><td>Aditi</td><td>0441006787</td><td>Song for the Basilisk</td><td>10</td></tr><tr><td>1</td><td>Aditi</td><td>1853260002</td><td>Pride & Prejudice</td><td>10</td></tr><tr><td>1</td><td>Aditi</td><td>0345012518</td><td>Heir of Sea and Fire</td><td>10</td></tr><tr><td>1</td><td>Aditi</td><td>0586057439</td><td>\\The Winds of Change\\\" and Other Stories\"</td><td>7</td></tr><tr><td>1</td><td>Aditi</td><td>0345339967</td><td>Foundation and Earth</td><td>2</td></tr><tr><td>1</td><td>Aditi</td><td>0140620109</td><td>Emma</td><td>7</td></tr><tr><td>1</td><td>Aditi</td><td>0451450523</td><td>Last Unicorn</td><td>8</td></tr><tr><td>1</td><td>Aditi</td><td>0446601977</td><td>Parable of the Sower</td><td>10</td></tr><tr><td>1</td><td>Aditi</td><td>0441008291</td><td>The Tower at Stony Wood</td><td>10</td></tr><tr><td>1</td><td>Aditi</td><td>0380001012</td><td>Foundation Trilogy</td><td>7</td></tr><tr><td>1</td><td>Aditi</td><td>044100895X</td><td>Ombria in Shadow</td><td>7</td></tr><tr><td>1</td><td>Aditi</td><td>0446603775</td><td>Xenogenesis</td><td>10</td></tr><tr><td>1</td><td>Aditi</td><td>0486264785</td><td>The Importance of Being Earnest (Dover Thrift Editions)</td><td>7</td></tr><tr><td>1</td><td>Aditi</td><td>0590484753</td><td>Talking to Dragons (Enchanted Forest Chronicles (Paperback))</td><td>7</td></tr><tr><td>1</td><td>Aditi</td><td>0345288815</td><td>Riddlemaster of Hed The</td><td>10</td></tr><tr><td>1</td><td>Aditi</td><td>0553294385</td><td>I Robot</td><td>9</td></tr><tr><td>1</td><td>Aditi</td><td>0446512788</td><td>Fool's Run</td><td>6</td></tr><tr><td>1</td><td>Aditi</td><td>0345274695</td><td>Harpist In the Wind</td><td>10</td></tr><tr><td>1</td><td>Aditi</td><td>0380004801</td><td>Forgotten Beasts of Eld</td><td>8</td></tr><tr><td>1</td><td>Aditi</td><td>0140430164</td><td>Mansfield Park</td><td>3</td></tr><tr><td>1</td><td>Aditi</td><td>055323370X</td><td>Emily of New Moon</td><td>4</td></tr><tr><td>1</td><td>Aditi</td><td>0441009344</td><td>Winter Rose</td><td>10</td></tr><tr><td>1</td><td>Aditi</td><td>0671430661</td><td>WILD SEED</td><td>10</td></tr><tr><td>1</td><td>Aditi</td><td>0441010113</td><td>In the Forests of Serre</td><td>10</td></tr><tr><td>1</td><td>Aditi</td><td>0446610380</td><td>Parable of the Talents</td><td>10</td></tr><tr><td>1</td><td>Aditi</td><td>0451524934</td><td>1984</td><td>7</td></tr><tr><td>1</td><td>Aditi</td><td>0451526384</td><td>Persuasion</td><td>7</td></tr><tr><td>2</td><td>Guillermo</td><td>0441172717</td><td>Dune</td><td>10</td></tr><tr><td>2</td><td>Guillermo</td><td>0553262505</td><td>A Wizard of Earthsea (Earthsea Trilogy, Book 1)</td><td>9</td></tr><tr><td>2</td><td>Guillermo</td><td>0441104029</td><td>Children of Dune (Dune Chronicles, Book 3)</td><td>8</td></tr><tr><td>2</td><td>Guillermo</td><td>0441172695</td><td>Dune Messiah (Dune Chronicles, Book 2)</td><td>9</td></tr><tr><td>2</td><td>Guillermo</td><td>0689845340</td><td>The Farthest Shore (Earthsea, Volume 3)</td><td>9</td></tr><tr><td>2</td><td>Guillermo</td><td>0345339738</td><td>The Return of the King (The Lord of the Rings, Part 3)</td><td>10</td></tr><tr><td>2</td><td>Guillermo</td><td>0345339711</td><td>The Two Towers (The Lord of the Rings, Part 2)</td><td>10</td></tr><tr><td>2</td><td>Guillermo</td><td>0441294677</td><td>God Emperor of Dune (Dune Chronicles, Book 4)</td><td>7</td></tr><tr><td>2</td><td>Guillermo</td><td>0441328008</td><td>Heretics of Dune (Dune Chronicles, Book 5)</td><td>6</td></tr><tr><td>2</td><td>Guillermo</td><td>0345339703</td><td>The Fellowship of the Ring (The Lord of the Rings, Part 1)</td><td>10</td></tr><tr><td>2</td><td>Guillermo</td><td>0553273310</td><td>The Tombs of Atuan (Earthsea Trilogy, Book 2)</td><td>10</td></tr><tr><td>2</td><td>Guillermo</td><td>0446362816</td><td>Patternmaster</td><td>8</td></tr><tr><td>3</td><td>Jose</td><td>1853260622</td><td>War and Peace</td><td>9</td></tr><tr><td>3</td><td>Jose</td><td>8466304630</td><td>Rayuela (Biblioteca Cortazar)</td><td>8</td></tr><tr><td>3</td><td>Jose</td><td>0553210351</td><td>The Death of Ivan Ilyich: The Cossacks, Happy Ever After (Penguin Classics)</td><td>9</td></tr><tr><td>3</td><td>Jose</td><td>0140272852</td><td>Amistad</td><td>7</td></tr><tr><td>3</td><td>Jose</td><td>8449501482</td><td>Mitos y Leyendas - Mitologia Clasica</td><td>6</td></tr><tr><td>3</td><td>Jose</td><td>8420481394</td><td>Cuentos Completos/2: Cortazar (Alfaguara Cuentos Completos)</td><td>9</td></tr><tr><td>3</td><td>Jose</td><td>2714303021</td><td>La Forme d'une ville</td><td>4</td></tr><tr><td>3</td><td>Jose</td><td>0385721404</td><td>Holy War: The Crusades and Their Impact on Today's World</td><td>7</td></tr><tr><td>3</td><td>Jose</td><td>8420441708</td><td>La Carta Esferica / The Nautical Chart (Spanish edition)</td><td>8</td></tr><tr><td>3</td><td>Jose</td><td>0451521951</td><td>Count of Monte Cristo</td><td>9</td></tr><tr><td>4</td><td>Maeve</td><td>0446310786</td><td>To Kill a Mockingbird</td><td>8</td></tr><tr><td>4</td><td>Maeve</td><td>0618138927</td><td>The Secrets of Baking: Simple Techniques for Sophisticated Desserts</td><td>9</td></tr><tr><td>4</td><td>Maeve</td><td>0684801523</td><td>F. Scott Fitzgerald's the Great Gatsby</td><td>8</td></tr><tr><td>4</td><td>Maeve</td><td>0789480646</td><td>Dynamic Yoga</td><td>8</td></tr><tr><td>4</td><td>Maeve</td><td>0345339681</td><td>The Hobbit</td><td>6</td></tr><tr><td>4</td><td>Maeve</td><td>0596005229</td><td>Java Database Best Practices</td><td>3</td></tr><tr><td>4</td><td>Maeve</td><td>0590629778</td><td>The Invasion (Animorphs, No 1)</td><td>6</td></tr><tr><td>4</td><td>Maeve</td><td>0553210793</td><td>Treasury of Illustrated Classics: Adventures of Huckleberry Finn</td><td>4</td></tr><tr><td>4</td><td>Maeve</td><td>0449003795</td><td>P Is for Peril</td><td>7</td></tr><tr><td>4</td><td>Maeve</td><td>887641486X</td><td>I Giorni Dell'abbandono</td><td>10</td></tr><tr><td>4</td><td>Maeve</td><td>0807083054</td><td>Kindred (Black Women Writers Series)</td><td>10</td></tr><tr><td>4</td><td>Maeve</td><td>0060256656</td><td>The Giving Tree</td><td>10</td></tr><tr><td>5</td><td>Nina</td><td>0553212451</td><td>The Jungle (Bantam Classics)</td><td>10</td></tr><tr><td>5</td><td>Nina</td><td>0394716787</td><td>The Complete Tales and Poems of Edgar Allan Poe</td><td>10</td></tr><tr><td>5</td><td>Nina</td><td>0451518829</td><td>Sons and Lovers</td><td>10</td></tr><tr><td>5</td><td>Nina</td><td>0452283868</td><td>Sula</td><td>10</td></tr><tr><td>5</td><td>Nina</td><td>0553210092</td><td>The Scarlet Letter</td><td>10</td></tr><tr><td>5</td><td>Nina</td><td>2070393712</td><td>L' Etranger</td><td>10</td></tr><tr><td>5</td><td>Nina</td><td>0451527100</td><td>The Communist Manifesto</td><td>10</td></tr><tr><td>5</td><td>Nina</td><td>0064471047</td><td>The Lion, the Witch, and the Wardrobe (The Chronicles of Narnia, Book 2)</td><td>10</td></tr><tr><td>5</td><td>Nina</td><td>0142000663</td><td>The Grapes of Wrath: John Steinbeck Centennial Edition (1902-2002)</td><td>10</td></tr><tr><td>5</td><td>Nina</td><td>0394713516</td><td>Women, Race and Class</td><td>10</td></tr><tr><td>5</td><td>Nina</td><td>0812511816</td><td>The Eye of the World (The Wheel of Time, Book 1)</td><td>10</td></tr><tr><td>5</td><td>Nina</td><td>0140445560</td><td>The Odyssey</td><td>10</td></tr><tr><td>5</td><td>Nina</td><td>0140444416</td><td>The Divine Comedy: Inferno (Penguin Classics)</td><td>10</td></tr><tr><td>5</td><td>Nina</td><td>0060916508</td><td>Their Eyes Were Watching God: A Novel</td><td>10</td></tr><tr><td>5</td><td>Nina</td><td>0896086283</td><td>Feminism Is for Everybody: Passionate Politics</td><td>10</td></tr><tr><td>6</td><td>Sam</td><td>1400033543</td><td>You Shall Know Our Velocity</td><td>7</td></tr><tr><td>6</td><td>Sam</td><td>0394720245</td><td>The Power Broker: Robert Moses and the Fall of New York</td><td>9</td></tr><tr><td>6</td><td>Sam</td><td>0809228408</td><td>The Web That Has No Weaver : Understanding Chinese Medicine</td><td>8</td></tr><tr><td>6</td><td>Sam</td><td>087348150X</td><td>Malcolm X by Any Means Necessary</td><td>8</td></tr><tr><td>6</td><td>Sam</td><td>0394747232</td><td>Maus a Survivors Tale: And Here My Trouble Begin</td><td>9</td></tr><tr><td>6</td><td>Sam</td><td>0553212168</td><td>The Brothers Karamazov (Barnes & Noble Classics)</td><td>8</td></tr><tr><td>6</td><td>Sam</td><td>0312278586</td><td>The Nanny Diaries</td><td>6</td></tr><tr><td>6</td><td>Sam</td><td>067145711X</td><td>GREAT BRIDGE : The Epic Story of the Building of the Brooklyn Bridge</td><td>7</td></tr><tr><td>6</td><td>Sam</td><td>0449212602</td><td>The Handmaid's Tale</td><td>8</td></tr><tr><td>6</td><td>Sam</td><td>0028610105</td><td>How to Cook Everything: Simple Recipes for Great Food</td><td>5</td></tr><tr><td>6</td><td>Sam</td><td>0156006219</td><td>The Magician's Assistant</td><td>7</td></tr><tr><td>7</td><td>Nancy</td><td>0156027321</td><td>Life of Pi</td><td>3</td></tr><tr><td>7</td><td>Nancy</td><td>1853260622</td><td>War and Peace (Wordsworth Classics)</td><td>10</td></tr><tr><td>7</td><td>Nancy</td><td>0064407055</td><td>Ella Enchanted (rack)</td><td>10</td></tr><tr><td>7</td><td>Nancy</td><td>0451523369</td><td>Frankenstein Or, the Modern Prometheus</td><td>8</td></tr><tr><td>7</td><td>Nancy</td><td>0064407667</td><td>The Bad Beginning (A Series of Unfortunate Events, Book 1)</td><td>8</td></tr><tr><td>7</td><td>Nancy</td><td>0451526341</td><td>Animal Farm</td><td>5</td></tr><tr><td>7</td><td>Nancy</td><td>2070408507</td><td>Le Petit Prince</td><td>9</td></tr><tr><td>7</td><td>Nancy</td><td>0345339681</td><td>The Hobbit </td><td>3</td></tr><tr><td>7</td><td>Nancy</td><td>0345391802</td><td>The Hitchhiker's Guide to the Galaxy</td><td>7</td></tr><tr><td>7</td><td>Nancy</td><td>0553213113</td><td>Moby-Dick</td><td>2</td></tr></tbody></table></div>"
      ]
     },
     "metadata": {
      "application/vnd.databricks.v1+output": {
       "addedWidgets": {},
       "aggData": [],
       "aggError": "",
       "aggOverflow": false,
       "aggSchema": [],
       "aggSeriesLimitReached": false,
       "aggType": "",
       "arguments": {},
       "columnCustomDisplayInfos": {},
       "data": [
        [
         1,
         "Aditi",
         "0441003613",
         "The Book of Atrix Wolfe",
         10
        ],
        [
         1,
         "Aditi",
         "055321313X",
         "Anne of Green Gables",
         9
        ],
        [
         1,
         "Aditi",
         "0441006787",
         "Song for the Basilisk",
         10
        ],
        [
         1,
         "Aditi",
         "1853260002",
         "Pride & Prejudice",
         10
        ],
        [
         1,
         "Aditi",
         "0345012518",
         "Heir of Sea and Fire",
         10
        ],
        [
         1,
         "Aditi",
         "0586057439",
         "\\The Winds of Change\\\" and Other Stories\"",
         7
        ],
        [
         1,
         "Aditi",
         "0345339967",
         "Foundation and Earth",
         2
        ],
        [
         1,
         "Aditi",
         "0140620109",
         "Emma",
         7
        ],
        [
         1,
         "Aditi",
         "0451450523",
         "Last Unicorn",
         8
        ],
        [
         1,
         "Aditi",
         "0446601977",
         "Parable of the Sower",
         10
        ],
        [
         1,
         "Aditi",
         "0441008291",
         "The Tower at Stony Wood",
         10
        ],
        [
         1,
         "Aditi",
         "0380001012",
         "Foundation Trilogy",
         7
        ],
        [
         1,
         "Aditi",
         "044100895X",
         "Ombria in Shadow",
         7
        ],
        [
         1,
         "Aditi",
         "0446603775",
         "Xenogenesis",
         10
        ],
        [
         1,
         "Aditi",
         "0486264785",
         "The Importance of Being Earnest (Dover Thrift Editions)",
         7
        ],
        [
         1,
         "Aditi",
         "0590484753",
         "Talking to Dragons (Enchanted Forest Chronicles (Paperback))",
         7
        ],
        [
         1,
         "Aditi",
         "0345288815",
         "Riddlemaster of Hed The",
         10
        ],
        [
         1,
         "Aditi",
         "0553294385",
         "I Robot",
         9
        ],
        [
         1,
         "Aditi",
         "0446512788",
         "Fool's Run",
         6
        ],
        [
         1,
         "Aditi",
         "0345274695",
         "Harpist In the Wind",
         10
        ],
        [
         1,
         "Aditi",
         "0380004801",
         "Forgotten Beasts of Eld",
         8
        ],
        [
         1,
         "Aditi",
         "0140430164",
         "Mansfield Park",
         3
        ],
        [
         1,
         "Aditi",
         "055323370X",
         "Emily of New Moon",
         4
        ],
        [
         1,
         "Aditi",
         "0441009344",
         "Winter Rose",
         10
        ],
        [
         1,
         "Aditi",
         "0671430661",
         "WILD SEED",
         10
        ],
        [
         1,
         "Aditi",
         "0441010113",
         "In the Forests of Serre",
         10
        ],
        [
         1,
         "Aditi",
         "0446610380",
         "Parable of the Talents",
         10
        ],
        [
         1,
         "Aditi",
         "0451524934",
         "1984",
         7
        ],
        [
         1,
         "Aditi",
         "0451526384",
         "Persuasion",
         7
        ],
        [
         2,
         "Guillermo",
         "0441172717",
         "Dune",
         10
        ],
        [
         2,
         "Guillermo",
         "0553262505",
         "A Wizard of Earthsea (Earthsea Trilogy, Book 1)",
         9
        ],
        [
         2,
         "Guillermo",
         "0441104029",
         "Children of Dune (Dune Chronicles, Book 3)",
         8
        ],
        [
         2,
         "Guillermo",
         "0441172695",
         "Dune Messiah (Dune Chronicles, Book 2)",
         9
        ],
        [
         2,
         "Guillermo",
         "0689845340",
         "The Farthest Shore (Earthsea, Volume 3)",
         9
        ],
        [
         2,
         "Guillermo",
         "0345339738",
         "The Return of the King (The Lord of the Rings, Part 3)",
         10
        ],
        [
         2,
         "Guillermo",
         "0345339711",
         "The Two Towers (The Lord of the Rings, Part 2)",
         10
        ],
        [
         2,
         "Guillermo",
         "0441294677",
         "God Emperor of Dune (Dune Chronicles, Book 4)",
         7
        ],
        [
         2,
         "Guillermo",
         "0441328008",
         "Heretics of Dune (Dune Chronicles, Book 5)",
         6
        ],
        [
         2,
         "Guillermo",
         "0345339703",
         "The Fellowship of the Ring (The Lord of the Rings, Part 1)",
         10
        ],
        [
         2,
         "Guillermo",
         "0553273310",
         "The Tombs of Atuan (Earthsea Trilogy, Book 2)",
         10
        ],
        [
         2,
         "Guillermo",
         "0446362816",
         "Patternmaster",
         8
        ],
        [
         3,
         "Jose",
         "1853260622",
         "War and Peace",
         9
        ],
        [
         3,
         "Jose",
         "8466304630",
         "Rayuela (Biblioteca Cortazar)",
         8
        ],
        [
         3,
         "Jose",
         "0553210351",
         "The Death of Ivan Ilyich: The Cossacks, Happy Ever After (Penguin Classics)",
         9
        ],
        [
         3,
         "Jose",
         "0140272852",
         "Amistad",
         7
        ],
        [
         3,
         "Jose",
         "8449501482",
         "Mitos y Leyendas - Mitologia Clasica",
         6
        ],
        [
         3,
         "Jose",
         "8420481394",
         "Cuentos Completos/2: Cortazar (Alfaguara Cuentos Completos)",
         9
        ],
        [
         3,
         "Jose",
         "2714303021",
         "La Forme d'une ville",
         4
        ],
        [
         3,
         "Jose",
         "0385721404",
         "Holy War: The Crusades and Their Impact on Today's World",
         7
        ],
        [
         3,
         "Jose",
         "8420441708",
         "La Carta Esferica / The Nautical Chart (Spanish edition)",
         8
        ],
        [
         3,
         "Jose",
         "0451521951",
         "Count of Monte Cristo",
         9
        ],
        [
         4,
         "Maeve",
         "0446310786",
         "To Kill a Mockingbird",
         8
        ],
        [
         4,
         "Maeve",
         "0618138927",
         "The Secrets of Baking: Simple Techniques for Sophisticated Desserts",
         9
        ],
        [
         4,
         "Maeve",
         "0684801523",
         "F. Scott Fitzgerald's the Great Gatsby",
         8
        ],
        [
         4,
         "Maeve",
         "0789480646",
         "Dynamic Yoga",
         8
        ],
        [
         4,
         "Maeve",
         "0345339681",
         "The Hobbit",
         6
        ],
        [
         4,
         "Maeve",
         "0596005229",
         "Java Database Best Practices",
         3
        ],
        [
         4,
         "Maeve",
         "0590629778",
         "The Invasion (Animorphs, No 1)",
         6
        ],
        [
         4,
         "Maeve",
         "0553210793",
         "Treasury of Illustrated Classics: Adventures of Huckleberry Finn",
         4
        ],
        [
         4,
         "Maeve",
         "0449003795",
         "P Is for Peril",
         7
        ],
        [
         4,
         "Maeve",
         "887641486X",
         "I Giorni Dell'abbandono",
         10
        ],
        [
         4,
         "Maeve",
         "0807083054",
         "Kindred (Black Women Writers Series)",
         10
        ],
        [
         4,
         "Maeve",
         "0060256656",
         "The Giving Tree",
         10
        ],
        [
         5,
         "Nina",
         "0553212451",
         "The Jungle (Bantam Classics)",
         10
        ],
        [
         5,
         "Nina",
         "0394716787",
         "The Complete Tales and Poems of Edgar Allan Poe",
         10
        ],
        [
         5,
         "Nina",
         "0451518829",
         "Sons and Lovers",
         10
        ],
        [
         5,
         "Nina",
         "0452283868",
         "Sula",
         10
        ],
        [
         5,
         "Nina",
         "0553210092",
         "The Scarlet Letter",
         10
        ],
        [
         5,
         "Nina",
         "2070393712",
         "L' Etranger",
         10
        ],
        [
         5,
         "Nina",
         "0451527100",
         "The Communist Manifesto",
         10
        ],
        [
         5,
         "Nina",
         "0064471047",
         "The Lion, the Witch, and the Wardrobe (The Chronicles of Narnia, Book 2)",
         10
        ],
        [
         5,
         "Nina",
         "0142000663",
         "The Grapes of Wrath: John Steinbeck Centennial Edition (1902-2002)",
         10
        ],
        [
         5,
         "Nina",
         "0394713516",
         "Women, Race and Class",
         10
        ],
        [
         5,
         "Nina",
         "0812511816",
         "The Eye of the World (The Wheel of Time, Book 1)",
         10
        ],
        [
         5,
         "Nina",
         "0140445560",
         "The Odyssey",
         10
        ],
        [
         5,
         "Nina",
         "0140444416",
         "The Divine Comedy: Inferno (Penguin Classics)",
         10
        ],
        [
         5,
         "Nina",
         "0060916508",
         "Their Eyes Were Watching God: A Novel",
         10
        ],
        [
         5,
         "Nina",
         "0896086283",
         "Feminism Is for Everybody: Passionate Politics",
         10
        ],
        [
         6,
         "Sam",
         "1400033543",
         "You Shall Know Our Velocity",
         7
        ],
        [
         6,
         "Sam",
         "0394720245",
         "The Power Broker: Robert Moses and the Fall of New York",
         9
        ],
        [
         6,
         "Sam",
         "0809228408",
         "The Web That Has No Weaver : Understanding Chinese Medicine",
         8
        ],
        [
         6,
         "Sam",
         "087348150X",
         "Malcolm X by Any Means Necessary",
         8
        ],
        [
         6,
         "Sam",
         "0394747232",
         "Maus a Survivors Tale: And Here My Trouble Begin",
         9
        ],
        [
         6,
         "Sam",
         "0553212168",
         "The Brothers Karamazov (Barnes & Noble Classics)",
         8
        ],
        [
         6,
         "Sam",
         "0312278586",
         "The Nanny Diaries",
         6
        ],
        [
         6,
         "Sam",
         "067145711X",
         "GREAT BRIDGE : The Epic Story of the Building of the Brooklyn Bridge",
         7
        ],
        [
         6,
         "Sam",
         "0449212602",
         "The Handmaid's Tale",
         8
        ],
        [
         6,
         "Sam",
         "0028610105",
         "How to Cook Everything: Simple Recipes for Great Food",
         5
        ],
        [
         6,
         "Sam",
         "0156006219",
         "The Magician's Assistant",
         7
        ],
        [
         7,
         "Nancy",
         "0156027321",
         "Life of Pi",
         3
        ],
        [
         7,
         "Nancy",
         "1853260622",
         "War and Peace (Wordsworth Classics)",
         10
        ],
        [
         7,
         "Nancy",
         "0064407055",
         "Ella Enchanted (rack)",
         10
        ],
        [
         7,
         "Nancy",
         "0451523369",
         "Frankenstein Or, the Modern Prometheus",
         8
        ],
        [
         7,
         "Nancy",
         "0064407667",
         "The Bad Beginning (A Series of Unfortunate Events, Book 1)",
         8
        ],
        [
         7,
         "Nancy",
         "0451526341",
         "Animal Farm",
         5
        ],
        [
         7,
         "Nancy",
         "2070408507",
         "Le Petit Prince",
         9
        ],
        [
         7,
         "Nancy",
         "0345339681",
         "The Hobbit ",
         3
        ],
        [
         7,
         "Nancy",
         "0345391802",
         "The Hitchhiker's Guide to the Galaxy",
         7
        ],
        [
         7,
         "Nancy",
         "0553213113",
         "Moby-Dick",
         2
        ]
       ],
       "datasetInfos": [],
       "dbfsResultPath": null,
       "isJsonSchema": true,
       "metadata": {},
       "overflow": false,
       "plotOptions": {
        "customPlotOptions": {},
        "displayType": "table",
        "pivotAggregation": null,
        "pivotColumns": null,
        "xColumns": null,
        "yColumns": null
       },
       "removedWidgets": [],
       "schema": [
        {
         "metadata": "{}",
         "name": "user_id",
         "type": "\"long\""
        },
        {
         "metadata": "{}",
         "name": "User",
         "type": "\"string\""
        },
        {
         "metadata": "{}",
         "name": "ISBN",
         "type": "\"string\""
        },
        {
         "metadata": "{}",
         "name": "Book-Title",
         "type": "\"string\""
        },
        {
         "metadata": "{}",
         "name": "book_rating",
         "type": "\"long\""
        }
       ],
       "type": "table"
      }
     },
     "output_type": "display_data"
    },
    {
     "output_type": "display_data",
     "data": {
      "text/html": [
       "<style scoped>\n",
       "  .table-result-container {\n",
       "    max-height: 300px;\n",
       "    overflow: auto;\n",
       "  }\n",
       "  table, th, td {\n",
       "    border: 1px solid black;\n",
       "    border-collapse: collapse;\n",
       "  }\n",
       "  th, td {\n",
       "    padding: 5px;\n",
       "  }\n",
       "  th {\n",
       "    text-align: left;\n",
       "  }\n",
       "</style><div class='table-result-container'><table class='table-result'><thead style='background-color: white'><tr><th>user_id</th><th>isbn</th><th>book_rating</th></tr></thead><tbody><tr><td>8</td><td>1881320189</td><td>7</td></tr><tr><td>8</td><td>0002005018</td><td>5</td></tr><tr><td>8</td><td>0374157065</td><td>0</td></tr><tr><td>8</td><td>0399135782</td><td>0</td></tr><tr><td>8</td><td>0887841740</td><td>5</td></tr><tr><td>8</td><td>0679425608</td><td>0</td></tr><tr><td>8</td><td>1558746218</td><td>0</td></tr><tr><td>8</td><td>0060973129</td><td>0</td></tr><tr><td>8</td><td>0771074670</td><td>0</td></tr><tr><td>8</td><td>0393045218</td><td>0</td></tr><tr><td>8</td><td>0771025661</td><td>0</td></tr><tr><td>8</td><td>080652121X</td><td>0</td></tr><tr><td>8</td><td>0671870432</td><td>0</td></tr><tr><td>8</td><td>074322678X</td><td>5</td></tr><tr><td>8</td><td>1575663937</td><td>6</td></tr><tr><td>8</td><td>1552041778</td><td>5</td></tr><tr><td>8</td><td>0425176428</td><td>0</td></tr><tr><td>8</td><td>1567407781</td><td>6</td></tr><tr><td>9</td><td>0452264464</td><td>6</td></tr><tr><td>9</td><td>0440234743</td><td>0</td></tr><tr><td>9</td><td>0609804618</td><td>0</td></tr><tr><td>10</td><td>1841721522</td><td>0</td></tr><tr><td>10</td><td>8477024456</td><td>6</td></tr><tr><td>12</td><td>1879384493</td><td>10</td></tr><tr><td>14</td><td>0439095026</td><td>5</td></tr><tr><td>14</td><td>0689821166</td><td>6</td></tr><tr><td>14</td><td>0061076031</td><td>5</td></tr><tr><td>14</td><td>0971880107</td><td>0</td></tr><tr><td>16</td><td>0345402871</td><td>9</td></tr><tr><td>16</td><td>0345417623</td><td>0</td></tr><tr><td>17</td><td>0684823802</td><td>0</td></tr><tr><td>17</td><td>0425099148</td><td>7</td></tr><tr><td>17</td><td>0312978383</td><td>0</td></tr><tr><td>17</td><td>0553278398</td><td>0</td></tr><tr><td>17</td><td>0553264990</td><td>5</td></tr><tr><td>17</td><td>0891076182</td><td>3</td></tr><tr><td>17</td><td>0891075275</td><td>6</td></tr><tr><td>19</td><td>0375759778</td><td>7</td></tr><tr><td>20</td><td>0425163091</td><td>0</td></tr><tr><td>22</td><td>3442446937</td><td>0</td></tr><tr><td>22</td><td>3442353866</td><td>0</td></tr><tr><td>22</td><td>3442410665</td><td>0</td></tr><tr><td>22</td><td>3404921038</td><td>7</td></tr><tr><td>23</td><td>0375406328</td><td>0</td></tr><tr><td>26</td><td>0446310786</td><td>10</td></tr><tr><td>26</td><td>0449005615</td><td>9</td></tr><tr><td>32</td><td>038078243X</td><td>0</td></tr><tr><td>32</td><td>055321215X</td><td>0</td></tr><tr><td>32</td><td>0060168013</td><td>8</td></tr><tr><td>36</td><td>067176537X</td><td>0</td></tr><tr><td>38</td><td>8807016354</td><td>0</td></tr><tr><td>38</td><td>8887913056</td><td>0</td></tr><tr><td>39</td><td>0061099686</td><td>0</td></tr><tr><td>39</td><td>0553582909</td><td>8</td></tr><tr><td>39</td><td>0671888587</td><td>7</td></tr><tr><td>42</td><td>0553582747</td><td>7</td></tr><tr><td>44</td><td>0425182908</td><td>0</td></tr><tr><td>44</td><td>0812523873</td><td>0</td></tr><tr><td>44</td><td>042518630X</td><td>0</td></tr><tr><td>44</td><td>0842342702</td><td>0</td></tr><tr><td>44</td><td>0440223571</td><td>8</td></tr><tr><td>51</td><td>0440225701</td><td>9</td></tr><tr><td>53</td><td>0964778319</td><td>0</td></tr><tr><td>53</td><td>0553280333</td><td>0</td></tr><tr><td>53</td><td>0060914068</td><td>3</td></tr><tr><td>53</td><td>0961769947</td><td>0</td></tr><tr><td>53</td><td>0156047624</td><td>10</td></tr><tr><td>53</td><td>0380715899</td><td>9</td></tr><tr><td>53</td><td>0245542957</td><td>6</td></tr><tr><td>56</td><td>0671623249</td><td>7</td></tr><tr><td>56</td><td>0679865691</td><td>9</td></tr><tr><td>56</td><td>0679810307</td><td>0</td></tr><tr><td>64</td><td>2070423204</td><td>7</td></tr><tr><td>67</td><td>0394743741</td><td>7</td></tr><tr><td>67</td><td>0804106304</td><td>0</td></tr><tr><td>67</td><td>0345260317</td><td>0</td></tr><tr><td>67</td><td>042511774X</td><td>0</td></tr><tr><td>68</td><td>1853262404</td><td>0</td></tr><tr><td>69</td><td>0770428827</td><td>0</td></tr><tr><td>69</td><td>1853260053</td><td>8</td></tr><tr><td>69</td><td>0676973655</td><td>3</td></tr><tr><td>69</td><td>0312970242</td><td>0</td></tr><tr><td>69</td><td>0773670637</td><td>0</td></tr><tr><td>69</td><td>0617683993</td><td>6</td></tr><tr><td>70</td><td>1414035004</td><td>10</td></tr><tr><td>73</td><td>0060938412</td><td>5</td></tr><tr><td>75</td><td>0140067477</td><td>0</td></tr><tr><td>75</td><td>0451625889</td><td>0</td></tr><tr><td>75</td><td>0345465083</td><td>0</td></tr><tr><td>75</td><td>1558531025</td><td>5</td></tr><tr><td>77</td><td>0441783589</td><td>0</td></tr><tr><td>78</td><td>0394895894</td><td>8</td></tr><tr><td>79</td><td>1569871213</td><td>0</td></tr><tr><td>81</td><td>0375410538</td><td>5</td></tr><tr><td>82</td><td>0966986105</td><td>10</td></tr><tr><td>83</td><td>087113375X</td><td>7</td></tr><tr><td>85</td><td>0340767936</td><td>5</td></tr><tr><td>85</td><td>0743403843</td><td>0</td></tr><tr><td>86</td><td>0060930365</td><td>4</td></tr><tr><td>87</td><td>0071416331</td><td>8</td></tr></tbody></table></div>"
      ]
     },
     "metadata": {
      "application/vnd.databricks.v1+output": {
       "addedWidgets": {},
       "aggData": [],
       "aggError": "",
       "aggOverflow": false,
       "aggSchema": [],
       "aggSeriesLimitReached": false,
       "aggType": "",
       "arguments": {},
       "columnCustomDisplayInfos": {},
       "data": [
        [
         8,
         "1881320189",
         7
        ],
        [
         8,
         "0002005018",
         5
        ],
        [
         8,
         "0374157065",
         0
        ],
        [
         8,
         "0399135782",
         0
        ],
        [
         8,
         "0887841740",
         5
        ],
        [
         8,
         "0679425608",
         0
        ],
        [
         8,
         "1558746218",
         0
        ],
        [
         8,
         "0060973129",
         0
        ],
        [
         8,
         "0771074670",
         0
        ],
        [
         8,
         "0393045218",
         0
        ],
        [
         8,
         "0771025661",
         0
        ],
        [
         8,
         "080652121X",
         0
        ],
        [
         8,
         "0671870432",
         0
        ],
        [
         8,
         "074322678X",
         5
        ],
        [
         8,
         "1575663937",
         6
        ],
        [
         8,
         "1552041778",
         5
        ],
        [
         8,
         "0425176428",
         0
        ],
        [
         8,
         "1567407781",
         6
        ],
        [
         9,
         "0452264464",
         6
        ],
        [
         9,
         "0440234743",
         0
        ],
        [
         9,
         "0609804618",
         0
        ],
        [
         10,
         "1841721522",
         0
        ],
        [
         10,
         "8477024456",
         6
        ],
        [
         12,
         "1879384493",
         10
        ],
        [
         14,
         "0439095026",
         5
        ],
        [
         14,
         "0689821166",
         6
        ],
        [
         14,
         "0061076031",
         5
        ],
        [
         14,
         "0971880107",
         0
        ],
        [
         16,
         "0345402871",
         9
        ],
        [
         16,
         "0345417623",
         0
        ],
        [
         17,
         "0684823802",
         0
        ],
        [
         17,
         "0425099148",
         7
        ],
        [
         17,
         "0312978383",
         0
        ],
        [
         17,
         "0553278398",
         0
        ],
        [
         17,
         "0553264990",
         5
        ],
        [
         17,
         "0891076182",
         3
        ],
        [
         17,
         "0891075275",
         6
        ],
        [
         19,
         "0375759778",
         7
        ],
        [
         20,
         "0425163091",
         0
        ],
        [
         22,
         "3442446937",
         0
        ],
        [
         22,
         "3442353866",
         0
        ],
        [
         22,
         "3442410665",
         0
        ],
        [
         22,
         "3404921038",
         7
        ],
        [
         23,
         "0375406328",
         0
        ],
        [
         26,
         "0446310786",
         10
        ],
        [
         26,
         "0449005615",
         9
        ],
        [
         32,
         "038078243X",
         0
        ],
        [
         32,
         "055321215X",
         0
        ],
        [
         32,
         "0060168013",
         8
        ],
        [
         36,
         "067176537X",
         0
        ],
        [
         38,
         "8807016354",
         0
        ],
        [
         38,
         "8887913056",
         0
        ],
        [
         39,
         "0061099686",
         0
        ],
        [
         39,
         "0553582909",
         8
        ],
        [
         39,
         "0671888587",
         7
        ],
        [
         42,
         "0553582747",
         7
        ],
        [
         44,
         "0425182908",
         0
        ],
        [
         44,
         "0812523873",
         0
        ],
        [
         44,
         "042518630X",
         0
        ],
        [
         44,
         "0842342702",
         0
        ],
        [
         44,
         "0440223571",
         8
        ],
        [
         51,
         "0440225701",
         9
        ],
        [
         53,
         "0964778319",
         0
        ],
        [
         53,
         "0553280333",
         0
        ],
        [
         53,
         "0060914068",
         3
        ],
        [
         53,
         "0961769947",
         0
        ],
        [
         53,
         "0156047624",
         10
        ],
        [
         53,
         "0380715899",
         9
        ],
        [
         53,
         "0245542957",
         6
        ],
        [
         56,
         "0671623249",
         7
        ],
        [
         56,
         "0679865691",
         9
        ],
        [
         56,
         "0679810307",
         0
        ],
        [
         64,
         "2070423204",
         7
        ],
        [
         67,
         "0394743741",
         7
        ],
        [
         67,
         "0804106304",
         0
        ],
        [
         67,
         "0345260317",
         0
        ],
        [
         67,
         "042511774X",
         0
        ],
        [
         68,
         "1853262404",
         0
        ],
        [
         69,
         "0770428827",
         0
        ],
        [
         69,
         "1853260053",
         8
        ],
        [
         69,
         "0676973655",
         3
        ],
        [
         69,
         "0312970242",
         0
        ],
        [
         69,
         "0773670637",
         0
        ],
        [
         69,
         "0617683993",
         6
        ],
        [
         70,
         "1414035004",
         10
        ],
        [
         73,
         "0060938412",
         5
        ],
        [
         75,
         "0140067477",
         0
        ],
        [
         75,
         "0451625889",
         0
        ],
        [
         75,
         "0345465083",
         0
        ],
        [
         75,
         "1558531025",
         5
        ],
        [
         77,
         "0441783589",
         0
        ],
        [
         78,
         "0394895894",
         8
        ],
        [
         79,
         "1569871213",
         0
        ],
        [
         81,
         "0375410538",
         5
        ],
        [
         82,
         "0966986105",
         10
        ],
        [
         83,
         "087113375X",
         7
        ],
        [
         85,
         "0340767936",
         5
        ],
        [
         85,
         "0743403843",
         0
        ],
        [
         86,
         "0060930365",
         4
        ],
        [
         87,
         "0071416331",
         8
        ]
       ],
       "datasetInfos": [],
       "dbfsResultPath": null,
       "isJsonSchema": true,
       "metadata": {},
       "overflow": false,
       "plotOptions": {
        "customPlotOptions": {},
        "displayType": "table",
        "pivotAggregation": null,
        "pivotColumns": null,
        "xColumns": null,
        "yColumns": null
       },
       "removedWidgets": [],
       "schema": [
        {
         "metadata": "{}",
         "name": "user_id",
         "type": "\"long\""
        },
        {
         "metadata": "{}",
         "name": "isbn",
         "type": "\"string\""
        },
        {
         "metadata": "{}",
         "name": "book_rating",
         "type": "\"long\""
        }
       ],
       "type": "table"
      }
     },
     "output_type": "display_data"
    },
    {
     "output_type": "display_data",
     "data": {
      "text/html": [
       "<style scoped>\n",
       "  .table-result-container {\n",
       "    max-height: 300px;\n",
       "    overflow: auto;\n",
       "  }\n",
       "  table, th, td {\n",
       "    border: 1px solid black;\n",
       "    border-collapse: collapse;\n",
       "  }\n",
       "  th, td {\n",
       "    padding: 5px;\n",
       "  }\n",
       "  th {\n",
       "    text-align: left;\n",
       "  }\n",
       "</style><div class='table-result-container'><table class='table-result'><thead style='background-color: white'><tr><th>user_id</th><th>isbn</th><th>book_rating</th></tr></thead><tbody><tr><td>1</td><td>0451526384</td><td>7</td></tr><tr><td>1</td><td>055323370X</td><td>4</td></tr><tr><td>1</td><td>0451524934</td><td>7</td></tr><tr><td>1</td><td>1853260002</td><td>10</td></tr><tr><td>1</td><td>0446610380</td><td>10</td></tr><tr><td>1</td><td>0441003613</td><td>10</td></tr><tr><td>1</td><td>044100895X</td><td>7</td></tr><tr><td>1</td><td>0446601977</td><td>10</td></tr><tr><td>1</td><td>0446603775</td><td>10</td></tr><tr><td>1</td><td>0140430164</td><td>3</td></tr><tr><td>1</td><td>0380001012</td><td>7</td></tr><tr><td>1</td><td>0140620109</td><td>7</td></tr><tr><td>1</td><td>0671430661</td><td>10</td></tr><tr><td>1</td><td>0345288815</td><td>10</td></tr><tr><td>1</td><td>0345274695</td><td>10</td></tr><tr><td>1</td><td>0451450523</td><td>8</td></tr><tr><td>1</td><td>0553294385</td><td>9</td></tr><tr><td>1</td><td>0345012518</td><td>10</td></tr><tr><td>1</td><td>0486264785</td><td>7</td></tr><tr><td>1</td><td>055321313X</td><td>9</td></tr><tr><td>1</td><td>0441010113</td><td>10</td></tr><tr><td>1</td><td>0586057439</td><td>7</td></tr><tr><td>1</td><td>0590484753</td><td>7</td></tr><tr><td>1</td><td>0345339967</td><td>2</td></tr><tr><td>1</td><td>0446512788</td><td>6</td></tr><tr><td>1</td><td>0441006787</td><td>10</td></tr><tr><td>1</td><td>0441009344</td><td>10</td></tr><tr><td>1</td><td>0380004801</td><td>8</td></tr><tr><td>1</td><td>0441008291</td><td>10</td></tr><tr><td>2</td><td>0441172695</td><td>9</td></tr><tr><td>2</td><td>0553273310</td><td>10</td></tr><tr><td>2</td><td>0689845340</td><td>9</td></tr><tr><td>2</td><td>0441104029</td><td>8</td></tr><tr><td>2</td><td>0441172717</td><td>10</td></tr><tr><td>2</td><td>0345339738</td><td>10</td></tr><tr><td>2</td><td>0553262505</td><td>9</td></tr><tr><td>2</td><td>0345339703</td><td>10</td></tr><tr><td>2</td><td>0446362816</td><td>8</td></tr><tr><td>2</td><td>0441328008</td><td>6</td></tr><tr><td>2</td><td>0441294677</td><td>7</td></tr><tr><td>2</td><td>0345339711</td><td>10</td></tr><tr><td>3</td><td>8449501482</td><td>6</td></tr><tr><td>3</td><td>0385721404</td><td>7</td></tr><tr><td>3</td><td>8420441708</td><td>8</td></tr><tr><td>3</td><td>0451521951</td><td>9</td></tr><tr><td>3</td><td>0140272852</td><td>7</td></tr><tr><td>3</td><td>0553210351</td><td>9</td></tr><tr><td>3</td><td>8420481394</td><td>9</td></tr><tr><td>3</td><td>8466304630</td><td>8</td></tr><tr><td>3</td><td>1853260622</td><td>9</td></tr><tr><td>3</td><td>2714303021</td><td>4</td></tr><tr><td>4</td><td>0789480646</td><td>8</td></tr><tr><td>4</td><td>0345339681</td><td>6</td></tr><tr><td>4</td><td>0553210793</td><td>4</td></tr><tr><td>4</td><td>0596005229</td><td>3</td></tr><tr><td>4</td><td>887641486X</td><td>10</td></tr><tr><td>4</td><td>0618138927</td><td>9</td></tr><tr><td>4</td><td>0446310786</td><td>8</td></tr><tr><td>4</td><td>0807083054</td><td>10</td></tr><tr><td>4</td><td>0060256656</td><td>10</td></tr><tr><td>4</td><td>0449003795</td><td>7</td></tr><tr><td>4</td><td>0684801523</td><td>8</td></tr><tr><td>4</td><td>0590629778</td><td>6</td></tr><tr><td>5</td><td>0553210092</td><td>10</td></tr><tr><td>5</td><td>2070393712</td><td>10</td></tr><tr><td>5</td><td>0451518829</td><td>10</td></tr><tr><td>5</td><td>0140444416</td><td>10</td></tr><tr><td>5</td><td>0812511816</td><td>10</td></tr><tr><td>5</td><td>0896086283</td><td>10</td></tr><tr><td>5</td><td>0394716787</td><td>10</td></tr><tr><td>5</td><td>0452283868</td><td>10</td></tr><tr><td>5</td><td>0060916508</td><td>10</td></tr><tr><td>5</td><td>0451527100</td><td>10</td></tr><tr><td>5</td><td>0394713516</td><td>10</td></tr><tr><td>5</td><td>0064471047</td><td>10</td></tr><tr><td>5</td><td>0140445560</td><td>10</td></tr><tr><td>5</td><td>0142000663</td><td>10</td></tr><tr><td>5</td><td>0553212451</td><td>10</td></tr><tr><td>6</td><td>0394747232</td><td>9</td></tr><tr><td>6</td><td>0809228408</td><td>8</td></tr><tr><td>6</td><td>087348150X</td><td>8</td></tr><tr><td>6</td><td>0394720245</td><td>9</td></tr><tr><td>6</td><td>0312278586</td><td>6</td></tr><tr><td>6</td><td>0553212168</td><td>8</td></tr><tr><td>6</td><td>0449212602</td><td>8</td></tr><tr><td>6</td><td>0028610105</td><td>5</td></tr><tr><td>6</td><td>067145711X</td><td>7</td></tr><tr><td>6</td><td>0156006219</td><td>7</td></tr><tr><td>6</td><td>1400033543</td><td>7</td></tr><tr><td>7</td><td>0345339681</td><td>3</td></tr><tr><td>7</td><td>0064407667</td><td>8</td></tr><tr><td>7</td><td>0345391802</td><td>7</td></tr><tr><td>7</td><td>0451526341</td><td>5</td></tr><tr><td>7</td><td>1853260622</td><td>10</td></tr><tr><td>7</td><td>0064407055</td><td>10</td></tr><tr><td>7</td><td>0451523369</td><td>8</td></tr><tr><td>7</td><td>2070408507</td><td>9</td></tr><tr><td>7</td><td>0553213113</td><td>2</td></tr><tr><td>7</td><td>0156027321</td><td>3</td></tr><tr><td>8</td><td>0679425608</td><td>0</td></tr></tbody></table></div>"
      ]
     },
     "metadata": {
      "application/vnd.databricks.v1+output": {
       "addedWidgets": {},
       "aggData": [],
       "aggError": "",
       "aggOverflow": false,
       "aggSchema": [],
       "aggSeriesLimitReached": false,
       "aggType": "",
       "arguments": {},
       "columnCustomDisplayInfos": {},
       "data": [
        [
         1,
         "0451526384",
         7
        ],
        [
         1,
         "055323370X",
         4
        ],
        [
         1,
         "0451524934",
         7
        ],
        [
         1,
         "1853260002",
         10
        ],
        [
         1,
         "0446610380",
         10
        ],
        [
         1,
         "0441003613",
         10
        ],
        [
         1,
         "044100895X",
         7
        ],
        [
         1,
         "0446601977",
         10
        ],
        [
         1,
         "0446603775",
         10
        ],
        [
         1,
         "0140430164",
         3
        ],
        [
         1,
         "0380001012",
         7
        ],
        [
         1,
         "0140620109",
         7
        ],
        [
         1,
         "0671430661",
         10
        ],
        [
         1,
         "0345288815",
         10
        ],
        [
         1,
         "0345274695",
         10
        ],
        [
         1,
         "0451450523",
         8
        ],
        [
         1,
         "0553294385",
         9
        ],
        [
         1,
         "0345012518",
         10
        ],
        [
         1,
         "0486264785",
         7
        ],
        [
         1,
         "055321313X",
         9
        ],
        [
         1,
         "0441010113",
         10
        ],
        [
         1,
         "0586057439",
         7
        ],
        [
         1,
         "0590484753",
         7
        ],
        [
         1,
         "0345339967",
         2
        ],
        [
         1,
         "0446512788",
         6
        ],
        [
         1,
         "0441006787",
         10
        ],
        [
         1,
         "0441009344",
         10
        ],
        [
         1,
         "0380004801",
         8
        ],
        [
         1,
         "0441008291",
         10
        ],
        [
         2,
         "0441172695",
         9
        ],
        [
         2,
         "0553273310",
         10
        ],
        [
         2,
         "0689845340",
         9
        ],
        [
         2,
         "0441104029",
         8
        ],
        [
         2,
         "0441172717",
         10
        ],
        [
         2,
         "0345339738",
         10
        ],
        [
         2,
         "0553262505",
         9
        ],
        [
         2,
         "0345339703",
         10
        ],
        [
         2,
         "0446362816",
         8
        ],
        [
         2,
         "0441328008",
         6
        ],
        [
         2,
         "0441294677",
         7
        ],
        [
         2,
         "0345339711",
         10
        ],
        [
         3,
         "8449501482",
         6
        ],
        [
         3,
         "0385721404",
         7
        ],
        [
         3,
         "8420441708",
         8
        ],
        [
         3,
         "0451521951",
         9
        ],
        [
         3,
         "0140272852",
         7
        ],
        [
         3,
         "0553210351",
         9
        ],
        [
         3,
         "8420481394",
         9
        ],
        [
         3,
         "8466304630",
         8
        ],
        [
         3,
         "1853260622",
         9
        ],
        [
         3,
         "2714303021",
         4
        ],
        [
         4,
         "0789480646",
         8
        ],
        [
         4,
         "0345339681",
         6
        ],
        [
         4,
         "0553210793",
         4
        ],
        [
         4,
         "0596005229",
         3
        ],
        [
         4,
         "887641486X",
         10
        ],
        [
         4,
         "0618138927",
         9
        ],
        [
         4,
         "0446310786",
         8
        ],
        [
         4,
         "0807083054",
         10
        ],
        [
         4,
         "0060256656",
         10
        ],
        [
         4,
         "0449003795",
         7
        ],
        [
         4,
         "0684801523",
         8
        ],
        [
         4,
         "0590629778",
         6
        ],
        [
         5,
         "0553210092",
         10
        ],
        [
         5,
         "2070393712",
         10
        ],
        [
         5,
         "0451518829",
         10
        ],
        [
         5,
         "0140444416",
         10
        ],
        [
         5,
         "0812511816",
         10
        ],
        [
         5,
         "0896086283",
         10
        ],
        [
         5,
         "0394716787",
         10
        ],
        [
         5,
         "0452283868",
         10
        ],
        [
         5,
         "0060916508",
         10
        ],
        [
         5,
         "0451527100",
         10
        ],
        [
         5,
         "0394713516",
         10
        ],
        [
         5,
         "0064471047",
         10
        ],
        [
         5,
         "0140445560",
         10
        ],
        [
         5,
         "0142000663",
         10
        ],
        [
         5,
         "0553212451",
         10
        ],
        [
         6,
         "0394747232",
         9
        ],
        [
         6,
         "0809228408",
         8
        ],
        [
         6,
         "087348150X",
         8
        ],
        [
         6,
         "0394720245",
         9
        ],
        [
         6,
         "0312278586",
         6
        ],
        [
         6,
         "0553212168",
         8
        ],
        [
         6,
         "0449212602",
         8
        ],
        [
         6,
         "0028610105",
         5
        ],
        [
         6,
         "067145711X",
         7
        ],
        [
         6,
         "0156006219",
         7
        ],
        [
         6,
         "1400033543",
         7
        ],
        [
         7,
         "0345339681",
         3
        ],
        [
         7,
         "0064407667",
         8
        ],
        [
         7,
         "0345391802",
         7
        ],
        [
         7,
         "0451526341",
         5
        ],
        [
         7,
         "1853260622",
         10
        ],
        [
         7,
         "0064407055",
         10
        ],
        [
         7,
         "0451523369",
         8
        ],
        [
         7,
         "2070408507",
         9
        ],
        [
         7,
         "0553213113",
         2
        ],
        [
         7,
         "0156027321",
         3
        ],
        [
         8,
         "0679425608",
         0
        ]
       ],
       "datasetInfos": [],
       "dbfsResultPath": null,
       "isJsonSchema": true,
       "metadata": {},
       "overflow": false,
       "plotOptions": {
        "customPlotOptions": {},
        "displayType": "table",
        "pivotAggregation": null,
        "pivotColumns": null,
        "xColumns": null,
        "yColumns": null
       },
       "removedWidgets": [],
       "schema": [
        {
         "metadata": "{}",
         "name": "user_id",
         "type": "\"long\""
        },
        {
         "metadata": "{}",
         "name": "isbn",
         "type": "\"string\""
        },
        {
         "metadata": "{}",
         "name": "book_rating",
         "type": "\"long\""
        }
       ],
       "type": "table"
      }
     },
     "output_type": "display_data"
    }
   ],
   "source": [
    "# 1\tAditi\n",
    "# 2\tGuillermo\n",
    "# 3\tJose\n",
    "# 4\tMaeve\n",
    "# 5\tNina\n",
    "# 6\tSam\n",
    "# 7 Nancy\n",
    "\n",
    "\n",
    "#i got some of my coworkers to rate books\n",
    "data_team_ratings = spark.table(\"gschneiderproject6.default.data_teams_book_ratings_for_612_final_project\")\n",
    "\n",
    "data_team_ratings = data_team_ratings.withColumnRenamed(\"user-id\", \"user_id\") \\\n",
    "                                     .withColumnRenamed(\"Rating\", \"book_rating\")             \n",
    "\n",
    "display(data_team_ratings.orderBy(data_team_ratings.user_id.asc()).limit(100))                                       \n",
    "\n",
    "#there is a single implicit rating for user 2 and user 7, the rest of the single digit users-ids are empty. i deleted those and replaced with my coworkers for easier user id calling\n",
    "ratings = ratings.filter(ratings.user_id != 2)\n",
    "ratings = ratings.filter(ratings.user_id != 7)\n",
    "\n",
    "display(ratings.orderBy(ratings.user_id.asc()).limit(100))\n",
    "\n",
    "ratings = ratings.unionByName(\n",
    "    data_team_ratings.select(\"user_id\", \"isbn\", \"book_rating\"),\n",
    "    allowMissingColumns=True\n",
    ")\n",
    "\n",
    "display(ratings.orderBy(ratings.user_id.asc()).limit(100))"
   ]
  },
  {
   "cell_type": "markdown",
   "metadata": {
    "application/vnd.databricks.v1+cell": {
     "cellMetadata": {
      "byteLimit": 2048000,
      "rowLimit": 10000
     },
     "inputWidgets": {},
     "nuid": "016adb74-3e42-4059-8e4c-96749d94fd96",
     "showTitle": false,
     "tableResultSettingsMap": {},
     "title": ""
    }
   },
   "source": [
    "### Implicit Data is represented by 0\n",
    "Implicit data are books that were logged and shared through the Book Crossing website, but not rated explicitly 1-10"
   ]
  },
  {
   "cell_type": "code",
   "execution_count": 0,
   "metadata": {
    "application/vnd.databricks.v1+cell": {
     "cellMetadata": {
      "byteLimit": 2048000,
      "rowLimit": 10000
     },
     "inputWidgets": {},
     "nuid": "2c2bcb32-cd74-4b5c-8e4e-57556f3d9002",
     "showTitle": false,
     "tableResultSettingsMap": {},
     "title": ""
    }
   },
   "outputs": [
    {
     "output_type": "display_data",
     "data": {
      "image/png": "[encoded data removed]",
      "text/plain": [
       "<Figure size 1000x600 with 1 Axes>"
      ]
     },
     "metadata": {},
     "output_type": "display_data"
    }
   ],
   "source": [
    "# Group by the book rating and count the occurrences of each rating\n",
    "rating_distribution = ratings.groupBy(\"book_rating\").agg(count(\"book_rating\").alias(\"rating_count\"))\n",
    "# Convert the Spark DataFrame to a Pandas DataFrame for plotting\n",
    "rating_distribution_pd = rating_distribution.orderBy(\"book_rating\").toPandas()\n",
    "\n",
    "# Plotting the bar graph\n",
    "plt.figure(figsize=(10, 6))\n",
    "plt.bar(rating_distribution_pd['book_rating'], rating_distribution_pd['rating_count'], color='skyblue')\n",
    "plt.xlabel('Book Rating')\n",
    "plt.ylabel('Rating Count')\n",
    "plt.title('Distribution of Ratings for All Books')\n",
    "plt.xticks(rotation=45)\n",
    "plt.grid(axis='y')\n",
    "plt.show()"
   ]
  },
  {
   "cell_type": "markdown",
   "metadata": {
    "application/vnd.databricks.v1+cell": {
     "cellMetadata": {
      "byteLimit": 2048000,
      "rowLimit": 10000
     },
     "inputWidgets": {},
     "nuid": "d870db2b-86a7-4a5c-9b59-e25d9de9d486",
     "showTitle": false,
     "tableResultSettingsMap": {},
     "title": ""
    }
   },
   "source": [
    "## Positive Skewing Nonzero responses\n",
    "Pretty big positive skew. It makes sense that most people only read books they like, they probably only go to the effort of logging into a book rating website to log their ratings if they're invested in it. Also, maybe people dont finish bad books, and dont go to effort of rating"
   ]
  },
  {
   "cell_type": "code",
   "execution_count": 0,
   "metadata": {
    "application/vnd.databricks.v1+cell": {
     "cellMetadata": {
      "byteLimit": 2048000,
      "rowLimit": 10000
     },
     "inputWidgets": {},
     "nuid": "aee7e424-7722-47b2-a3c8-b44db03d612e",
     "showTitle": false,
     "tableResultSettingsMap": {},
     "title": ""
    }
   },
   "outputs": [],
   "source": [
    "non_zero_ratings = ratings.filter(ratings.book_rating != 0)"
   ]
  },
  {
   "cell_type": "markdown",
   "metadata": {
    "application/vnd.databricks.v1+cell": {
     "cellMetadata": {
      "byteLimit": 2048000,
      "rowLimit": 10000
     },
     "inputWidgets": {},
     "nuid": "9e13b8ef-c40e-4c52-acea-5afab610e9e3",
     "showTitle": false,
     "tableResultSettingsMap": {},
     "title": ""
    }
   },
   "source": [
    "### Most (Non-zero) Rated and Highest Rated Books"
   ]
  },
  {
   "cell_type": "code",
   "execution_count": 0,
   "metadata": {
    "application/vnd.databricks.v1+cell": {
     "cellMetadata": {
      "byteLimit": 2048000,
      "rowLimit": 10000
     },
     "inputWidgets": {},
     "nuid": "675ca4fb-5a41-4da9-86c5-d71cb641484f",
     "showTitle": false,
     "tableResultSettingsMap": {},
     "title": ""
    }
   },
   "outputs": [
    {
     "output_type": "display_data",
     "data": {
      "text/html": [
       "<style scoped>\n",
       "  .table-result-container {\n",
       "    max-height: 300px;\n",
       "    overflow: auto;\n",
       "  }\n",
       "  table, th, td {\n",
       "    border: 1px solid black;\n",
       "    border-collapse: collapse;\n",
       "  }\n",
       "  th, td {\n",
       "    padding: 5px;\n",
       "  }\n",
       "  th {\n",
       "    text-align: left;\n",
       "  }\n",
       "</style><div class='table-result-container'><table class='table-result'><thead style='background-color: white'><tr><th>isbn</th><th>avg_rating</th><th>book_title</th><th>book_author</th></tr></thead><tbody><tr><td>0375719164</td><td>10.0</td><td>Like Life: Stories</td><td>Lorrie Moore</td></tr><tr><td>0905895622</td><td>10.0</td><td>Tom Adams' Agatha Christie cover story</td><td>Tom Adams</td></tr><tr><td>3491420091</td><td>10.0</td><td>Mein Esel Benjamin.</td><td>Lennart Osbeck</td></tr><tr><td>0452267218</td><td>10.0</td><td>Salem's Lot (The Stephen King collectors edition)</td><td>Stephen King</td></tr><tr><td>0671824295</td><td>10.0</td><td>MEM ANOTHER DAY</td><td>Harold robbins</td></tr><tr><td>0439071631</td><td>10.0</td><td>El visitante (Animorphs)</td><td>K. A. Applegate</td></tr><tr><td>033029623X</td><td>10.0</td><td>Jules and Jim</td><td>Henri Pierre Roche</td></tr><tr><td>0307740439</td><td>10.0</td><td>The Pagemaster (Golden Sound Story)</td><td>Mary Dykstra</td></tr><tr><td>0749385103</td><td>10.0</td><td>Paddy Clarke Ha Ha Ha</td><td>Roddy Doyle</td></tr><tr><td>1850791988</td><td>10.0</td><td>Italian Cooking Tuscan</td><td>Elizabeth Cornish</td></tr><tr><td>0843930314</td><td>10.0</td><td>The Pond</td><td>Simon Lawrence</td></tr><tr><td>1852303832</td><td>10.0</td><td>The Elements of Native American Traditions (The Elements of)</td><td>Arthur Versluis</td></tr><tr><td>0373650256</td><td>10.0</td><td>Greek Tycoon  (The World'S Most Eligible Bachelors) (Worlds Most Eligible Bachelors)</td><td>Suzanne Carey</td></tr><tr><td>0373224974</td><td>10.0</td><td>Mcquaid'S Justice  (The Cowboy Code) (Harlequin Intrigue, 497)</td><td>David Bishop</td></tr><tr><td>1857329554</td><td>10.0</td><td>Victorian Style</td><td>Martin Miller</td></tr><tr><td>3453146069</td><td>10.0</td><td>Mach's gut, und danke f�?¼r den Fisch.</td><td>Douglas Adams</td></tr><tr><td>0070504040</td><td>10.0</td><td>Among Friends: Who We Like, Why We Like Them, and What We Do With Them</td><td>Letty Cottin Pogrebin</td></tr><tr><td>1551667355</td><td>10.0</td><td>The Trade: A Novel</td><td>Shirley Palmer</td></tr><tr><td>0810933519</td><td>10.0</td><td>Andy Goldsworthy: A Collaboration with Nature</td><td>Andrew Goldsworthy</td></tr><tr><td>1578632684</td><td>10.0</td><td>Every Day Tarot: A Choice Centered Book</td><td>Gail Fairfield</td></tr><tr><td>1402508743</td><td>10.0</td><td>The Interrogation</td><td>Thomas H. Cook</td></tr><tr><td>0670884596</td><td>10.0</td><td>Looking for Mary Or, the Blessed Mother and Me</td><td>Beverly Donofrio</td></tr><tr><td>0399146512</td><td>10.0</td><td>Three Complete Novels: Mind Prey, Sudden Prey, Secret Prey</td><td>John Sandford</td></tr><tr><td>0671254723</td><td>10.0</td><td>Kingdom of Summer</td><td>Gillian Bradshaw</td></tr><tr><td>0801564360</td><td>10.0</td><td>The Rocky Horror picture show book</td><td>Bill Henkin</td></tr><tr><td>0152650342</td><td>10.0</td><td>Rabbit Island</td><td>Jorg Steiner</td></tr><tr><td>0198605617</td><td>10.0</td><td>The Oxford Names Companion</td><td>Patrick Hanks</td></tr><tr><td>1569874115</td><td>10.0</td><td>The Secret Garden</td><td>Frances Hodgson Burnett</td></tr><tr><td>0731800613</td><td>10.0</td><td>So Different</td><td>Stirling</td></tr><tr><td>0922233217</td><td>10.0</td><td>Mental Hygiene: Classroom Films 1945-1970</td><td>Ken Smith</td></tr><tr><td>0439344077</td><td>10.0</td><td>Cat in the Crypt (Animal Ark Hauntings, 2)</td><td>Ben M. Baglio</td></tr><tr><td>0345447581</td><td>10.0</td><td>Marque and Reprisal</td><td>ELIZABETH MOON</td></tr><tr><td>0132938200</td><td>10.0</td><td>Exceptional Children in Canada</td><td>Margret Winzer</td></tr><tr><td>039453221X</td><td>10.0</td><td>The Velveteen Rabbit</td><td>Margery Williams Bianco</td></tr><tr><td>0140293108</td><td>10.0</td><td>The new Penguin English dictionary</td><td>R. E Allen</td></tr><tr><td>0312305311</td><td>10.0</td><td>Obsessed (Dr. Peter Zak, 4)</td><td>G. H. Ephron</td></tr><tr><td>0395905591</td><td>10.0</td><td>Horse's Neck</td><td>Pete Townshend</td></tr><tr><td>0971938830</td><td>10.0</td><td>The Authentic Annals of the Early Hebrews</td><td>Wayne Simpson</td></tr><tr><td>051753276X</td><td>10.0</td><td>Moments: The Pulitzer Prize Photographs</td><td>Sheryle Leekley</td></tr><tr><td>0765301253</td><td>10.0</td><td>Dragon and Soldier : The Second Dragonback Adventure (Dragonback)</td><td>Timothy Zahn</td></tr><tr><td>073884411X</td><td>10.0</td><td>The Third Woman</td><td>Eugene Ligotti</td></tr><tr><td>0893012513</td><td>10.0</td><td>Mountain Man: A Novel of Male and Female in the Early American West</td><td>Vardis Fisher</td></tr><tr><td>0690000111</td><td>10.0</td><td>Roget's International Thesaurus (Harper Colophon Books)</td><td>Peter Mark Roget</td></tr><tr><td>1557732027</td><td>10.0</td><td>Princess of Fire</td><td>Shannon Drake</td></tr><tr><td>1400047579</td><td>10.0</td><td>Boogers Are My Beat : More Lies, but Some Actual Journalism</td><td>DAVE BARRY</td></tr><tr><td>0912500867</td><td>10.0</td><td>Defining your Own Success: Breastfeeding After Breast Reduction Surgery</td><td>Diana West</td></tr><tr><td>0307137325</td><td>10.0</td><td>Herbert the timid dragon</td><td>Mercer Mayer</td></tr><tr><td>0373484143</td><td>10.0</td><td>Weddings in White, Three Complete Novels: Unlikely Lover/The Princess Bride/Callaghan's Bride</td><td>Diana Palmer</td></tr><tr><td>1877733113</td><td>10.0</td><td>In God We Trust: But Which One?</td><td>Judith  Hayes</td></tr><tr><td>1576463214</td><td>10.0</td><td>The Story Girl</td><td>Lucy Maud Montgomery</td></tr><tr><td>1929001118</td><td>10.0</td><td>Granta 81: Best of Young British Novelists, 2003</td><td>Ian Jack</td></tr><tr><td>0553108034</td><td>10.0</td><td>A Clash of Kings (A Song of Ice and Fire, Book 2)</td><td>GEORGE R.R. MARTIN</td></tr><tr><td>0553296817</td><td>10.0</td><td>Return of the Spanish (Spanish Bit Saga of the Plains Indians)</td><td>Don Coldsmith</td></tr><tr><td>0670030791</td><td>10.0</td><td>Winston Churchill: A Penguin Life (Penguin Lives)</td><td>John Keegan</td></tr><tr><td>0689848668</td><td>10.0</td><td>Harriet Tubman (Childhood Of Famous Americans)</td><td>Kathleen Kudlinski</td></tr><tr><td>0373870469</td><td>10.0</td><td>Holiday Prayer (Christmas Flash) (Love Inspired)</td><td>Debra Kastner</td></tr><tr><td>1864500549</td><td>10.0</td><td>Lonely Planet Moscow (Moscow, 1st Ed)</td><td>Ryan Ver Berkmoes</td></tr><tr><td>1558171088</td><td>10.0</td><td>Goldilocks</td><td>Ed McBain</td></tr><tr><td>0671628879</td><td>10.0</td><td>About Time</td><td>Jack Finney</td></tr><tr><td>038501189X</td><td>10.0</td><td>The Jerusalem Bible</td><td>Alexander Jones</td></tr><tr><td>0810956446</td><td>10.0</td><td>Portable Pets: Stegasaurus (Portable Dinos)</td><td>Abrams</td></tr><tr><td>0425196836</td><td>10.0</td><td>Beauty in Black (Berkley Sensation)</td><td>Nicole Byrd</td></tr><tr><td>037319692X</td><td>10.0</td><td>Most Eligible Doctor (Silhouette Romance, 1692)</td><td>Karen Rose Smith</td></tr><tr><td>1892597055</td><td>10.0</td><td>The Complete Strangers in Paradise Volume One</td><td>Terry Moore</td></tr><tr><td>0393007707</td><td>10.0</td><td>Group Psychology and the Analysis of the Ego (Norton Library (Paperback))</td><td>Sigmund Freud</td></tr><tr><td>0823046419</td><td>10.0</td><td>Sargent Watercolors: Watercolors (Watson-Guptill Famous Artists)</td><td>Donelson F. Hoopes</td></tr><tr><td>0590425994</td><td>10.0</td><td>Adventures of Ulysses</td><td>Bernard Evslin</td></tr><tr><td>0802151078</td><td>10.0</td><td>The Monk</td><td>M. G. Lewis</td></tr><tr><td>0898220416</td><td>10.0</td><td>Artist's Books: A Critical Anthology and Sourcebook</td><td>Joan Lyons</td></tr><tr><td>0345331052</td><td>10.0</td><td>The Doom That Came to Sarnath</td><td>H. P. Lovecraft</td></tr><tr><td>0312113935</td><td>10.0</td><td>Mankiller: A Chief and Her People</td><td>Wilma Mankiller</td></tr><tr><td>0865475571</td><td>10.0</td><td>Suburban Nation : The Rise of Sprawl and the Decline of the American Dream</td><td>Andres Duany</td></tr><tr><td>1590522095</td><td>10.0</td><td>A Fine Line: By Kathy Herman (Baxter Series, 5)</td><td>Kathy Herman</td></tr><tr><td>0439014085</td><td>10.0</td><td>The Sterkarm Handshake</td><td>Susan Price</td></tr><tr><td>0590085247</td><td>10.0</td><td>Little House In the Big Woods</td><td>Laura Ingalls Wilder</td></tr><tr><td>0345450299</td><td>10.0</td><td>A Breath of Fresh Air (Ballantine Reader's Circle)</td><td>Amulya Malladi</td></tr><tr><td>0030494265</td><td>10.0</td><td>To God alone the glory: A story about Johann Sebastian Bach (Christian heroes)</td><td>Catherine Podojil</td></tr><tr><td>1564588750</td><td>10.0</td><td>A Child's Book of Prayer in Art</td><td>Sister Wendy Beckett</td></tr><tr><td>8817114685</td><td>10.0</td><td>Paura Senza Limite</td><td>Tom Clancy</td></tr><tr><td>0852638957</td><td>10.0</td><td>Copper and Copper Mining (Shire Albums)</td><td>R. L. Atkinson</td></tr><tr><td>1857029593</td><td>10.0</td><td>The Dinosaur Hunters</td><td>Deborah Cadbury</td></tr><tr><td>1401200362</td><td>10.0</td><td>Thundercats: Reclaiming Thundera</td><td>Ford Gilmore</td></tr><tr><td>0821730363</td><td>10.0</td><td>Midnight Angel</td><td>Rochelle Wayne</td></tr><tr><td>031218302X</td><td>10.0</td><td>Red Meat : A Collection of Red Meat Cartoons From the Secret Files of Max Cannon</td><td>Max Cannon</td></tr><tr><td>1591160030</td><td>10.0</td><td>Junko Mizuno'S Cinderella (Junko Mizuno's Cinderella)</td><td>Junko Mizuno</td></tr><tr><td>3442088690</td><td>10.0</td><td>Nur f�?¼r Dich. Gedichte.</td><td>Hans Kruppa</td></tr><tr><td>1892881268</td><td>10.0</td><td>Secrets from a Stargazer's Notebook: Making Astrology Work for You</td><td>Debbie Kempton Smith</td></tr><tr><td>0373241755</td><td>10.0</td><td>Paternity Question (Double Wedding) (Special Edition , No 1175)</td><td>Andrea Edwards</td></tr><tr><td>0446327433</td><td>10.0</td><td>Treating/Overcomin Anorexia (R)</td><td>Steven Levenkron</td></tr><tr><td>0373287542</td><td>10.0</td><td>Beloved Wife (Harlequin Historical, No 154)</td><td>Lynda Trent</td></tr><tr><td>0425103528</td><td>10.0</td><td>Partners in Crime (Agatha Christie Mysteries Collection (Library))</td><td>Agatha Christie</td></tr><tr><td>0964461633</td><td>10.0</td><td>I Raise My Eyes to Say Yes</td><td>Ruth Sienkiewicz-Mercer</td></tr><tr><td>9505112262</td><td>10.0</td><td>Un Tal Lucas</td><td>Julio Cortazar</td></tr><tr><td>0553383051</td><td>10.0</td><td>Fevre Dream</td><td>GEORGE R.R. MARTIN</td></tr><tr><td>0704300001</td><td>10.0</td><td>The Colour Purple</td><td>Alice Walker</td></tr><tr><td>037321720X</td><td>10.0</td><td>Timeless Love (By Request 2'S) (By Request 2's)</td><td>Kasey Michaels</td></tr><tr><td>1401202888</td><td>10.0</td><td>Sleeper - Volume 2 : All False Moves</td><td>Ed Brubaker</td></tr><tr><td>0809448696</td><td>10.0</td><td>Animals in Action (Child's First Library of Learning)</td><td>Time-Life Books</td></tr><tr><td>0825671949</td><td>10.0</td><td>The Madonna Companion: Two Decades of Commentary (The Companion Series)</td><td>Allen Metz</td></tr><tr><td>0756401658</td><td>10.0</td><td>Men Writing Science Fiction As Women</td><td>Mike Resnick</td></tr></tbody></table></div>"
      ]
     },
     "metadata": {
      "application/vnd.databricks.v1+output": {
       "addedWidgets": {},
       "aggData": [],
       "aggError": "",
       "aggOverflow": false,
       "aggSchema": [],
       "aggSeriesLimitReached": false,
       "aggType": "",
       "arguments": {},
       "columnCustomDisplayInfos": {},
       "data": [
        [
         "0375719164",
         10.0,
         "Like Life: Stories",
         "Lorrie Moore"
        ],
        [
         "0905895622",
         10.0,
         "Tom Adams' Agatha Christie cover story",
         "Tom Adams"
        ],
        [
         "3491420091",
         10.0,
         "Mein Esel Benjamin.",
         "Lennart Osbeck"
        ],
        [
         "0452267218",
         10.0,
         "Salem's Lot (The Stephen King collectors edition)",
         "Stephen King"
        ],
        [
         "0671824295",
         10.0,
         "MEM ANOTHER DAY",
         "Harold robbins"
        ],
        [
         "0439071631",
         10.0,
         "El visitante (Animorphs)",
         "K. A. Applegate"
        ],
        [
         "033029623X",
         10.0,
         "Jules and Jim",
         "Henri Pierre Roche"
        ],
        [
         "0307740439",
         10.0,
         "The Pagemaster (Golden Sound Story)",
         "Mary Dykstra"
        ],
        [
         "0749385103",
         10.0,
         "Paddy Clarke Ha Ha Ha",
         "Roddy Doyle"
        ],
        [
         "1850791988",
         10.0,
         "Italian Cooking Tuscan",
         "Elizabeth Cornish"
        ],
        [
         "0843930314",
         10.0,
         "The Pond",
         "Simon Lawrence"
        ],
        [
         "1852303832",
         10.0,
         "The Elements of Native American Traditions (The Elements of)",
         "Arthur Versluis"
        ],
        [
         "0373650256",
         10.0,
         "Greek Tycoon  (The World'S Most Eligible Bachelors) (Worlds Most Eligible Bachelors)",
         "Suzanne Carey"
        ],
        [
         "0373224974",
         10.0,
         "Mcquaid'S Justice  (The Cowboy Code) (Harlequin Intrigue, 497)",
         "David Bishop"
        ],
        [
         "1857329554",
         10.0,
         "Victorian Style",
         "Martin Miller"
        ],
        [
         "3453146069",
         10.0,
         "Mach's gut, und danke f�?¼r den Fisch.",
         "Douglas Adams"
        ],
        [
         "0070504040",
         10.0,
         "Among Friends: Who We Like, Why We Like Them, and What We Do With Them",
         "Letty Cottin Pogrebin"
        ],
        [
         "1551667355",
         10.0,
         "The Trade: A Novel",
         "Shirley Palmer"
        ],
        [
         "0810933519",
         10.0,
         "Andy Goldsworthy: A Collaboration with Nature",
         "Andrew Goldsworthy"
        ],
        [
         "1578632684",
         10.0,
         "Every Day Tarot: A Choice Centered Book",
         "Gail Fairfield"
        ],
        [
         "1402508743",
         10.0,
         "The Interrogation",
         "Thomas H. Cook"
        ],
        [
         "0670884596",
         10.0,
         "Looking for Mary Or, the Blessed Mother and Me",
         "Beverly Donofrio"
        ],
        [
         "0399146512",
         10.0,
         "Three Complete Novels: Mind Prey, Sudden Prey, Secret Prey",
         "John Sandford"
        ],
        [
         "0671254723",
         10.0,
         "Kingdom of Summer",
         "Gillian Bradshaw"
        ],
        [
         "0801564360",
         10.0,
         "The Rocky Horror picture show book",
         "Bill Henkin"
        ],
        [
         "0152650342",
         10.0,
         "Rabbit Island",
         "Jorg Steiner"
        ],
        [
         "0198605617",
         10.0,
         "The Oxford Names Companion",
         "Patrick Hanks"
        ],
        [
         "1569874115",
         10.0,
         "The Secret Garden",
         "Frances Hodgson Burnett"
        ],
        [
         "0731800613",
         10.0,
         "So Different",
         "Stirling"
        ],
        [
         "0922233217",
         10.0,
         "Mental Hygiene: Classroom Films 1945-1970",
         "Ken Smith"
        ],
        [
         "0439344077",
         10.0,
         "Cat in the Crypt (Animal Ark Hauntings, 2)",
         "Ben M. Baglio"
        ],
        [
         "0345447581",
         10.0,
         "Marque and Reprisal",
         "ELIZABETH MOON"
        ],
        [
         "0132938200",
         10.0,
         "Exceptional Children in Canada",
         "Margret Winzer"
        ],
        [
         "039453221X",
         10.0,
         "The Velveteen Rabbit",
         "Margery Williams Bianco"
        ],
        [
         "0140293108",
         10.0,
         "The new Penguin English dictionary",
         "R. E Allen"
        ],
        [
         "0312305311",
         10.0,
         "Obsessed (Dr. Peter Zak, 4)",
         "G. H. Ephron"
        ],
        [
         "0395905591",
         10.0,
         "Horse's Neck",
         "Pete Townshend"
        ],
        [
         "0971938830",
         10.0,
         "The Authentic Annals of the Early Hebrews",
         "Wayne Simpson"
        ],
        [
         "051753276X",
         10.0,
         "Moments: The Pulitzer Prize Photographs",
         "Sheryle Leekley"
        ],
        [
         "0765301253",
         10.0,
         "Dragon and Soldier : The Second Dragonback Adventure (Dragonback)",
         "Timothy Zahn"
        ],
        [
         "073884411X",
         10.0,
         "The Third Woman",
         "Eugene Ligotti"
        ],
        [
         "0893012513",
         10.0,
         "Mountain Man: A Novel of Male and Female in the Early American West",
         "Vardis Fisher"
        ],
        [
         "0690000111",
         10.0,
         "Roget's International Thesaurus (Harper Colophon Books)",
         "Peter Mark Roget"
        ],
        [
         "1557732027",
         10.0,
         "Princess of Fire",
         "Shannon Drake"
        ],
        [
         "1400047579",
         10.0,
         "Boogers Are My Beat : More Lies, but Some Actual Journalism",
         "DAVE BARRY"
        ],
        [
         "0912500867",
         10.0,
         "Defining your Own Success: Breastfeeding After Breast Reduction Surgery",
         "Diana West"
        ],
        [
         "0307137325",
         10.0,
         "Herbert the timid dragon",
         "Mercer Mayer"
        ],
        [
         "0373484143",
         10.0,
         "Weddings in White, Three Complete Novels: Unlikely Lover/The Princess Bride/Callaghan's Bride",
         "Diana Palmer"
        ],
        [
         "1877733113",
         10.0,
         "In God We Trust: But Which One?",
         "Judith  Hayes"
        ],
        [
         "1576463214",
         10.0,
         "The Story Girl",
         "Lucy Maud Montgomery"
        ],
        [
         "1929001118",
         10.0,
         "Granta 81: Best of Young British Novelists, 2003",
         "Ian Jack"
        ],
        [
         "0553108034",
         10.0,
         "A Clash of Kings (A Song of Ice and Fire, Book 2)",
         "GEORGE R.R. MARTIN"
        ],
        [
         "0553296817",
         10.0,
         "Return of the Spanish (Spanish Bit Saga of the Plains Indians)",
         "Don Coldsmith"
        ],
        [
         "0670030791",
         10.0,
         "Winston Churchill: A Penguin Life (Penguin Lives)",
         "John Keegan"
        ],
        [
         "0689848668",
         10.0,
         "Harriet Tubman (Childhood Of Famous Americans)",
         "Kathleen Kudlinski"
        ],
        [
         "0373870469",
         10.0,
         "Holiday Prayer (Christmas Flash) (Love Inspired)",
         "Debra Kastner"
        ],
        [
         "1864500549",
         10.0,
         "Lonely Planet Moscow (Moscow, 1st Ed)",
         "Ryan Ver Berkmoes"
        ],
        [
         "1558171088",
         10.0,
         "Goldilocks",
         "Ed McBain"
        ],
        [
         "0671628879",
         10.0,
         "About Time",
         "Jack Finney"
        ],
        [
         "038501189X",
         10.0,
         "The Jerusalem Bible",
         "Alexander Jones"
        ],
        [
         "0810956446",
         10.0,
         "Portable Pets: Stegasaurus (Portable Dinos)",
         "Abrams"
        ],
        [
         "0425196836",
         10.0,
         "Beauty in Black (Berkley Sensation)",
         "Nicole Byrd"
        ],
        [
         "037319692X",
         10.0,
         "Most Eligible Doctor (Silhouette Romance, 1692)",
         "Karen Rose Smith"
        ],
        [
         "1892597055",
         10.0,
         "The Complete Strangers in Paradise Volume One",
         "Terry Moore"
        ],
        [
         "0393007707",
         10.0,
         "Group Psychology and the Analysis of the Ego (Norton Library (Paperback))",
         "Sigmund Freud"
        ],
        [
         "0823046419",
         10.0,
         "Sargent Watercolors: Watercolors (Watson-Guptill Famous Artists)",
         "Donelson F. Hoopes"
        ],
        [
         "0590425994",
         10.0,
         "Adventures of Ulysses",
         "Bernard Evslin"
        ],
        [
         "0802151078",
         10.0,
         "The Monk",
         "M. G. Lewis"
        ],
        [
         "0898220416",
         10.0,
         "Artist's Books: A Critical Anthology and Sourcebook",
         "Joan Lyons"
        ],
        [
         "0345331052",
         10.0,
         "The Doom That Came to Sarnath",
         "H. P. Lovecraft"
        ],
        [
         "0312113935",
         10.0,
         "Mankiller: A Chief and Her People",
         "Wilma Mankiller"
        ],
        [
         "0865475571",
         10.0,
         "Suburban Nation : The Rise of Sprawl and the Decline of the American Dream",
         "Andres Duany"
        ],
        [
         "1590522095",
         10.0,
         "A Fine Line: By Kathy Herman (Baxter Series, 5)",
         "Kathy Herman"
        ],
        [
         "0439014085",
         10.0,
         "The Sterkarm Handshake",
         "Susan Price"
        ],
        [
         "0590085247",
         10.0,
         "Little House In the Big Woods",
         "Laura Ingalls Wilder"
        ],
        [
         "0345450299",
         10.0,
         "A Breath of Fresh Air (Ballantine Reader's Circle)",
         "Amulya Malladi"
        ],
        [
         "0030494265",
         10.0,
         "To God alone the glory: A story about Johann Sebastian Bach (Christian heroes)",
         "Catherine Podojil"
        ],
        [
         "1564588750",
         10.0,
         "A Child's Book of Prayer in Art",
         "Sister Wendy Beckett"
        ],
        [
         "8817114685",
         10.0,
         "Paura Senza Limite",
         "Tom Clancy"
        ],
        [
         "0852638957",
         10.0,
         "Copper and Copper Mining (Shire Albums)",
         "R. L. Atkinson"
        ],
        [
         "1857029593",
         10.0,
         "The Dinosaur Hunters",
         "Deborah Cadbury"
        ],
        [
         "1401200362",
         10.0,
         "Thundercats: Reclaiming Thundera",
         "Ford Gilmore"
        ],
        [
         "0821730363",
         10.0,
         "Midnight Angel",
         "Rochelle Wayne"
        ],
        [
         "031218302X",
         10.0,
         "Red Meat : A Collection of Red Meat Cartoons From the Secret Files of Max Cannon",
         "Max Cannon"
        ],
        [
         "1591160030",
         10.0,
         "Junko Mizuno'S Cinderella (Junko Mizuno's Cinderella)",
         "Junko Mizuno"
        ],
        [
         "3442088690",
         10.0,
         "Nur f�?¼r Dich. Gedichte.",
         "Hans Kruppa"
        ],
        [
         "1892881268",
         10.0,
         "Secrets from a Stargazer's Notebook: Making Astrology Work for You",
         "Debbie Kempton Smith"
        ],
        [
         "0373241755",
         10.0,
         "Paternity Question (Double Wedding) (Special Edition , No 1175)",
         "Andrea Edwards"
        ],
        [
         "0446327433",
         10.0,
         "Treating/Overcomin Anorexia (R)",
         "Steven Levenkron"
        ],
        [
         "0373287542",
         10.0,
         "Beloved Wife (Harlequin Historical, No 154)",
         "Lynda Trent"
        ],
        [
         "0425103528",
         10.0,
         "Partners in Crime (Agatha Christie Mysteries Collection (Library))",
         "Agatha Christie"
        ],
        [
         "0964461633",
         10.0,
         "I Raise My Eyes to Say Yes",
         "Ruth Sienkiewicz-Mercer"
        ],
        [
         "9505112262",
         10.0,
         "Un Tal Lucas",
         "Julio Cortazar"
        ],
        [
         "0553383051",
         10.0,
         "Fevre Dream",
         "GEORGE R.R. MARTIN"
        ],
        [
         "0704300001",
         10.0,
         "The Colour Purple",
         "Alice Walker"
        ],
        [
         "037321720X",
         10.0,
         "Timeless Love (By Request 2'S) (By Request 2's)",
         "Kasey Michaels"
        ],
        [
         "1401202888",
         10.0,
         "Sleeper - Volume 2 : All False Moves",
         "Ed Brubaker"
        ],
        [
         "0809448696",
         10.0,
         "Animals in Action (Child's First Library of Learning)",
         "Time-Life Books"
        ],
        [
         "0825671949",
         10.0,
         "The Madonna Companion: Two Decades of Commentary (The Companion Series)",
         "Allen Metz"
        ],
        [
         "0756401658",
         10.0,
         "Men Writing Science Fiction As Women",
         "Mike Resnick"
        ]
       ],
       "datasetInfos": [],
       "dbfsResultPath": null,
       "isJsonSchema": true,
       "metadata": {},
       "overflow": false,
       "plotOptions": {
        "customPlotOptions": {},
        "displayType": "table",
        "pivotAggregation": null,
        "pivotColumns": null,
        "xColumns": null,
        "yColumns": null
       },
       "removedWidgets": [],
       "schema": [
        {
         "metadata": "{}",
         "name": "isbn",
         "type": "\"string\""
        },
        {
         "metadata": "{}",
         "name": "avg_rating",
         "type": "\"double\""
        },
        {
         "metadata": "{}",
         "name": "book_title",
         "type": "\"string\""
        },
        {
         "metadata": "{}",
         "name": "book_author",
         "type": "\"string\""
        }
       ],
       "type": "table"
      }
     },
     "output_type": "display_data"
    },
    {
     "output_type": "display_data",
     "data": {
      "text/html": [
       "<style scoped>\n",
       "  .table-result-container {\n",
       "    max-height: 300px;\n",
       "    overflow: auto;\n",
       "  }\n",
       "  table, th, td {\n",
       "    border: 1px solid black;\n",
       "    border-collapse: collapse;\n",
       "  }\n",
       "  th, td {\n",
       "    padding: 5px;\n",
       "  }\n",
       "  th {\n",
       "    text-align: left;\n",
       "  }\n",
       "</style><div class='table-result-container'><table class='table-result'><thead style='background-color: white'><tr><th>isbn</th><th>num_ratings</th><th>book_title</th><th>book_author</th></tr></thead><tbody><tr><td>0316666343</td><td>635</td><td>The Lovely Bones: A Novel</td><td>Alice Sebold</td></tr><tr><td>0971880107</td><td>526</td><td>Wild Animus</td><td>Rich Shapero</td></tr><tr><td>0385504209</td><td>450</td><td>The Da Vinci Code</td><td>Dan Brown</td></tr><tr><td>0312195516</td><td>353</td><td>The Red Tent (Bestselling Backlist)</td><td>Anita Diamant</td></tr><tr><td>0679781587</td><td>302</td><td>null</td><td>null</td></tr><tr><td>0060928336</td><td>292</td><td>Divine Secrets of the Ya-Ya Sisterhood: A Novel</td><td>Rebecca Wells</td></tr><tr><td>059035342X</td><td>285</td><td>Harry Potter and the Sorcerer's Stone (Harry Potter (Paperback))</td><td>J. K. Rowling</td></tr><tr><td>0142001740</td><td>283</td><td>The Secret Life of Bees</td><td>Sue Monk Kidd</td></tr><tr><td>0446672211</td><td>265</td><td>Where the Heart Is (Oprah's Book Club (Paperback))</td><td>Billie Letts</td></tr><tr><td>044023722X</td><td>259</td><td>A Painted House</td><td>John Grisham</td></tr><tr><td>0452282152</td><td>257</td><td>Girl with a Pearl Earring</td><td>Tracy Chevalier</td></tr><tr><td>0671027360</td><td>253</td><td>Angels & Demons</td><td>Dan Brown</td></tr><tr><td>0316601950</td><td>243</td><td>The Pilot's Wife : A Novel</td><td>Anita Shreve</td></tr><tr><td>067976402X</td><td>232</td><td>Snow Falling on Cedars</td><td>David Guterson</td></tr><tr><td>0743418174</td><td>223</td><td>Good in Bed</td><td>Jennifer Weiner</td></tr><tr><td>0316769487</td><td>221</td><td>The Catcher in the Rye</td><td>J.D. Salinger</td></tr><tr><td>0786868716</td><td>220</td><td>The Five People You Meet in Heaven</td><td>Mitch Albom</td></tr><tr><td>0375727345</td><td>212</td><td>House of Sand and Fog</td><td>Andre Dubus III</td></tr><tr><td>0345337662</td><td>208</td><td>Interview with the Vampire</td><td>Anne Rice</td></tr><tr><td>0671021001</td><td>202</td><td>She's Come Undone (Oprah's Book Club)</td><td>Wally Lamb</td></tr><tr><td>0060930535</td><td>201</td><td>The Poisonwood Bible: A Novel</td><td>Barbara Kingsolver</td></tr><tr><td>0312278586</td><td>201</td><td>The Nanny Diaries: A Novel</td><td>Emma McLaughlin</td></tr><tr><td>0156027321</td><td>200</td><td>Life of Pi</td><td>Yann Martel</td></tr><tr><td>0440226430</td><td>198</td><td>Summer Sisters</td><td>Judy Blume</td></tr><tr><td>044021145X</td><td>197</td><td>The Firm</td><td>John Grisham</td></tr><tr><td>0446310786</td><td>196</td><td>To Kill a Mockingbird</td><td>Harper Lee</td></tr><tr><td>043935806X</td><td>189</td><td>Harry Potter and the Order of the Phoenix (Book 5)</td><td>J. K. Rowling</td></tr><tr><td>0671003755</td><td>184</td><td>She's Come Undone (Oprah's Book Club (Paperback))</td><td>Wally Lamb</td></tr><tr><td>0440241073</td><td>183</td><td>The Summons</td><td>John Grisham</td></tr><tr><td>0345417623</td><td>183</td><td>Timeline</td><td>MICHAEL CRICHTON</td></tr><tr><td>0446605239</td><td>182</td><td>The Notebook</td><td>Nicholas Sparks</td></tr><tr><td>0345370775</td><td>182</td><td>Jurassic Park</td><td>Michael Crichton</td></tr><tr><td>0804106304</td><td>178</td><td>The Joy Luck Club</td><td>Amy Tan</td></tr><tr><td>0385484518</td><td>177</td><td>Tuesdays with Morrie: An Old Man, a Young Man, and Life's Greatest Lesson</td><td>MITCH ALBOM</td></tr><tr><td>0440211727</td><td>176</td><td>A Time to Kill</td><td>JOHN GRISHAM</td></tr><tr><td>0439064872</td><td>170</td><td>Harry Potter and the Chamber of Secrets (Book 2)</td><td>J. K. Rowling</td></tr><tr><td>0060976845</td><td>169</td><td>Little Altars Everywhere: A Novel</td><td>Rebecca Wells</td></tr><tr><td>0345361792</td><td>167</td><td>A Prayer for Owen Meany</td><td>John Irving</td></tr><tr><td>0440214041</td><td>165</td><td>The Pelican Brief</td><td>John Grisham</td></tr><tr><td>1400034779</td><td>163</td><td>The No. 1 Ladies' Detective Agency (Today Show Book Club #8)</td><td>Alexander McCall Smith</td></tr><tr><td>0446610038</td><td>162</td><td>1st to Die: A Novel</td><td>James Patterson</td></tr><tr><td>0316284955</td><td>157</td><td>White Oleander : A Novel (Oprah's Book Club)</td><td>Janet Fitch</td></tr><tr><td>0060502258</td><td>155</td><td>The Divine Secrets of the Ya-Ya Sisterhood: A Novel</td><td>Rebecca Wells</td></tr><tr><td>0140293248</td><td>155</td><td>The Girls' Guide to Hunting and Fishing</td><td>Melissa Bank</td></tr><tr><td>0312291639</td><td>155</td><td>The Nanny Diaries: A Novel</td><td>Emma McLaughlin</td></tr><tr><td>0440234743</td><td>153</td><td>The Testament</td><td>John Grisham</td></tr><tr><td>0345342968</td><td>149</td><td>Fahrenheit 451</td><td>RAY BRADBURY</td></tr><tr><td>0345339681</td><td>149</td><td>The Hobbit : The Enchanting Prelude to The Lord of the Rings</td><td>J.R.R. TOLKIEN</td></tr><tr><td>0316776963</td><td>148</td><td>Me Talk Pretty One Day</td><td>David Sedaris</td></tr><tr><td>0060392452</td><td>147</td><td>Stupid White Men ...and Other Sorry Excuses for the State of the Nation!</td><td>Michael Moore</td></tr><tr><td>0385335482</td><td>146</td><td>Confessions of a Shopaholic (Summer Display Opportunity)</td><td>SOPHIE KINSELLA</td></tr><tr><td>0375706771</td><td>145</td><td>Midwives: A Novel</td><td>Chris Bohjalian</td></tr><tr><td>0842329129</td><td>143</td><td>Left Behind: A Novel of the Earth's Last Days (Left Behind No. 1)</td><td>Tim Lahaye</td></tr><tr><td>0060934417</td><td>142</td><td>Bel Canto: A Novel</td><td>Ann Patchett</td></tr><tr><td>0440206154</td><td>141</td><td>Red Dragon</td><td>Thomas Harris</td></tr><tr><td>0060938455</td><td>140</td><td>Fast Food Nation: The Dark Side of the All-American Meal</td><td>Eric Schlosser</td></tr><tr><td>0440220602</td><td>138</td><td>The Chamber</td><td>John Grisham</td></tr><tr><td>0671510053</td><td>138</td><td>SHIPPING NEWS</td><td>Annie Proulx</td></tr><tr><td>0440221471</td><td>138</td><td>The Runaway Jury</td><td>JOHN GRISHAM</td></tr><tr><td>0440236673</td><td>138</td><td>The Brethren</td><td>John Grisham</td></tr><tr><td>0375726403</td><td>134</td><td>Empire Falls</td><td>Richard Russo</td></tr><tr><td>0060987103</td><td>133</td><td>Wicked: The Life and Times of the Wicked Witch of the West</td><td>Gregory Maguire</td></tr><tr><td>0380789035</td><td>132</td><td>American Gods</td><td>Neil Gaiman</td></tr><tr><td>0375725784</td><td>132</td><td>A Heartbreaking Work of Staggering Genius</td><td>Dave Eggers</td></tr><tr><td>0375707972</td><td>131</td><td>The Reader</td><td>Bernhard Schlink</td></tr><tr><td>044651652X</td><td>131</td><td>The Bridges of Madison County</td><td>Robert James Waller</td></tr><tr><td>044022165X</td><td>130</td><td>The Rainmaker</td><td>JOHN GRISHAM</td></tr><tr><td>0345313860</td><td>129</td><td>The Vampire Lestat (Vampire Chronicles, Book II)</td><td>ANNE RICE</td></tr><tr><td>0440213525</td><td>129</td><td>The Client</td><td>John Grisham</td></tr><tr><td>0440222656</td><td>129</td><td>The Horse Whisperer</td><td>Nicholas Evans</td></tr><tr><td>0452282829</td><td>129</td><td>We Were the Mulvaneys</td><td>Joyce Carol Oates</td></tr><tr><td>0684872153</td><td>126</td><td>Angela's Ashes (MMP) : A Memoir</td><td>Frank McCourt</td></tr><tr><td>0060959037</td><td>125</td><td>Prodigal Summer: A Novel</td><td>Barbara Kingsolver</td></tr><tr><td>0061009059</td><td>125</td><td>One for the Money (Stephanie Plum Novels (Paperback))</td><td>Janet Evanovich</td></tr><tr><td>1558743669</td><td>125</td><td>A Child Called \\It\\\": One Child's Courage to Survive\"</td><td>Dave Pelzer</td></tr><tr><td>0439139597</td><td>125</td><td>Harry Potter and the Goblet of Fire (Book 4)</td><td>J. K. Rowling</td></tr><tr><td>0439136350</td><td>125</td><td>Harry Potter and the Prisoner of Azkaban (Book 3)</td><td>J. K. Rowling</td></tr><tr><td>0345443284</td><td>124</td><td>While I Was Gone</td><td>Sue Miller</td></tr><tr><td>0440224764</td><td>124</td><td>The Partner</td><td>John Grisham</td></tr><tr><td>0385492081</td><td>124</td><td>Into Thin Air : A Personal Account of the Mt. Everest Disaster</td><td>JON KRAKAUER</td></tr><tr><td>0440225701</td><td>123</td><td>The Street Lawyer</td><td>JOHN GRISHAM</td></tr><tr><td>0375700757</td><td>123</td><td>Cold Mountain : A Novel</td><td>CHARLES FRAZIER</td></tr><tr><td>0805063897</td><td>122</td><td>Nickel and Dimed: On (Not) Getting By in America</td><td>Barbara Ehrenreich</td></tr><tr><td>014028009X</td><td>121</td><td>Bridget Jones's Diary</td><td>Helen Fielding</td></tr><tr><td>0345353145</td><td>121</td><td>Sphere</td><td>MICHAEL CRICHTON</td></tr><tr><td>0142000205</td><td>121</td><td>Icy Sparks</td><td>Gwyn Hyman Rubio</td></tr><tr><td>0345339703</td><td>120</td><td>The Fellowship of the Ring (The Lord of the Rings, Part 1)</td><td>J.R.R. TOLKIEN</td></tr><tr><td>0312305060</td><td>120</td><td>The Hours: A Novel</td><td>Michael Cunningham</td></tr><tr><td>0316096199</td><td>119</td><td>Lucky : A Memoir</td><td>Alice Sebold</td></tr><tr><td>0446606812</td><td>118</td><td>Message in a Bottle</td><td>Nicholas Sparks</td></tr><tr><td>0743237188</td><td>118</td><td>Fall On Your Knees (Oprah #45)</td><td>Ann-Marie MacDonald</td></tr><tr><td>0385486804</td><td>118</td><td>Into the Wild</td><td>Jon Krakauer</td></tr><tr><td>0439136369</td><td>118</td><td>Harry Potter and the Prisoner of Azkaban (Book 3)</td><td>J. K. Rowling</td></tr><tr><td>0684874350</td><td>117</td><td>ANGELA'S ASHES</td><td>Frank McCourt</td></tr><tr><td>0385722206</td><td>116</td><td>Balzac and the Little Chinese Seamstress : A Novel</td><td>DAI SIJIE</td></tr><tr><td>0439064864</td><td>115</td><td>Harry Potter and the Chamber of Secrets (Book 2)</td><td>J. K. Rowling</td></tr><tr><td>0380789019</td><td>114</td><td>Neverwhere</td><td>Neil Gaiman</td></tr><tr><td>0316569321</td><td>112</td><td>White Oleander : A Novel</td><td>Janet Fitch</td></tr><tr><td>0446608955</td><td>112</td><td>A Walk to Remember</td><td>Nicholas Sparks</td></tr><tr><td>068484477X</td><td>111</td><td>STONES FROM THE RIVER</td><td>Ursula Hegi</td></tr></tbody></table></div>"
      ]
     },
     "metadata": {
      "application/vnd.databricks.v1+output": {
       "addedWidgets": {},
       "aggData": [],
       "aggError": "",
       "aggOverflow": false,
       "aggSchema": [],
       "aggSeriesLimitReached": false,
       "aggType": "",
       "arguments": {},
       "columnCustomDisplayInfos": {},
       "data": [
        [
         "0316666343",
         635,
         "The Lovely Bones: A Novel",
         "Alice Sebold"
        ],
        [
         "0971880107",
         526,
         "Wild Animus",
         "Rich Shapero"
        ],
        [
         "0385504209",
         450,
         "The Da Vinci Code",
         "Dan Brown"
        ],
        [
         "0312195516",
         353,
         "The Red Tent (Bestselling Backlist)",
         "Anita Diamant"
        ],
        [
         "0679781587",
         302,
         null,
         null
        ],
        [
         "0060928336",
         292,
         "Divine Secrets of the Ya-Ya Sisterhood: A Novel",
         "Rebecca Wells"
        ],
        [
         "059035342X",
         285,
         "Harry Potter and the Sorcerer's Stone (Harry Potter (Paperback))",
         "J. K. Rowling"
        ],
        [
         "0142001740",
         283,
         "The Secret Life of Bees",
         "Sue Monk Kidd"
        ],
        [
         "0446672211",
         265,
         "Where the Heart Is (Oprah's Book Club (Paperback))",
         "Billie Letts"
        ],
        [
         "044023722X",
         259,
         "A Painted House",
         "John Grisham"
        ],
        [
         "0452282152",
         257,
         "Girl with a Pearl Earring",
         "Tracy Chevalier"
        ],
        [
         "0671027360",
         253,
         "Angels & Demons",
         "Dan Brown"
        ],
        [
         "0316601950",
         243,
         "The Pilot's Wife : A Novel",
         "Anita Shreve"
        ],
        [
         "067976402X",
         232,
         "Snow Falling on Cedars",
         "David Guterson"
        ],
        [
         "0743418174",
         223,
         "Good in Bed",
         "Jennifer Weiner"
        ],
        [
         "0316769487",
         221,
         "The Catcher in the Rye",
         "J.D. Salinger"
        ],
        [
         "0786868716",
         220,
         "The Five People You Meet in Heaven",
         "Mitch Albom"
        ],
        [
         "0375727345",
         212,
         "House of Sand and Fog",
         "Andre Dubus III"
        ],
        [
         "0345337662",
         208,
         "Interview with the Vampire",
         "Anne Rice"
        ],
        [
         "0671021001",
         202,
         "She's Come Undone (Oprah's Book Club)",
         "Wally Lamb"
        ],
        [
         "0060930535",
         201,
         "The Poisonwood Bible: A Novel",
         "Barbara Kingsolver"
        ],
        [
         "0312278586",
         201,
         "The Nanny Diaries: A Novel",
         "Emma McLaughlin"
        ],
        [
         "0156027321",
         200,
         "Life of Pi",
         "Yann Martel"
        ],
        [
         "0440226430",
         198,
         "Summer Sisters",
         "Judy Blume"
        ],
        [
         "044021145X",
         197,
         "The Firm",
         "John Grisham"
        ],
        [
         "0446310786",
         196,
         "To Kill a Mockingbird",
         "Harper Lee"
        ],
        [
         "043935806X",
         189,
         "Harry Potter and the Order of the Phoenix (Book 5)",
         "J. K. Rowling"
        ],
        [
         "0671003755",
         184,
         "She's Come Undone (Oprah's Book Club (Paperback))",
         "Wally Lamb"
        ],
        [
         "0440241073",
         183,
         "The Summons",
         "John Grisham"
        ],
        [
         "0345417623",
         183,
         "Timeline",
         "MICHAEL CRICHTON"
        ],
        [
         "0446605239",
         182,
         "The Notebook",
         "Nicholas Sparks"
        ],
        [
         "0345370775",
         182,
         "Jurassic Park",
         "Michael Crichton"
        ],
        [
         "0804106304",
         178,
         "The Joy Luck Club",
         "Amy Tan"
        ],
        [
         "0385484518",
         177,
         "Tuesdays with Morrie: An Old Man, a Young Man, and Life's Greatest Lesson",
         "MITCH ALBOM"
        ],
        [
         "0440211727",
         176,
         "A Time to Kill",
         "JOHN GRISHAM"
        ],
        [
         "0439064872",
         170,
         "Harry Potter and the Chamber of Secrets (Book 2)",
         "J. K. Rowling"
        ],
        [
         "0060976845",
         169,
         "Little Altars Everywhere: A Novel",
         "Rebecca Wells"
        ],
        [
         "0345361792",
         167,
         "A Prayer for Owen Meany",
         "John Irving"
        ],
        [
         "0440214041",
         165,
         "The Pelican Brief",
         "John Grisham"
        ],
        [
         "1400034779",
         163,
         "The No. 1 Ladies' Detective Agency (Today Show Book Club #8)",
         "Alexander McCall Smith"
        ],
        [
         "0446610038",
         162,
         "1st to Die: A Novel",
         "James Patterson"
        ],
        [
         "0316284955",
         157,
         "White Oleander : A Novel (Oprah's Book Club)",
         "Janet Fitch"
        ],
        [
         "0060502258",
         155,
         "The Divine Secrets of the Ya-Ya Sisterhood: A Novel",
         "Rebecca Wells"
        ],
        [
         "0140293248",
         155,
         "The Girls' Guide to Hunting and Fishing",
         "Melissa Bank"
        ],
        [
         "0312291639",
         155,
         "The Nanny Diaries: A Novel",
         "Emma McLaughlin"
        ],
        [
         "0440234743",
         153,
         "The Testament",
         "John Grisham"
        ],
        [
         "0345342968",
         149,
         "Fahrenheit 451",
         "RAY BRADBURY"
        ],
        [
         "0345339681",
         149,
         "The Hobbit : The Enchanting Prelude to The Lord of the Rings",
         "J.R.R. TOLKIEN"
        ],
        [
         "0316776963",
         148,
         "Me Talk Pretty One Day",
         "David Sedaris"
        ],
        [
         "0060392452",
         147,
         "Stupid White Men ...and Other Sorry Excuses for the State of the Nation!",
         "Michael Moore"
        ],
        [
         "0385335482",
         146,
         "Confessions of a Shopaholic (Summer Display Opportunity)",
         "SOPHIE KINSELLA"
        ],
        [
         "0375706771",
         145,
         "Midwives: A Novel",
         "Chris Bohjalian"
        ],
        [
         "0842329129",
         143,
         "Left Behind: A Novel of the Earth's Last Days (Left Behind No. 1)",
         "Tim Lahaye"
        ],
        [
         "0060934417",
         142,
         "Bel Canto: A Novel",
         "Ann Patchett"
        ],
        [
         "0440206154",
         141,
         "Red Dragon",
         "Thomas Harris"
        ],
        [
         "0060938455",
         140,
         "Fast Food Nation: The Dark Side of the All-American Meal",
         "Eric Schlosser"
        ],
        [
         "0440220602",
         138,
         "The Chamber",
         "John Grisham"
        ],
        [
         "0671510053",
         138,
         "SHIPPING NEWS",
         "Annie Proulx"
        ],
        [
         "0440221471",
         138,
         "The Runaway Jury",
         "JOHN GRISHAM"
        ],
        [
         "0440236673",
         138,
         "The Brethren",
         "John Grisham"
        ],
        [
         "0375726403",
         134,
         "Empire Falls",
         "Richard Russo"
        ],
        [
         "0060987103",
         133,
         "Wicked: The Life and Times of the Wicked Witch of the West",
         "Gregory Maguire"
        ],
        [
         "0380789035",
         132,
         "American Gods",
         "Neil Gaiman"
        ],
        [
         "0375725784",
         132,
         "A Heartbreaking Work of Staggering Genius",
         "Dave Eggers"
        ],
        [
         "0375707972",
         131,
         "The Reader",
         "Bernhard Schlink"
        ],
        [
         "044651652X",
         131,
         "The Bridges of Madison County",
         "Robert James Waller"
        ],
        [
         "044022165X",
         130,
         "The Rainmaker",
         "JOHN GRISHAM"
        ],
        [
         "0345313860",
         129,
         "The Vampire Lestat (Vampire Chronicles, Book II)",
         "ANNE RICE"
        ],
        [
         "0440213525",
         129,
         "The Client",
         "John Grisham"
        ],
        [
         "0440222656",
         129,
         "The Horse Whisperer",
         "Nicholas Evans"
        ],
        [
         "0452282829",
         129,
         "We Were the Mulvaneys",
         "Joyce Carol Oates"
        ],
        [
         "0684872153",
         126,
         "Angela's Ashes (MMP) : A Memoir",
         "Frank McCourt"
        ],
        [
         "0060959037",
         125,
         "Prodigal Summer: A Novel",
         "Barbara Kingsolver"
        ],
        [
         "0061009059",
         125,
         "One for the Money (Stephanie Plum Novels (Paperback))",
         "Janet Evanovich"
        ],
        [
         "1558743669",
         125,
         "A Child Called \\It\\\": One Child's Courage to Survive\"",
         "Dave Pelzer"
        ],
        [
         "0439139597",
         125,
         "Harry Potter and the Goblet of Fire (Book 4)",
         "J. K. Rowling"
        ],
        [
         "0439136350",
         125,
         "Harry Potter and the Prisoner of Azkaban (Book 3)",
         "J. K. Rowling"
        ],
        [
         "0345443284",
         124,
         "While I Was Gone",
         "Sue Miller"
        ],
        [
         "0440224764",
         124,
         "The Partner",
         "John Grisham"
        ],
        [
         "0385492081",
         124,
         "Into Thin Air : A Personal Account of the Mt. Everest Disaster",
         "JON KRAKAUER"
        ],
        [
         "0440225701",
         123,
         "The Street Lawyer",
         "JOHN GRISHAM"
        ],
        [
         "0375700757",
         123,
         "Cold Mountain : A Novel",
         "CHARLES FRAZIER"
        ],
        [
         "0805063897",
         122,
         "Nickel and Dimed: On (Not) Getting By in America",
         "Barbara Ehrenreich"
        ],
        [
         "014028009X",
         121,
         "Bridget Jones's Diary",
         "Helen Fielding"
        ],
        [
         "0345353145",
         121,
         "Sphere",
         "MICHAEL CRICHTON"
        ],
        [
         "0142000205",
         121,
         "Icy Sparks",
         "Gwyn Hyman Rubio"
        ],
        [
         "0345339703",
         120,
         "The Fellowship of the Ring (The Lord of the Rings, Part 1)",
         "J.R.R. TOLKIEN"
        ],
        [
         "0312305060",
         120,
         "The Hours: A Novel",
         "Michael Cunningham"
        ],
        [
         "0316096199",
         119,
         "Lucky : A Memoir",
         "Alice Sebold"
        ],
        [
         "0446606812",
         118,
         "Message in a Bottle",
         "Nicholas Sparks"
        ],
        [
         "0743237188",
         118,
         "Fall On Your Knees (Oprah #45)",
         "Ann-Marie MacDonald"
        ],
        [
         "0385486804",
         118,
         "Into the Wild",
         "Jon Krakauer"
        ],
        [
         "0439136369",
         118,
         "Harry Potter and the Prisoner of Azkaban (Book 3)",
         "J. K. Rowling"
        ],
        [
         "0684874350",
         117,
         "ANGELA'S ASHES",
         "Frank McCourt"
        ],
        [
         "0385722206",
         116,
         "Balzac and the Little Chinese Seamstress : A Novel",
         "DAI SIJIE"
        ],
        [
         "0439064864",
         115,
         "Harry Potter and the Chamber of Secrets (Book 2)",
         "J. K. Rowling"
        ],
        [
         "0380789019",
         114,
         "Neverwhere",
         "Neil Gaiman"
        ],
        [
         "0316569321",
         112,
         "White Oleander : A Novel",
         "Janet Fitch"
        ],
        [
         "0446608955",
         112,
         "A Walk to Remember",
         "Nicholas Sparks"
        ],
        [
         "068484477X",
         111,
         "STONES FROM THE RIVER",
         "Ursula Hegi"
        ]
       ],
       "datasetInfos": [],
       "dbfsResultPath": null,
       "isJsonSchema": true,
       "metadata": {},
       "overflow": false,
       "plotOptions": {
        "customPlotOptions": {},
        "displayType": "table",
        "pivotAggregation": null,
        "pivotColumns": null,
        "xColumns": null,
        "yColumns": null
       },
       "removedWidgets": [],
       "schema": [
        {
         "metadata": "{}",
         "name": "isbn",
         "type": "\"string\""
        },
        {
         "metadata": "{}",
         "name": "num_ratings",
         "type": "\"long\""
        },
        {
         "metadata": "{}",
         "name": "book_title",
         "type": "\"string\""
        },
        {
         "metadata": "{}",
         "name": "book_author",
         "type": "\"string\""
        }
       ],
       "type": "table"
      }
     },
     "output_type": "display_data"
    },
    {
     "output_type": "display_data",
     "data": {
      "text/html": [
       "<style scoped>\n",
       "  .table-result-container {\n",
       "    max-height: 300px;\n",
       "    overflow: auto;\n",
       "  }\n",
       "  table, th, td {\n",
       "    border: 1px solid black;\n",
       "    border-collapse: collapse;\n",
       "  }\n",
       "  th, td {\n",
       "    padding: 5px;\n",
       "  }\n",
       "  th {\n",
       "    text-align: left;\n",
       "  }\n",
       "</style><div class='table-result-container'><table class='table-result'><thead style='background-color: white'><tr><th>isbn</th><th>avg_rating</th><th>book_title</th><th>book_author</th><th>num_ratings</th></tr></thead><tbody><tr><td>0345339738</td><td>9.41095890410959</td><td>The Return of the King (The Lord of the Rings, Part 3)</td><td>J.R.R. TOLKIEN</td><td>73</td></tr><tr><td>0439139597</td><td>9.232</td><td>Harry Potter and the Goblet of Fire (Book 4)</td><td>J. K. Rowling</td><td>125</td></tr><tr><td>0064400557</td><td>9.166666666666666</td><td>Charlotte's Web (Trophy Newbery)</td><td>E. B. White</td><td>60</td></tr><tr><td>0345339711</td><td>9.160493827160494</td><td>The Two Towers (The Lord of the Rings, Part 2)</td><td>J.R.R. TOLKIEN</td><td>81</td></tr><tr><td>0439136369</td><td>9.11864406779661</td><td>Harry Potter and the Prisoner of Azkaban (Book 3)</td><td>J. K. Rowling</td><td>118</td></tr><tr><td>0439136350</td><td>9.096</td><td>Harry Potter and the Prisoner of Azkaban (Book 3)</td><td>J. K. Rowling</td><td>125</td></tr><tr><td>043935806X</td><td>9.015873015873016</td><td>Harry Potter and the Order of the Phoenix (Book 5)</td><td>J. K. Rowling</td><td>189</td></tr><tr><td>0590353403</td><td>9.00952380952381</td><td>Harry Potter and the Sorcerer's Stone (Book 1)</td><td>J. K. Rowling</td><td>105</td></tr><tr><td>0439139600</td><td>8.94</td><td>Harry Potter and the Goblet of Fire (Book 4)</td><td>J. K. Rowling</td><td>100</td></tr><tr><td>0439064864</td><td>8.939130434782609</td><td>Harry Potter and the Chamber of Secrets (Book 2)</td><td>J. K. Rowling</td><td>115</td></tr><tr><td>059035342X</td><td>8.933333333333334</td><td>Harry Potter and the Sorcerer's Stone (Harry Potter (Paperback))</td><td>J. K. Rowling</td><td>285</td></tr><tr><td>0440498058</td><td>8.931506849315069</td><td>A Wrinkle In Time</td><td>MADELEINE L'ENGLE</td><td>73</td></tr><tr><td>0446310786</td><td>8.918367346938776</td><td>To Kill a Mockingbird</td><td>Harper Lee</td><td>196</td></tr><tr><td>0441172717</td><td>8.907692307692308</td><td>Dune (Remembering Tomorrow)</td><td>Frank Herbert</td><td>65</td></tr><tr><td>055321313X</td><td>8.903846153846153</td><td>Anne of Green Gables (Anne of Green Gables Novels (Paperback))</td><td>L.M. MONTGOMERY</td><td>52</td></tr><tr><td>0812550706</td><td>8.87378640776699</td><td>Ender's Game (Ender Wiggins Saga (Paperback))</td><td>Orson Scott Card</td><td>103</td></tr><tr><td>0345348036</td><td>8.838235294117647</td><td>The Princess Bride: S Morgenstern's Classic Tale of True Love and High Adventure</td><td>WILLIAM GOLDMAN</td><td>68</td></tr><tr><td>0380813815</td><td>8.803571428571429</td><td>Lamb : The Gospel According to Biff, Christ's Childhood Pal</td><td>Christopher Moore</td><td>56</td></tr><tr><td>0439064872</td><td>8.794117647058824</td><td>Harry Potter and the Chamber of Secrets (Book 2)</td><td>J. K. Rowling</td><td>170</td></tr><tr><td>0345339703</td><td>8.783333333333333</td><td>The Fellowship of the Ring (The Lord of the Rings, Part 1)</td><td>J.R.R. TOLKIEN</td><td>120</td></tr><tr><td>0525947647</td><td>8.728813559322035</td><td>Lies and the Lying Liars Who Tell Them: A Fair and Balanced Look at the Right</td><td>Al Franken</td><td>59</td></tr><tr><td>0345339681</td><td>8.724832214765101</td><td>The Hobbit : The Enchanting Prelude to The Lord of the Rings</td><td>J.R.R. TOLKIEN</td><td>149</td></tr><tr><td>0671617028</td><td>8.722222222222221</td><td>The Color Purple</td><td>Alice Walker</td><td>54</td></tr><tr><td>0451524934</td><td>8.717391304347826</td><td>1984</td><td>George Orwell</td><td>92</td></tr><tr><td>0553296981</td><td>8.694444444444445</td><td>Anne Frank: The Diary of a Young Girl</td><td>ANNE FRANK</td><td>72</td></tr><tr><td>0440219078</td><td>8.67032967032967</td><td>The Giver (21st Century Reference)</td><td>LOIS LOWRY</td><td>91</td></tr><tr><td>0440414806</td><td>8.652173913043478</td><td>Holes (Yearling Newbery)</td><td>LOUIS SACHAR</td><td>69</td></tr><tr><td>0142004235</td><td>8.651515151515152</td><td>East of Eden (Oprah's Book Club)</td><td>John Steinbeck</td><td>66</td></tr><tr><td>0345361792</td><td>8.62874251497006</td><td>A Prayer for Owen Meany</td><td>John Irving</td><td>167</td></tr><tr><td>0345342968</td><td>8.610738255033556</td><td>Fahrenheit 451</td><td>RAY BRADBURY</td><td>149</td></tr><tr><td>0440212561</td><td>8.608247422680412</td><td>Outlander</td><td>DIANA GABALDON</td><td>97</td></tr><tr><td>0312265867</td><td>8.607843137254902</td><td>To the Nines: A Stephanie Plum Novel</td><td>Janet Evanovich</td><td>51</td></tr><tr><td>0394820371</td><td>8.6</td><td>The Phantom Tollbooth</td><td>Norton Juster</td><td>50</td></tr><tr><td>0385484518</td><td>8.59322033898305</td><td>Tuesdays with Morrie: An Old Man, a Young Man, and Life's Greatest Lesson</td><td>MITCH ALBOM</td><td>177</td></tr><tr><td>0553274295</td><td>8.592592592592593</td><td>Where the Red Fern Grows</td><td>Wilson Rawls</td><td>54</td></tr><tr><td>0070212570</td><td>8.582278481012658</td><td>Fried Green Tomatoes at the Whistle Stop Cafe</td><td>Fannie Flagg</td><td>79</td></tr><tr><td>0345350499</td><td>8.58108108108108</td><td>The Mists of Avalon</td><td>MARION ZIMMER BRADLEY</td><td>74</td></tr><tr><td>0670894605</td><td>8.55</td><td>The Secret Life of Bees</td><td>Sue Monk Kidd</td><td>60</td></tr><tr><td>0316693006</td><td>8.545454545454545</td><td>Four Blind Mice</td><td>James Patterson</td><td>55</td></tr><tr><td>0449212602</td><td>8.54368932038835</td><td>The Handmaid's Tale</td><td>Margaret Atwood</td><td>103</td></tr><tr><td>1592400876</td><td>8.529411764705882</td><td>Eats, Shoots & Leaves: The Zero Tolerance Approach to Punctuation</td><td>Lynne Truss</td><td>51</td></tr><tr><td>0440998050</td><td>8.522388059701493</td><td>A Wrinkle in Time</td><td>Madeleine L'Engle</td><td>67</td></tr><tr><td>0449005615</td><td>8.513513513513514</td><td>Seabiscuit: An American Legend</td><td>LAURA HILLENBRAND</td><td>111</td></tr><tr><td>0553272535</td><td>8.511627906976743</td><td>Night</td><td>Elie Wiesel</td><td>86</td></tr><tr><td>0553375407</td><td>8.505882352941176</td><td>Ishmael: An Adventure of the Mind and Spirit</td><td>Daniel Quinn</td><td>85</td></tr><tr><td>0451169530</td><td>8.5</td><td>The Stand: Complete and Uncut</td><td>Stephen King</td><td>62</td></tr><tr><td>0142001740</td><td>8.49469964664311</td><td>The Secret Life of Bees</td><td>Sue Monk Kidd</td><td>283</td></tr><tr><td>0060915544</td><td>8.49090909090909</td><td>The Bean Trees</td><td>Barbara Kingsolver</td><td>110</td></tr><tr><td>0671041789</td><td>8.488372093023257</td><td>The Green Mile</td><td>Stephen King</td><td>86</td></tr><tr><td>0743227441</td><td>8.469135802469136</td><td>The Other Boleyn Girl</td><td>Philippa Gregory</td><td>81</td></tr><tr><td>0380002930</td><td>8.458823529411765</td><td>Watership Down</td><td>Richard Adams</td><td>85</td></tr><tr><td>1400031354</td><td>8.453488372093023</td><td>Tears of the Giraffe (No.1 Ladies Detective Agency)</td><td>Alexander McCall Smith</td><td>86</td></tr><tr><td>0451163966</td><td>8.450980392156863</td><td>One Flew Over the Cuckoo's Nest</td><td>Ken Kesey</td><td>51</td></tr><tr><td>0060391626</td><td>8.444444444444445</td><td>I Know This Much Is True (Oprah's Book Club)</td><td>Wally Lamb</td><td>72</td></tr><tr><td>0312990456</td><td>8.440677966101696</td><td>One for the Money (A Stephanie Plum Novel)</td><td>Janet Evanovich</td><td>59</td></tr><tr><td>0440215625</td><td>8.4375</td><td>Dragonfly in Amber</td><td>DIANA GABALDON</td><td>64</td></tr><tr><td>0385504209</td><td>8.435555555555556</td><td>The Da Vinci Code</td><td>Dan Brown</td><td>450</td></tr><tr><td>0671727796</td><td>8.428571428571429</td><td>The Color Purple</td><td>Alice Walker</td><td>63</td></tr><tr><td>0060916508</td><td>8.42</td><td>Their Eyes Were Watching God: A Novel</td><td>Zora Neale Hurston</td><td>50</td></tr><tr><td>0060938455</td><td>8.414285714285715</td><td>Fast Food Nation: The Dark Side of the All-American Meal</td><td>Eric Schlosser</td><td>140</td></tr><tr><td>038549081X</td><td>8.413793103448276</td><td>The Handmaid's Tale : A Novel</td><td>Margaret Atwood</td><td>58</td></tr><tr><td>0842329218</td><td>8.397435897435898</td><td>Tribulation Force: The Continuing Drama of Those Left Behind (Left Behind No. 2)</td><td>Tim LaHaye</td><td>78</td></tr><tr><td>0060175400</td><td>8.397260273972602</td><td>The Poisonwood Bible</td><td>Barbara Kingsolver</td><td>73</td></tr><tr><td>0345391802</td><td>8.397058823529411</td><td>The Hitchhiker's Guide to the Galaxy</td><td>Douglas Adams</td><td>68</td></tr><tr><td>0142001805</td><td>8.383333333333333</td><td>The Eyre Affair: A Novel</td><td>Jasper Fforde</td><td>60</td></tr><tr><td>0679781587</td><td>8.380794701986755</td><td>null</td><td>null</td><td>302</td></tr><tr><td>039592720X</td><td>8.371428571428572</td><td>Interpreter of Maladies</td><td>Jhumpa Lahiri</td><td>70</td></tr><tr><td>0385510438</td><td>8.370967741935484</td><td>The Last Juror</td><td>John Grisham</td><td>62</td></tr><tr><td>0312265859</td><td>8.352941176470589</td><td>Hard Eight : A Stephanie Plum Novel (A Stephanie Plum Novel)</td><td>Janet Evanovich</td><td>51</td></tr><tr><td>0451166892</td><td>8.352941176470589</td><td>The Pillars of the Earth</td><td>Ken Follett</td><td>85</td></tr><tr><td>0345465083</td><td>8.350877192982455</td><td>Seabiscuit</td><td>LAURA HILLENBRAND</td><td>57</td></tr><tr><td>0446532231</td><td>8.337349397590362</td><td>Dude, Where's My Country?</td><td>Michael Moore</td><td>83</td></tr><tr><td>1573225789</td><td>8.329268292682928</td><td>The Color of Water: A Black Man's Tribute to His White Mother</td><td>James McBride</td><td>82</td></tr><tr><td>0312971346</td><td>8.320987654320987</td><td>High Five (A Stephanie Plum Novel)</td><td>Janet Evanovich</td><td>81</td></tr><tr><td>0446520802</td><td>8.320754716981131</td><td>The Notebook</td><td>Nicholas Sparks</td><td>53</td></tr><tr><td>0312422156</td><td>8.320754716981131</td><td>Middlesex: A Novel</td><td>Jeffrey Eugenides</td><td>53</td></tr><tr><td>0440180295</td><td>8.32</td><td>Slaughterhouse Five or the Children's Crusade: A Duty Dance With Death</td><td>Kurt Vonnegut</td><td>75</td></tr><tr><td>0312924585</td><td>8.32</td><td>Silence of the Lambs</td><td>Thomas Harris</td><td>100</td></tr><tr><td>0385730586</td><td>8.309090909090909</td><td>Sisterhood of the Traveling Pants</td><td>ANN BRASHARES</td><td>55</td></tr><tr><td>0684874350</td><td>8.307692307692308</td><td>ANGELA'S ASHES</td><td>Frank McCourt</td><td>117</td></tr><tr><td>068484267X</td><td>8.306818181818182</td><td>Angela's Ashes: A Memoir</td><td>Frank McCourt</td><td>88</td></tr><tr><td>0441790348</td><td>8.306451612903226</td><td>Stranger in a Strange Land (Remembering Tomorrow)</td><td>Robert A. Heinlein</td><td>62</td></tr><tr><td>0142001430</td><td>8.3</td><td>Year of Wonders</td><td>Geraldine Brooks</td><td>80</td></tr><tr><td>0684833395</td><td>8.3</td><td>Catch 22</td><td>Joseph Heller</td><td>50</td></tr><tr><td>0805063897</td><td>8.28688524590164</td><td>Nickel and Dimed: On (Not) Getting By in America</td><td>Barbara Ehrenreich</td><td>122</td></tr><tr><td>0842329242</td><td>8.277777777777779</td><td>Nicolae: The Rise of Antichrist (Left Behind No. 3)</td><td>Tim F. Lahaye</td><td>54</td></tr><tr><td>0060987561</td><td>8.275862068965518</td><td>I Know This Much Is True</td><td>Wally Lamb</td><td>87</td></tr><tr><td>089480829X</td><td>8.274193548387096</td><td>What to Expect When You're Expecting (Revised Edition)</td><td>Arlene Eisenberg</td><td>62</td></tr><tr><td>0553250426</td><td>8.271604938271604</td><td>The Clan of the Cave Bear (Earth's Children (Paperback))</td><td>Jean M. Auel</td><td>81</td></tr><tr><td>0451526341</td><td>8.270588235294118</td><td>Animal Farm</td><td>George Orwell</td><td>85</td></tr><tr><td>0385420161</td><td>8.263157894736842</td><td>Like Water for Chocolate: A Novel in Monthly Installments, With Recipes, Romances, and Home Remedies</td><td>Laura Esquivel</td><td>57</td></tr><tr><td>0786867647</td><td>8.263157894736842</td><td>Lucky Man: A Memoir</td><td>Michael J. Fox</td><td>57</td></tr><tr><td>0553273914</td><td>8.25</td><td>The House of the Spirits</td><td>Isabel Allende</td><td>60</td></tr><tr><td>0060199652</td><td>8.24074074074074</td><td>Prodigal Summer</td><td>Barbara Kingsolver</td><td>54</td></tr><tr><td>0060934417</td><td>8.232394366197184</td><td>Bel Canto: A Novel</td><td>Ann Patchett</td><td>142</td></tr><tr><td>0316777730</td><td>8.229508196721312</td><td>Naked</td><td>David Sedaris</td><td>61</td></tr><tr><td>0380977788</td><td>8.228070175438596</td><td>Coraline</td><td>Neil Gaiman</td><td>57</td></tr><tr><td>0671027344</td><td>8.222222222222221</td><td>The Perks of Being a Wallflower</td><td>Stephen Chbosky</td><td>63</td></tr><tr><td>0671001795</td><td>8.211538461538462</td><td>Two for the Dough</td><td>Janet Evanovich</td><td>104</td></tr><tr><td>0767902521</td><td>8.202127659574469</td><td>A Walk in the Woods: Rediscovering America on the Appalachian Trail (Official Guides to the Appalachian Trail)</td><td>Bill Bryson</td><td>94</td></tr></tbody></table></div>"
      ]
     },
     "metadata": {
      "application/vnd.databricks.v1+output": {
       "addedWidgets": {},
       "aggData": [],
       "aggError": "",
       "aggOverflow": false,
       "aggSchema": [],
       "aggSeriesLimitReached": false,
       "aggType": "",
       "arguments": {},
       "columnCustomDisplayInfos": {},
       "data": [
        [
         "0345339738",
         9.41095890410959,
         "The Return of the King (The Lord of the Rings, Part 3)",
         "J.R.R. TOLKIEN",
         73
        ],
        [
         "0439139597",
         9.232,
         "Harry Potter and the Goblet of Fire (Book 4)",
         "J. K. Rowling",
         125
        ],
        [
         "0064400557",
         9.166666666666666,
         "Charlotte's Web (Trophy Newbery)",
         "E. B. White",
         60
        ],
        [
         "0345339711",
         9.160493827160494,
         "The Two Towers (The Lord of the Rings, Part 2)",
         "J.R.R. TOLKIEN",
         81
        ],
        [
         "0439136369",
         9.11864406779661,
         "Harry Potter and the Prisoner of Azkaban (Book 3)",
         "J. K. Rowling",
         118
        ],
        [
         "0439136350",
         9.096,
         "Harry Potter and the Prisoner of Azkaban (Book 3)",
         "J. K. Rowling",
         125
        ],
        [
         "043935806X",
         9.015873015873016,
         "Harry Potter and the Order of the Phoenix (Book 5)",
         "J. K. Rowling",
         189
        ],
        [
         "0590353403",
         9.00952380952381,
         "Harry Potter and the Sorcerer's Stone (Book 1)",
         "J. K. Rowling",
         105
        ],
        [
         "0439139600",
         8.94,
         "Harry Potter and the Goblet of Fire (Book 4)",
         "J. K. Rowling",
         100
        ],
        [
         "0439064864",
         8.939130434782609,
         "Harry Potter and the Chamber of Secrets (Book 2)",
         "J. K. Rowling",
         115
        ],
        [
         "059035342X",
         8.933333333333334,
         "Harry Potter and the Sorcerer's Stone (Harry Potter (Paperback))",
         "J. K. Rowling",
         285
        ],
        [
         "0440498058",
         8.931506849315069,
         "A Wrinkle In Time",
         "MADELEINE L'ENGLE",
         73
        ],
        [
         "0446310786",
         8.918367346938776,
         "To Kill a Mockingbird",
         "Harper Lee",
         196
        ],
        [
         "0441172717",
         8.907692307692308,
         "Dune (Remembering Tomorrow)",
         "Frank Herbert",
         65
        ],
        [
         "055321313X",
         8.903846153846153,
         "Anne of Green Gables (Anne of Green Gables Novels (Paperback))",
         "L.M. MONTGOMERY",
         52
        ],
        [
         "0812550706",
         8.87378640776699,
         "Ender's Game (Ender Wiggins Saga (Paperback))",
         "Orson Scott Card",
         103
        ],
        [
         "0345348036",
         8.838235294117647,
         "The Princess Bride: S Morgenstern's Classic Tale of True Love and High Adventure",
         "WILLIAM GOLDMAN",
         68
        ],
        [
         "0380813815",
         8.803571428571429,
         "Lamb : The Gospel According to Biff, Christ's Childhood Pal",
         "Christopher Moore",
         56
        ],
        [
         "0439064872",
         8.794117647058824,
         "Harry Potter and the Chamber of Secrets (Book 2)",
         "J. K. Rowling",
         170
        ],
        [
         "0345339703",
         8.783333333333333,
         "The Fellowship of the Ring (The Lord of the Rings, Part 1)",
         "J.R.R. TOLKIEN",
         120
        ],
        [
         "0525947647",
         8.728813559322035,
         "Lies and the Lying Liars Who Tell Them: A Fair and Balanced Look at the Right",
         "Al Franken",
         59
        ],
        [
         "0345339681",
         8.724832214765101,
         "The Hobbit : The Enchanting Prelude to The Lord of the Rings",
         "J.R.R. TOLKIEN",
         149
        ],
        [
         "0671617028",
         8.722222222222221,
         "The Color Purple",
         "Alice Walker",
         54
        ],
        [
         "0451524934",
         8.717391304347826,
         "1984",
         "George Orwell",
         92
        ],
        [
         "0553296981",
         8.694444444444445,
         "Anne Frank: The Diary of a Young Girl",
         "ANNE FRANK",
         72
        ],
        [
         "0440219078",
         8.67032967032967,
         "The Giver (21st Century Reference)",
         "LOIS LOWRY",
         91
        ],
        [
         "0440414806",
         8.652173913043478,
         "Holes (Yearling Newbery)",
         "LOUIS SACHAR",
         69
        ],
        [
         "0142004235",
         8.651515151515152,
         "East of Eden (Oprah's Book Club)",
         "John Steinbeck",
         66
        ],
        [
         "0345361792",
         8.62874251497006,
         "A Prayer for Owen Meany",
         "John Irving",
         167
        ],
        [
         "0345342968",
         8.610738255033556,
         "Fahrenheit 451",
         "RAY BRADBURY",
         149
        ],
        [
         "0440212561",
         8.608247422680412,
         "Outlander",
         "DIANA GABALDON",
         97
        ],
        [
         "0312265867",
         8.607843137254902,
         "To the Nines: A Stephanie Plum Novel",
         "Janet Evanovich",
         51
        ],
        [
         "0394820371",
         8.6,
         "The Phantom Tollbooth",
         "Norton Juster",
         50
        ],
        [
         "0385484518",
         8.59322033898305,
         "Tuesdays with Morrie: An Old Man, a Young Man, and Life's Greatest Lesson",
         "MITCH ALBOM",
         177
        ],
        [
         "0553274295",
         8.592592592592593,
         "Where the Red Fern Grows",
         "Wilson Rawls",
         54
        ],
        [
         "0070212570",
         8.582278481012658,
         "Fried Green Tomatoes at the Whistle Stop Cafe",
         "Fannie Flagg",
         79
        ],
        [
         "0345350499",
         8.58108108108108,
         "The Mists of Avalon",
         "MARION ZIMMER BRADLEY",
         74
        ],
        [
         "0670894605",
         8.55,
         "The Secret Life of Bees",
         "Sue Monk Kidd",
         60
        ],
        [
         "0316693006",
         8.545454545454545,
         "Four Blind Mice",
         "James Patterson",
         55
        ],
        [
         "0449212602",
         8.54368932038835,
         "The Handmaid's Tale",
         "Margaret Atwood",
         103
        ],
        [
         "1592400876",
         8.529411764705882,
         "Eats, Shoots & Leaves: The Zero Tolerance Approach to Punctuation",
         "Lynne Truss",
         51
        ],
        [
         "0440998050",
         8.522388059701493,
         "A Wrinkle in Time",
         "Madeleine L'Engle",
         67
        ],
        [
         "0449005615",
         8.513513513513514,
         "Seabiscuit: An American Legend",
         "LAURA HILLENBRAND",
         111
        ],
        [
         "0553272535",
         8.511627906976743,
         "Night",
         "Elie Wiesel",
         86
        ],
        [
         "0553375407",
         8.505882352941176,
         "Ishmael: An Adventure of the Mind and Spirit",
         "Daniel Quinn",
         85
        ],
        [
         "0451169530",
         8.5,
         "The Stand: Complete and Uncut",
         "Stephen King",
         62
        ],
        [
         "0142001740",
         8.49469964664311,
         "The Secret Life of Bees",
         "Sue Monk Kidd",
         283
        ],
        [
         "0060915544",
         8.49090909090909,
         "The Bean Trees",
         "Barbara Kingsolver",
         110
        ],
        [
         "0671041789",
         8.488372093023257,
         "The Green Mile",
         "Stephen King",
         86
        ],
        [
         "0743227441",
         8.469135802469136,
         "The Other Boleyn Girl",
         "Philippa Gregory",
         81
        ],
        [
         "0380002930",
         8.458823529411765,
         "Watership Down",
         "Richard Adams",
         85
        ],
        [
         "1400031354",
         8.453488372093023,
         "Tears of the Giraffe (No.1 Ladies Detective Agency)",
         "Alexander McCall Smith",
         86
        ],
        [
         "0451163966",
         8.450980392156863,
         "One Flew Over the Cuckoo's Nest",
         "Ken Kesey",
         51
        ],
        [
         "0060391626",
         8.444444444444445,
         "I Know This Much Is True (Oprah's Book Club)",
         "Wally Lamb",
         72
        ],
        [
         "0312990456",
         8.440677966101696,
         "One for the Money (A Stephanie Plum Novel)",
         "Janet Evanovich",
         59
        ],
        [
         "0440215625",
         8.4375,
         "Dragonfly in Amber",
         "DIANA GABALDON",
         64
        ],
        [
         "0385504209",
         8.435555555555556,
         "The Da Vinci Code",
         "Dan Brown",
         450
        ],
        [
         "0671727796",
         8.428571428571429,
         "The Color Purple",
         "Alice Walker",
         63
        ],
        [
         "0060916508",
         8.42,
         "Their Eyes Were Watching God: A Novel",
         "Zora Neale Hurston",
         50
        ],
        [
         "0060938455",
         8.414285714285715,
         "Fast Food Nation: The Dark Side of the All-American Meal",
         "Eric Schlosser",
         140
        ],
        [
         "038549081X",
         8.413793103448276,
         "The Handmaid's Tale : A Novel",
         "Margaret Atwood",
         58
        ],
        [
         "0842329218",
         8.397435897435898,
         "Tribulation Force: The Continuing Drama of Those Left Behind (Left Behind No. 2)",
         "Tim LaHaye",
         78
        ],
        [
         "0060175400",
         8.397260273972602,
         "The Poisonwood Bible",
         "Barbara Kingsolver",
         73
        ],
        [
         "0345391802",
         8.397058823529411,
         "The Hitchhiker's Guide to the Galaxy",
         "Douglas Adams",
         68
        ],
        [
         "0142001805",
         8.383333333333333,
         "The Eyre Affair: A Novel",
         "Jasper Fforde",
         60
        ],
        [
         "0679781587",
         8.380794701986755,
         null,
         null,
         302
        ],
        [
         "039592720X",
         8.371428571428572,
         "Interpreter of Maladies",
         "Jhumpa Lahiri",
         70
        ],
        [
         "0385510438",
         8.370967741935484,
         "The Last Juror",
         "John Grisham",
         62
        ],
        [
         "0312265859",
         8.352941176470589,
         "Hard Eight : A Stephanie Plum Novel (A Stephanie Plum Novel)",
         "Janet Evanovich",
         51
        ],
        [
         "0451166892",
         8.352941176470589,
         "The Pillars of the Earth",
         "Ken Follett",
         85
        ],
        [
         "0345465083",
         8.350877192982455,
         "Seabiscuit",
         "LAURA HILLENBRAND",
         57
        ],
        [
         "0446532231",
         8.337349397590362,
         "Dude, Where's My Country?",
         "Michael Moore",
         83
        ],
        [
         "1573225789",
         8.329268292682928,
         "The Color of Water: A Black Man's Tribute to His White Mother",
         "James McBride",
         82
        ],
        [
         "0312971346",
         8.320987654320987,
         "High Five (A Stephanie Plum Novel)",
         "Janet Evanovich",
         81
        ],
        [
         "0446520802",
         8.320754716981131,
         "The Notebook",
         "Nicholas Sparks",
         53
        ],
        [
         "0312422156",
         8.320754716981131,
         "Middlesex: A Novel",
         "Jeffrey Eugenides",
         53
        ],
        [
         "0440180295",
         8.32,
         "Slaughterhouse Five or the Children's Crusade: A Duty Dance With Death",
         "Kurt Vonnegut",
         75
        ],
        [
         "0312924585",
         8.32,
         "Silence of the Lambs",
         "Thomas Harris",
         100
        ],
        [
         "0385730586",
         8.309090909090909,
         "Sisterhood of the Traveling Pants",
         "ANN BRASHARES",
         55
        ],
        [
         "0684874350",
         8.307692307692308,
         "ANGELA'S ASHES",
         "Frank McCourt",
         117
        ],
        [
         "068484267X",
         8.306818181818182,
         "Angela's Ashes: A Memoir",
         "Frank McCourt",
         88
        ],
        [
         "0441790348",
         8.306451612903226,
         "Stranger in a Strange Land (Remembering Tomorrow)",
         "Robert A. Heinlein",
         62
        ],
        [
         "0142001430",
         8.3,
         "Year of Wonders",
         "Geraldine Brooks",
         80
        ],
        [
         "0684833395",
         8.3,
         "Catch 22",
         "Joseph Heller",
         50
        ],
        [
         "0805063897",
         8.28688524590164,
         "Nickel and Dimed: On (Not) Getting By in America",
         "Barbara Ehrenreich",
         122
        ],
        [
         "0842329242",
         8.277777777777779,
         "Nicolae: The Rise of Antichrist (Left Behind No. 3)",
         "Tim F. Lahaye",
         54
        ],
        [
         "0060987561",
         8.275862068965518,
         "I Know This Much Is True",
         "Wally Lamb",
         87
        ],
        [
         "089480829X",
         8.274193548387096,
         "What to Expect When You're Expecting (Revised Edition)",
         "Arlene Eisenberg",
         62
        ],
        [
         "0553250426",
         8.271604938271604,
         "The Clan of the Cave Bear (Earth's Children (Paperback))",
         "Jean M. Auel",
         81
        ],
        [
         "0451526341",
         8.270588235294118,
         "Animal Farm",
         "George Orwell",
         85
        ],
        [
         "0385420161",
         8.263157894736842,
         "Like Water for Chocolate: A Novel in Monthly Installments, With Recipes, Romances, and Home Remedies",
         "Laura Esquivel",
         57
        ],
        [
         "0786867647",
         8.263157894736842,
         "Lucky Man: A Memoir",
         "Michael J. Fox",
         57
        ],
        [
         "0553273914",
         8.25,
         "The House of the Spirits",
         "Isabel Allende",
         60
        ],
        [
         "0060199652",
         8.24074074074074,
         "Prodigal Summer",
         "Barbara Kingsolver",
         54
        ],
        [
         "0060934417",
         8.232394366197184,
         "Bel Canto: A Novel",
         "Ann Patchett",
         142
        ],
        [
         "0316777730",
         8.229508196721312,
         "Naked",
         "David Sedaris",
         61
        ],
        [
         "0380977788",
         8.228070175438596,
         "Coraline",
         "Neil Gaiman",
         57
        ],
        [
         "0671027344",
         8.222222222222221,
         "The Perks of Being a Wallflower",
         "Stephen Chbosky",
         63
        ],
        [
         "0671001795",
         8.211538461538462,
         "Two for the Dough",
         "Janet Evanovich",
         104
        ],
        [
         "0767902521",
         8.202127659574469,
         "A Walk in the Woods: Rediscovering America on the Appalachian Trail (Official Guides to the Appalachian Trail)",
         "Bill Bryson",
         94
        ]
       ],
       "datasetInfos": [],
       "dbfsResultPath": null,
       "isJsonSchema": true,
       "metadata": {},
       "overflow": false,
       "plotOptions": {
        "customPlotOptions": {},
        "displayType": "table",
        "pivotAggregation": null,
        "pivotColumns": null,
        "xColumns": null,
        "yColumns": null
       },
       "removedWidgets": [],
       "schema": [
        {
         "metadata": "{}",
         "name": "isbn",
         "type": "\"string\""
        },
        {
         "metadata": "{}",
         "name": "avg_rating",
         "type": "\"double\""
        },
        {
         "metadata": "{}",
         "name": "book_title",
         "type": "\"string\""
        },
        {
         "metadata": "{}",
         "name": "book_author",
         "type": "\"string\""
        },
        {
         "metadata": "{}",
         "name": "num_ratings",
         "type": "\"long\""
        }
       ],
       "type": "table"
      }
     },
     "output_type": "display_data"
    }
   ],
   "source": [
    "from pyspark.sql.functions import avg\n",
    "\n",
    "avg_ratings = non_zero_ratings.groupBy(\"isbn\").agg(avg(\"book_rating\").alias(\"avg_rating\"))\n",
    "avg_ratings = avg_ratings.join(books.select(\"isbn\", \"book_title\", \"book_author\"), on=\"isbn\", how=\"left\")\n",
    "display(avg_ratings.orderBy(avg_ratings[\"avg_rating\"].desc()).limit(100))\n",
    "\n",
    "from pyspark.sql.functions import count\n",
    "\n",
    "# Most rated books\n",
    "most_rated_books = non_zero_ratings.groupBy(\"isbn\").agg(count(\"book_rating\").alias(\"num_ratings\"))\n",
    "most_rated_books = most_rated_books.join(books.select(\"isbn\", \"book_title\", \"book_author\"), on=\"isbn\", how=\"left\")\n",
    "display(most_rated_books.orderBy(most_rated_books[\"num_ratings\"].desc()).limit(100))\n",
    "\n",
    "# Highest rated books (with at least 50 ratings)\n",
    "highest_rated_books = avg_ratings.join(most_rated_books.select(\"isbn\", \"num_ratings\"), on=\"isbn\", how=\"inner\")\n",
    "highest_rated_books = highest_rated_books.filter(highest_rated_books[\"num_ratings\"] >= 50)\n",
    "display(highest_rated_books.orderBy(highest_rated_books[\"avg_rating\"].desc()).limit(100))\n",
    "\n",
    "#display(most_rated_books.filter(most_rated_books.book_title.contains(\"Life of Pi\")).orderBy(most_rated_books[\"count\"].desc()))"
   ]
  },
  {
   "cell_type": "code",
   "execution_count": 0,
   "metadata": {
    "application/vnd.databricks.v1+cell": {
     "cellMetadata": {
      "byteLimit": 2048000,
      "rowLimit": 10000
     },
     "inputWidgets": {},
     "nuid": "72ddeaa0-6565-4c0b-8dcc-8c96547500bf",
     "showTitle": false,
     "tableResultSettingsMap": {},
     "title": ""
    }
   },
   "outputs": [
    {
     "output_type": "display_data",
     "data": {
      "image/png": "[encoded data removed]",
      "text/plain": [
       "<Figure size 1000x600 with 1 Axes>"
      ]
     },
     "metadata": {},
     "output_type": "display_data"
    }
   ],
   "source": [
    "# Group by the book rating and count the occurrences of each rating\n",
    "non_zero_rating_distribution = non_zero_ratings.groupBy(\"book_rating\").agg(count(\"book_rating\").alias(\"rating_count\"))\n",
    "# Convert the Spark DataFrame to a Pandas DataFrame for plotting\n",
    "non_zero_rating_distribution_pd = non_zero_rating_distribution.orderBy(\"book_rating\").toPandas()\n",
    "\n",
    "# Plotting the bar graph\n",
    "plt.figure(figsize=(10, 6))\n",
    "plt.bar(non_zero_rating_distribution_pd['book_rating'], non_zero_rating_distribution_pd['rating_count'], color='skyblue')\n",
    "plt.xlabel('Book Rating')\n",
    "plt.ylabel('Rating Count')\n",
    "plt.title('Distribution of Ratings for All Books')\n",
    "plt.xticks(rotation=45)\n",
    "plt.grid(axis='y')\n",
    "plt.show()"
   ]
  },
  {
   "cell_type": "markdown",
   "metadata": {
    "application/vnd.databricks.v1+cell": {
     "cellMetadata": {
      "byteLimit": 2048000,
      "rowLimit": 10000
     },
     "inputWidgets": {},
     "nuid": "485b16cc-b698-4619-b829-fb91dc8dfd44",
     "showTitle": false,
     "tableResultSettingsMap": {},
     "title": ""
    }
   },
   "source": [
    "### There are lots of users who only rated a single book"
   ]
  },
  {
   "cell_type": "code",
   "execution_count": 0,
   "metadata": {
    "application/vnd.databricks.v1+cell": {
     "cellMetadata": {
      "byteLimit": 2048000,
      "rowLimit": 10000
     },
     "inputWidgets": {},
     "nuid": "ae34ce9f-94e0-4a88-a631-bca72a419b1d",
     "showTitle": false,
     "tableResultSettingsMap": {},
     "title": ""
    }
   },
   "outputs": [],
   "source": [
    "#ratings per user\n",
    "ratings_per_user = non_zero_ratings.groupBy(\"user_id\").agg(count(\"book_rating\").alias(\"user_num_ratings\"))\n",
    "user_count_distribution = ratings_per_user.groupBy(\"user_num_ratings\").agg(count(\"user_id\").alias(\"user_count\"))"
   ]
  },
  {
   "cell_type": "code",
   "execution_count": 0,
   "metadata": {
    "application/vnd.databricks.v1+cell": {
     "cellMetadata": {
      "byteLimit": 2048000,
      "rowLimit": 10000
     },
     "inputWidgets": {},
     "nuid": "89ef6226-f695-4632-a408-84ac930fe5ba",
     "showTitle": false,
     "tableResultSettingsMap": {},
     "title": ""
    }
   },
   "outputs": [
    {
     "output_type": "display_data",
     "data": {
      "image/png": "[encoded data removed]",
      "text/plain": [
       "<Figure size 1000x600 with 1 Axes>"
      ]
     },
     "metadata": {},
     "output_type": "display_data"
    }
   ],
   "source": [
    "# Convert the Spark DataFrame to a Pandas DataFrame for plotting\n",
    "count_distribution_pd = user_count_distribution.orderBy(\"user_num_ratings\").toPandas()\n",
    "\n",
    "# Plotting the bar graph\n",
    "plt.figure(figsize=(10, 6))\n",
    "plt.bar(count_distribution_pd['user_num_ratings'], count_distribution_pd['user_count'], color='skyblue')\n",
    "plt.xlabel('Number of Ratings')\n",
    "plt.ylabel('User Count')\n",
    "plt.title('Distribution of Number of Ratings per User')\n",
    "plt.xticks(rotation=45)\n",
    "plt.grid(axis='y')\n",
    "plt.xlim(0, 25)\n",
    "\n",
    "# Display the plot\n",
    "plt.show()\n",
    "\n"
   ]
  },
  {
   "cell_type": "markdown",
   "metadata": {
    "application/vnd.databricks.v1+cell": {
     "cellMetadata": {
      "byteLimit": 2048000,
      "rowLimit": 10000
     },
     "inputWidgets": {},
     "nuid": "61021337-c9eb-47f4-839a-56d9948ee716",
     "showTitle": false,
     "tableResultSettingsMap": {},
     "title": ""
    }
   },
   "source": [
    "### There are lots of Books with just a single rating\n",
    "The way this dataset is set up, is that each edition gets its own ISBN number, so ratings are attached to editions and not the book itself, which makes it much more difficult for less popular books, or books with more editions to have true aggregate ratings. If this was a Data Engineering course, i would spent alot more time fixing this issue, and making sure the book ratings are added together. Titles also seem to change between editions and between countries releases and if its part of a Anthology or Series? It seems difficult. For this project, i was content to just filter out books with low ratings."
   ]
  },
  {
   "cell_type": "code",
   "execution_count": 0,
   "metadata": {
    "application/vnd.databricks.v1+cell": {
     "cellMetadata": {
      "byteLimit": 2048000,
      "rowLimit": 10000
     },
     "inputWidgets": {},
     "nuid": "620b22b8-d4a2-4bb3-ac91-119e57d910cb",
     "showTitle": false,
     "tableResultSettingsMap": {},
     "title": ""
    }
   },
   "outputs": [],
   "source": [
    "#ratings per book\n",
    "ratings_per_book = non_zero_ratings.groupBy(\"isbn\").agg(count(\"book_rating\").alias(\"book_num_ratings\"))\n",
    "book_count_distribution = ratings_per_book.groupBy(\"book_num_ratings\").agg(count(\"isbn\").alias(\"book_count\"))"
   ]
  },
  {
   "cell_type": "code",
   "execution_count": 0,
   "metadata": {
    "application/vnd.databricks.v1+cell": {
     "cellMetadata": {
      "byteLimit": 2048000,
      "rowLimit": 10000
     },
     "inputWidgets": {},
     "nuid": "c748e9d7-d3f6-47e9-8ff5-57a0eca13c52",
     "showTitle": false,
     "tableResultSettingsMap": {},
     "title": ""
    }
   },
   "outputs": [
    {
     "output_type": "display_data",
     "data": {
      "image/png": "[encoded data removed]",
      "text/plain": [
       "<Figure size 1000x600 with 1 Axes>"
      ]
     },
     "metadata": {},
     "output_type": "display_data"
    }
   ],
   "source": [
    "# Convert the Spark DataFrame to a Pandas DataFrame for plotting\n",
    "book_count_distribution_pd = book_count_distribution.orderBy(\"book_num_ratings\").toPandas()\n",
    "\n",
    "# Plotting the bar graph\n",
    "plt.figure(figsize=(10, 6))\n",
    "plt.bar(book_count_distribution_pd['book_num_ratings'], book_count_distribution_pd['book_count'], color='skyblue')\n",
    "plt.xlabel('Number of Ratings')\n",
    "plt.ylabel('User Count')\n",
    "plt.title('Distribution of Number of Ratings per User')\n",
    "plt.xticks(rotation=45)\n",
    "plt.grid(axis='y')\n",
    "plt.xlim(0, 25)\n",
    "\n",
    "# Display the plot\n",
    "plt.show()\n"
   ]
  },
  {
   "cell_type": "markdown",
   "metadata": {
    "application/vnd.databricks.v1+cell": {
     "cellMetadata": {
      "byteLimit": 2048000,
      "rowLimit": 10000
     },
     "inputWidgets": {},
     "nuid": "6d56310e-ae39-4dd8-8863-b708083a9b58",
     "showTitle": false,
     "tableResultSettingsMap": {},
     "title": ""
    }
   },
   "source": []
  },
  {
   "cell_type": "markdown",
   "metadata": {
    "application/vnd.databricks.v1+cell": {
     "cellMetadata": {},
     "inputWidgets": {},
     "nuid": "a53c6e95-80ac-400e-87eb-1cc781c54ad5",
     "showTitle": false,
     "tableResultSettingsMap": {},
     "title": ""
    }
   },
   "source": [
    "#Filtering out Books and Users\n",
    "I filtered out users that had rated less than 4 books, and similarly books with less than 4 ratings.e "
   ]
  },
  {
   "cell_type": "code",
   "execution_count": 0,
   "metadata": {
    "application/vnd.databricks.v1+cell": {
     "cellMetadata": {
      "byteLimit": 2048000,
      "rowLimit": 10000
     },
     "inputWidgets": {},
     "nuid": "7e5c72a3-8c14-4376-9380-8e73630529f1",
     "showTitle": false,
     "tableResultSettingsMap": {},
     "title": ""
    }
   },
   "outputs": [],
   "source": [
    "# Filter books with at least n ratings\n",
    "book_counts = non_zero_ratings.groupBy(\"isbn\").agg(count(\"book_rating\").alias(\"book_num_ratings\"))\n",
    "popular_books = book_counts.filter(\"book_num_ratings >= 4\").select(\"isbn\")\n",
    "\n",
    "# Filter users with at least n ratings\n",
    "user_counts = non_zero_ratings.groupBy(\"user_id\").agg(count(\"book_rating\").alias(\"user_num_ratings\"))\n",
    "active_users = user_counts.filter(\"user_num_ratings >= 4\").select(\"user_id\")\n",
    "\n",
    "\n",
    "\n",
    "# Filter the original DataFrame\n",
    "filtered_non_zero_ratings = non_zero_ratings.join(active_users, \"user_id\").join(popular_books, \"isbn\")\n"
   ]
  },
  {
   "cell_type": "markdown",
   "metadata": {
    "application/vnd.databricks.v1+cell": {
     "cellMetadata": {
      "byteLimit": 2048000,
      "rowLimit": 10000
     },
     "inputWidgets": {},
     "nuid": "6f08f413-3db4-4689-a516-e01d5c4d3d71",
     "showTitle": false,
     "tableResultSettingsMap": {},
     "title": ""
    }
   },
   "source": [
    "### Normalizing nonzero ratings, and user/book bias\n",
    "Global mean mean centering around 0 and remove user and book bias. New Rating = Book rating - user_bias - book_bias - global mean."
   ]
  },
  {
   "cell_type": "code",
   "execution_count": 0,
   "metadata": {
    "application/vnd.databricks.v1+cell": {
     "cellMetadata": {
      "byteLimit": 2048000,
      "rowLimit": 10000
     },
     "inputWidgets": {},
     "nuid": "e02d6d0b-1e3a-4d89-a18e-896dea00a9ec",
     "showTitle": false,
     "tableResultSettingsMap": {},
     "title": ""
    }
   },
   "outputs": [
    {
     "output_type": "display_data",
     "data": {
      "text/html": [
       "<style scoped>\n",
       "  .table-result-container {\n",
       "    max-height: 300px;\n",
       "    overflow: auto;\n",
       "  }\n",
       "  table, th, td {\n",
       "    border: 1px solid black;\n",
       "    border-collapse: collapse;\n",
       "  }\n",
       "  th, td {\n",
       "    padding: 5px;\n",
       "  }\n",
       "  th {\n",
       "    text-align: left;\n",
       "  }\n",
       "</style><div class='table-result-container'><table class='table-result'><thead style='background-color: white'><tr><th>user_id</th><th>isbn</th><th>book_rating</th><th>debiased_rating</th></tr></thead><tbody><tr><td>195770</td><td>0679745327</td><td>7</td><td>2.5724810821450443</td></tr><tr><td>27193</td><td>0679449434</td><td>5</td><td>-0.40450304483908184</td></tr><tr><td>153662</td><td>0515090654</td><td>10</td><td>1.3634818892475487</td></tr><tr><td>194600</td><td>0671042556</td><td>8</td><td>0.3372175592601625</td></tr><tr><td>278390</td><td>0375409440</td><td>8</td><td>1.917719177383141</td></tr><tr><td>55548</td><td>1884822282</td><td>10</td><td>-1.1007993411353798</td></tr><tr><td>30487</td><td>0385473117</td><td>8</td><td>1.984883356487618</td></tr><tr><td>194287</td><td>0380898187</td><td>10</td><td>0.9275230989517667</td></tr><tr><td>137688</td><td>0877017883</td><td>10</td><td>0.5891435009038055</td></tr><tr><td>234597</td><td>0786869011</td><td>8</td><td>-1.9406141559501933</td></tr></tbody></table></div>"
      ]
     },
     "metadata": {
      "application/vnd.databricks.v1+output": {
       "addedWidgets": {},
       "aggData": [],
       "aggError": "",
       "aggOverflow": false,
       "aggSchema": [],
       "aggSeriesLimitReached": false,
       "aggType": "",
       "arguments": {},
       "columnCustomDisplayInfos": {},
       "data": [
        [
         195770,
         "0679745327",
         7,
         2.5724810821450443
        ],
        [
         27193,
         "0679449434",
         5,
         -0.40450304483908184
        ],
        [
         153662,
         "0515090654",
         10,
         1.3634818892475487
        ],
        [
         194600,
         "0671042556",
         8,
         0.3372175592601625
        ],
        [
         278390,
         "0375409440",
         8,
         1.917719177383141
        ],
        [
         55548,
         "1884822282",
         10,
         -1.1007993411353798
        ],
        [
         30487,
         "0385473117",
         8,
         1.984883356487618
        ],
        [
         194287,
         "0380898187",
         10,
         0.9275230989517667
        ],
        [
         137688,
         "0877017883",
         10,
         0.5891435009038055
        ],
        [
         234597,
         "0786869011",
         8,
         -1.9406141559501933
        ]
       ],
       "datasetInfos": [],
       "dbfsResultPath": null,
       "isJsonSchema": true,
       "metadata": {},
       "overflow": false,
       "plotOptions": {
        "customPlotOptions": {},
        "displayType": "table",
        "pivotAggregation": null,
        "pivotColumns": null,
        "xColumns": null,
        "yColumns": null
       },
       "removedWidgets": [],
       "schema": [
        {
         "metadata": "{}",
         "name": "user_id",
         "type": "\"long\""
        },
        {
         "metadata": "{}",
         "name": "isbn",
         "type": "\"string\""
        },
        {
         "metadata": "{}",
         "name": "book_rating",
         "type": "\"long\""
        },
        {
         "metadata": "{}",
         "name": "debiased_rating",
         "type": "\"double\""
        }
       ],
       "type": "table"
      }
     },
     "output_type": "display_data"
    }
   ],
   "source": [
    "#book rating - user_bias - book_bias - global mean \n",
    "\n",
    "# Compute global mean rating\n",
    "global_mean = filtered_non_zero_ratings.agg(avg(\"book_rating\").alias(\"global_mean\")).collect()[0][\"global_mean\"]\n",
    "\n",
    "# Compute user bias\n",
    "user_bias = filtered_non_zero_ratings.groupBy(\"user_id\").agg((avg(\"book_rating\") - global_mean).alias(\"user_bias\"))\n",
    "\n",
    "# Compute book bias\n",
    "book_bias = filtered_non_zero_ratings.groupBy(\"isbn\").agg((avg(\"book_rating\") - global_mean).alias(\"book_bias\"))\n",
    "\n",
    "# Join biases back to the original ratings\n",
    "ratings_with_bias = filtered_non_zero_ratings.join(user_bias, \"user_id\", \"left\").join(book_bias, \"isbn\", \"left\")\n",
    "\n",
    "# Remove user and book bias\n",
    "non_zero_ratings_debiased = ratings_with_bias.withColumn(\n",
    "    \"debiased_rating\",\n",
    "    col(\"book_rating\") - col(\"user_bias\") - col(\"book_bias\") - global_mean\n",
    ")\n",
    "\n",
    "display(non_zero_ratings_debiased.select(\"user_id\", \"isbn\", \"book_rating\", \"debiased_rating\").limit(10))"
   ]
  },
  {
   "cell_type": "code",
   "execution_count": 0,
   "metadata": {
    "application/vnd.databricks.v1+cell": {
     "cellMetadata": {
      "byteLimit": 2048000,
      "rowLimit": 10000
     },
     "inputWidgets": {},
     "nuid": "fb627f13-2918-45b8-9ed3-8fc30b5b1093",
     "showTitle": false,
     "tableResultSettingsMap": {},
     "title": ""
    }
   },
   "outputs": [
    {
     "output_type": "display_data",
     "data": {
      "image/png": "[encoded data removed]",
      "text/plain": [
       "<Figure size 640x480 with 1 Axes>"
      ]
     },
     "metadata": {},
     "output_type": "display_data"
    }
   ],
   "source": [
    "# Collect debiased ratings\n",
    "debiased_ratings = non_zero_ratings_debiased.select(\"debiased_rating\").toPandas()[\"debiased_rating\"].tolist()\n",
    "\n",
    "# Plot histogram\n",
    "plt.hist(debiased_ratings, bins=50, edgecolor='black')\n",
    "plt.title('Histogram of Debiased Ratings')\n",
    "plt.xlabel('Debiased Rating')\n",
    "plt.ylabel('Frequency')\n",
    "plt.show()"
   ]
  },
  {
   "cell_type": "markdown",
   "metadata": {
    "application/vnd.databricks.v1+cell": {
     "cellMetadata": {
      "byteLimit": 2048000,
      "rowLimit": 10000
     },
     "inputWidgets": {},
     "nuid": "f7d5b935-b055-4e19-9190-543e561bd977",
     "showTitle": false,
     "tableResultSettingsMap": {},
     "title": ""
    }
   },
   "source": [
    "### User-Item Collaborative Filtering\n",
    "User-item collaborative filtering is a technique used in recommendation systems to predict a user's preferences for items based on the preferences of other users who have similar tastes. The system gathers data on user-item interactions, such as ratings, reviews, or purchase history. It calculates the similarity between users based on their interactions with items. For example, if two users consistently rate the same items similarly, they are considered similar. Based on the calculated similarities, the system identifies items that similar users have interacted with but the target user hasn't. These items are then recommended to the target user. \n"
   ]
  },
  {
   "cell_type": "code",
   "execution_count": 0,
   "metadata": {
    "application/vnd.databricks.v1+cell": {
     "cellMetadata": {
      "byteLimit": 2048000,
      "rowLimit": 10000
     },
     "inputWidgets": {},
     "nuid": "824852ff-808e-4a8c-bac2-d1f3cfe6f14d",
     "showTitle": false,
     "tableResultSettingsMap": {},
     "title": ""
    }
   },
   "outputs": [],
   "source": [
    "from pyspark.sql.functions import col, avg, count, sum as spark_sum, sqrt, try_divide\n",
    "\n",
    "# Self join to get user pairs who rated the same item\n",
    "user_pairs = non_zero_ratings_debiased.alias(\"r1\").join(\n",
    "    non_zero_ratings_debiased.alias(\"r2\"),\n",
    "    (col(\"r1.isbn\") == col(\"r2.isbn\")) & (col(\"r1.user_id\") < col(\"r2.user_id\"))\n",
    ").select(\n",
    "    col(\"r1.user_id\").alias(\"user1\"),\n",
    "    col(\"r2.user_id\").alias(\"user2\"),\n",
    "    col(\"r1.debiased_rating\").alias(\"rating1\"),\n",
    "    col(\"r2.debiased_rating\").alias(\"rating2\")\n",
    ")\n",
    "\n",
    "# Compute Pearson correlation similarity between user pairs\n",
    "user_similarities = user_pairs.groupBy(\"user1\", \"user2\").agg(\n",
    "    spark_sum(col(\"rating1\") * col(\"rating2\")).alias(\"numerator\"),\n",
    "    spark_sum(col(\"rating1\") * col(\"rating1\")).alias(\"denom1\"),\n",
    "    spark_sum(col(\"rating2\") * col(\"rating2\")).alias(\"denom2\"),\n",
    "    count(\"*\").alias(\"n_common\")\n",
    ").withColumn(\n",
    "    \"similarity\",\n",
    "    col(\"numerator\") / (sqrt(col(\"denom1\")) * sqrt(col(\"denom2\")))\n",
    ").filter(col(\"n_common\") >= 2)  # filter for at least 2 co-rated items\n",
    "\n",
    "# Function to get top-N similar users for a given user\n",
    "def get_top_similar_users(user_id, top_n=5):\n",
    "    sim_users = user_similarities.filter((col(\"user1\") == user_id) | (col(\"user2\") == user_id))\n",
    "    sim_users = sim_users.withColumn(\n",
    "        \"similar_user\",\n",
    "        col(\"user2\")\n",
    "    ).where(\n",
    "        col(\"user1\") == user_id\n",
    "    ).union(\n",
    "        sim_users.withColumn(\n",
    "            \"similar_user\",\n",
    "            col(\"user1\")\n",
    "        ).where(\n",
    "            col(\"user2\") == user_id\n",
    "        )\n",
    "    ).select(\"similar_user\", \"similarity\").orderBy(col(\"similarity\").desc()).limit(top_n)\n",
    "    return sim_users\n",
    "\n",
    "# Function to recommend items for a user\n",
    "def recommend_for_user(user_id, top_n=5):\n",
    "    # Get top similar users\n",
    "    top_sim_users = get_top_similar_users(user_id, top_n=top_n)\n",
    "    # Get items rated by similar users but not by the target user\n",
    "    user_items = non_zero_ratings_debiased.filter(col(\"user_id\") == user_id).select(\"isbn\").distinct()\n",
    "    sim_user_ids = [row.similar_user for row in top_sim_users.filter(col(\"similarity\") > 0).collect()]\n",
    "    sim_users_ratings = non_zero_ratings_debiased.filter(col(\"user_id\").isin(sim_user_ids))\n",
    "    candidate_items = sim_users_ratings.join(user_items, on=\"isbn\", how=\"left_anti\")\n",
    "    # Score by weighted sum of ratings\n",
    "    sim_df = top_sim_users.withColumnRenamed(\"similar_user\", \"user_id\")\n",
    "    scored = candidate_items.join(sim_df, on=\"user_id\").groupBy(\"isbn\").agg(\n",
    "        try_divide(spark_sum(col(\"similarity\") * col(\"debiased_rating\")), spark_sum(col(\"similarity\"))).alias(\"score\")\n",
    "    ).orderBy(col(\"score\").desc()).limit(top_n)\n",
    "    return scored"
   ]
  },
  {
   "cell_type": "markdown",
   "metadata": {
    "application/vnd.databricks.v1+cell": {
     "cellMetadata": {},
     "inputWidgets": {},
     "nuid": "e0b8a8ff-9268-4971-86c7-d79f0adbee53",
     "showTitle": false,
     "tableResultSettingsMap": {},
     "title": ""
    }
   },
   "source": [
    "### Top 10 Recommendations for a specific User:"
   ]
  },
  {
   "cell_type": "code",
   "execution_count": 0,
   "metadata": {
    "application/vnd.databricks.v1+cell": {
     "cellMetadata": {
      "byteLimit": 2048000,
      "rowLimit": 10000
     },
     "inputWidgets": {},
     "nuid": "3fc66017-eb62-4eaa-bc70-28b73fb2de48",
     "showTitle": false,
     "tableResultSettingsMap": {},
     "title": ""
    }
   },
   "outputs": [
    {
     "output_type": "display_data",
     "data": {
      "text/html": [
       "<style scoped>\n",
       "  .table-result-container {\n",
       "    max-height: 300px;\n",
       "    overflow: auto;\n",
       "  }\n",
       "  table, th, td {\n",
       "    border: 1px solid black;\n",
       "    border-collapse: collapse;\n",
       "  }\n",
       "  th, td {\n",
       "    padding: 5px;\n",
       "  }\n",
       "  th {\n",
       "    text-align: left;\n",
       "  }\n",
       "</style><div class='table-result-container'><table class='table-result'><thead style='background-color: white'><tr><th>isbn</th><th>score</th></tr></thead><tbody><tr><td>0312967004</td><td>5.413671686827286</td></tr><tr><td>0394743121</td><td>4.747005020160618</td></tr><tr><td>0671041908</td><td>4.247005020160618</td></tr><tr><td>0099839407</td><td>4.100779286672758</td></tr><tr><td>1570719586</td><td>4.08033835349395</td></tr><tr><td>0684848961</td><td>3.9970050201606178</td></tr><tr><td>0307100146</td><td>3.9970050201606178</td></tr><tr><td>0399142282</td><td>3.8557006723345313</td></tr><tr><td>0451208501</td><td>3.8184335915891885</td></tr><tr><td>0786011858</td><td>3.7470050201606178</td></tr></tbody></table></div>"
      ]
     },
     "metadata": {
      "application/vnd.databricks.v1+output": {
       "addedWidgets": {},
       "aggData": [],
       "aggError": "",
       "aggOverflow": false,
       "aggSchema": [],
       "aggSeriesLimitReached": false,
       "aggType": "",
       "arguments": {},
       "columnCustomDisplayInfos": {},
       "data": [
        [
         "0312967004",
         5.413671686827286
        ],
        [
         "0394743121",
         4.747005020160618
        ],
        [
         "0671041908",
         4.247005020160618
        ],
        [
         "0099839407",
         4.100779286672758
        ],
        [
         "1570719586",
         4.08033835349395
        ],
        [
         "0684848961",
         3.9970050201606178
        ],
        [
         "0307100146",
         3.9970050201606178
        ],
        [
         "0399142282",
         3.8557006723345313
        ],
        [
         "0451208501",
         3.8184335915891885
        ],
        [
         "0786011858",
         3.7470050201606178
        ]
       ],
       "datasetInfos": [],
       "dbfsResultPath": null,
       "isJsonSchema": true,
       "metadata": {},
       "overflow": false,
       "plotOptions": {
        "customPlotOptions": {},
        "displayType": "table",
        "pivotAggregation": null,
        "pivotColumns": null,
        "xColumns": null,
        "yColumns": null
       },
       "removedWidgets": [],
       "schema": [
        {
         "metadata": "{}",
         "name": "isbn",
         "type": "\"string\""
        },
        {
         "metadata": "{}",
         "name": "score",
         "type": "\"double\""
        }
       ],
       "type": "table"
      }
     },
     "output_type": "display_data"
    },
    {
     "output_type": "display_data",
     "data": {
      "text/html": [
       "<style scoped>\n",
       "  .table-result-container {\n",
       "    max-height: 300px;\n",
       "    overflow: auto;\n",
       "  }\n",
       "  table, th, td {\n",
       "    border: 1px solid black;\n",
       "    border-collapse: collapse;\n",
       "  }\n",
       "  th, td {\n",
       "    padding: 5px;\n",
       "  }\n",
       "  th {\n",
       "    text-align: left;\n",
       "  }\n",
       "</style><div class='table-result-container'><table class='table-result'><thead style='background-color: white'><tr><th>isbn</th><th>user_id</th><th>book_rating</th><th>user_bias</th><th>book_bias</th><th>debiased_rating</th></tr></thead><tbody><tr><td>0553294385</td><td>1</td><td>9</td><td>0.1489474892835272</td><td>0.4254180775188203</td><td>0.6745819224811793</td></tr><tr><td>0140620109</td><td>1</td><td>7</td><td>0.1489474892835272</td><td>0.8489474892835265</td><td>-1.7489474892835268</td></tr><tr><td>0441008291</td><td>1</td><td>10</td><td>0.1489474892835272</td><td>-0.41771917738314013</td><td>2.517719177383139</td></tr><tr><td>0446603775</td><td>1</td><td>10</td><td>0.1489474892835272</td><td>-0.6260525107164732</td><td>2.726052510716473</td></tr><tr><td>0441003613</td><td>1</td><td>10</td><td>0.1489474892835272</td><td>0.9156141559501929</td><td>1.1843858440498067</td></tr><tr><td>055321313X</td><td>1</td><td>9</td><td>0.1489474892835272</td><td>1.165614155950193</td><td>-0.06561415595019326</td></tr><tr><td>0446601977</td><td>1</td><td>10</td><td>0.1489474892835272</td><td>0.08228082261685987</td><td>2.017719177383139</td></tr><tr><td>0451450523</td><td>1</td><td>8</td><td>0.1489474892835272</td><td>0.5822808226168608</td><td>-0.4822808226168611</td></tr><tr><td>0451526384</td><td>1</td><td>7</td><td>0.1489474892835272</td><td>0.04894748928352666</td><td>-0.948947489283527</td></tr><tr><td>0380004801</td><td>1</td><td>8</td><td>0.1489474892835272</td><td>0.49894748928352683</td><td>-0.3989474892835272</td></tr><tr><td>1853260002</td><td>1</td><td>10</td><td>0.1489474892835272</td><td>0.31561415595019326</td><td>1.7843858440498064</td></tr><tr><td>0451524934</td><td>1</td><td>7</td><td>0.1489474892835272</td><td>1.075614155950193</td><td>-1.9756141559501934</td></tr><tr><td>055323370X</td><td>1</td><td>4</td><td>0.1489474892835272</td><td>0.4156141559501929</td><td>-4.315614155950193</td></tr><tr><td>0441010113</td><td>1</td><td>10</td><td>0.1489474892835272</td><td>0.7489474892835268</td><td>1.3510525107164728</td></tr><tr><td>0590484753</td><td>1</td><td>7</td><td>0.1489474892835272</td><td>-0.15105251071647352</td><td>-0.7489474892835268</td></tr><tr><td>0140430164</td><td>1</td><td>3</td><td>0.1489474892835272</td><td>0.4489474892835261</td><td>-5.3489474892835265</td></tr><tr><td>0345339967</td><td>1</td><td>2</td><td>0.1489474892835272</td><td>-0.1954969551609178</td><td>-5.7045030448390825</td></tr><tr><td>0345288815</td><td>1</td><td>10</td><td>0.1489474892835272</td><td>0.24894748928352683</td><td>1.8510525107164728</td></tr><tr><td>0486264785</td><td>1</td><td>7</td><td>0.1489474892835272</td><td>0.6656141559501929</td><td>-1.5656141559501933</td></tr><tr><td>0345274695</td><td>1</td><td>10</td><td>0.1489474892835272</td><td>0.24894748928352683</td><td>1.8510525107164728</td></tr></tbody></table></div>"
      ]
     },
     "metadata": {
      "application/vnd.databricks.v1+output": {
       "addedWidgets": {},
       "aggData": [],
       "aggError": "",
       "aggOverflow": false,
       "aggSchema": [],
       "aggSeriesLimitReached": false,
       "aggType": "",
       "arguments": {},
       "columnCustomDisplayInfos": {},
       "data": [
        [
         "0553294385",
         1,
         9,
         0.1489474892835272,
         0.4254180775188203,
         0.6745819224811793
        ],
        [
         "0140620109",
         1,
         7,
         0.1489474892835272,
         0.8489474892835265,
         -1.7489474892835268
        ],
        [
         "0441008291",
         1,
         10,
         0.1489474892835272,
         -0.41771917738314013,
         2.517719177383139
        ],
        [
         "0446603775",
         1,
         10,
         0.1489474892835272,
         -0.6260525107164732,
         2.726052510716473
        ],
        [
         "0441003613",
         1,
         10,
         0.1489474892835272,
         0.9156141559501929,
         1.1843858440498067
        ],
        [
         "055321313X",
         1,
         9,
         0.1489474892835272,
         1.165614155950193,
         -0.06561415595019326
        ],
        [
         "0446601977",
         1,
         10,
         0.1489474892835272,
         0.08228082261685987,
         2.017719177383139
        ],
        [
         "0451450523",
         1,
         8,
         0.1489474892835272,
         0.5822808226168608,
         -0.4822808226168611
        ],
        [
         "0451526384",
         1,
         7,
         0.1489474892835272,
         0.04894748928352666,
         -0.948947489283527
        ],
        [
         "0380004801",
         1,
         8,
         0.1489474892835272,
         0.49894748928352683,
         -0.3989474892835272
        ],
        [
         "1853260002",
         1,
         10,
         0.1489474892835272,
         0.31561415595019326,
         1.7843858440498064
        ],
        [
         "0451524934",
         1,
         7,
         0.1489474892835272,
         1.075614155950193,
         -1.9756141559501934
        ],
        [
         "055323370X",
         1,
         4,
         0.1489474892835272,
         0.4156141559501929,
         -4.315614155950193
        ],
        [
         "0441010113",
         1,
         10,
         0.1489474892835272,
         0.7489474892835268,
         1.3510525107164728
        ],
        [
         "0590484753",
         1,
         7,
         0.1489474892835272,
         -0.15105251071647352,
         -0.7489474892835268
        ],
        [
         "0140430164",
         1,
         3,
         0.1489474892835272,
         0.4489474892835261,
         -5.3489474892835265
        ],
        [
         "0345339967",
         1,
         2,
         0.1489474892835272,
         -0.1954969551609178,
         -5.7045030448390825
        ],
        [
         "0345288815",
         1,
         10,
         0.1489474892835272,
         0.24894748928352683,
         1.8510525107164728
        ],
        [
         "0486264785",
         1,
         7,
         0.1489474892835272,
         0.6656141559501929,
         -1.5656141559501933
        ],
        [
         "0345274695",
         1,
         10,
         0.1489474892835272,
         0.24894748928352683,
         1.8510525107164728
        ]
       ],
       "datasetInfos": [],
       "dbfsResultPath": null,
       "isJsonSchema": true,
       "metadata": {},
       "overflow": false,
       "plotOptions": {
        "customPlotOptions": {},
        "displayType": "table",
        "pivotAggregation": null,
        "pivotColumns": null,
        "xColumns": null,
        "yColumns": null
       },
       "removedWidgets": [],
       "schema": [
        {
         "metadata": "{}",
         "name": "isbn",
         "type": "\"string\""
        },
        {
         "metadata": "{}",
         "name": "user_id",
         "type": "\"long\""
        },
        {
         "metadata": "{}",
         "name": "book_rating",
         "type": "\"long\""
        },
        {
         "metadata": "{}",
         "name": "user_bias",
         "type": "\"double\""
        },
        {
         "metadata": "{}",
         "name": "book_bias",
         "type": "\"double\""
        },
        {
         "metadata": "{}",
         "name": "debiased_rating",
         "type": "\"double\""
        }
       ],
       "type": "table"
      }
     },
     "output_type": "display_data"
    }
   ],
   "source": [
    "# Top n recs for a user\n",
    "user_id = 1\n",
    "top_n = 10\n",
    "user_recommendations = recommend_for_user(user_id, top_n)\n",
    "display(user_recommendations)\n",
    "\n",
    "display(non_zero_ratings_debiased.filter(col(\"user_id\") == user_id))"
   ]
  },
  {
   "cell_type": "code",
   "execution_count": 0,
   "metadata": {
    "application/vnd.databricks.v1+cell": {
     "cellMetadata": {
      "byteLimit": 2048000,
      "rowLimit": 10000
     },
     "inputWidgets": {},
     "nuid": "d8acea13-56a3-463e-ac0b-6e9c3929ffed",
     "showTitle": false,
     "tableResultSettingsMap": {},
     "title": ""
    }
   },
   "outputs": [
    {
     "output_type": "display_data",
     "data": {
      "text/html": [
       "<style scoped>\n",
       "  .table-result-container {\n",
       "    max-height: 300px;\n",
       "    overflow: auto;\n",
       "  }\n",
       "  table, th, td {\n",
       "    border: 1px solid black;\n",
       "    border-collapse: collapse;\n",
       "  }\n",
       "  th, td {\n",
       "    padding: 5px;\n",
       "  }\n",
       "  th {\n",
       "    text-align: left;\n",
       "  }\n",
       "</style><div class='table-result-container'><table class='table-result'><thead style='background-color: white'><tr><th>isbn</th><th>score</th><th>book_title</th><th>book_author</th><th>year_of_publication</th><th>publisher</th><th>image_url_l</th></tr></thead><tbody><tr><td>0312967004</td><td>5.413671686827286</td><td>Eleven Hours</td><td>Paullina Simons</td><td>1999</td><td>St. Martin's Press</td><td>http://images.amazon.com/images/P/0312967004.01.LZZZZZZZ.jpg</td></tr><tr><td>0394743121</td><td>4.747005020160618</td><td>Ulysses (Gabler Edition)</td><td>James Joyce</td><td>1986</td><td>Vintage</td><td>http://images.amazon.com/images/P/0394743121.01.LZZZZZZZ.jpg</td></tr><tr><td>0671041908</td><td>4.247005020160618</td><td>The Coming Global Superstorm</td><td>Art Bell</td><td>1999</td><td>Atria</td><td>http://images.amazon.com/images/P/0671041908.01.LZZZZZZZ.jpg</td></tr><tr><td>0099839407</td><td>4.100779286672758</td><td>null</td><td>null</td><td>null</td><td>null</td><td>null</td></tr><tr><td>1570719586</td><td>4.08033835349395</td><td>God-Shaped Hole</td><td>Tiffanie DeBartolo</td><td>2002</td><td>Sourcebooks Landmark</td><td>http://images.amazon.com/images/P/1570719586.01.LZZZZZZZ.jpg</td></tr><tr><td>0307100146</td><td>3.9970050201606178</td><td>Walt Disney's 101 Dalmatians: Pongo to the Rescue (Golden Super Shape Book)</td><td>Justine Korman</td><td>1994</td><td>Random House Childrens Books</td><td>http://images.amazon.com/images/P/0307100146.01.LZZZZZZZ.jpg</td></tr><tr><td>0684848961</td><td>3.9970050201606178</td><td>Chocolate For A Womans Heart : 77 Stories Of Love Kindness And Compassion To Nourish Your Soul And Sweeten Yo</td><td>Kay Allenbaugh</td><td>1998</td><td>Fireside</td><td>http://images.amazon.com/images/P/0684848961.01.LZZZZZZZ.jpg</td></tr><tr><td>0399142282</td><td>3.8557006723345313</td><td>Hornet's Nest</td><td>Patricia Daniels Cornwell</td><td>1997</td><td>Putnam Publishing Group</td><td>http://images.amazon.com/images/P/0399142282.01.LZZZZZZZ.jpg</td></tr><tr><td>0451208501</td><td>3.8184335915891885</td><td>Bubbles in Trouble (Bubbles Books)</td><td>Sarah Strohmeyer</td><td>2003</td><td>Signet Book</td><td>http://images.amazon.com/images/P/0451208501.01.LZZZZZZZ.jpg</td></tr><tr><td>0786011858</td><td>3.7470050201606178</td><td>House of Secrets</td><td>Lowell Cauffiel</td><td>1998</td><td>Pinnacle Books</td><td>http://images.amazon.com/images/P/0786011858.01.LZZZZZZZ.jpg</td></tr></tbody></table></div>"
      ]
     },
     "metadata": {
      "application/vnd.databricks.v1+output": {
       "addedWidgets": {},
       "aggData": [],
       "aggError": "",
       "aggOverflow": false,
       "aggSchema": [],
       "aggSeriesLimitReached": false,
       "aggType": "",
       "arguments": {},
       "columnCustomDisplayInfos": {},
       "data": [
        [
         "0312967004",
         5.413671686827286,
         "Eleven Hours",
         "Paullina Simons",
         1999,
         "St. Martin's Press",
         "http://images.amazon.com/images/P/0312967004.01.LZZZZZZZ.jpg"
        ],
        [
         "0394743121",
         4.747005020160618,
         "Ulysses (Gabler Edition)",
         "James Joyce",
         1986,
         "Vintage",
         "http://images.amazon.com/images/P/0394743121.01.LZZZZZZZ.jpg"
        ],
        [
         "0671041908",
         4.247005020160618,
         "The Coming Global Superstorm",
         "Art Bell",
         1999,
         "Atria",
         "http://images.amazon.com/images/P/0671041908.01.LZZZZZZZ.jpg"
        ],
        [
         "0099839407",
         4.100779286672758,
         null,
         null,
         null,
         null,
         null
        ],
        [
         "1570719586",
         4.08033835349395,
         "God-Shaped Hole",
         "Tiffanie DeBartolo",
         2002,
         "Sourcebooks Landmark",
         "http://images.amazon.com/images/P/1570719586.01.LZZZZZZZ.jpg"
        ],
        [
         "0307100146",
         3.9970050201606178,
         "Walt Disney's 101 Dalmatians: Pongo to the Rescue (Golden Super Shape Book)",
         "Justine Korman",
         1994,
         "Random House Childrens Books",
         "http://images.amazon.com/images/P/0307100146.01.LZZZZZZZ.jpg"
        ],
        [
         "0684848961",
         3.9970050201606178,
         "Chocolate For A Womans Heart : 77 Stories Of Love Kindness And Compassion To Nourish Your Soul And Sweeten Yo",
         "Kay Allenbaugh",
         1998,
         "Fireside",
         "http://images.amazon.com/images/P/0684848961.01.LZZZZZZZ.jpg"
        ],
        [
         "0399142282",
         3.8557006723345313,
         "Hornet's Nest",
         "Patricia Daniels Cornwell",
         1997,
         "Putnam Publishing Group",
         "http://images.amazon.com/images/P/0399142282.01.LZZZZZZZ.jpg"
        ],
        [
         "0451208501",
         3.8184335915891885,
         "Bubbles in Trouble (Bubbles Books)",
         "Sarah Strohmeyer",
         2003,
         "Signet Book",
         "http://images.amazon.com/images/P/0451208501.01.LZZZZZZZ.jpg"
        ],
        [
         "0786011858",
         3.7470050201606178,
         "House of Secrets",
         "Lowell Cauffiel",
         1998,
         "Pinnacle Books",
         "http://images.amazon.com/images/P/0786011858.01.LZZZZZZZ.jpg"
        ]
       ],
       "datasetInfos": [],
       "dbfsResultPath": null,
       "isJsonSchema": true,
       "metadata": {},
       "overflow": false,
       "plotOptions": {
        "customPlotOptions": {},
        "displayType": "table",
        "pivotAggregation": null,
        "pivotColumns": null,
        "xColumns": null,
        "yColumns": null
       },
       "removedWidgets": [],
       "schema": [
        {
         "metadata": "{}",
         "name": "isbn",
         "type": "\"string\""
        },
        {
         "metadata": "{}",
         "name": "score",
         "type": "\"double\""
        },
        {
         "metadata": "{}",
         "name": "book_title",
         "type": "\"string\""
        },
        {
         "metadata": "{}",
         "name": "book_author",
         "type": "\"string\""
        },
        {
         "metadata": "{}",
         "name": "year_of_publication",
         "type": "\"long\""
        },
        {
         "metadata": "{}",
         "name": "publisher",
         "type": "\"string\""
        },
        {
         "metadata": "{}",
         "name": "image_url_l",
         "type": "\"string\""
        }
       ],
       "type": "table"
      }
     },
     "output_type": "display_data"
    }
   ],
   "source": [
    "#joining on the title and image urls\n",
    "recommended_items_with_books = user_recommendations.join(books, user_recommendations[\"isbn\"] == books[\"isbn\"], \"left\")\n",
    "recommended_items_with_books = recommended_items_with_books.drop(books[\"isbn\"])\n",
    "recommended_items_with_books = recommended_items_with_books.orderBy(col(\"score\").desc())\n",
    "display(recommended_items_with_books)\n",
    "\n"
   ]
  },
  {
   "cell_type": "markdown",
   "metadata": {
    "application/vnd.databricks.v1+cell": {
     "cellMetadata": {},
     "inputWidgets": {},
     "nuid": "7a28e559-fac1-4177-8e91-eff361936bc1",
     "showTitle": false,
     "tableResultSettingsMap": {},
     "title": ""
    }
   },
   "source": [
    "### Top 10 Recommendations (Image Gallery)"
   ]
  },
  {
   "cell_type": "code",
   "execution_count": 0,
   "metadata": {
    "application/vnd.databricks.v1+cell": {
     "cellMetadata": {
      "byteLimit": 2048000,
      "rowLimit": 10000
     },
     "inputWidgets": {},
     "nuid": "eeb05882-7ce2-43f9-95e2-4548c0b31be1",
     "showTitle": false,
     "tableResultSettingsMap": {},
     "title": ""
    }
   },
   "outputs": [
    {
     "output_type": "display_data",
     "data": {
      "text/html": [
       "<div style='display:flex;flex-wrap:wrap;max-width:800px;'><div style='margin:10px;text-align:center;'><img src='http://images.amazon.com/images/P/0312967004.01.LZZZZZZZ.jpg' style='height:200px;'><br>Eleven Hours</div><div style='margin:10px;text-align:center;'><img src='http://images.amazon.com/images/P/0394743121.01.LZZZZZZZ.jpg' style='height:200px;'><br>Ulysses (Gabler Edition)</div><div style='margin:10px;text-align:center;'><img src='http://images.amazon.com/images/P/0671041908.01.LZZZZZZZ.jpg' style='height:200px;'><br>The Coming Global Superstorm</div><div style='margin:10px;text-align:center;'><img src='None' style='height:200px;'><br>None</div><div style='margin:10px;text-align:center;'><img src='http://images.amazon.com/images/P/1570719586.01.LZZZZZZZ.jpg' style='height:200px;'><br>God-Shaped Hole</div><div style='margin:10px;text-align:center;'><img src='http://images.amazon.com/images/P/0307100146.01.LZZZZZZZ.jpg' style='height:200px;'><br>Walt Disney's 101 Dalmatians: Pongo to the Rescue (Golden Super Shape Book)</div><div style='margin:10px;text-align:center;'><img src='http://images.amazon.com/images/P/0684848961.01.LZZZZZZZ.jpg' style='height:200px;'><br>Chocolate For A Womans Heart : 77 Stories Of Love Kindness And Compassion To Nourish Your Soul And Sweeten Yo</div><div style='margin:10px;text-align:center;'><img src='http://images.amazon.com/images/P/0399142282.01.LZZZZZZZ.jpg' style='height:200px;'><br>Hornet's Nest</div><div style='margin:10px;text-align:center;'><img src='http://images.amazon.com/images/P/0451208501.01.LZZZZZZZ.jpg' style='height:200px;'><br>Bubbles in Trouble (Bubbles Books)</div><div style='margin:10px;text-align:center;'><img src='http://images.amazon.com/images/P/0786011858.01.LZZZZZZZ.jpg' style='height:200px;'><br>House of Secrets</div></div>"
      ]
     },
     "metadata": {},
     "output_type": "display_data"
    }
   ],
   "source": [
    "from pyspark.sql.functions import monotonically_increasing_id\n",
    "\n",
    "# Add an index column for display purposes\n",
    "recommended_items_with_books_with_id = recommended_items_with_books.withColumn(\"id\", monotonically_increasing_id())\n",
    "\n",
    "# Select only the columns needed for image display\n",
    "images_df = recommended_items_with_books_with_id.select(\"id\", \"image_url_l\", \"book_title\")\n",
    "\n",
    "# Display images using Databricks HTML rendering\n",
    "def display_images(df, url_col=\"image_url_l\", title_col=\"book_title\", n=10):\n",
    "    rows = df.limit(n).collect()\n",
    "    html = \"<div style='display:flex;flex-wrap:wrap;max-width:800px;'>\"\n",
    "    for row in rows:\n",
    "        url = row[url_col]\n",
    "        title = row[title_col]\n",
    "        html += f\"<div style='margin:10px;text-align:center;'><img src='{url}' style='height:200px;'><br>{title}</div>\"\n",
    "    html += \"</div>\"\n",
    "    displayHTML(html)\n",
    "\n",
    "display_images(images_df)"
   ]
  },
  {
   "cell_type": "code",
   "execution_count": 0,
   "metadata": {
    "application/vnd.databricks.v1+cell": {
     "cellMetadata": {
      "byteLimit": 2048000,
      "rowLimit": 10000
     },
     "inputWidgets": {},
     "nuid": "ea274e21-0b86-4515-a7f7-952953752571",
     "showTitle": false,
     "tableResultSettingsMap": {
      "0": {
       "dataGridStateBlob": "{\"version\":1,\"tableState\":{\"columnPinning\":{\"left\":[\"#row_number#\"],\"right\":[]},\"columnSizing\":{\"book_title\":225,\"book_rating\":90,\"in_non_zero_ratings_debiased\":90},\"columnVisibility\":{}},\"settings\":{\"columns\":{}},\"syncTimestamp\":1752701293828}",
       "filterBlob": null,
       "queryPlanFiltersBlob": null,
       "tableResultIndex": 0
      }
     },
     "title": ""
    }
   },
   "outputs": [
    {
     "output_type": "display_data",
     "data": {
      "text/html": [
       "<style scoped>\n",
       "  .table-result-container {\n",
       "    max-height: 300px;\n",
       "    overflow: auto;\n",
       "  }\n",
       "  table, th, td {\n",
       "    border: 1px solid black;\n",
       "    border-collapse: collapse;\n",
       "  }\n",
       "  th, td {\n",
       "    padding: 5px;\n",
       "  }\n",
       "  th {\n",
       "    text-align: left;\n",
       "  }\n",
       "</style><div class='table-result-container'><table class='table-result'><thead style='background-color: white'><tr><th>book_title</th><th>book_rating</th><th>book_author</th><th>in_non_zero_ratings_debiased</th></tr></thead><tbody><tr><td>Ella Enchanted (Trophy Newbery)</td><td>10</td><td>Gail Carson Levine</td><td>yes</td></tr><tr><td>War and Peace (Wordsworth Classics)</td><td>10</td><td>Leo Tolstoy</td><td>yes</td></tr><tr><td>Le Petit Prince</td><td>9</td><td>Antoine de Saint-Exupéry</td><td>yes</td></tr><tr><td>The Bad Beginning (A Series of Unfortunate Events, Book 1)</td><td>8</td><td>Lemony Snicket</td><td>yes</td></tr><tr><td>Frankenstein Or, the Modern Prometheus</td><td>8</td><td>Mary Wollstonecraft Shelley</td><td>yes</td></tr><tr><td>The Hitchhiker's Guide to the Galaxy</td><td>7</td><td>Douglas Adams</td><td>yes</td></tr><tr><td>Animal Farm</td><td>5</td><td>George Orwell</td><td>yes</td></tr><tr><td>The Hobbit : The Enchanting Prelude to The Lord of the Rings</td><td>3</td><td>J.R.R. TOLKIEN</td><td>yes</td></tr><tr><td>Life of Pi</td><td>3</td><td>Yann Martel</td><td>yes</td></tr><tr><td>Moby-Dick</td><td>2</td><td>HERMAN MELVILLE</td><td>yes</td></tr></tbody></table></div>"
      ]
     },
     "metadata": {
      "application/vnd.databricks.v1+output": {
       "addedWidgets": {},
       "aggData": [],
       "aggError": "",
       "aggOverflow": false,
       "aggSchema": [],
       "aggSeriesLimitReached": false,
       "aggType": "",
       "arguments": {},
       "columnCustomDisplayInfos": {},
       "data": [
        [
         "Ella Enchanted (Trophy Newbery)",
         10,
         "Gail Carson Levine",
         "yes"
        ],
        [
         "War and Peace (Wordsworth Classics)",
         10,
         "Leo Tolstoy",
         "yes"
        ],
        [
         "Le Petit Prince",
         9,
         "Antoine de Saint-Exupéry",
         "yes"
        ],
        [
         "The Bad Beginning (A Series of Unfortunate Events, Book 1)",
         8,
         "Lemony Snicket",
         "yes"
        ],
        [
         "Frankenstein Or, the Modern Prometheus",
         8,
         "Mary Wollstonecraft Shelley",
         "yes"
        ],
        [
         "The Hitchhiker's Guide to the Galaxy",
         7,
         "Douglas Adams",
         "yes"
        ],
        [
         "Animal Farm",
         5,
         "George Orwell",
         "yes"
        ],
        [
         "The Hobbit : The Enchanting Prelude to The Lord of the Rings",
         3,
         "J.R.R. TOLKIEN",
         "yes"
        ],
        [
         "Life of Pi",
         3,
         "Yann Martel",
         "yes"
        ],
        [
         "Moby-Dick",
         2,
         "HERMAN MELVILLE",
         "yes"
        ]
       ],
       "datasetInfos": [],
       "dbfsResultPath": null,
       "isJsonSchema": true,
       "metadata": {},
       "overflow": false,
       "plotOptions": {
        "customPlotOptions": {},
        "displayType": "table",
        "pivotAggregation": null,
        "pivotColumns": null,
        "xColumns": null,
        "yColumns": null
       },
       "removedWidgets": [],
       "schema": [
        {
         "metadata": "{}",
         "name": "book_title",
         "type": "\"string\""
        },
        {
         "metadata": "{}",
         "name": "book_rating",
         "type": "\"long\""
        },
        {
         "metadata": "{}",
         "name": "book_author",
         "type": "\"string\""
        },
        {
         "metadata": "{}",
         "name": "in_non_zero_ratings_debiased",
         "type": "\"string\""
        }
       ],
       "type": "table"
      }
     },
     "output_type": "display_data"
    }
   ],
   "source": [
    "from pyspark.sql.functions import when\n",
    "\n",
    "non_zero_isbns = [row['isbn'] for row in non_zero_ratings_debiased.select(\"isbn\").distinct().collect()]\n",
    "display(\n",
    "    ratings.filter(col(\"user_id\") == 7)\n",
    "    .join(books, on=\"isbn\", how=\"left\")\n",
    "    .withColumn(\"in_non_zero_ratings_debiased\", when(col(\"isbn\").isin(non_zero_isbns), \"yes\").otherwise(\"no\"))\n",
    "    .select(\"book_title\", \"book_rating\", \"book_author\", \"in_non_zero_ratings_debiased\")\n",
    "    .sort(col(\"book_rating\").desc())\n",
    ")\n",
    "\n"
   ]
  },
  {
   "cell_type": "markdown",
   "metadata": {
    "application/vnd.databricks.v1+cell": {
     "cellMetadata": {
      "byteLimit": 2048000,
      "rowLimit": 10000
     },
     "inputWidgets": {},
     "nuid": "95efbc13-d48c-4dad-818c-b9018236ddc8",
     "showTitle": false,
     "tableResultSettingsMap": {},
     "title": ""
    }
   },
   "source": [
    "### Diversity: \n",
    "I checked diversity on recommended Book's Authors. I was worried users who had read a popular series (for example all seven Harry Potter books are in the top 10 highest rated books with more than 50 ratings) for this dataset, would also have probably read and rated the rest of the series, and then users with similar tastes to them might end up with a top recommendations list of all of the same author which wouldn't be exciting. It's not a \"true\" diversity by genre or another metric, i was more just worried about suggesting too many from the same author.\n",
    "\n",
    "### Novelty:\n",
    "calculating the novelty of a set of recommended items (books), using their popularity among users in training data. Novelty is measured based on how uncommon or rarely interacted-with the recommended items are — less popular items are considered more novel. A higher novelty score means more niche or lesser-known books are being recommended. A lower novelty score means more popular books are in the recommendations. A normalized score near 1 means high novelty (rare items). Near 0 means low novelty (popular items)"
   ]
  },
  {
   "cell_type": "code",
   "execution_count": 0,
   "metadata": {
    "application/vnd.databricks.v1+cell": {
     "cellMetadata": {
      "byteLimit": 2048000,
      "rowLimit": 10000
     },
     "inputWidgets": {},
     "nuid": "1b0af82e-fc6b-41a8-afb5-0ef8c7589507",
     "showTitle": false,
     "tableResultSettingsMap": {},
     "title": ""
    }
   },
   "outputs": [
    {
     "output_type": "display_data",
     "data": {
      "text/plain": [
       "\u001B[0;31m---------------------------------------------------------------------------\u001B[0m\n",
       "\u001B[0;31mNameError\u001B[0m                                 Traceback (most recent call last)\n",
       "File \u001B[0;32m<command-6826040483465375>, line 8\u001B[0m\n",
       "\u001B[1;32m      5\u001B[0m spark \u001B[38;5;241m=\u001B[39m SparkSession\u001B[38;5;241m.\u001B[39mbuilder\u001B[38;5;241m.\u001B[39mgetOrCreate()\n",
       "\u001B[1;32m      7\u001B[0m \u001B[38;5;66;03m# Prepare item popularity from ratings\u001B[39;00m\n",
       "\u001B[0;32m----> 8\u001B[0m item_popularity \u001B[38;5;241m=\u001B[39m non_zero_ratings_debiased\u001B[38;5;241m.\u001B[39mgroupBy(\u001B[38;5;124m\"\u001B[39m\u001B[38;5;124misbn\u001B[39m\u001B[38;5;124m\"\u001B[39m)\u001B[38;5;241m.\u001B[39magg(count(\u001B[38;5;124m\"\u001B[39m\u001B[38;5;124m*\u001B[39m\u001B[38;5;124m\"\u001B[39m)\u001B[38;5;241m.\u001B[39malias(\u001B[38;5;124m\"\u001B[39m\u001B[38;5;124mpopularity\u001B[39m\u001B[38;5;124m\"\u001B[39m))\n",
       "\u001B[1;32m      9\u001B[0m total_items \u001B[38;5;241m=\u001B[39m item_popularity\u001B[38;5;241m.\u001B[39mcount()\n",
       "\u001B[1;32m     10\u001B[0m total_users \u001B[38;5;241m=\u001B[39m non_zero_ratings_debiased\u001B[38;5;241m.\u001B[39mselect(\u001B[38;5;124m\"\u001B[39m\u001B[38;5;124muser_id\u001B[39m\u001B[38;5;124m\"\u001B[39m)\u001B[38;5;241m.\u001B[39mdistinct()\u001B[38;5;241m.\u001B[39mcount()\n",
       "\n",
       "\u001B[0;31mNameError\u001B[0m: name 'non_zero_ratings_debiased' is not defined"
      ]
     },
     "metadata": {
      "application/vnd.databricks.v1+output": {
       "addedWidgets": {},
       "arguments": {},
       "datasetInfos": [],
       "jupyterProps": {
        "ename": "NameError",
        "evalue": "name 'non_zero_ratings_debiased' is not defined"
       },
       "metadata": {
        "errorSummary": "<span class='ansi-red-fg'>NameError</span>: name 'non_zero_ratings_debiased' is not defined"
       },
       "removedWidgets": [],
       "sqlProps": null,
       "stackFrames": [
        "\u001B[0;31m---------------------------------------------------------------------------\u001B[0m",
        "\u001B[0;31mNameError\u001B[0m                                 Traceback (most recent call last)",
        "File \u001B[0;32m<command-6826040483465375>, line 8\u001B[0m\n\u001B[1;32m      5\u001B[0m spark \u001B[38;5;241m=\u001B[39m SparkSession\u001B[38;5;241m.\u001B[39mbuilder\u001B[38;5;241m.\u001B[39mgetOrCreate()\n\u001B[1;32m      7\u001B[0m \u001B[38;5;66;03m# Prepare item popularity from ratings\u001B[39;00m\n\u001B[0;32m----> 8\u001B[0m item_popularity \u001B[38;5;241m=\u001B[39m non_zero_ratings_debiased\u001B[38;5;241m.\u001B[39mgroupBy(\u001B[38;5;124m\"\u001B[39m\u001B[38;5;124misbn\u001B[39m\u001B[38;5;124m\"\u001B[39m)\u001B[38;5;241m.\u001B[39magg(count(\u001B[38;5;124m\"\u001B[39m\u001B[38;5;124m*\u001B[39m\u001B[38;5;124m\"\u001B[39m)\u001B[38;5;241m.\u001B[39malias(\u001B[38;5;124m\"\u001B[39m\u001B[38;5;124mpopularity\u001B[39m\u001B[38;5;124m\"\u001B[39m))\n\u001B[1;32m      9\u001B[0m total_items \u001B[38;5;241m=\u001B[39m item_popularity\u001B[38;5;241m.\u001B[39mcount()\n\u001B[1;32m     10\u001B[0m total_users \u001B[38;5;241m=\u001B[39m non_zero_ratings_debiased\u001B[38;5;241m.\u001B[39mselect(\u001B[38;5;124m\"\u001B[39m\u001B[38;5;124muser_id\u001B[39m\u001B[38;5;124m\"\u001B[39m)\u001B[38;5;241m.\u001B[39mdistinct()\u001B[38;5;241m.\u001B[39mcount()\n",
        "\u001B[0;31mNameError\u001B[0m: name 'non_zero_ratings_debiased' is not defined"
       ],
       "type": "baseError"
      }
     },
     "output_type": "display_data"
    }
   ],
   "source": [
    "from pyspark.sql.functions import count, lit, col, avg, when, log2\n",
    "\n",
    "\n",
    "# Prepare item popularity from ratings\n",
    "item_popularity = non_zero_ratings_debiased.groupBy(\"isbn\").agg(count(\"*\").alias(\"popularity\"))\n",
    "total_items = item_popularity.count()\n",
    "total_users = non_zero_ratings_debiased.select(\"user_id\").distinct().count()\n",
    "\n",
    "# Add popularity rank (lower popularity = higher rank)\n",
    "item_popularity = item_popularity.withColumn(\n",
    "    \"popularity_rank\", (lit(total_items) - col(\"popularity\") + 1)\n",
    ")\n",
    "\n",
    "# Placeholder for result rows\n",
    "results = []\n",
    "\n",
    "for user_id in range(1, 8):  # Users 1 to 7\n",
    "    # Get recommendations\n",
    "    recommended_items = recommend_for_user(user_id, top_n=10)  # Adjust top_n as needed\n",
    "    \n",
    "    # Join book metadata if needed (assuming `books` has 'isbn', 'book_author')\n",
    "    recommended_items_with_books = recommended_items.join(books, on=\"isbn\", how=\"left\")\n",
    "\n",
    "    # ---- Novelty ----\n",
    "    rec_with_pop = recommended_items_with_books.join(item_popularity, on=\"isbn\", how=\"left\")\n",
    "\n",
    "    # Handle null popularity\n",
    "    rec_with_pop = rec_with_pop.withColumn(\n",
    "        \"popularity\", when(col(\"popularity\").isNull(), lit(1.0)).otherwise(col(\"popularity\"))\n",
    "    )\n",
    "    \n",
    "    rec_with_pop = rec_with_pop.withColumn(\n",
    "        \"novelty_inverse\", -log2(col(\"popularity\") / lit(total_users))\n",
    "    )\n",
    "    \n",
    "    novelty = rec_with_pop.agg(avg(\"popularity_rank\").cast(\"double\")).first()[0]\n",
    "    normalized_novelty = novelty / total_items if novelty else 0.0\n",
    "    novelty_inverse_score = rec_with_pop.agg(avg(\"novelty_inverse\").cast(\"double\")).first()[0]\n",
    "\n",
    "    # ---- Diversity ----\n",
    "    authors_df = recommended_items_with_books.select(\"isbn\", \"book_author\").distinct()\n",
    "    authors_list = [row.book_author for row in authors_df.collect()]\n",
    "    n = len(authors_list)\n",
    "    \n",
    "    if n <= 1:\n",
    "        diversity = 0.0\n",
    "    else:\n",
    "        diversity = 1.0 if len(set(authors_list)) == n else 1.0 - (n - len(set(authors_list))) / (n * (n - 1) / 2)\n",
    "\n",
    "    novelty = novelty if novelty is not None else 0.0\n",
    "    novelty_inverse_score = novelty_inverse_score if novelty_inverse_score is not None else 0.0\n",
    "    normalized_novelty = normalized_novelty if normalized_novelty is not None else 0.0\n",
    "    diversity = diversity if diversity is not None else 0.0\n",
    "\n",
    "    results.append((user_id, float(novelty), float(novelty_inverse_score), float(normalized_novelty), float(diversity)))\n",
    "\n",
    "# Create and display final results\n",
    "results_df = spark.createDataFrame(results, [\"user_id\", \"novelty\", \"novelty_inverse_score\", \"normalized_novelty\", \"diversity\"])\n",
    "display(results_df)\n"
   ]
  },
  {
   "cell_type": "markdown",
   "metadata": {
    "application/vnd.databricks.v1+cell": {
     "cellMetadata": {
      "byteLimit": 2048000,
      "rowLimit": 10000
     },
     "inputWidgets": {},
     "nuid": "45abbd96-e159-4313-9411-9a4913a4aafa",
     "showTitle": false,
     "tableResultSettingsMap": {},
     "title": ""
    }
   },
   "source": [
    "## Matrix Factorization (Weighted)"
   ]
  },
  {
   "cell_type": "markdown",
   "metadata": {
    "application/vnd.databricks.v1+cell": {
     "cellMetadata": {
      "byteLimit": 2048000,
      "rowLimit": 10000
     },
     "inputWidgets": {},
     "nuid": "c0305a95-1fb5-48f5-b803-37d77b02fedb",
     "showTitle": false,
     "tableResultSettingsMap": {},
     "title": ""
    }
   },
   "source": [
    "### User Book Matrix"
   ]
  },
  {
   "cell_type": "markdown",
   "metadata": {
    "application/vnd.databricks.v1+cell": {
     "cellMetadata": {},
     "inputWidgets": {},
     "nuid": "c9e3fb11-8026-41e1-9888-d202bb9513b7",
     "showTitle": false,
     "tableResultSettingsMap": {},
     "title": ""
    }
   },
   "source": [
    "## Filtering Dataset\n",
    "This code filters the ratings dataset to include only users with at least 10 ratings and books with at least 20 ratings, ensuring sufficient activity. It then assigns a unique integer index (item_idx) to each remaining book (isbn) and renames the user_id column to user_idx for model input."
   ]
  },
  {
   "cell_type": "code",
   "execution_count": 0,
   "metadata": {
    "application/vnd.databricks.v1+cell": {
     "cellMetadata": {
      "byteLimit": 2048000,
      "rowLimit": 10000
     },
     "inputWidgets": {},
     "nuid": "a68e9a27-65c6-4349-abd4-a346ea9e317b",
     "showTitle": false,
     "tableResultSettingsMap": {},
     "title": ""
    }
   },
   "outputs": [],
   "source": [
    "from pyspark.sql.functions import col\n",
    "\n",
    "user_counts = ratings.filter(col(\"book_rating\") > 0).groupBy(\"user_id\").count()\n",
    "active_users = user_counts.filter(col(\"count\") >= 10).select(\"user_id\")\n",
    "filtered_ratings = ratings.join(active_users, on=\"user_id\", how=\"inner\")\n",
    "\n",
    "\n",
    "book_counts = filtered_ratings.groupBy(\"isbn\").count()\n",
    "active_books = book_counts.filter(col(\"count\") >= 20).select(\"isbn\")\n",
    "filtered_ratings = filtered_ratings.join(active_books, on=\"isbn\", how=\"inner\")\n",
    "\n",
    "\n",
    "isbn_map = {row['isbn']: idx for idx, row in enumerate(filtered_ratings.select(\"isbn\").distinct().collect())}\n",
    "isbn_map_udf = F.udf(lambda isbn: isbn_map.get(isbn, -1), IntegerType())\n",
    "\n",
    "filtered_ratings = filtered_ratings.withColumn(\"item_idx\", isbn_map_udf(\"isbn\"))\n",
    "\n",
    "filtered_ratings = filtered_ratings.withColumnRenamed(\"user_id\", \"user_idx\")\n"
   ]
  },
  {
   "cell_type": "markdown",
   "metadata": {
    "application/vnd.databricks.v1+cell": {
     "cellMetadata": {},
     "inputWidgets": {},
     "nuid": "be5f49d7-7f26-4057-bd74-b1cad863e663",
     "showTitle": false,
     "tableResultSettingsMap": {},
     "title": ""
    }
   },
   "source": [
    "### Confidence Score for Explicit Weighting\n",
    "This code sets up a confidence score for each user-item rating, where explicit ratings are scaled by 1 + alpha * rating and implicit interactions default to 1.0. It creates a new DataFrame C_df containing the user and item indices, original rating, and calculated confidence values for use in weighted matrix factorization."
   ]
  },
  {
   "cell_type": "code",
   "execution_count": 0,
   "metadata": {
    "application/vnd.databricks.v1+cell": {
     "cellMetadata": {
      "byteLimit": 2048000,
      "rowLimit": 10000
     },
     "inputWidgets": {},
     "nuid": "9074530e-8cd1-4c46-a356-d6772c55e353",
     "showTitle": false,
     "tableResultSettingsMap": {},
     "title": ""
    }
   },
   "outputs": [],
   "source": [
    "# alpha controls confidence on explicit ratings\n",
    "alpha = 40.0\n",
    "\n",
    "# Confidence column: implicit = 1.0, explicit = 1 + alpha * rating\n",
    "C_df = filtered_ratings.withColumn(\n",
    "    \"confidence\",\n",
    "    F.when(F.col(\"book_rating\") > 0, 1 + alpha * F.col(\"book_rating\")).otherwise(1.0)\n",
    ").select(\"user_idx\", \"item_idx\", \"book_rating\", \"confidence\")\n",
    "\n",
    "\n",
    "\n"
   ]
  },
  {
   "cell_type": "markdown",
   "metadata": {
    "application/vnd.databricks.v1+cell": {
     "cellMetadata": {},
     "inputWidgets": {},
     "nuid": "3e6271ab-4328-4f72-90f8-c0cd6c47ed6c",
     "showTitle": false,
     "tableResultSettingsMap": {},
     "title": ""
    }
   },
   "source": [
    "### Init random latent factor vectors\n",
    "Initializes random latent factor vectors (length = 10) for each user and item using NumPy, creating Pandas DataFrames for user_factors and item_factors. These are then converted into Spark DataFrames (user_factors_df and item_factors_df) to be used in matrix factorization."
   ]
  },
  {
   "cell_type": "code",
   "execution_count": 0,
   "metadata": {
    "application/vnd.databricks.v1+cell": {
     "cellMetadata": {
      "byteLimit": 2048000,
      "rowLimit": 10000
     },
     "inputWidgets": {},
     "nuid": "0b9e17bb-91be-417d-b707-93572ceb7bd7",
     "showTitle": false,
     "tableResultSettingsMap": {},
     "title": ""
    }
   },
   "outputs": [],
   "source": [
    "import numpy as np\n",
    "import pandas as pd\n",
    "\n",
    "# Randomly initialize factors\n",
    "np.random.seed(42)\n",
    "rank = 10  # number of latent features\n",
    "\n",
    "num_users = C_df.select(\"user_idx\").distinct().count()\n",
    "num_items = C_df.select(\"item_idx\").distinct().count()\n",
    "\n",
    "user_factors = pd.DataFrame({\n",
    "    \"user_idx\": list(range(num_users)),\n",
    "    \"factors\": [np.random.rand(rank).astype(np.float32) for _ in range(num_users)]\n",
    "})\n",
    "\n",
    "item_factors = pd.DataFrame({\n",
    "    \"item_idx\": list(range(num_items)),\n",
    "    \"factors\": [np.random.rand(rank).astype(np.float32) for _ in range(num_items)]\n",
    "})\n",
    "\n",
    "#user_factors_df = C_df.select(\"user_idx\").distinct().withColumn(\"factors\", F.expr(f\"array_repeat(rand(), {rank})\"))\n",
    "#item_factors_df = C_df.select(\"item_idx\").distinct().withColumn(\"factors\", F.expr(f\"array_repeat(rand(), {rank})\"))\n",
    "\n",
    "user_factors_df = spark.createDataFrame(user_factors)\n",
    "item_factors_df = spark.createDataFrame(item_factors)\n",
    "\n",
    "#display(user_factors_df.limit(20))"
   ]
  },
  {
   "cell_type": "markdown",
   "metadata": {
    "application/vnd.databricks.v1+cell": {
     "cellMetadata": {},
     "inputWidgets": {},
     "nuid": "39b0c0a1-dd3b-4c88-a269-de2a07b2019d",
     "showTitle": false,
     "tableResultSettingsMap": {},
     "title": ""
    }
   },
   "source": [
    "### ALS\n",
    "Function updates a single user's latent factor vector by solving a regularized least squares problem using their interactions and corresponding item factors. It computes matrices A and b based on confidence-weighted outer products and ratings, then solves for the updated user vector and returns it as a DataFrame."
   ]
  },
  {
   "cell_type": "code",
   "execution_count": 0,
   "metadata": {
    "application/vnd.databricks.v1+cell": {
     "cellMetadata": {
      "byteLimit": 2048000,
      "rowLimit": 10000
     },
     "inputWidgets": {},
     "nuid": "052d02c7-2eca-4f92-858a-9fd8f45005a7",
     "showTitle": false,
     "tableResultSettingsMap": {},
     "title": ""
    }
   },
   "outputs": [],
   "source": [
    "def update_user_factors(pdf: pd.DataFrame, item_vecs: pd.DataFrame) -> pd.DataFrame:\n",
    "    item_vecs = item_vecs.set_index(\"item_idx\")\n",
    "    user = pdf['user_idx'].iloc[0]\n",
    "\n",
    "    A = np.zeros((rank, rank), dtype=np.float32)\n",
    "    b = np.zeros(rank, dtype=np.float32)\n",
    "\n",
    "    for _, row in pdf.iterrows():\n",
    "        i = row['item_idx']\n",
    "        c = row['confidence']\n",
    "        r_ui = row['book_rating']\n",
    "        y_i = np.array(item_vecs.loc[i]['factors'])\n",
    "\n",
    "        A += c * np.outer(y_i, y_i) + lambda_eye\n",
    "        b += c * r_ui * y_i\n",
    "\n",
    "    x_u = np.linalg.solve(A, b)\n",
    "    return pd.DataFrame([[user, x_u.astype(np.float32)]], columns=[\"user_idx\", \"factors\"])"
   ]
  },
  {
   "cell_type": "code",
   "execution_count": 0,
   "metadata": {
    "application/vnd.databricks.v1+cell": {
     "cellMetadata": {
      "byteLimit": 2048000,
      "rowLimit": 10000
     },
     "inputWidgets": {},
     "nuid": "436d1597-509a-47aa-a60c-4baa8e6037ef",
     "showTitle": false,
     "tableResultSettingsMap": {},
     "title": ""
    }
   },
   "outputs": [],
   "source": [
    "def update_item_factors(pdf: pd.DataFrame, user_vecs: pd.DataFrame) -> pd.DataFrame:\n",
    "    user_vecs = user_vecs.set_index(\"user_idx\")\n",
    "    item = pdf['item_idx'].iloc[0]\n",
    "\n",
    "    A = np.zeros((rank, rank), dtype=np.float32)\n",
    "    b = np.zeros(rank, dtype=np.float32)\n",
    "\n",
    "    for _, row in pdf.iterrows():\n",
    "        u = row['user_idx']\n",
    "        c = row['confidence']\n",
    "        r_ui = row['book_rating']\n",
    "        x_u = np.array(user_vecs.loc[u]['factors'])\n",
    "\n",
    "        A += c * np.outer(x_u, x_u) + lambda_eye\n",
    "        b += c * r_ui * x_u\n",
    "\n",
    "    y_i = np.linalg.solve(A, b)\n",
    "    return pd.DataFrame([[item, y_i.astype(np.float32)]], columns=[\"item_idx\", \"factors\"])\n"
   ]
  },
  {
   "cell_type": "code",
   "execution_count": 0,
   "metadata": {
    "application/vnd.databricks.v1+cell": {
     "cellMetadata": {
      "byteLimit": 2048000,
      "rowLimit": 10000
     },
     "inputWidgets": {},
     "nuid": "7ffa502e-6947-44cf-ba90-e691e639a212",
     "showTitle": false,
     "tableResultSettingsMap": {},
     "title": ""
    }
   },
   "outputs": [
    {
     "output_type": "stream",
     "name": "stdout",
     "output_type": "stream",
     "text": [
      "ALS Iteration 1\nALS Iteration 2\nALS Iteration 3\nALS Iteration 4\nALS Iteration 5\nALS Iteration 6\nALS Iteration 7\nALS Iteration 8\nALS Iteration 9\nALS Iteration 10\n"
     ]
    }
   ],
   "source": [
    "ratings_df = C_df  # Contains: user_idx, item_idx, book_rating, confidence\n",
    "\n",
    "for iteration in range(10):\n",
    "    print(f\"ALS Iteration {iteration + 1}\")\n",
    "\n",
    "    # === Update user factors ===\n",
    "    # Convert item factors to pandas for use in the function\n",
    "    item_factors_pd = item_factors_df.toPandas()\n",
    "\n",
    "    # Join ratings with item factors to update users\n",
    "    user_join = ratings_df.join(item_factors_df, on=\"item_idx\")\n",
    "\n",
    "    user_factors_df = user_join.groupBy(\"user_idx\").applyInPandas(\n",
    "        lambda pdf: update_user_factors(pdf, item_factors_pd),\n",
    "        schema=user_schema\n",
    "    )\n",
    "\n",
    "    # === Update item factors ===\n",
    "    # Convert user factors to pandas for use in the function\n",
    "    user_factors_pd = user_factors_df.toPandas()\n",
    "\n",
    "    # Join ratings with user factors to update items\n",
    "    item_join = ratings_df.join(user_factors_df, on=\"user_idx\")\n",
    "\n",
    "    item_factors_df = item_join.groupBy(\"item_idx\").applyInPandas(\n",
    "        lambda pdf: update_item_factors(pdf, user_factors_pd),\n",
    "        schema=item_schema\n",
    "    )\n"
   ]
  },
  {
   "cell_type": "markdown",
   "metadata": {
    "application/vnd.databricks.v1+cell": {
     "cellMetadata": {},
     "inputWidgets": {},
     "nuid": "dc2f68aa-3e9c-4908-aada-65022bf18b53",
     "showTitle": false,
     "tableResultSettingsMap": {},
     "title": ""
    }
   },
   "source": [
    "### Prediction\n",
    "Reenames the user and item latent factor columns for clarity, then joins them with the ratings data to prepare for prediction. It defines a UDF to compute the dot product between user and item vectors and adds the resulting predicted rating as a new column called \"prediction\"."
   ]
  },
  {
   "cell_type": "code",
   "execution_count": 0,
   "metadata": {
    "application/vnd.databricks.v1+cell": {
     "cellMetadata": {
      "byteLimit": 2048000,
      "rowLimit": 10000
     },
     "inputWidgets": {},
     "nuid": "fe2dd01d-d4b8-4a79-bec9-3da9a49b1918",
     "showTitle": false,
     "tableResultSettingsMap": {},
     "title": ""
    }
   },
   "outputs": [],
   "source": [
    "\n",
    "\n",
    "# Rename for clarity\n",
    "user_factors_df_renamed = user_factors_df.withColumnRenamed(\"factors\", \"user_factors\")\n",
    "item_factors_df_renamed = item_factors_df.withColumnRenamed(\"factors\", \"item_factors\")\n",
    "\n",
    "pred_df = ratings_df \\\n",
    "    .join(user_factors_df_renamed, on=\"user_idx\") \\\n",
    "    .join(item_factors_df_renamed, on=\"item_idx\")\n",
    "\n",
    "from pyspark.sql.functions import udf\n",
    "from pyspark.sql.types import FloatType\n",
    "import numpy as np\n",
    "\n",
    "@udf(FloatType())\n",
    "def dot_product(user_vec, item_vec):\n",
    "    return float(np.dot(user_vec, item_vec))\n",
    "\n",
    "\n",
    "\n",
    "pred_df = pred_df.withColumn(\"prediction\", dot_product(\"user_factors\", \"item_factors\"))\n",
    "  "
   ]
  },
  {
   "cell_type": "code",
   "execution_count": 0,
   "metadata": {
    "application/vnd.databricks.v1+cell": {
     "cellMetadata": {
      "byteLimit": 2048000,
      "rowLimit": 10000
     },
     "inputWidgets": {},
     "nuid": "18eb1b19-d8f8-4b62-851c-9fe9b94bfc7d",
     "showTitle": false,
     "tableResultSettingsMap": {},
     "title": ""
    }
   },
   "outputs": [],
   "source": [
    "predictions = pred_df.select(\"user_idx\", \"item_idx\", \"prediction\")\n",
    "\n"
   ]
  },
  {
   "cell_type": "markdown",
   "metadata": {
    "application/vnd.databricks.v1+cell": {
     "cellMetadata": {},
     "inputWidgets": {},
     "nuid": "2d2a2dc5-56b7-48a3-9fbe-a7e6d05cc577",
     "showTitle": false,
     "tableResultSettingsMap": {},
     "title": ""
    }
   },
   "source": [
    "### Top 10 Books for each of my Coworkers\n",
    "We'll compare these to the UBCF ones"
   ]
  },
  {
   "cell_type": "code",
   "execution_count": 0,
   "metadata": {
    "application/vnd.databricks.v1+cell": {
     "cellMetadata": {
      "byteLimit": 2048000,
      "rowLimit": 10000
     },
     "inputWidgets": {},
     "nuid": "6d024814-6ffe-44ed-bfa6-06c52b60474a",
     "showTitle": false,
     "tableResultSettingsMap": {},
     "title": ""
    }
   },
   "outputs": [],
   "source": [
    "from pyspark.sql.functions import col\n",
    "from pyspark.sql import Row\n",
    "\n",
    "# Define the list of target users\n",
    "target_users = spark.createDataFrame([Row(user_idx=i) for i in range(1, 8)])\n",
    "\n",
    "# Get all items\n",
    "all_items = item_factors_df.select(\"item_idx\").distinct()\n",
    "\n",
    "# Generate candidate pairs: every item for each user (users 1–7)\n",
    "candidate_pairs = target_users.crossJoin(all_items)\n"
   ]
  },
  {
   "cell_type": "code",
   "execution_count": 0,
   "metadata": {
    "application/vnd.databricks.v1+cell": {
     "cellMetadata": {
      "byteLimit": 2048000,
      "rowLimit": 10000
     },
     "inputWidgets": {},
     "nuid": "4be8e7ec-e22f-4ea3-abbb-104955cdbcdb",
     "showTitle": false,
     "tableResultSettingsMap": {},
     "title": ""
    }
   },
   "outputs": [],
   "source": [
    "joined_df = candidate_pairs \\\n",
    "    .join(user_factors_df_renamed, on=\"user_idx\") \\\n",
    "    .join(item_factors_df_renamed, on=\"item_idx\")\n"
   ]
  },
  {
   "cell_type": "code",
   "execution_count": 0,
   "metadata": {
    "application/vnd.databricks.v1+cell": {
     "cellMetadata": {
      "byteLimit": 2048000,
      "rowLimit": 10000
     },
     "inputWidgets": {},
     "nuid": "48d68095-b1d2-45a7-bb39-d5cbbef3c31c",
     "showTitle": false,
     "tableResultSettingsMap": {},
     "title": ""
    }
   },
   "outputs": [],
   "source": [
    "from pyspark.sql.functions import udf\n",
    "from pyspark.sql.types import FloatType\n",
    "import numpy as np\n",
    "\n",
    "@udf(FloatType())\n",
    "def dot_product(user_vec, item_vec):\n",
    "    return float(np.dot(user_vec, item_vec))\n",
    "\n",
    "scored_df = joined_df.withColumn(\"prediction\", dot_product(\"user_factors\", \"item_factors\"))\n"
   ]
  },
  {
   "cell_type": "code",
   "execution_count": 0,
   "metadata": {
    "application/vnd.databricks.v1+cell": {
     "cellMetadata": {
      "byteLimit": 2048000,
      "rowLimit": 10000
     },
     "inputWidgets": {},
     "nuid": "48a3499f-0421-44da-8206-03c104b7d7b1",
     "showTitle": false,
     "tableResultSettingsMap": {},
     "title": ""
    }
   },
   "outputs": [],
   "source": [
    "from pyspark.sql.window import Window\n",
    "from pyspark.sql.functions import row_number\n",
    "\n",
    "window_spec = Window.partitionBy(\"user_idx\").orderBy(col(\"prediction\").desc())\n",
    "\n",
    "top_recommendations = scored_df.withColumn(\"rank\", row_number().over(window_spec)) \\\n",
    "                               .filter(col(\"rank\") <= 10) \\\n",
    "                               .select(\"user_idx\", \"item_idx\", \"prediction\", \"rank\")\n"
   ]
  },
  {
   "cell_type": "code",
   "execution_count": 0,
   "metadata": {
    "application/vnd.databricks.v1+cell": {
     "cellMetadata": {
      "byteLimit": 2048000,
      "rowLimit": 10000
     },
     "inputWidgets": {},
     "nuid": "2c557987-c9c5-46e8-804e-7fae6a03ff49",
     "showTitle": false,
     "tableResultSettingsMap": {},
     "title": ""
    }
   },
   "outputs": [
    {
     "output_type": "stream",
     "name": "stdout",
     "output_type": "stream",
     "text": [
      "+--------+--------+----------+----+\n|user_idx|item_idx|prediction|rank|\n+--------+--------+----------+----+\n|1       |1494    |16.966578 |1   |\n|1       |543     |16.891861 |2   |\n|1       |827     |16.821844 |3   |\n|1       |1170    |16.626366 |4   |\n|1       |1874    |16.316015 |5   |\n|1       |3996    |16.196184 |6   |\n|1       |1716    |15.926072 |7   |\n|1       |1798    |15.738433 |8   |\n|1       |1018    |15.6361   |9   |\n|1       |52      |14.970243 |10  |\n|2       |4017    |27.487793 |1   |\n|2       |3266    |19.641777 |2   |\n|2       |3623    |18.882627 |3   |\n|2       |596     |18.728569 |4   |\n|2       |3602    |18.400625 |5   |\n|2       |2509    |17.730303 |6   |\n|2       |417     |17.608725 |7   |\n|2       |1750    |17.221497 |8   |\n|2       |2340    |16.924603 |9   |\n|2       |967     |16.844816 |10  |\n|3       |4391    |19.8246   |1   |\n|3       |1750    |18.084276 |2   |\n|3       |1051    |17.29741  |3   |\n|3       |2323    |15.5716095|4   |\n|3       |2926    |14.889411 |5   |\n|3       |3068    |14.390622 |6   |\n|3       |4017    |14.049205 |7   |\n|3       |1476    |13.701769 |8   |\n|3       |1873    |13.325183 |9   |\n|3       |2258    |13.279913 |10  |\n|4       |2926    |37.520332 |1   |\n|4       |3470    |36.137997 |2   |\n|4       |246     |35.751144 |3   |\n|4       |4480    |35.00151  |4   |\n|4       |3732    |34.76977  |5   |\n|4       |2135    |33.95147  |6   |\n|4       |1494    |32.344822 |7   |\n|4       |537     |32.22182  |8   |\n|4       |2590    |31.803198 |9   |\n|4       |583     |31.473211 |10  |\n|5       |2704    |21.625572 |1   |\n|5       |2287    |19.40868  |2   |\n|5       |4464    |17.70883  |3   |\n|5       |1750    |16.504923 |4   |\n|5       |2404    |16.32107  |5   |\n|5       |584     |16.301981 |6   |\n|5       |632     |16.228334 |7   |\n|5       |76      |16.138935 |8   |\n|5       |747     |16.017113 |9   |\n|5       |4072    |15.956803 |10  |\n|6       |3623    |13.668524 |1   |\n|6       |3472    |11.618937 |2   |\n|6       |4235    |11.532139 |3   |\n|6       |783     |11.379658 |4   |\n|6       |596     |11.032087 |5   |\n|6       |2347    |10.97013  |6   |\n|6       |1874    |10.9175205|7   |\n|6       |3023    |10.790005 |8   |\n|6       |3269    |10.767987 |9   |\n|6       |3960    |10.554505 |10  |\n|7       |505     |53.753414 |1   |\n|7       |2258    |51.896164 |2   |\n|7       |4116    |47.485554 |3   |\n|7       |2530    |47.280193 |4   |\n|7       |3023    |45.362743 |5   |\n|7       |3809    |44.68046  |6   |\n|7       |3279    |43.939743 |7   |\n|7       |2933    |42.280636 |8   |\n|7       |3960    |42.137115 |9   |\n|7       |2271    |41.79717  |10  |\n+--------+--------+----------+----+\n\n"
     ]
    }
   ],
   "source": [
    "top_recommendations.orderBy(\"user_idx\", \"rank\").show(100, truncate=False)\n"
   ]
  },
  {
   "cell_type": "code",
   "execution_count": 0,
   "metadata": {
    "application/vnd.databricks.v1+cell": {
     "cellMetadata": {
      "byteLimit": 2048000,
      "rowLimit": 10000
     },
     "inputWidgets": {},
     "nuid": "64dcdb4b-ae80-4d09-80a7-b6b3267b3188",
     "showTitle": false,
     "tableResultSettingsMap": {
      "0": {
       "dataGridStateBlob": "{\"version\":1,\"tableState\":{\"columnPinning\":{\"left\":[\"#row_number#\"],\"right\":[]},\"columnSizing\":{\"#row_number#\":52},\"columnVisibility\":{}},\"settings\":{\"columns\":{}},\"syncTimestamp\":1752970036529}",
       "filterBlob": null,
       "queryPlanFiltersBlob": null,
       "tableResultIndex": 0
      }
     },
     "title": ""
    }
   },
   "outputs": [
    {
     "output_type": "display_data",
     "data": {
      "text/html": [
       "<style scoped>\n",
       "  .table-result-container {\n",
       "    max-height: 300px;\n",
       "    overflow: auto;\n",
       "  }\n",
       "  table, th, td {\n",
       "    border: 1px solid black;\n",
       "    border-collapse: collapse;\n",
       "  }\n",
       "  th, td {\n",
       "    padding: 5px;\n",
       "  }\n",
       "  th {\n",
       "    text-align: left;\n",
       "  }\n",
       "</style><div class='table-result-container'><table class='table-result'><thead style='background-color: white'><tr><th>isbn</th><th>item_idx</th><th>user_idx</th><th>prediction</th><th>rank</th><th>book_title</th></tr></thead><tbody><tr><td>0446516325</td><td>1494</td><td>1</td><td>16.966578</td><td>1</td><td>Fat Tuesday</td></tr><tr><td>0373218958</td><td>543</td><td>1</td><td>16.891861</td><td>2</td><td>Less Of A Stranger (Silhouette Single Title)</td></tr><tr><td>3404148665</td><td>827</td><td>1</td><td>16.821844</td><td>3</td><td>Illuminati.</td></tr><tr><td>0307301451</td><td>1170</td><td>1</td><td>16.626366</td><td>4</td><td>Disney's the Lion King (Little Golden Book)</td></tr><tr><td>0399143696</td><td>1874</td><td>1</td><td>16.316015</td><td>5</td><td>Then Came Heaven</td></tr><tr><td>0440407079</td><td>3996</td><td>1</td><td>16.196184</td><td>6</td><td>Blubber (Yearling Books (Paperback))</td></tr><tr><td>0345384733</td><td>1716</td><td>1</td><td>15.926072</td><td>7</td><td>Red Square</td></tr><tr><td>0446608378</td><td>1798</td><td>1</td><td>15.738433</td><td>8</td><td>Thunderhead</td></tr><tr><td>0380808307</td><td>1018</td><td>1</td><td>15.6361</td><td>9</td><td>Just Imagine</td></tr><tr><td>0380975068</td><td>52</td><td>1</td><td>14.970243</td><td>10</td><td>The Lust Lizard of Melancholy Cove</td></tr><tr><td>0553282980</td><td>4017</td><td>2</td><td>27.487793</td><td>1</td><td>Dead Poets Society</td></tr><tr><td>0446401617</td><td>3266</td><td>2</td><td>19.641777</td><td>2</td><td>Where Echoes Live</td></tr><tr><td>0380814382</td><td>3623</td><td>2</td><td>18.882627</td><td>3</td><td>True Confessions (Avon Romance)</td></tr><tr><td>0743436830</td><td>596</td><td>2</td><td>18.728569</td><td>4</td><td>River Road (Ross, Joann. Callahan Brothers Trilogy, 2.)</td></tr><tr><td>1400077826</td><td>3602</td><td>2</td><td>18.400625</td><td>5</td><td>Cold Mountain (MTI) (Vintage Contemporaries)</td></tr><tr><td>038531695X</td><td>2509</td><td>2</td><td>17.730303</td><td>6</td><td>The Ghost</td></tr><tr><td>0446600709</td><td>417</td><td>2</td><td>17.608725</td><td>7</td><td>Assumed Identity</td></tr><tr><td>038081093X</td><td>1750</td><td>2</td><td>17.221497</td><td>8</td><td>Excavation</td></tr><tr><td>0440114764</td><td>2340</td><td>2</td><td>16.924603</td><td>9</td><td>The cradle will fall</td></tr><tr><td>0684859734</td><td>967</td><td>2</td><td>16.844816</td><td>10</td><td>Grave Secrets (Temperance Brennan Novel (Hardcover))</td></tr><tr><td>044022392X</td><td>4391</td><td>3</td><td>19.8246</td><td>1</td><td>The Keys to the Street: A Novel of Suspense</td></tr><tr><td>038081093X</td><td>1750</td><td>3</td><td>18.084276</td><td>2</td><td>Excavation</td></tr><tr><td>0786889624</td><td>1051</td><td>3</td><td>17.29741</td><td>3</td><td>The Hearse You Came in On (Hitchcock Sewell Mysteries (Paperback))</td></tr><tr><td>0446605336</td><td>2323</td><td>3</td><td>15.5716095</td><td>4</td><td>My Sergei : A Love Story</td></tr><tr><td>0373239963</td><td>2926</td><td>3</td><td>14.889411</td><td>5</td><td>Waiting For Nick (Silhouette Special Edition)</td></tr><tr><td>0679459596</td><td>3068</td><td>3</td><td>14.390622</td><td>6</td><td>Billy Straight: A Novel</td></tr><tr><td>0553282980</td><td>4017</td><td>3</td><td>14.049205</td><td>7</td><td>Dead Poets Society</td></tr><tr><td>0380812037</td><td>1476</td><td>3</td><td>13.701769</td><td>8</td><td>On a Wild Night (Cynster Novels)</td></tr><tr><td>0515084891</td><td>1873</td><td>3</td><td>13.325183</td><td>9</td><td>Years</td></tr><tr><td>0312287364</td><td>2258</td><td>3</td><td>13.279913</td><td>10</td><td>Feeling Sorry for Celia : A Novel</td></tr><tr><td>0373239963</td><td>2926</td><td>4</td><td>37.520332</td><td>1</td><td>Waiting For Nick (Silhouette Special Edition)</td></tr><tr><td>0553109839</td><td>3470</td><td>4</td><td>36.137997</td><td>2</td><td>The Patient</td></tr><tr><td>082177462X</td><td>246</td><td>4</td><td>35.751144</td><td>3</td><td>Kentucky Sunrise</td></tr><tr><td>0553571583</td><td>4480</td><td>4</td><td>35.00151</td><td>4</td><td>Breakfast in Bed</td></tr><tr><td>0684822652</td><td>3732</td><td>4</td><td>34.76977</td><td>5</td><td>THREE TO GET DEADLY : A Stephanie Plum Novel</td></tr><tr><td>0743410653</td><td>2135</td><td>4</td><td>33.95147</td><td>6</td><td>Booked to Die (Cliff Janeway Novels (Paperback))</td></tr><tr><td>0446516325</td><td>1494</td><td>4</td><td>32.344822</td><td>7</td><td>Fat Tuesday</td></tr><tr><td>0679771476</td><td>537</td><td>4</td><td>32.22182</td><td>8</td><td>The Law of Similars</td></tr><tr><td>0380712040</td><td>2590</td><td>4</td><td>31.803198</td><td>9</td><td>Black Cherry Blues: A Dave Robicheaux Novel</td></tr><tr><td>0671415085</td><td>583</td><td>4</td><td>31.473211</td><td>10</td><td>IF THERE BE THORN</td></tr><tr><td>0743233468</td><td>2704</td><td>5</td><td>21.625572</td><td>1</td><td>Bare Bones : A Novel</td></tr><tr><td>0373250363</td><td>2287</td><td>5</td><td>19.40868</td><td>2</td><td>As Seen on TV</td></tr><tr><td>0380780860</td><td>4464</td><td>5</td><td>17.70883</td><td>3</td><td>Murder on a Girls' Night Out: A Southern Sisters Mystery</td></tr><tr><td>038081093X</td><td>1750</td><td>5</td><td>16.504923</td><td>4</td><td>Excavation</td></tr><tr><td>0842345523</td><td>2404</td><td>5</td><td>16.32107</td><td>5</td><td>More Than a Carpenter</td></tr><tr><td>0590494503</td><td>584</td><td>5</td><td>16.301981</td><td>6</td><td>You Can't Scare Me! (Goosebumps, No 15)</td></tr><tr><td>0345457641</td><td>632</td><td>5</td><td>16.228334</td><td>7</td><td>A Thousand Days in Venice: An Unexpected Romance (Ballantine Reader's Circle)</td></tr><tr><td>0312955006</td><td>76</td><td>5</td><td>16.138935</td><td>8</td><td>The Concrete Blonde (A Harry Bosch Novel)</td></tr><tr><td>0880381752</td><td>747</td><td>5</td><td>16.017113</td><td>9</td><td>Dragons of Spring Dawning (Dragonlance Chronicles, Vol 3)</td></tr><tr><td>067974388X</td><td>4072</td><td>5</td><td>15.956803</td><td>10</td><td>The Tightwad Gazette: Promoting Thrift As a Viable Alternative Lifestyle</td></tr><tr><td>0380814382</td><td>3623</td><td>6</td><td>13.668524</td><td>1</td><td>True Confessions (Avon Romance)</td></tr><tr><td>1551666561</td><td>3472</td><td>6</td><td>11.618937</td><td>2</td><td>Letting Go</td></tr><tr><td>0451203070</td><td>4235</td><td>6</td><td>11.532139</td><td>3</td><td>Tending Roses</td></tr><tr><td>0064400484</td><td>783</td><td>6</td><td>11.379658</td><td>4</td><td>Trumpet of the Swan</td></tr><tr><td>0743436830</td><td>596</td><td>6</td><td>11.032087</td><td>5</td><td>River Road (Ross, Joann. Callahan Brothers Trilogy, 2.)</td></tr><tr><td>0060558199</td><td>2347</td><td>6</td><td>10.97013</td><td>6</td><td>Save Karyn : One Shopaholic's Journey to Debt and Back</td></tr><tr><td>0399143696</td><td>1874</td><td>6</td><td>10.9175205</td><td>7</td><td>Then Came Heaven</td></tr><tr><td>0399149783</td><td>3023</td><td>6</td><td>10.790005</td><td>8</td><td>Monkeewrench</td></tr><tr><td>0440932599</td><td>3269</td><td>6</td><td>10.767987</td><td>9</td><td>Deenie</td></tr><tr><td>0684801469</td><td>3960</td><td>6</td><td>10.554505</td><td>10</td><td>Farewell To Arms</td></tr><tr><td>0061091316</td><td>505</td><td>7</td><td>53.753414</td><td>1</td><td>Lost Boys</td></tr><tr><td>0312287364</td><td>2258</td><td>7</td><td>51.896164</td><td>2</td><td>Feeling Sorry for Celia : A Novel</td></tr><tr><td>0345453808</td><td>4116</td><td>7</td><td>47.485554</td><td>3</td><td>Killjoy</td></tr><tr><td>0399146008</td><td>2530</td><td>7</td><td>47.280193</td><td>4</td><td>Shock</td></tr><tr><td>0399149783</td><td>3023</td><td>7</td><td>45.362743</td><td>5</td><td>Monkeewrench</td></tr><tr><td>0380756250</td><td>3809</td><td>7</td><td>44.68046</td><td>6</td><td>Once a Princess</td></tr><tr><td>0515134457</td><td>3279</td><td>7</td><td>43.939743</td><td>7</td><td>Blue Moon</td></tr><tr><td>0020532105</td><td>2933</td><td>7</td><td>42.280636</td><td>8</td><td>CRY THE BELOVED COUNTRY (Scribner Classic)</td></tr><tr><td>0684801469</td><td>3960</td><td>7</td><td>42.137115</td><td>9</td><td>Farewell To Arms</td></tr><tr><td>1551667223</td><td>2271</td><td>7</td><td>41.79717</td><td>10</td><td>Flamingo Diner</td></tr></tbody></table></div>"
      ]
     },
     "metadata": {
      "application/vnd.databricks.v1+output": {
       "addedWidgets": {},
       "aggData": [],
       "aggError": "",
       "aggOverflow": false,
       "aggSchema": [],
       "aggSeriesLimitReached": false,
       "aggType": "",
       "arguments": {},
       "columnCustomDisplayInfos": {},
       "data": [
        [
         "0446516325",
         1494,
         1,
         16.966578,
         1,
         "Fat Tuesday"
        ],
        [
         "0373218958",
         543,
         1,
         16.891861,
         2,
         "Less Of A Stranger (Silhouette Single Title)"
        ],
        [
         "3404148665",
         827,
         1,
         16.821844,
         3,
         "Illuminati."
        ],
        [
         "0307301451",
         1170,
         1,
         16.626366,
         4,
         "Disney's the Lion King (Little Golden Book)"
        ],
        [
         "0399143696",
         1874,
         1,
         16.316015,
         5,
         "Then Came Heaven"
        ],
        [
         "0440407079",
         3996,
         1,
         16.196184,
         6,
         "Blubber (Yearling Books (Paperback))"
        ],
        [
         "0345384733",
         1716,
         1,
         15.926072,
         7,
         "Red Square"
        ],
        [
         "0446608378",
         1798,
         1,
         15.738433,
         8,
         "Thunderhead"
        ],
        [
         "0380808307",
         1018,
         1,
         15.6361,
         9,
         "Just Imagine"
        ],
        [
         "0380975068",
         52,
         1,
         14.970243,
         10,
         "The Lust Lizard of Melancholy Cove"
        ],
        [
         "0553282980",
         4017,
         2,
         27.487793,
         1,
         "Dead Poets Society"
        ],
        [
         "0446401617",
         3266,
         2,
         19.641777,
         2,
         "Where Echoes Live"
        ],
        [
         "0380814382",
         3623,
         2,
         18.882627,
         3,
         "True Confessions (Avon Romance)"
        ],
        [
         "0743436830",
         596,
         2,
         18.728569,
         4,
         "River Road (Ross, Joann. Callahan Brothers Trilogy, 2.)"
        ],
        [
         "1400077826",
         3602,
         2,
         18.400625,
         5,
         "Cold Mountain (MTI) (Vintage Contemporaries)"
        ],
        [
         "038531695X",
         2509,
         2,
         17.730303,
         6,
         "The Ghost"
        ],
        [
         "0446600709",
         417,
         2,
         17.608725,
         7,
         "Assumed Identity"
        ],
        [
         "038081093X",
         1750,
         2,
         17.221497,
         8,
         "Excavation"
        ],
        [
         "0440114764",
         2340,
         2,
         16.924603,
         9,
         "The cradle will fall"
        ],
        [
         "0684859734",
         967,
         2,
         16.844816,
         10,
         "Grave Secrets (Temperance Brennan Novel (Hardcover))"
        ],
        [
         "044022392X",
         4391,
         3,
         19.8246,
         1,
         "The Keys to the Street: A Novel of Suspense"
        ],
        [
         "038081093X",
         1750,
         3,
         18.084276,
         2,
         "Excavation"
        ],
        [
         "0786889624",
         1051,
         3,
         17.29741,
         3,
         "The Hearse You Came in On (Hitchcock Sewell Mysteries (Paperback))"
        ],
        [
         "0446605336",
         2323,
         3,
         15.5716095,
         4,
         "My Sergei : A Love Story"
        ],
        [
         "0373239963",
         2926,
         3,
         14.889411,
         5,
         "Waiting For Nick (Silhouette Special Edition)"
        ],
        [
         "0679459596",
         3068,
         3,
         14.390622,
         6,
         "Billy Straight: A Novel"
        ],
        [
         "0553282980",
         4017,
         3,
         14.049205,
         7,
         "Dead Poets Society"
        ],
        [
         "0380812037",
         1476,
         3,
         13.701769,
         8,
         "On a Wild Night (Cynster Novels)"
        ],
        [
         "0515084891",
         1873,
         3,
         13.325183,
         9,
         "Years"
        ],
        [
         "0312287364",
         2258,
         3,
         13.279913,
         10,
         "Feeling Sorry for Celia : A Novel"
        ],
        [
         "0373239963",
         2926,
         4,
         37.520332,
         1,
         "Waiting For Nick (Silhouette Special Edition)"
        ],
        [
         "0553109839",
         3470,
         4,
         36.137997,
         2,
         "The Patient"
        ],
        [
         "082177462X",
         246,
         4,
         35.751144,
         3,
         "Kentucky Sunrise"
        ],
        [
         "0553571583",
         4480,
         4,
         35.00151,
         4,
         "Breakfast in Bed"
        ],
        [
         "0684822652",
         3732,
         4,
         34.76977,
         5,
         "THREE TO GET DEADLY : A Stephanie Plum Novel"
        ],
        [
         "0743410653",
         2135,
         4,
         33.95147,
         6,
         "Booked to Die (Cliff Janeway Novels (Paperback))"
        ],
        [
         "0446516325",
         1494,
         4,
         32.344822,
         7,
         "Fat Tuesday"
        ],
        [
         "0679771476",
         537,
         4,
         32.22182,
         8,
         "The Law of Similars"
        ],
        [
         "0380712040",
         2590,
         4,
         31.803198,
         9,
         "Black Cherry Blues: A Dave Robicheaux Novel"
        ],
        [
         "0671415085",
         583,
         4,
         31.473211,
         10,
         "IF THERE BE THORN"
        ],
        [
         "0743233468",
         2704,
         5,
         21.625572,
         1,
         "Bare Bones : A Novel"
        ],
        [
         "0373250363",
         2287,
         5,
         19.40868,
         2,
         "As Seen on TV"
        ],
        [
         "0380780860",
         4464,
         5,
         17.70883,
         3,
         "Murder on a Girls' Night Out: A Southern Sisters Mystery"
        ],
        [
         "038081093X",
         1750,
         5,
         16.504923,
         4,
         "Excavation"
        ],
        [
         "0842345523",
         2404,
         5,
         16.32107,
         5,
         "More Than a Carpenter"
        ],
        [
         "0590494503",
         584,
         5,
         16.301981,
         6,
         "You Can't Scare Me! (Goosebumps, No 15)"
        ],
        [
         "0345457641",
         632,
         5,
         16.228334,
         7,
         "A Thousand Days in Venice: An Unexpected Romance (Ballantine Reader's Circle)"
        ],
        [
         "0312955006",
         76,
         5,
         16.138935,
         8,
         "The Concrete Blonde (A Harry Bosch Novel)"
        ],
        [
         "0880381752",
         747,
         5,
         16.017113,
         9,
         "Dragons of Spring Dawning (Dragonlance Chronicles, Vol 3)"
        ],
        [
         "067974388X",
         4072,
         5,
         15.956803,
         10,
         "The Tightwad Gazette: Promoting Thrift As a Viable Alternative Lifestyle"
        ],
        [
         "0380814382",
         3623,
         6,
         13.668524,
         1,
         "True Confessions (Avon Romance)"
        ],
        [
         "1551666561",
         3472,
         6,
         11.618937,
         2,
         "Letting Go"
        ],
        [
         "0451203070",
         4235,
         6,
         11.532139,
         3,
         "Tending Roses"
        ],
        [
         "0064400484",
         783,
         6,
         11.379658,
         4,
         "Trumpet of the Swan"
        ],
        [
         "0743436830",
         596,
         6,
         11.032087,
         5,
         "River Road (Ross, Joann. Callahan Brothers Trilogy, 2.)"
        ],
        [
         "0060558199",
         2347,
         6,
         10.97013,
         6,
         "Save Karyn : One Shopaholic's Journey to Debt and Back"
        ],
        [
         "0399143696",
         1874,
         6,
         10.9175205,
         7,
         "Then Came Heaven"
        ],
        [
         "0399149783",
         3023,
         6,
         10.790005,
         8,
         "Monkeewrench"
        ],
        [
         "0440932599",
         3269,
         6,
         10.767987,
         9,
         "Deenie"
        ],
        [
         "0684801469",
         3960,
         6,
         10.554505,
         10,
         "Farewell To Arms"
        ],
        [
         "0061091316",
         505,
         7,
         53.753414,
         1,
         "Lost Boys"
        ],
        [
         "0312287364",
         2258,
         7,
         51.896164,
         2,
         "Feeling Sorry for Celia : A Novel"
        ],
        [
         "0345453808",
         4116,
         7,
         47.485554,
         3,
         "Killjoy"
        ],
        [
         "0399146008",
         2530,
         7,
         47.280193,
         4,
         "Shock"
        ],
        [
         "0399149783",
         3023,
         7,
         45.362743,
         5,
         "Monkeewrench"
        ],
        [
         "0380756250",
         3809,
         7,
         44.68046,
         6,
         "Once a Princess"
        ],
        [
         "0515134457",
         3279,
         7,
         43.939743,
         7,
         "Blue Moon"
        ],
        [
         "0020532105",
         2933,
         7,
         42.280636,
         8,
         "CRY THE BELOVED COUNTRY (Scribner Classic)"
        ],
        [
         "0684801469",
         3960,
         7,
         42.137115,
         9,
         "Farewell To Arms"
        ],
        [
         "1551667223",
         2271,
         7,
         41.79717,
         10,
         "Flamingo Diner"
        ]
       ],
       "datasetInfos": [],
       "dbfsResultPath": null,
       "isJsonSchema": true,
       "metadata": {},
       "overflow": false,
       "plotOptions": {
        "customPlotOptions": {},
        "displayType": "table",
        "pivotAggregation": null,
        "pivotColumns": null,
        "xColumns": null,
        "yColumns": null
       },
       "removedWidgets": [],
       "schema": [
        {
         "metadata": "{}",
         "name": "isbn",
         "type": "\"string\""
        },
        {
         "metadata": "{}",
         "name": "item_idx",
         "type": "\"integer\""
        },
        {
         "metadata": "{}",
         "name": "user_idx",
         "type": "\"long\""
        },
        {
         "metadata": "{}",
         "name": "prediction",
         "type": "\"float\""
        },
        {
         "metadata": "{}",
         "name": "rank",
         "type": "\"integer\""
        },
        {
         "metadata": "{}",
         "name": "book_title",
         "type": "\"string\""
        }
       ],
       "type": "table"
      }
     },
     "output_type": "display_data"
    }
   ],
   "source": [
    "top_recommendations = top_recommendations.join(filtered_ratings.select(\"item_idx\", \"isbn\"), on=\"item_idx\", how=\"left\")\n",
    "top_recommendations = top_recommendations.join(books.select(\"isbn\", \"book_title\"), on=\"isbn\", how=\"left\")\n",
    "\n",
    "top_recommendations = top_recommendations.dropDuplicates([\"user_idx\", \"item_idx\"])\n",
    "\n",
    "display(top_recommendations.orderBy(\"user_idx\", \"rank\"))"
   ]
  },
  {
   "cell_type": "markdown",
   "metadata": {
    "application/vnd.databricks.v1+cell": {
     "cellMetadata": {},
     "inputWidgets": {},
     "nuid": "5680b972-d7c5-4aae-b2df-60b41381df33",
     "showTitle": false,
     "tableResultSettingsMap": {},
     "title": ""
    }
   },
   "source": [
    "### Top 10 Books (Image Gallery)"
   ]
  },
  {
   "cell_type": "code",
   "execution_count": 0,
   "metadata": {
    "application/vnd.databricks.v1+cell": {
     "cellMetadata": {
      "byteLimit": 2048000,
      "rowLimit": 10000
     },
     "inputWidgets": {},
     "nuid": "2938c3ee-0f68-4049-8631-d74db37185ae",
     "showTitle": false,
     "tableResultSettingsMap": {},
     "title": ""
    }
   },
   "outputs": [
    {
     "output_type": "display_data",
     "data": {
      "text/html": [
       "<style scoped>\n",
       "  .table-result-container {\n",
       "    max-height: 300px;\n",
       "    overflow: auto;\n",
       "  }\n",
       "  table, th, td {\n",
       "    border: 1px solid black;\n",
       "    border-collapse: collapse;\n",
       "  }\n",
       "  th, td {\n",
       "    padding: 5px;\n",
       "  }\n",
       "  th {\n",
       "    text-align: left;\n",
       "  }\n",
       "</style><div class='table-result-container'><table class='table-result'><thead style='background-color: white'><tr><th>isbn</th><th>item_idx</th><th>user_idx</th><th>prediction</th><th>rank</th><th>book_title</th><th>image_url_l</th></tr></thead><tbody><tr><td>0380975068</td><td>52</td><td>1</td><td>14.97026825</td><td>10</td><td>The Lust Lizard of Melancholy Cove</td><td>http://images.amazon.com/images/P/0380975068.01.LZZZZZZZ.jpg</td></tr><tr><td>0312955006</td><td>76</td><td>5</td><td>16.13894272</td><td>8</td><td>The Concrete Blonde (A Harry Bosch Novel)</td><td>http://images.amazon.com/images/P/0312955006.01.LZZZZZZZ.jpg</td></tr><tr><td>082177462X</td><td>246</td><td>4</td><td>35.7508049</td><td>3</td><td>Kentucky Sunrise</td><td>http://images.amazon.com/images/P/082177462X.01.LZZZZZZZ.jpg</td></tr><tr><td>0446600709</td><td>417</td><td>2</td><td>17.60940552</td><td>7</td><td>Assumed Identity</td><td>http://images.amazon.com/images/P/0446600709.01.LZZZZZZZ.jpg</td></tr><tr><td>0061091316</td><td>505</td><td>7</td><td>53.7549324</td><td>1</td><td>Lost Boys</td><td>http://images.amazon.com/images/P/0061091316.01.LZZZZZZZ.jpg</td></tr><tr><td>0679771476</td><td>537</td><td>4</td><td>32.22299957</td><td>8</td><td>The Law of Similars</td><td>http://images.amazon.com/images/P/0679771476.01.LZZZZZZZ.jpg</td></tr><tr><td>0373218958</td><td>543</td><td>1</td><td>16.89243698</td><td>2</td><td>Less Of A Stranger (Silhouette Single Title)</td><td>http://images.amazon.com/images/P/0373218958.01.LZZZZZZZ.jpg</td></tr><tr><td>0590494503</td><td>584</td><td>5</td><td>16.30207634</td><td>6</td><td>You Can't Scare Me! (Goosebumps, No 15)</td><td>http://images.amazon.com/images/P/0590494503.01.LZZZZZZZ.jpg</td></tr><tr><td>0671415085</td><td>583</td><td>4</td><td>31.47525978</td><td>10</td><td>IF THERE BE THORN</td><td>http://images.amazon.com/images/P/0671415085.01.LZZZZZZZ.jpg</td></tr><tr><td>0743436830</td><td>596</td><td>6</td><td>11.03203106</td><td>5</td><td>River Road (Ross, Joann. Callahan Brothers Trilogy, 2.)</td><td>http://images.amazon.com/images/P/0743436830.01.LZZZZZZZ.jpg</td></tr><tr><td>0345457641</td><td>632</td><td>5</td><td>16.22836685</td><td>7</td><td>A Thousand Days in Venice: An Unexpected Romance (Ballantine Reader's Circle)</td><td>http://images.amazon.com/images/P/0345457641.01.LZZZZZZZ.jpg</td></tr><tr><td>0880381752</td><td>747</td><td>5</td><td>16.016716</td><td>9</td><td>Dragons of Spring Dawning (Dragonlance Chronicles, Vol 3)</td><td>http://images.amazon.com/images/P/0880381752.01.LZZZZZZZ.jpg</td></tr><tr><td>0064400484</td><td>783</td><td>6</td><td>11.38223362</td><td>4</td><td>Trumpet of the Swan</td><td>http://images.amazon.com/images/P/0064400484.01.LZZZZZZZ.jpg</td></tr><tr><td>3404148665</td><td>827</td><td>1</td><td>16.82236099</td><td>3</td><td>Illuminati.</td><td>http://images.amazon.com/images/P/3404148665.01.LZZZZZZZ.jpg</td></tr><tr><td>0684859734</td><td>967</td><td>2</td><td>16.8449688</td><td>10</td><td>Grave Secrets (Temperance Brennan Novel (Hardcover))</td><td>http://images.amazon.com/images/P/0684859734.01.LZZZZZZZ.jpg</td></tr><tr><td>0743436830</td><td>596</td><td>2</td><td>18.72906113</td><td>4</td><td>River Road (Ross, Joann. Callahan Brothers Trilogy, 2.)</td><td>http://images.amazon.com/images/P/0743436830.01.LZZZZZZZ.jpg</td></tr><tr><td>0380808307</td><td>1018</td><td>1</td><td>15.6345377</td><td>9</td><td>Just Imagine</td><td>http://images.amazon.com/images/P/0380808307.01.LZZZZZZZ.jpg</td></tr><tr><td>0786889624</td><td>1051</td><td>3</td><td>17.29760933</td><td>3</td><td>The Hearse You Came in On (Hitchcock Sewell Mysteries (Paperback))</td><td>http://images.amazon.com/images/P/0786889624.01.LZZZZZZZ.jpg</td></tr><tr><td>0307301451</td><td>1170</td><td>1</td><td>16.62502098</td><td>4</td><td>Disney's the Lion King (Little Golden Book)</td><td>http://images.amazon.com/images/P/0307301451.01.LZZZZZZZ.jpg</td></tr><tr><td>0380812037</td><td>1476</td><td>3</td><td>13.70172882</td><td>8</td><td>On a Wild Night (Cynster Novels)</td><td>http://images.amazon.com/images/P/0380812037.01.LZZZZZZZ.jpg</td></tr><tr><td>0446516325</td><td>1494</td><td>4</td><td>32.34435654</td><td>7</td><td>Fat Tuesday</td><td>http://images.amazon.com/images/P/0446516325.01.LZZZZZZZ.jpg</td></tr><tr><td>0345384733</td><td>1716</td><td>1</td><td>15.92519951</td><td>7</td><td>Red Square</td><td>http://images.amazon.com/images/P/0345384733.01.LZZZZZZZ.jpg</td></tr><tr><td>038081093X</td><td>1750</td><td>5</td><td>16.50435638</td><td>4</td><td>Excavation</td><td>http://images.amazon.com/images/P/038081093X.01.LZZZZZZZ.jpg</td></tr><tr><td>0446608378</td><td>1798</td><td>1</td><td>15.73845005</td><td>8</td><td>Thunderhead</td><td>http://images.amazon.com/images/P/0446608378.01.LZZZZZZZ.jpg</td></tr><tr><td>0515084891</td><td>1873</td><td>3</td><td>13.32518291</td><td>9</td><td>Years</td><td>http://images.amazon.com/images/P/0515084891.01.LZZZZZZZ.jpg</td></tr><tr><td>0399143696</td><td>1874</td><td>6</td><td>10.91688347</td><td>7</td><td>Then Came Heaven</td><td>http://images.amazon.com/images/P/0399143696.01.LZZZZZZZ.jpg</td></tr><tr><td>0446516325</td><td>1494</td><td>1</td><td>16.96690178</td><td>1</td><td>Fat Tuesday</td><td>http://images.amazon.com/images/P/0446516325.01.LZZZZZZZ.jpg</td></tr><tr><td>038081093X</td><td>1750</td><td>3</td><td>18.08376884</td><td>2</td><td>Excavation</td><td>http://images.amazon.com/images/P/038081093X.01.LZZZZZZZ.jpg</td></tr><tr><td>0399143696</td><td>1874</td><td>1</td><td>16.31564331</td><td>5</td><td>Then Came Heaven</td><td>http://images.amazon.com/images/P/0399143696.01.LZZZZZZZ.jpg</td></tr><tr><td>038081093X</td><td>1750</td><td>2</td><td>17.21934128</td><td>8</td><td>Excavation</td><td>http://images.amazon.com/images/P/038081093X.01.LZZZZZZZ.jpg</td></tr><tr><td>0743410653</td><td>2135</td><td>4</td><td>33.95116043</td><td>6</td><td>Booked to Die (Cliff Janeway Novels (Paperback))</td><td>http://images.amazon.com/images/P/0743410653.01.LZZZZZZZ.jpg</td></tr><tr><td>0312287364</td><td>2258</td><td>7</td><td>51.89803696</td><td>2</td><td>Feeling Sorry for Celia : A Novel</td><td>http://images.amazon.com/images/P/0312287364.01.LZZZZZZZ.jpg</td></tr><tr><td>1551667223</td><td>2271</td><td>7</td><td>41.79733658</td><td>10</td><td>Flamingo Diner</td><td>http://images.amazon.com/images/P/1551667223.01.LZZZZZZZ.jpg</td></tr><tr><td>0373250363</td><td>2287</td><td>5</td><td>19.40886116</td><td>2</td><td>As Seen on TV</td><td>http://images.amazon.com/images/P/0373250363.01.LZZZZZZZ.jpg</td></tr><tr><td>0446605336</td><td>2323</td><td>3</td><td>15.57328606</td><td>4</td><td>My Sergei : A Love Story</td><td>http://images.amazon.com/images/P/0446605336.01.LZZZZZZZ.jpg</td></tr><tr><td>0440114764</td><td>2340</td><td>2</td><td>16.91972733</td><td>9</td><td>The cradle will fall</td><td>http://images.amazon.com/images/P/0440114764.01.LZZZZZZZ.jpg</td></tr><tr><td>0060558199</td><td>2347</td><td>6</td><td>10.96816158</td><td>6</td><td>Save Karyn : One Shopaholic's Journey to Debt and Back</td><td>http://images.amazon.com/images/P/0060558199.01.LZZZZZZZ.jpg</td></tr><tr><td>0842345523</td><td>2404</td><td>5</td><td>16.32077599</td><td>5</td><td>More Than a Carpenter</td><td>http://images.amazon.com/images/P/0842345523.01.LZZZZZZZ.jpg</td></tr><tr><td>038531695X</td><td>2509</td><td>2</td><td>17.73011208</td><td>6</td><td>The Ghost</td><td>http://images.amazon.com/images/P/038531695X.01.LZZZZZZZ.jpg</td></tr><tr><td>0399146008</td><td>2530</td><td>7</td><td>47.28268433</td><td>4</td><td>Shock</td><td>http://images.amazon.com/images/P/0399146008.01.LZZZZZZZ.jpg</td></tr><tr><td>0380712040</td><td>2590</td><td>4</td><td>31.80390739</td><td>9</td><td>Black Cherry Blues: A Dave Robicheaux Novel</td><td>http://images.amazon.com/images/P/0380712040.01.LZZZZZZZ.jpg</td></tr><tr><td>0743233468</td><td>2704</td><td>5</td><td>21.62533569</td><td>1</td><td>Bare Bones : A Novel</td><td>http://images.amazon.com/images/P/0743233468.01.LZZZZZZZ.jpg</td></tr><tr><td>0312287364</td><td>2258</td><td>3</td><td>13.27994347</td><td>10</td><td>Feeling Sorry for Celia : A Novel</td><td>http://images.amazon.com/images/P/0312287364.01.LZZZZZZZ.jpg</td></tr><tr><td>0020532105</td><td>2933</td><td>7</td><td>42.27981567</td><td>8</td><td>CRY THE BELOVED COUNTRY (Scribner Classic)</td><td>http://images.amazon.com/images/P/0020532105.01.LZZZZZZZ.jpg</td></tr><tr><td>0373239963</td><td>2926</td><td>4</td><td>37.52166367</td><td>1</td><td>Waiting For Nick (Silhouette Special Edition)</td><td>http://images.amazon.com/images/P/0373239963.01.LZZZZZZZ.jpg</td></tr><tr><td>0399149783</td><td>3023</td><td>7</td><td>45.36494827</td><td>5</td><td>Monkeewrench</td><td>http://images.amazon.com/images/P/0399149783.01.LZZZZZZZ.jpg</td></tr><tr><td>0679459596</td><td>3068</td><td>3</td><td>14.39046478</td><td>6</td><td>Billy Straight: A Novel</td><td>http://images.amazon.com/images/P/0679459596.01.LZZZZZZZ.jpg</td></tr><tr><td>0446401617</td><td>3266</td><td>2</td><td>19.64106178</td><td>2</td><td>Where Echoes Live</td><td>http://images.amazon.com/images/P/0446401617.01.LZZZZZZZ.jpg</td></tr><tr><td>0440932599</td><td>3269</td><td>6</td><td>10.7659893</td><td>9</td><td>Deenie</td><td>http://images.amazon.com/images/P/0440932599.01.LZZZZZZZ.jpg</td></tr><tr><td>0515134457</td><td>3279</td><td>7</td><td>43.93952179</td><td>7</td><td>Blue Moon</td><td>http://images.amazon.com/images/P/0515134457.01.LZZZZZZZ.jpg</td></tr><tr><td>0553109839</td><td>3470</td><td>4</td><td>36.13617706</td><td>2</td><td>The Patient</td><td>http://images.amazon.com/images/P/0553109839.01.LZZZZZZZ.jpg</td></tr><tr><td>1551666561</td><td>3472</td><td>6</td><td>11.61806488</td><td>2</td><td>Letting Go</td><td>http://images.amazon.com/images/P/1551666561.01.LZZZZZZZ.jpg</td></tr><tr><td>1400077826</td><td>3602</td><td>2</td><td>18.40057945</td><td>5</td><td>Cold Mountain (MTI) (Vintage Contemporaries)</td><td>http://images.amazon.com/images/P/1400077826.01.LZZZZZZZ.jpg</td></tr><tr><td>0380814382</td><td>3623</td><td>6</td><td>13.669734</td><td>1</td><td>True Confessions (Avon Romance)</td><td>http://images.amazon.com/images/P/0380814382.01.LZZZZZZZ.jpg</td></tr><tr><td>0684822652</td><td>3732</td><td>4</td><td>34.76906586</td><td>5</td><td>THREE TO GET DEADLY : A Stephanie Plum Novel</td><td>http://images.amazon.com/images/P/0684822652.01.LZZZZZZZ.jpg</td></tr><tr><td>0380756250</td><td>3809</td><td>7</td><td>44.68135834</td><td>6</td><td>Once a Princess</td><td>http://images.amazon.com/images/P/0380756250.01.LZZZZZZZ.jpg</td></tr><tr><td>0684801469</td><td>3960</td><td>7</td><td>42.13587952</td><td>9</td><td>Farewell To Arms</td><td>http://images.amazon.com/images/P/0684801469.01.LZZZZZZZ.jpg</td></tr><tr><td>0440407079</td><td>3996</td><td>1</td><td>16.19680405</td><td>6</td><td>Blubber (Yearling Books (Paperback))</td><td>http://images.amazon.com/images/P/0440407079.01.LZZZZZZZ.jpg</td></tr><tr><td>0553282980</td><td>4017</td><td>3</td><td>14.04900074</td><td>7</td><td>Dead Poets Society</td><td>http://images.amazon.com/images/P/0553282980.01.LZZZZZZZ.jpg</td></tr><tr><td>067974388X</td><td>4072</td><td>5</td><td>15.95766926</td><td>10</td><td>The Tightwad Gazette: Promoting Thrift As a Viable Alternative Lifestyle</td><td>http://images.amazon.com/images/P/067974388X.01.LZZZZZZZ.jpg</td></tr><tr><td>0345453808</td><td>4116</td><td>7</td><td>47.48849869</td><td>3</td><td>Killjoy</td><td>http://images.amazon.com/images/P/0345453808.01.LZZZZZZZ.jpg</td></tr><tr><td>0451203070</td><td>4235</td><td>6</td><td>11.53448105</td><td>3</td><td>Tending Roses</td><td>http://images.amazon.com/images/P/0451203070.01.LZZZZZZZ.jpg</td></tr><tr><td>044022392X</td><td>4391</td><td>3</td><td>19.82322121</td><td>1</td><td>The Keys to the Street: A Novel of Suspense</td><td>http://images.amazon.com/images/P/044022392X.01.LZZZZZZZ.jpg</td></tr><tr><td>0380780860</td><td>4464</td><td>5</td><td>17.70924377</td><td>3</td><td>Murder on a Girls' Night Out: A Southern Sisters Mystery</td><td>http://images.amazon.com/images/P/0380780860.01.LZZZZZZZ.jpg</td></tr><tr><td>0553571583</td><td>4480</td><td>4</td><td>35.00159073</td><td>4</td><td>Breakfast in Bed</td><td>http://images.amazon.com/images/P/0553571583.01.LZZZZZZZ.jpg</td></tr><tr><td>0373239963</td><td>2926</td><td>3</td><td>14.88987732</td><td>5</td><td>Waiting For Nick (Silhouette Special Edition)</td><td>http://images.amazon.com/images/P/0373239963.01.LZZZZZZZ.jpg</td></tr><tr><td>0399149783</td><td>3023</td><td>6</td><td>10.79160118</td><td>8</td><td>Monkeewrench</td><td>http://images.amazon.com/images/P/0399149783.01.LZZZZZZZ.jpg</td></tr><tr><td>0380814382</td><td>3623</td><td>2</td><td>18.88430214</td><td>3</td><td>True Confessions (Avon Romance)</td><td>http://images.amazon.com/images/P/0380814382.01.LZZZZZZZ.jpg</td></tr><tr><td>0684801469</td><td>3960</td><td>6</td><td>10.55460548</td><td>10</td><td>Farewell To Arms</td><td>http://images.amazon.com/images/P/0684801469.01.LZZZZZZZ.jpg</td></tr><tr><td>0553282980</td><td>4017</td><td>2</td><td>27.48657608</td><td>1</td><td>Dead Poets Society</td><td>http://images.amazon.com/images/P/0553282980.01.LZZZZZZZ.jpg</td></tr></tbody></table></div>"
      ]
     },
     "metadata": {
      "application/vnd.databricks.v1+output": {
       "addedWidgets": {},
       "aggData": [],
       "aggError": "",
       "aggOverflow": false,
       "aggSchema": [],
       "aggSeriesLimitReached": false,
       "aggType": "",
       "arguments": {},
       "columnCustomDisplayInfos": {},
       "data": [
        [
         "0380975068",
         52,
         1,
         14.97026825,
         10,
         "The Lust Lizard of Melancholy Cove",
         "http://images.amazon.com/images/P/0380975068.01.LZZZZZZZ.jpg"
        ],
        [
         "0312955006",
         76,
         5,
         16.13894272,
         8,
         "The Concrete Blonde (A Harry Bosch Novel)",
         "http://images.amazon.com/images/P/0312955006.01.LZZZZZZZ.jpg"
        ],
        [
         "082177462X",
         246,
         4,
         35.7508049,
         3,
         "Kentucky Sunrise",
         "http://images.amazon.com/images/P/082177462X.01.LZZZZZZZ.jpg"
        ],
        [
         "0446600709",
         417,
         2,
         17.60940552,
         7,
         "Assumed Identity",
         "http://images.amazon.com/images/P/0446600709.01.LZZZZZZZ.jpg"
        ],
        [
         "0061091316",
         505,
         7,
         53.7549324,
         1,
         "Lost Boys",
         "http://images.amazon.com/images/P/0061091316.01.LZZZZZZZ.jpg"
        ],
        [
         "0679771476",
         537,
         4,
         32.22299957,
         8,
         "The Law of Similars",
         "http://images.amazon.com/images/P/0679771476.01.LZZZZZZZ.jpg"
        ],
        [
         "0373218958",
         543,
         1,
         16.89243698,
         2,
         "Less Of A Stranger (Silhouette Single Title)",
         "http://images.amazon.com/images/P/0373218958.01.LZZZZZZZ.jpg"
        ],
        [
         "0590494503",
         584,
         5,
         16.30207634,
         6,
         "You Can't Scare Me! (Goosebumps, No 15)",
         "http://images.amazon.com/images/P/0590494503.01.LZZZZZZZ.jpg"
        ],
        [
         "0671415085",
         583,
         4,
         31.47525978,
         10,
         "IF THERE BE THORN",
         "http://images.amazon.com/images/P/0671415085.01.LZZZZZZZ.jpg"
        ],
        [
         "0743436830",
         596,
         6,
         11.03203106,
         5,
         "River Road (Ross, Joann. Callahan Brothers Trilogy, 2.)",
         "http://images.amazon.com/images/P/0743436830.01.LZZZZZZZ.jpg"
        ],
        [
         "0345457641",
         632,
         5,
         16.22836685,
         7,
         "A Thousand Days in Venice: An Unexpected Romance (Ballantine Reader's Circle)",
         "http://images.amazon.com/images/P/0345457641.01.LZZZZZZZ.jpg"
        ],
        [
         "0880381752",
         747,
         5,
         16.016716,
         9,
         "Dragons of Spring Dawning (Dragonlance Chronicles, Vol 3)",
         "http://images.amazon.com/images/P/0880381752.01.LZZZZZZZ.jpg"
        ],
        [
         "0064400484",
         783,
         6,
         11.38223362,
         4,
         "Trumpet of the Swan",
         "http://images.amazon.com/images/P/0064400484.01.LZZZZZZZ.jpg"
        ],
        [
         "3404148665",
         827,
         1,
         16.82236099,
         3,
         "Illuminati.",
         "http://images.amazon.com/images/P/3404148665.01.LZZZZZZZ.jpg"
        ],
        [
         "0684859734",
         967,
         2,
         16.8449688,
         10,
         "Grave Secrets (Temperance Brennan Novel (Hardcover))",
         "http://images.amazon.com/images/P/0684859734.01.LZZZZZZZ.jpg"
        ],
        [
         "0743436830",
         596,
         2,
         18.72906113,
         4,
         "River Road (Ross, Joann. Callahan Brothers Trilogy, 2.)",
         "http://images.amazon.com/images/P/0743436830.01.LZZZZZZZ.jpg"
        ],
        [
         "0380808307",
         1018,
         1,
         15.6345377,
         9,
         "Just Imagine",
         "http://images.amazon.com/images/P/0380808307.01.LZZZZZZZ.jpg"
        ],
        [
         "0786889624",
         1051,
         3,
         17.29760933,
         3,
         "The Hearse You Came in On (Hitchcock Sewell Mysteries (Paperback))",
         "http://images.amazon.com/images/P/0786889624.01.LZZZZZZZ.jpg"
        ],
        [
         "0307301451",
         1170,
         1,
         16.62502098,
         4,
         "Disney's the Lion King (Little Golden Book)",
         "http://images.amazon.com/images/P/0307301451.01.LZZZZZZZ.jpg"
        ],
        [
         "0380812037",
         1476,
         3,
         13.70172882,
         8,
         "On a Wild Night (Cynster Novels)",
         "http://images.amazon.com/images/P/0380812037.01.LZZZZZZZ.jpg"
        ],
        [
         "0446516325",
         1494,
         4,
         32.34435654,
         7,
         "Fat Tuesday",
         "http://images.amazon.com/images/P/0446516325.01.LZZZZZZZ.jpg"
        ],
        [
         "0345384733",
         1716,
         1,
         15.92519951,
         7,
         "Red Square",
         "http://images.amazon.com/images/P/0345384733.01.LZZZZZZZ.jpg"
        ],
        [
         "038081093X",
         1750,
         5,
         16.50435638,
         4,
         "Excavation",
         "http://images.amazon.com/images/P/038081093X.01.LZZZZZZZ.jpg"
        ],
        [
         "0446608378",
         1798,
         1,
         15.73845005,
         8,
         "Thunderhead",
         "http://images.amazon.com/images/P/0446608378.01.LZZZZZZZ.jpg"
        ],
        [
         "0515084891",
         1873,
         3,
         13.32518291,
         9,
         "Years",
         "http://images.amazon.com/images/P/0515084891.01.LZZZZZZZ.jpg"
        ],
        [
         "0399143696",
         1874,
         6,
         10.91688347,
         7,
         "Then Came Heaven",
         "http://images.amazon.com/images/P/0399143696.01.LZZZZZZZ.jpg"
        ],
        [
         "0446516325",
         1494,
         1,
         16.96690178,
         1,
         "Fat Tuesday",
         "http://images.amazon.com/images/P/0446516325.01.LZZZZZZZ.jpg"
        ],
        [
         "038081093X",
         1750,
         3,
         18.08376884,
         2,
         "Excavation",
         "http://images.amazon.com/images/P/038081093X.01.LZZZZZZZ.jpg"
        ],
        [
         "0399143696",
         1874,
         1,
         16.31564331,
         5,
         "Then Came Heaven",
         "http://images.amazon.com/images/P/0399143696.01.LZZZZZZZ.jpg"
        ],
        [
         "038081093X",
         1750,
         2,
         17.21934128,
         8,
         "Excavation",
         "http://images.amazon.com/images/P/038081093X.01.LZZZZZZZ.jpg"
        ],
        [
         "0743410653",
         2135,
         4,
         33.95116043,
         6,
         "Booked to Die (Cliff Janeway Novels (Paperback))",
         "http://images.amazon.com/images/P/0743410653.01.LZZZZZZZ.jpg"
        ],
        [
         "0312287364",
         2258,
         7,
         51.89803696,
         2,
         "Feeling Sorry for Celia : A Novel",
         "http://images.amazon.com/images/P/0312287364.01.LZZZZZZZ.jpg"
        ],
        [
         "1551667223",
         2271,
         7,
         41.79733658,
         10,
         "Flamingo Diner",
         "http://images.amazon.com/images/P/1551667223.01.LZZZZZZZ.jpg"
        ],
        [
         "0373250363",
         2287,
         5,
         19.40886116,
         2,
         "As Seen on TV",
         "http://images.amazon.com/images/P/0373250363.01.LZZZZZZZ.jpg"
        ],
        [
         "0446605336",
         2323,
         3,
         15.57328606,
         4,
         "My Sergei : A Love Story",
         "http://images.amazon.com/images/P/0446605336.01.LZZZZZZZ.jpg"
        ],
        [
         "0440114764",
         2340,
         2,
         16.91972733,
         9,
         "The cradle will fall",
         "http://images.amazon.com/images/P/0440114764.01.LZZZZZZZ.jpg"
        ],
        [
         "0060558199",
         2347,
         6,
         10.96816158,
         6,
         "Save Karyn : One Shopaholic's Journey to Debt and Back",
         "http://images.amazon.com/images/P/0060558199.01.LZZZZZZZ.jpg"
        ],
        [
         "0842345523",
         2404,
         5,
         16.32077599,
         5,
         "More Than a Carpenter",
         "http://images.amazon.com/images/P/0842345523.01.LZZZZZZZ.jpg"
        ],
        [
         "038531695X",
         2509,
         2,
         17.73011208,
         6,
         "The Ghost",
         "http://images.amazon.com/images/P/038531695X.01.LZZZZZZZ.jpg"
        ],
        [
         "0399146008",
         2530,
         7,
         47.28268433,
         4,
         "Shock",
         "http://images.amazon.com/images/P/0399146008.01.LZZZZZZZ.jpg"
        ],
        [
         "0380712040",
         2590,
         4,
         31.80390739,
         9,
         "Black Cherry Blues: A Dave Robicheaux Novel",
         "http://images.amazon.com/images/P/0380712040.01.LZZZZZZZ.jpg"
        ],
        [
         "0743233468",
         2704,
         5,
         21.62533569,
         1,
         "Bare Bones : A Novel",
         "http://images.amazon.com/images/P/0743233468.01.LZZZZZZZ.jpg"
        ],
        [
         "0312287364",
         2258,
         3,
         13.27994347,
         10,
         "Feeling Sorry for Celia : A Novel",
         "http://images.amazon.com/images/P/0312287364.01.LZZZZZZZ.jpg"
        ],
        [
         "0020532105",
         2933,
         7,
         42.27981567,
         8,
         "CRY THE BELOVED COUNTRY (Scribner Classic)",
         "http://images.amazon.com/images/P/0020532105.01.LZZZZZZZ.jpg"
        ],
        [
         "0373239963",
         2926,
         4,
         37.52166367,
         1,
         "Waiting For Nick (Silhouette Special Edition)",
         "http://images.amazon.com/images/P/0373239963.01.LZZZZZZZ.jpg"
        ],
        [
         "0399149783",
         3023,
         7,
         45.36494827,
         5,
         "Monkeewrench",
         "http://images.amazon.com/images/P/0399149783.01.LZZZZZZZ.jpg"
        ],
        [
         "0679459596",
         3068,
         3,
         14.39046478,
         6,
         "Billy Straight: A Novel",
         "http://images.amazon.com/images/P/0679459596.01.LZZZZZZZ.jpg"
        ],
        [
         "0446401617",
         3266,
         2,
         19.64106178,
         2,
         "Where Echoes Live",
         "http://images.amazon.com/images/P/0446401617.01.LZZZZZZZ.jpg"
        ],
        [
         "0440932599",
         3269,
         6,
         10.7659893,
         9,
         "Deenie",
         "http://images.amazon.com/images/P/0440932599.01.LZZZZZZZ.jpg"
        ],
        [
         "0515134457",
         3279,
         7,
         43.93952179,
         7,
         "Blue Moon",
         "http://images.amazon.com/images/P/0515134457.01.LZZZZZZZ.jpg"
        ],
        [
         "0553109839",
         3470,
         4,
         36.13617706,
         2,
         "The Patient",
         "http://images.amazon.com/images/P/0553109839.01.LZZZZZZZ.jpg"
        ],
        [
         "1551666561",
         3472,
         6,
         11.61806488,
         2,
         "Letting Go",
         "http://images.amazon.com/images/P/1551666561.01.LZZZZZZZ.jpg"
        ],
        [
         "1400077826",
         3602,
         2,
         18.40057945,
         5,
         "Cold Mountain (MTI) (Vintage Contemporaries)",
         "http://images.amazon.com/images/P/1400077826.01.LZZZZZZZ.jpg"
        ],
        [
         "0380814382",
         3623,
         6,
         13.669734,
         1,
         "True Confessions (Avon Romance)",
         "http://images.amazon.com/images/P/0380814382.01.LZZZZZZZ.jpg"
        ],
        [
         "0684822652",
         3732,
         4,
         34.76906586,
         5,
         "THREE TO GET DEADLY : A Stephanie Plum Novel",
         "http://images.amazon.com/images/P/0684822652.01.LZZZZZZZ.jpg"
        ],
        [
         "0380756250",
         3809,
         7,
         44.68135834,
         6,
         "Once a Princess",
         "http://images.amazon.com/images/P/0380756250.01.LZZZZZZZ.jpg"
        ],
        [
         "0684801469",
         3960,
         7,
         42.13587952,
         9,
         "Farewell To Arms",
         "http://images.amazon.com/images/P/0684801469.01.LZZZZZZZ.jpg"
        ],
        [
         "0440407079",
         3996,
         1,
         16.19680405,
         6,
         "Blubber (Yearling Books (Paperback))",
         "http://images.amazon.com/images/P/0440407079.01.LZZZZZZZ.jpg"
        ],
        [
         "0553282980",
         4017,
         3,
         14.04900074,
         7,
         "Dead Poets Society",
         "http://images.amazon.com/images/P/0553282980.01.LZZZZZZZ.jpg"
        ],
        [
         "067974388X",
         4072,
         5,
         15.95766926,
         10,
         "The Tightwad Gazette: Promoting Thrift As a Viable Alternative Lifestyle",
         "http://images.amazon.com/images/P/067974388X.01.LZZZZZZZ.jpg"
        ],
        [
         "0345453808",
         4116,
         7,
         47.48849869,
         3,
         "Killjoy",
         "http://images.amazon.com/images/P/0345453808.01.LZZZZZZZ.jpg"
        ],
        [
         "0451203070",
         4235,
         6,
         11.53448105,
         3,
         "Tending Roses",
         "http://images.amazon.com/images/P/0451203070.01.LZZZZZZZ.jpg"
        ],
        [
         "044022392X",
         4391,
         3,
         19.82322121,
         1,
         "The Keys to the Street: A Novel of Suspense",
         "http://images.amazon.com/images/P/044022392X.01.LZZZZZZZ.jpg"
        ],
        [
         "0380780860",
         4464,
         5,
         17.70924377,
         3,
         "Murder on a Girls' Night Out: A Southern Sisters Mystery",
         "http://images.amazon.com/images/P/0380780860.01.LZZZZZZZ.jpg"
        ],
        [
         "0553571583",
         4480,
         4,
         35.00159073,
         4,
         "Breakfast in Bed",
         "http://images.amazon.com/images/P/0553571583.01.LZZZZZZZ.jpg"
        ],
        [
         "0373239963",
         2926,
         3,
         14.88987732,
         5,
         "Waiting For Nick (Silhouette Special Edition)",
         "http://images.amazon.com/images/P/0373239963.01.LZZZZZZZ.jpg"
        ],
        [
         "0399149783",
         3023,
         6,
         10.79160118,
         8,
         "Monkeewrench",
         "http://images.amazon.com/images/P/0399149783.01.LZZZZZZZ.jpg"
        ],
        [
         "0380814382",
         3623,
         2,
         18.88430214,
         3,
         "True Confessions (Avon Romance)",
         "http://images.amazon.com/images/P/0380814382.01.LZZZZZZZ.jpg"
        ],
        [
         "0684801469",
         3960,
         6,
         10.55460548,
         10,
         "Farewell To Arms",
         "http://images.amazon.com/images/P/0684801469.01.LZZZZZZZ.jpg"
        ],
        [
         "0553282980",
         4017,
         2,
         27.48657608,
         1,
         "Dead Poets Society",
         "http://images.amazon.com/images/P/0553282980.01.LZZZZZZZ.jpg"
        ]
       ],
       "datasetInfos": [],
       "dbfsResultPath": null,
       "isJsonSchema": true,
       "metadata": {},
       "overflow": false,
       "plotOptions": {
        "customPlotOptions": {},
        "displayType": "table",
        "pivotAggregation": null,
        "pivotColumns": null,
        "xColumns": null,
        "yColumns": null
       },
       "removedWidgets": [],
       "schema": [
        {
         "metadata": "{}",
         "name": "isbn",
         "type": "\"string\""
        },
        {
         "metadata": "{}",
         "name": "item_idx",
         "type": "\"integer\""
        },
        {
         "metadata": "{}",
         "name": "user_idx",
         "type": "\"integer\""
        },
        {
         "metadata": "{}",
         "name": "prediction",
         "type": "\"double\""
        },
        {
         "metadata": "{}",
         "name": "rank",
         "type": "\"integer\""
        },
        {
         "metadata": "{}",
         "name": "book_title",
         "type": "\"string\""
        },
        {
         "metadata": "{}",
         "name": "image_url_l",
         "type": "\"string\""
        }
       ],
       "type": "table"
      }
     },
     "output_type": "display_data"
    }
   ],
   "source": [
    "top_10_books = spark.table(\"gschneiderproject6.default.top_10_books\")\n",
    "top_10_books = top_10_books.join(books.select(\"isbn\", \"image_url_l\"), on=\"isbn\", how=\"left\")\n",
    "display(top_10_books)"
   ]
  },
  {
   "cell_type": "code",
   "execution_count": 0,
   "metadata": {
    "application/vnd.databricks.v1+cell": {
     "cellMetadata": {
      "byteLimit": 2048000,
      "rowLimit": 10000
     },
     "inputWidgets": {},
     "nuid": "cbaf5280-65de-4fed-bfb1-d3076ff6e565",
     "showTitle": false,
     "tableResultSettingsMap": {},
     "title": ""
    }
   },
   "outputs": [
    {
     "output_type": "display_data",
     "data": {
      "text/html": [
       "<div style='display:flex;flex-wrap:wrap;max-width:750;'><div style='margin:10px;text-align:center;'><img src='http://images.amazon.com/images/P/0786889624.01.LZZZZZZZ.jpg' style='height:200px;'><br>The Hearse You Came in On (Hitchcock Sewell Mysteries (Paperback))</div><div style='margin:10px;text-align:center;'><img src='http://images.amazon.com/images/P/0380812037.01.LZZZZZZZ.jpg' style='height:200px;'><br>On a Wild Night (Cynster Novels)</div><div style='margin:10px;text-align:center;'><img src='http://images.amazon.com/images/P/038081093X.01.LZZZZZZZ.jpg' style='height:200px;'><br>Excavation</div><div style='margin:10px;text-align:center;'><img src='http://images.amazon.com/images/P/0515084891.01.LZZZZZZZ.jpg' style='height:200px;'><br>Years</div><div style='margin:10px;text-align:center;'><img src='http://images.amazon.com/images/P/0312287364.01.LZZZZZZZ.jpg' style='height:200px;'><br>Feeling Sorry for Celia : A Novel</div><div style='margin:10px;text-align:center;'><img src='http://images.amazon.com/images/P/0446605336.01.LZZZZZZZ.jpg' style='height:200px;'><br>My Sergei : A Love Story</div><div style='margin:10px;text-align:center;'><img src='http://images.amazon.com/images/P/0373239963.01.LZZZZZZZ.jpg' style='height:200px;'><br>Waiting For Nick (Silhouette Special Edition)</div><div style='margin:10px;text-align:center;'><img src='http://images.amazon.com/images/P/0679459596.01.LZZZZZZZ.jpg' style='height:200px;'><br>Billy Straight: A Novel</div><div style='margin:10px;text-align:center;'><img src='http://images.amazon.com/images/P/0553282980.01.LZZZZZZZ.jpg' style='height:200px;'><br>Dead Poets Society</div><div style='margin:10px;text-align:center;'><img src='http://images.amazon.com/images/P/044022392X.01.LZZZZZZZ.jpg' style='height:200px;'><br>The Keys to the Street: A Novel of Suspense</div></div>"
      ]
     },
     "metadata": {},
     "output_type": "display_data"
    }
   ],
   "source": [
    "\n",
    "images_df = top_10_books.filter(\"user_idx = 3\")\n",
    "\n",
    "\n",
    "# Display images using Databricks HTML rendering\n",
    "def display_images(df, url_col=\"image_url_l\", title_col=\"book_title\", n=10):\n",
    "    rows = df.limit(n).collect()\n",
    "    html = \"<div style='display:flex;flex-wrap:wrap;max-width:750;'>\"\n",
    "    for row in rows:\n",
    "        url = row[url_col]\n",
    "        title = row[title_col]\n",
    "        html += f\"<div style='margin:10px;text-align:center;'><img src='{url}' style='height:200px;'><br>{title}</div>\"\n",
    "    html += \"</div>\"\n",
    "    displayHTML(html)\n",
    "\n",
    "display_images(images_df)"
   ]
  },
  {
   "cell_type": "markdown",
   "metadata": {
    "application/vnd.databricks.v1+cell": {
     "cellMetadata": {},
     "inputWidgets": {},
     "nuid": "e1ab081b-bc41-42f8-bf1c-85115dc47431",
     "showTitle": false,
     "tableResultSettingsMap": {},
     "title": ""
    }
   },
   "source": [
    "### RMSE - Not so well suited\n",
    "With weighted matrix factorization we're not predicting explicit ratings directly. Instead, we're modeling implicit preferences. We're optimizing for ranking, not rating accuracy. RMSE: 5.1866 means our model is predicting on average 5.2 rating points away from the actual book ratings (on a 1–10 scale), but this error may not fully reflect how good the model is at ranking the most relevant items."
   ]
  },
  {
   "cell_type": "code",
   "execution_count": 0,
   "metadata": {
    "application/vnd.databricks.v1+cell": {
     "cellMetadata": {
      "byteLimit": 2048000,
      "rowLimit": 10000
     },
     "inputWidgets": {},
     "nuid": "e94ea934-8dd4-4949-a4e9-c305e5a4aa82",
     "showTitle": false,
     "tableResultSettingsMap": {},
     "title": ""
    }
   },
   "outputs": [
    {
     "output_type": "stream",
     "name": "stdout",
     "output_type": "stream",
     "text": [
      "RMSE: 5.1866\n"
     ]
    }
   ],
   "source": [
    "from pyspark.sql.functions import col, pow\n",
    "\n",
    "rating_and_preds = pred_df.withColumn(\"squared_error\", pow(col(\"book_rating\") - col(\"prediction\"), 2))\n",
    "\n",
    "from pyspark.sql.functions import sqrt, avg\n",
    "\n",
    "rmse = rating_and_preds.select(sqrt(avg(\"squared_error\")).alias(\"rmse\")).collect()[0][\"rmse\"]\n",
    "print(f\"RMSE: {rmse:.4f}\")\n",
    "\n"
   ]
  },
  {
   "cell_type": "markdown",
   "metadata": {
    "application/vnd.databricks.v1+cell": {
     "cellMetadata": {},
     "inputWidgets": {},
     "nuid": "5e5ca8e8-657d-4d48-b7b0-978da5a4e070",
     "showTitle": false,
     "tableResultSettingsMap": {},
     "title": ""
    }
   },
   "source": [
    "## Novelty \n",
    "We approximate by calculating the average inverse popularity of the recommended items for a user. This gives you a per-user average novelty score for the top-10 recommendations. A higher novelty means more rare or surprising recommendations (less commonly interacted items). "
   ]
  },
  {
   "cell_type": "code",
   "execution_count": 0,
   "metadata": {
    "application/vnd.databricks.v1+cell": {
     "cellMetadata": {
      "byteLimit": 2048000,
      "rowLimit": 10000
     },
     "inputWidgets": {},
     "nuid": "096e35ae-608a-4c82-aabe-d62b6f89884d",
     "showTitle": false,
     "tableResultSettingsMap": {},
     "title": ""
    }
   },
   "outputs": [],
   "source": [
    "#Compute item popularity (number of unique users who rated each item)\n",
    "from pyspark.sql.functions import countDistinct\n",
    "\n",
    "item_popularity = ratings_df.groupBy(\"item_idx\") \\\n",
    "    .agg(countDistinct(\"user_idx\").alias(\"popularity\"))\n"
   ]
  },
  {
   "cell_type": "code",
   "execution_count": 0,
   "metadata": {
    "application/vnd.databricks.v1+cell": {
     "cellMetadata": {
      "byteLimit": 2048000,
      "rowLimit": 10000
     },
     "inputWidgets": {},
     "nuid": "7d5431eb-9721-4643-9d22-e39d30330684",
     "showTitle": false,
     "tableResultSettingsMap": {},
     "title": ""
    }
   },
   "outputs": [],
   "source": [
    "from pyspark.sql.functions import col, row_number\n",
    "from pyspark.sql.window import Window\n",
    "\n",
    "#filter predictions for users 1–7 and get top K\n",
    "K = 10\n",
    "target_users = list(range(1, 8))\n",
    "\n",
    "filtered_preds = predictions.filter(col(\"user_idx\").isin(target_users))\n",
    "\n",
    "window_spec = Window.partitionBy(\"user_idx\").orderBy(col(\"prediction\").desc())\n",
    "\n",
    "top_k_preds = filtered_preds.withColumn(\"rank\", row_number().over(window_spec)) \\\n",
    "                            .filter(col(\"rank\") <= K)\n"
   ]
  },
  {
   "cell_type": "code",
   "execution_count": 0,
   "metadata": {
    "application/vnd.databricks.v1+cell": {
     "cellMetadata": {
      "byteLimit": 2048000,
      "rowLimit": 10000
     },
     "inputWidgets": {},
     "nuid": "f9ba0d24-b9d8-4ec4-8948-aad460272304",
     "showTitle": false,
     "tableResultSettingsMap": {},
     "title": ""
    }
   },
   "outputs": [],
   "source": [
    "#Join top-K predictions with item popularity\n",
    "top_k_with_pop = top_k_preds.join(item_popularity, on=\"item_idx\", how=\"left\")\n"
   ]
  },
  {
   "cell_type": "code",
   "execution_count": 0,
   "metadata": {
    "application/vnd.databricks.v1+cell": {
     "cellMetadata": {
      "byteLimit": 2048000,
      "rowLimit": 10000
     },
     "inputWidgets": {},
     "nuid": "01d8ab45-988d-44d5-a937-7efe8c349f0a",
     "showTitle": false,
     "tableResultSettingsMap": {},
     "title": ""
    }
   },
   "outputs": [],
   "source": [
    "#Define novelty as -log2(popularity / total_users)\n",
    "total_users = ratings_df.select(\"user_idx\").distinct().count()\n",
    "\n",
    "from pyspark.sql.functions import log2, lit\n",
    "\n",
    "top_k_with_pop = top_k_with_pop.withColumn(\n",
    "    \"novelty_score\",\n",
    "    -log2(col(\"popularity\") / lit(total_users))\n",
    ")\n"
   ]
  },
  {
   "cell_type": "code",
   "execution_count": 0,
   "metadata": {
    "application/vnd.databricks.v1+cell": {
     "cellMetadata": {
      "byteLimit": 2048000,
      "rowLimit": 10000
     },
     "inputWidgets": {},
     "nuid": "ec58fb1b-9517-4962-bb02-2eb799a0c942",
     "showTitle": false,
     "tableResultSettingsMap": {},
     "title": ""
    }
   },
   "outputs": [],
   "source": [
    "#Compute average novelty per user\n",
    "user_novelty = top_k_with_pop.groupBy(\"user_idx\") \\\n",
    "    .agg({\"novelty_score\": \"avg\"}) \\\n",
    "    .withColumnRenamed(\"avg(novelty_score)\", \"avg_novelty@10\")\n",
    "\n",
    "\n"
   ]
  },
  {
   "cell_type": "code",
   "execution_count": 0,
   "metadata": {
    "application/vnd.databricks.v1+cell": {
     "cellMetadata": {
      "byteLimit": 2048000,
      "rowLimit": 10000
     },
     "inputWidgets": {},
     "nuid": "f83df26b-6b70-47b9-bdc8-254d22f2eeb4",
     "showTitle": false,
     "tableResultSettingsMap": {},
     "title": ""
    }
   },
   "outputs": [
    {
     "output_type": "execute_result",
     "data": {
      "text/plain": [
       "6253"
      ]
     },
     "execution_count": 175,
     "metadata": {},
     "output_type": "execute_result"
    }
   ],
   "source": [
    "total_users"
   ]
  },
  {
   "cell_type": "markdown",
   "metadata": {
    "application/vnd.databricks.v1+cell": {
     "cellMetadata": {},
     "inputWidgets": {},
     "nuid": "4a8021ae-029b-43a8-b218-6a3c1e23cab8",
     "showTitle": false,
     "tableResultSettingsMap": {},
     "title": ""
    }
   },
   "source": [
    "### Score\tItem Popularity\tInterpretation for Novelty = -log₂(popularity / total_users) for 6253 Total Users\n",
    "4:\t~391 users\t~6.25%\tPopular items <br>\n",
    "6:\t~98 users\t~1.56%\tModerately novel — not mainstream <br>\n",
    "8:\t~24 users\t~0.38%  Quite novel — niche or uncommon items\n",
    "\n",
    "The novelty score of ~6 for most of my coworkers indicates that the recommendations are somewhat novel, leaning toward the less mainstream side, but not extremely obscure. This is usually a healthy balance, showing enough relevance without being too obvious or too obscure."
   ]
  },
  {
   "cell_type": "code",
   "execution_count": 0,
   "metadata": {
    "application/vnd.databricks.v1+cell": {
     "cellMetadata": {
      "byteLimit": 2048000,
      "rowLimit": 10000
     },
     "inputWidgets": {},
     "nuid": "68cfce92-3b0d-471f-8c1e-51b38ba4ee19",
     "showTitle": false,
     "tableResultSettingsMap": {},
     "title": ""
    }
   },
   "outputs": [
    {
     "output_type": "display_data",
     "data": {
      "text/html": [
       "<style scoped>\n",
       "  .table-result-container {\n",
       "    max-height: 300px;\n",
       "    overflow: auto;\n",
       "  }\n",
       "  table, th, td {\n",
       "    border: 1px solid black;\n",
       "    border-collapse: collapse;\n",
       "  }\n",
       "  th, td {\n",
       "    padding: 5px;\n",
       "  }\n",
       "  th {\n",
       "    text-align: left;\n",
       "  }\n",
       "</style><div class='table-result-container'><table class='table-result'><thead style='background-color: white'><tr><th>user_idx</th><th>avg_novelty@10</th></tr></thead><tbody><tr><td>1</td><td>7.477481764226884</td></tr><tr><td>2</td><td>6.696452094505251</td></tr><tr><td>3</td><td>8.219652945148805</td></tr><tr><td>4</td><td>6.624529512271225</td></tr><tr><td>5</td><td>7.103106079589213</td></tr><tr><td>6</td><td>6.733215371353813</td></tr><tr><td>7</td><td>6.465660676410858</td></tr></tbody></table></div>"
      ]
     },
     "metadata": {
      "application/vnd.databricks.v1+output": {
       "addedWidgets": {},
       "aggData": [],
       "aggError": "",
       "aggOverflow": false,
       "aggSchema": [],
       "aggSeriesLimitReached": false,
       "aggType": "",
       "arguments": {},
       "columnCustomDisplayInfos": {},
       "data": [
        [
         1,
         7.477481764226884
        ],
        [
         2,
         6.696452094505251
        ],
        [
         3,
         8.219652945148805
        ],
        [
         4,
         6.624529512271225
        ],
        [
         5,
         7.103106079589213
        ],
        [
         6,
         6.733215371353813
        ],
        [
         7,
         6.465660676410858
        ]
       ],
       "datasetInfos": [],
       "dbfsResultPath": null,
       "isJsonSchema": true,
       "metadata": {},
       "overflow": false,
       "plotOptions": {
        "customPlotOptions": {},
        "displayType": "table",
        "pivotAggregation": null,
        "pivotColumns": null,
        "xColumns": null,
        "yColumns": null
       },
       "removedWidgets": [],
       "schema": [
        {
         "metadata": "{}",
         "name": "user_idx",
         "type": "\"long\""
        },
        {
         "metadata": "{}",
         "name": "avg_novelty@10",
         "type": "\"double\""
        }
       ],
       "type": "table"
      }
     },
     "output_type": "display_data"
    }
   ],
   "source": [
    "display(user_novelty.orderBy(\"user_idx\"))"
   ]
  },
  {
   "cell_type": "markdown",
   "metadata": {
    "application/vnd.databricks.v1+cell": {
     "cellMetadata": {},
     "inputWidgets": {},
     "nuid": "d8e482ff-64a9-48bc-a469-02a3aec33e79",
     "showTitle": false,
     "tableResultSettingsMap": {},
     "title": ""
    }
   },
   "source": [
    "## Summary\n",
    "\n",
    "We didn’t know as many pre-2004 books as we thought \n",
    "It was hard to know if the ratings would’ve been a hit in 2004 or if a recommendation just wasn’t good <br>\n",
    "Model 1 UBCF got an edge by showing more popular books \n",
    "Novelty is good but it’s important to have at least 1 mainstream book listed to give your list some legitimacy\n",
    "UBCF struggles when your user profile is too unique <br>\n",
    "But, Users can also be insulted when they feel like they got “default” options\n",
    "I was too worried about Harry Potter (or a single author) clogging up everyone’s list just because they were in the popular list\n",
    "\n",
    "\n",
    "## Improvements\n",
    "\n",
    "I could’ve tried giving the implicit ratings a higher weighted confidence \n",
    "Taking the time to ship books to other users and log it is a bigger implicit sign than the current “click rate” on websites <br>\n",
    "I could have added Genre data to enrich the dataset\n",
    "Could’ve captured which weren't captured by collaborative signals alone <br>\n",
    "ISBN’s being unique to each printed book edition creates difficulties in aggregating\n",
    "I wish I had time to fix all the issues with the book editions, the data would be more accurate and the recommendations would be too<br>\n",
    "Deweighting books that had just released that year\n",
    "Flavor of the month/year\n",
    "\n"
   ]
  }
 ],
 "metadata": {
  "application/vnd.databricks.v1+notebook": {
   "computePreferences": null,
   "dashboards": [],
   "environmentMetadata": {
    "base_environment": "",
    "environment_version": "2"
   },
   "inputWidgetPreferences": null,
   "language": "python",
   "notebookMetadata": {
    "pythonIndentUnit": 4
   },
   "notebookName": "Final Proj",
   "widgets": {}
  },
  "language_info": {
   "name": "python"
  }
 },
 "nbformat": 4,
 "nbformat_minor": 0
}